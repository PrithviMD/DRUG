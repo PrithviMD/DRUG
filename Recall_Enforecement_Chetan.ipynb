{
 "cells": [
  {
   "cell_type": "markdown",
   "metadata": {},
   "source": [
    "### Imports"
   ]
  },
  {
   "cell_type": "code",
   "execution_count": 2,
   "metadata": {
    "ExecuteTime": {
     "end_time": "2021-04-17T14:13:03.449586Z",
     "start_time": "2021-04-17T14:13:02.480036Z"
    }
   },
   "outputs": [],
   "source": [
    "from pymongo import MongoClient\n",
    "from pymongo.errors import ConnectionFailure, CollectionInvalid\n",
    "import pandas as pd\n",
    "from pandas import json_normalize\n",
    "import numpy as np\n",
    "import psycopg2\n",
    "from psycopg2.errors import *\n",
    "from sqlalchemy import create_engine\n",
    "import ipywidgets as widgets\n",
    "import plotly.graph_objects as go\n",
    "from IPython.core.display import display\n",
    "from re import search\n",
    "from plotly.subplots import make_subplots\n",
    "import logging"
   ]
  },
  {
   "cell_type": "code",
   "execution_count": 19,
   "metadata": {
    "ExecuteTime": {
     "end_time": "2021-04-17T01:21:13.799007Z",
     "start_time": "2021-04-17T01:21:13.785993Z"
    }
   },
   "outputs": [],
   "source": [
    "logging.basicConfig(filename='yelp_business_errors.log', level=logging.INFO)"
   ]
  },
  {
   "cell_type": "markdown",
   "metadata": {},
   "source": [
    "### Getting Data and Dumping in MongoDB"
   ]
  },
  {
   "cell_type": "code",
   "execution_count": 6,
   "metadata": {
    "ExecuteTime": {
     "end_time": "2021-04-17T14:18:33.604543Z",
     "start_time": "2021-04-17T14:18:33.599541Z"
    }
   },
   "outputs": [],
   "source": [
    "def mongo_connection(db_name, collection_name):\n",
    "    '''Function to create a connection with MongoDB\n",
    "    INPUTS: The function expects two input variables, namely:\n",
    "        db_name: Name of the Database holding the collection\n",
    "        collection_name: Name of the collection to retrieve\n",
    "    OUTPUT:\n",
    "        collection: An object of the given collection name\n",
    "    '''\n",
    "    try:\n",
    "        client = MongoClient('mongodb://localhost:27017')\n",
    "        db = client[db_name]\n",
    "        collection = db[collection_name]\n",
    "        return collection\n",
    "    \n",
    "    except CollectionInvalid:\n",
    "        print('Unable to connect to Database, check Database name!')\n",
    "        logging.error(\"Exception occurred at mongo_connection\", exc_info=True)\n",
    "    except CollectionInvalid:\n",
    "        print(\"Invalid Collection Name provided, check Collection name!\")\n",
    "        logging.error(\"Exception occurred at mongo_connection\", exc_info=True)\n",
    "    except Exception as e:\n",
    "        print('Something went wrong check logs for more info!')\n",
    "        logging.error(\"Exception occurred at mongo_connection\", exc_info=True)\n",
    "    "
   ]
  },
  {
   "cell_type": "code",
   "execution_count": 7,
   "metadata": {
    "ExecuteTime": {
     "end_time": "2021-04-17T14:18:35.241181Z",
     "start_time": "2021-04-17T14:18:35.211029Z"
    }
   },
   "outputs": [],
   "source": [
    "collection = mongo_connection('dap', 'drugs_recalled')"
   ]
  },
  {
   "cell_type": "code",
   "execution_count": 10,
   "metadata": {
    "ExecuteTime": {
     "end_time": "2021-04-13T15:38:29.544758Z",
     "start_time": "2021-04-13T15:38:28.820227Z"
    }
   },
   "outputs": [
    {
     "name": "stdout",
     "output_type": "stream",
     "text": [
      "{'error': {'code': 'NOT_FOUND', 'message': 'No matches found!'}}\n"
     ]
    }
   ],
   "source": [
    "import requests\n",
    "import time\n",
    "for skip_records in range(0,13000, 1000):\n",
    "    url = 'https://api.fda.gov/drug/enforcement.json?api_key=jzBDRKRffIUITo0uKg9EEWqasttW2cDni2b7ncUB&limit=1000&skip={0}'.format(skip_records)\n",
    "    response = requests.get(url)\n",
    "    json_to_dump = response.json()['results']\n",
    "    collection.insert_many(json_to_dump)\n",
    "    \n",
    "    \n"
   ]
  },
  {
   "cell_type": "code",
   "execution_count": 8,
   "metadata": {
    "ExecuteTime": {
     "end_time": "2021-04-17T14:18:41.821243Z",
     "start_time": "2021-04-17T14:18:40.498582Z"
    }
   },
   "outputs": [],
   "source": [
    "drugs_recalled_df = json_normalize(collection.find())"
   ]
  },
  {
   "cell_type": "markdown",
   "metadata": {},
   "source": [
    "### Drop columns if null percentage greater than given percentage"
   ]
  },
  {
   "cell_type": "code",
   "execution_count": 108,
   "metadata": {
    "ExecuteTime": {
     "end_time": "2021-04-17T16:10:44.622429Z",
     "start_time": "2021-04-17T16:10:44.426302Z"
    }
   },
   "outputs": [
    {
     "name": "stdout",
     "output_type": "stream",
     "text": [
      "Columns Dropped Successfully\n"
     ]
    }
   ],
   "source": [
    "def drop_cols(df, null_percentage):\n",
    "    '''The function drops the columns which have null percentage greater than given null percentage by the user,\n",
    "    INPUTS:\n",
    "        df = The dataframe from which columns need to be dropped\n",
    "        null_percentage = A numerical figure provided by user which acts as a threshold for null_percenatge \n",
    "    OUTPUT\n",
    "        The function returns True if all columns are dropped successfully else it returns False\n",
    "    '''\n",
    "    try:\n",
    "        total_rows = len(df)\n",
    "        for column in df.columns:\n",
    "            if (df[column].isnull().sum() / total_rows)*100> null_percentage:\n",
    "                df.drop(columns=column, inplace=True)\n",
    "        return True\n",
    "    except Exception as e:\n",
    "        logging.error(\"Exception occurred at drop_cols\", exc_info=True)\n",
    "        return False\n",
    "if drop_cols(drugs_recalled_df, 85):\n",
    "    print('Columns Dropped Successfully')\n",
    "else:\n",
    "    print('Unable to drop columns check logs for more info')"
   ]
  },
  {
   "cell_type": "markdown",
   "metadata": {},
   "source": [
    "### Data Cleaning"
   ]
  },
  {
   "cell_type": "markdown",
   "metadata": {},
   "source": [
    "#### Retrieveing values from lists inside columns"
   ]
  },
  {
   "cell_type": "code",
   "execution_count": 89,
   "metadata": {
    "ExecuteTime": {
     "end_time": "2021-04-17T15:50:46.346297Z",
     "start_time": "2021-04-17T15:50:45.207041Z"
    },
    "scrolled": true
   },
   "outputs": [
    {
     "name": "stdout",
     "output_type": "stream",
     "text": [
      "0        None\n",
      "1        None\n",
      "2        None\n",
      "3        None\n",
      "4        None\n",
      "         ... \n",
      "12994    None\n",
      "12995    None\n",
      "12996    None\n",
      "12997    None\n",
      "12998    None\n",
      "Name: application_number, Length: 12999, dtype: object\n",
      "0        None\n",
      "1        None\n",
      "2        None\n",
      "3        None\n",
      "4        None\n",
      "         ... \n",
      "12994    None\n",
      "12995    None\n",
      "12996    None\n",
      "12997    None\n",
      "12998    None\n",
      "Name: brand_name, Length: 12999, dtype: object\n",
      "0        None\n",
      "1        None\n",
      "2        None\n",
      "3        None\n",
      "4        None\n",
      "         ... \n",
      "12994    None\n",
      "12995    None\n",
      "12996    None\n",
      "12997    None\n",
      "12998    None\n",
      "Name: generic_name, Length: 12999, dtype: object\n",
      "0        None\n",
      "1        None\n",
      "2        None\n",
      "3        None\n",
      "4        None\n",
      "         ... \n",
      "12994    None\n",
      "12995    None\n",
      "12996    None\n",
      "12997    None\n",
      "12998    None\n",
      "Name: manufacturer_name, Length: 12999, dtype: object\n",
      "0        None\n",
      "1        None\n",
      "2        None\n",
      "3        None\n",
      "4        None\n",
      "         ... \n",
      "12994    None\n",
      "12995    None\n",
      "12996    None\n",
      "12997    None\n",
      "12998    None\n",
      "Name: product_ndc, Length: 12999, dtype: object\n",
      "0        None\n",
      "1        None\n",
      "2        None\n",
      "3        None\n",
      "4        None\n",
      "         ... \n",
      "12994    None\n",
      "12995    None\n",
      "12996    None\n",
      "12997    None\n",
      "12998    None\n",
      "Name: product_type, Length: 12999, dtype: object\n",
      "0        None\n",
      "1        None\n",
      "2        None\n",
      "3        None\n",
      "4        None\n",
      "         ... \n",
      "12994    None\n",
      "12995    None\n",
      "12996    None\n",
      "12997    None\n",
      "12998    None\n",
      "Name: route, Length: 12999, dtype: object\n",
      "0        None\n",
      "1        None\n",
      "2        None\n",
      "3        None\n",
      "4        None\n",
      "         ... \n",
      "12994    None\n",
      "12995    None\n",
      "12996    None\n",
      "12997    None\n",
      "12998    None\n",
      "Name: substance_name, Length: 12999, dtype: object\n",
      "0        None\n",
      "1        None\n",
      "2        None\n",
      "3        None\n",
      "4        None\n",
      "         ... \n",
      "12994    None\n",
      "12995    None\n",
      "12996    None\n",
      "12997    None\n",
      "12998    None\n",
      "Name: rxcui, Length: 12999, dtype: object\n",
      "0        None\n",
      "1        None\n",
      "2        None\n",
      "3        None\n",
      "4        None\n",
      "         ... \n",
      "12994    None\n",
      "12995    None\n",
      "12996    None\n",
      "12997    None\n",
      "12998    None\n",
      "Name: spl_id, Length: 12999, dtype: object\n",
      "0        None\n",
      "1        None\n",
      "2        None\n",
      "3        None\n",
      "4        None\n",
      "         ... \n",
      "12994    None\n",
      "12995    None\n",
      "12996    None\n",
      "12997    None\n",
      "12998    None\n",
      "Name: spl_set_id, Length: 12999, dtype: object\n",
      "0        None\n",
      "1        None\n",
      "2        None\n",
      "3        None\n",
      "4        None\n",
      "         ... \n",
      "12994    None\n",
      "12995    None\n",
      "12996    None\n",
      "12997    None\n",
      "12998    None\n",
      "Name: package_ndc, Length: 12999, dtype: object\n",
      "0        None\n",
      "1        None\n",
      "2        None\n",
      "3        None\n",
      "4        None\n",
      "         ... \n",
      "12994    None\n",
      "12995    None\n",
      "12996    None\n",
      "12997    None\n",
      "12998    None\n",
      "Name: is_original_packager, Length: 12999, dtype: object\n",
      "0        None\n",
      "1        None\n",
      "2        None\n",
      "3        None\n",
      "4        None\n",
      "         ... \n",
      "12994    None\n",
      "12995    None\n",
      "12996    None\n",
      "12997    None\n",
      "12998    None\n",
      "Name: upc, Length: 12999, dtype: object\n",
      "0        None\n",
      "1        None\n",
      "2        None\n",
      "3        None\n",
      "4        None\n",
      "         ... \n",
      "12994    None\n",
      "12995    None\n",
      "12996    None\n",
      "12997    None\n",
      "12998    None\n",
      "Name: nui, Length: 12999, dtype: object\n",
      "0        None\n",
      "1        None\n",
      "2        None\n",
      "3        None\n",
      "4        None\n",
      "         ... \n",
      "12994    None\n",
      "12995    None\n",
      "12996    None\n",
      "12997    None\n",
      "12998    None\n",
      "Name: pharm_class_epc, Length: 12999, dtype: object\n",
      "0        None\n",
      "1        None\n",
      "2        None\n",
      "3        None\n",
      "4        None\n",
      "         ... \n",
      "12994    None\n",
      "12995    None\n",
      "12996    None\n",
      "12997    None\n",
      "12998    None\n",
      "Name: unii, Length: 12999, dtype: object\n"
     ]
    }
   ],
   "source": [
    "# import pdb\n",
    "col_list = ['openfda.application_number',\n",
    "       'openfda.brand_name', 'openfda.generic_name',\n",
    "       'openfda.manufacturer_name', 'openfda.product_ndc',\n",
    "       'openfda.product_type', 'openfda.route', 'openfda.substance_name',\n",
    "       'openfda.rxcui', 'openfda.spl_id', 'openfda.spl_set_id',\n",
    "       'openfda.package_ndc', 'openfda.is_original_packager', 'openfda.upc',\n",
    "       'openfda.nui', 'openfda.pharm_class_epc', 'openfda.unii']\n",
    "# temp_df = pd.DataFrame()\n",
    "for column in col_list:\n",
    "#     pdb.set_trace()\n",
    "    col = column.split('.')[1]\n",
    "    drugs_recalled_df[col] = drugs_recalled_df[column].astype('str').apply(lambda x: x.replace(\"'\", \"\").replace('[','').replace(']','') if x!='nan' else None)\n",
    "    drugs_recalled_df.drop(columns = column, inplace=True)\n",
    "#     print(drugs_recalled_df[col])\n"
   ]
  },
  {
   "cell_type": "code",
   "execution_count": 92,
   "metadata": {
    "ExecuteTime": {
     "end_time": "2021-04-17T15:54:57.106282Z",
     "start_time": "2021-04-17T15:54:57.065273Z"
    }
   },
   "outputs": [],
   "source": [
    "drugs_recalled_df.drop(columns = ['_id', 'product_type'], inplace=True)#Dropping redundant columns"
   ]
  },
  {
   "cell_type": "markdown",
   "metadata": {},
   "source": [
    "#### Converting Date columns"
   ]
  },
  {
   "cell_type": "code",
   "execution_count": 101,
   "metadata": {
    "ExecuteTime": {
     "end_time": "2021-04-17T16:06:01.938987Z",
     "start_time": "2021-04-17T16:06:01.929994Z"
    }
   },
   "outputs": [],
   "source": [
    "date_cols = [col for col in drugs_recalled_df.columns if 'date' in col]"
   ]
  },
  {
   "cell_type": "code",
   "execution_count": 107,
   "metadata": {
    "ExecuteTime": {
     "end_time": "2021-04-17T16:09:34.488263Z",
     "start_time": "2021-04-17T16:09:34.460908Z"
    }
   },
   "outputs": [
    {
     "ename": "AttributeError",
     "evalue": "module 'pandas' has no attribute 'to_date'",
     "output_type": "error",
     "traceback": [
      "\u001b[1;31m---------------------------------------------------------------------------\u001b[0m",
      "\u001b[1;31mAttributeError\u001b[0m                            Traceback (most recent call last)",
      "\u001b[1;32m<ipython-input-107-15609ed4cae1>\u001b[0m in \u001b[0;36m<module>\u001b[1;34m\u001b[0m\n\u001b[0;32m      1\u001b[0m \u001b[1;32mfor\u001b[0m \u001b[0mcolumn\u001b[0m \u001b[1;32min\u001b[0m \u001b[0mdate_cols\u001b[0m\u001b[1;33m:\u001b[0m\u001b[1;33m\u001b[0m\u001b[1;33m\u001b[0m\u001b[0m\n\u001b[1;32m----> 2\u001b[1;33m     \u001b[0mdrugs_recalled_df\u001b[0m\u001b[1;33m[\u001b[0m\u001b[0mcolumn\u001b[0m\u001b[1;33m]\u001b[0m \u001b[1;33m=\u001b[0m \u001b[0mpd\u001b[0m\u001b[1;33m.\u001b[0m\u001b[0mto_date\u001b[0m\u001b[1;33m(\u001b[0m\u001b[0mdrugs_recalled_df\u001b[0m\u001b[1;33m[\u001b[0m\u001b[0mcolumn\u001b[0m\u001b[1;33m]\u001b[0m\u001b[1;33m,\u001b[0m \u001b[0mformat\u001b[0m \u001b[1;33m=\u001b[0m \u001b[1;34m'%Y%m%d'\u001b[0m\u001b[1;33m)\u001b[0m\u001b[1;33m\u001b[0m\u001b[1;33m\u001b[0m\u001b[0m\n\u001b[0m",
      "\u001b[1;32m~\\anaconda3\\lib\\site-packages\\pandas\\__init__.py\u001b[0m in \u001b[0;36m__getattr__\u001b[1;34m(name)\u001b[0m\n\u001b[0;32m    256\u001b[0m             \u001b[1;32mreturn\u001b[0m \u001b[0m_SparseArray\u001b[0m\u001b[1;33m\u001b[0m\u001b[1;33m\u001b[0m\u001b[0m\n\u001b[0;32m    257\u001b[0m \u001b[1;33m\u001b[0m\u001b[0m\n\u001b[1;32m--> 258\u001b[1;33m         \u001b[1;32mraise\u001b[0m \u001b[0mAttributeError\u001b[0m\u001b[1;33m(\u001b[0m\u001b[1;34mf\"module 'pandas' has no attribute '{name}'\"\u001b[0m\u001b[1;33m)\u001b[0m\u001b[1;33m\u001b[0m\u001b[1;33m\u001b[0m\u001b[0m\n\u001b[0m\u001b[0;32m    259\u001b[0m \u001b[1;33m\u001b[0m\u001b[0m\n\u001b[0;32m    260\u001b[0m \u001b[1;33m\u001b[0m\u001b[0m\n",
      "\u001b[1;31mAttributeError\u001b[0m: module 'pandas' has no attribute 'to_date'"
     ]
    }
   ],
   "source": [
    "for column in date_cols:\n",
    "    drugs_recalled_df[column] = pd.to_datetime(drugs_recalled_df[column], format = '%Y%m%d')"
   ]
  },
  {
   "cell_type": "markdown",
   "metadata": {},
   "source": [
    "#### Getting Labels out of the reason_for_recall column"
   ]
  },
  {
   "cell_type": "code",
   "execution_count": 111,
   "metadata": {
    "ExecuteTime": {
     "end_time": "2021-04-17T16:15:04.509281Z",
     "start_time": "2021-04-17T16:15:04.461173Z"
    }
   },
   "outputs": [],
   "source": [
    "drugs_recalled_df['reason_main'] = pd.Series(drugs_recalled_df['reason_for_recall'].str.split('[:;-]').str.get(0))"
   ]
  },
  {
   "cell_type": "code",
   "execution_count": 112,
   "metadata": {
    "ExecuteTime": {
     "end_time": "2021-04-17T16:15:21.260497Z",
     "start_time": "2021-04-17T16:15:21.217424Z"
    }
   },
   "outputs": [],
   "source": [
    "drugs_recalled_df['reason_description'] = drugs_recalled_df['reason_for_recall'].str.split('[:;-]').apply(lambda x: \"\".join(x[1:]))"
   ]
  },
  {
   "cell_type": "markdown",
   "metadata": {},
   "source": [
    "### Data Transformation"
   ]
  },
  {
   "cell_type": "code",
   "execution_count": null,
   "metadata": {},
   "outputs": [],
   "source": [
    "from functools import partial\n",
    "from geopy.geocoders import Nominatim\n",
    "geolocator = Nominatim(user_agent=\"Google\")\n",
    "def get_state(x):\n",
    "    geocode = partial(geolocator.geocode, language=\"es\")\n",
    "    loc = geocode(x)\n",
    "    if loc is None:\n",
    "        return loc\n",
    "    else:\n",
    "        state = loc[0].split(',')[-2].strip()\n",
    "        if state.isnumeric():\n",
    "            state = loc[0].split(',')[-3].strip()\n",
    "        return state\n",
    "city_list = new_df[new_df['state']=='']['city'].unique()\n",
    "state_dict={}\n",
    "for city in city_list:\n",
    "    state_dict[city] = get_state(city)\n",
    "for city, state in state_dict.items():\n",
    "    drugs_recalled_df.loc[(drugs_recalled_df['city']==city) & (drugs_recalled_df['state']==''), 'state']= state"
   ]
  },
  {
   "cell_type": "markdown",
   "metadata": {},
   "source": [
    "### Connection to Postgres"
   ]
  },
  {
   "cell_type": "code",
   "execution_count": 184,
   "metadata": {
    "ExecuteTime": {
     "end_time": "2021-04-17T19:11:04.955579Z",
     "start_time": "2021-04-17T19:11:04.942576Z"
    }
   },
   "outputs": [],
   "source": [
    "def connect(user, password, host, port, db_name):\n",
    "    '''The fucntion returns a postgres connection cursor for the given database\n",
    "    INPUTS:\n",
    "        user: Name of the user\n",
    "        password: User's password to connect user to the service\n",
    "        host: IP address of the host\n",
    "        port: port number of postgres service\n",
    "        db_name: name of the database to connect to\n",
    "    OUTPUTS:\n",
    "        dbCursor: A psycopg connection object to the given database.\n",
    "    '''\n",
    "    try:\n",
    "        dbConnection = psycopg2.connect(\n",
    "            user = user,\n",
    "            password = password,\n",
    "            host = host,\n",
    "            port = port,\n",
    "            database = db_name)\n",
    "        dbConnection.set_isolation_level(0)\n",
    "        dbCursor = dbConnection.cursor()\n",
    "        return dbCursor\n",
    "    except OperationalError:\n",
    "        print('Operational Error occured, check logs for detailed info!')\n",
    "        logging.error(\"Exception occurred at connect\", exc_info=True)\n",
    "    except Exception as e:\n",
    "        logging.error(\"Exception occurred at connect\", exc_info=True)\n",
    "        print('Something went wrong, check logs for more info!')"
   ]
  },
  {
   "cell_type": "code",
   "execution_count": 185,
   "metadata": {
    "ExecuteTime": {
     "end_time": "2021-04-17T19:11:08.549341Z",
     "start_time": "2021-04-17T19:11:08.536338Z"
    }
   },
   "outputs": [],
   "source": [
    "def execute_statement(cursor, sql_statement):\n",
    "    '''This function executes sql statements using the cursor created from connect function.\n",
    "    The finction returns True on successful execution of scrip, else it returns False and loggs the error.\n",
    "    '''\n",
    "    try:\n",
    "        cursor.execute(sql_statement)\n",
    "        cursor.close()\n",
    "        return True\n",
    "    except OperationalError:\n",
    "        print('Operational Error occured, check logs for detailed info!')\n",
    "        logging.error(\"Exception occurred at execute_statement\", exc_info=True)\n",
    "        return False\n",
    "    except InFailedSqlTransaction:\n",
    "        print('Incorrect SQL Statement, check the sql statement!')\n",
    "    except Exception as e:\n",
    "        logging.error(\"Exception occurred at execute_statement\", exc_info=True)\n",
    "        print('Something went wrong, check logs for more info!')"
   ]
  },
  {
   "cell_type": "code",
   "execution_count": 186,
   "metadata": {
    "ExecuteTime": {
     "end_time": "2021-04-17T19:11:24.230585Z",
     "start_time": "2021-04-17T19:11:24.213574Z"
    }
   },
   "outputs": [],
   "source": [
    "def insert_into_table(engine, df, table_name):\n",
    "    '''Function to load data in table from pandas dataframe. \n",
    "    INPUTS: \n",
    "        engine: An SQL Alchemy connection object\n",
    "        df: dataframe to insert in Postgres\n",
    "        table_name: Name of the table to be created\n",
    "    OUTPUTS:\n",
    "        The function returns True if load is successful else it would return False\n",
    "    '''\n",
    "    try:\n",
    "        df.to_sql(table_name, engine, index=False)\n",
    "        return True\n",
    "    except ValueError:\n",
    "        print('Table already exists, change table name or drop the preivous table.')\n",
    "        logging.error(\"Exception occurred at insert_into_table\", exc_info=True)\n",
    "        return False\n",
    "    except Exception as e:\n",
    "        print('Something went wrong, check logs for more info!')\n",
    "        logging.error(\"Exception occurred at insert_into_table\", exc_info=True)\n",
    "        return False\n",
    "        "
   ]
  },
  {
   "cell_type": "code",
   "execution_count": 189,
   "metadata": {
    "ExecuteTime": {
     "end_time": "2021-04-17T19:13:00.717749Z",
     "start_time": "2021-04-17T19:13:00.654523Z"
    }
   },
   "outputs": [],
   "source": [
    "user = \"postgres\"\n",
    "password = \"root\"\n",
    "host = 'localhost'\n",
    "port = '5432'\n",
    "database = \"postgres\"\n",
    "engine = create_engine('postgresql://{0}:{1}@{2}:{3}/{4}'.format(user, password, host, port, database))\n",
    "if insert_into_table(engine, business_df, 'yelp_business'):\n",
    "    print('Load Successfull')\n",
    "else:\n",
    "    print('Unable to Load Data in table')"
   ]
  },
  {
   "cell_type": "markdown",
   "metadata": {},
   "source": [
    "### Creating TreeMap Graph to explain Reason and Event relation"
   ]
  },
  {
   "cell_type": "code",
   "execution_count": 133,
   "metadata": {
    "ExecuteTime": {
     "end_time": "2021-04-17T16:41:00.600108Z",
     "start_time": "2021-04-17T16:41:00.572100Z"
    }
   },
   "outputs": [],
   "source": [
    "grouped_df = drugs_recalled_df.groupby(by=['event_id','reason_main', 'reason_description']).agg({'reason_main':'count'})"
   ]
  },
  {
   "cell_type": "code",
   "execution_count": 134,
   "metadata": {
    "ExecuteTime": {
     "end_time": "2021-04-17T16:41:53.796904Z",
     "start_time": "2021-04-17T16:41:53.775888Z"
    }
   },
   "outputs": [],
   "source": [
    "grouped_df.rename(columns= {'reason_main':\"Count\"}, inplace=True)\n",
    "grouped_df.reset_index(inplace=True)"
   ]
  },
  {
   "cell_type": "code",
   "execution_count": 175,
   "metadata": {
    "ExecuteTime": {
     "end_time": "2021-04-17T17:14:39.985282Z",
     "start_time": "2021-04-17T17:14:39.979281Z"
    }
   },
   "outputs": [],
   "source": [
    "grouped_df['reason'] = ['Reasons for Recall']*len(grouped_df)"
   ]
  },
  {
   "cell_type": "code",
   "execution_count": 182,
   "metadata": {
    "ExecuteTime": {
     "end_time": "2021-04-17T18:42:26.019920Z",
     "start_time": "2021-04-17T18:42:25.505817Z"
    }
   },
   "outputs": [
    {
     "data": {
      "application/vnd.plotly.v1+json": {
       "config": {
        "plotlyServerURL": "https://plot.ly"
       },
       "data": [
        {
         "branchvalues": "total",
         "customdata": [
          [
           13
          ],
          [
           13
          ],
          [
           13
          ],
          [
           13
          ],
          [
           52
          ],
          [
           13
          ],
          [
           13
          ],
          [
           13
          ],
          [
           26
          ],
          [
           13
          ],
          [
           13
          ],
          [
           13
          ],
          [
           13
          ],
          [
           13
          ],
          [
           26
          ],
          [
           13
          ],
          [
           13
          ],
          [
           26
          ],
          [
           13
          ],
          [
           13
          ],
          [
           13
          ],
          [
           65
          ],
          [
           91
          ],
          [
           91
          ],
          [
           13
          ],
          [
           13
          ],
          [
           26
          ],
          [
           13
          ],
          [
           39
          ],
          [
           13
          ],
          [
           13
          ],
          [
           39
          ],
          [
           13
          ],
          [
           104
          ],
          [
           78
          ],
          [
           13
          ],
          [
           13
          ],
          [
           13
          ],
          [
           13
          ],
          [
           26
          ],
          [
           78
          ],
          [
           13
          ],
          [
           91
          ],
          [
           13
          ],
          [
           13
          ],
          [
           26
          ],
          [
           13
          ],
          [
           13
          ],
          [
           13
          ],
          [
           52
          ],
          [
           39
          ],
          [
           13
          ],
          [
           13
          ],
          [
           26
          ],
          [
           13
          ],
          [
           13
          ],
          [
           39
          ],
          [
           13
          ],
          [
           52
          ],
          [
           13
          ],
          [
           390
          ],
          [
           13
          ],
          [
           91
          ],
          [
           26
          ],
          [
           13
          ],
          [
           13
          ],
          [
           52
          ],
          [
           13
          ],
          [
           13
          ],
          [
           52
          ],
          [
           13
          ],
          [
           91
          ],
          [
           13
          ],
          [
           39
          ],
          [
           13
          ],
          [
           78
          ],
          [
           78
          ],
          [
           104
          ],
          [
           13
          ],
          [
           13
          ],
          [
           52
          ],
          [
           13
          ],
          [
           13
          ],
          [
           13
          ],
          [
           91
          ],
          [
           52
          ],
          [
           13
          ],
          [
           13
          ],
          [
           26
          ],
          [
           52
          ],
          [
           91
          ],
          [
           13
          ],
          [
           13
          ],
          [
           13
          ],
          [
           13
          ],
          [
           65
          ],
          [
           13
          ],
          [
           26
          ],
          [
           13
          ],
          [
           13
          ],
          [
           13
          ],
          [
           13
          ],
          [
           13
          ],
          [
           13
          ],
          [
           13
          ],
          [
           13
          ],
          [
           13
          ],
          [
           13
          ],
          [
           104
          ],
          [
           13
          ],
          [
           13
          ],
          [
           13
          ],
          [
           13
          ],
          [
           13
          ],
          [
           429
          ],
          [
           13
          ],
          [
           26
          ],
          [
           26
          ],
          [
           13
          ],
          [
           65
          ],
          [
           13
          ],
          [
           13
          ],
          [
           13
          ],
          [
           13
          ],
          [
           13
          ],
          [
           13
          ],
          [
           13
          ],
          [
           13
          ],
          [
           13
          ],
          [
           13
          ],
          [
           13
          ],
          [
           13
          ],
          [
           13
          ],
          [
           13
          ],
          [
           13
          ],
          [
           26
          ],
          [
           52
          ],
          [
           13
          ],
          [
           39
          ],
          [
           13
          ],
          [
           13
          ],
          [
           65
          ],
          [
           13
          ],
          [
           13
          ],
          [
           13
          ],
          [
           65
          ],
          [
           78
          ],
          [
           13
          ],
          [
           52
          ],
          [
           26
          ],
          [
           39
          ],
          [
           390
          ],
          [
           39
          ],
          [
           78
          ],
          [
           26
          ],
          [
           91
          ],
          [
           13
          ],
          [
           13
          ],
          [
           39
          ],
          [
           13
          ],
          [
           13
          ],
          [
           26
          ],
          [
           52
          ],
          [
           13
          ],
          [
           39
          ],
          [
           13
          ],
          [
           26
          ],
          [
           104
          ],
          [
           26
          ],
          [
           13
          ],
          [
           13
          ],
          [
           13
          ],
          [
           13
          ],
          [
           117
          ],
          [
           91
          ],
          [
           13
          ],
          [
           13
          ],
          [
           13
          ],
          [
           26
          ],
          [
           13
          ],
          [
           13
          ],
          [
           13
          ],
          [
           39
          ],
          [
           13
          ],
          [
           13
          ],
          [
           26
          ],
          [
           13
          ],
          [
           13
          ],
          [
           13
          ],
          [
           65
          ],
          [
           13
          ],
          [
           13
          ],
          [
           13
          ],
          [
           13
          ],
          [
           13
          ],
          [
           13
          ],
          [
           13
          ],
          [
           52
          ],
          [
           13
          ],
          [
           39
          ],
          [
           13
          ],
          [
           26
          ],
          [
           13
          ],
          [
           13
          ],
          [
           13
          ],
          [
           13
          ],
          [
           13
          ],
          [
           13
          ],
          [
           13
          ],
          [
           13
          ],
          [
           13
          ],
          [
           13
          ],
          [
           13
          ],
          [
           13
          ],
          [
           13
          ],
          [
           13
          ],
          [
           13
          ],
          [
           13
          ],
          [
           13
          ],
          [
           13
          ],
          [
           13
          ],
          [
           13
          ],
          [
           13
          ],
          [
           13
          ],
          [
           13
          ],
          [
           13
          ],
          [
           13
          ],
          [
           13
          ],
          [
           13
          ],
          [
           13
          ],
          [
           13
          ],
          [
           13
          ],
          [
           13
          ],
          [
           13
          ],
          [
           13
          ],
          [
           13
          ],
          [
           13
          ],
          [
           13
          ],
          [
           13
          ],
          [
           13
          ],
          [
           13
          ],
          [
           13
          ],
          [
           13
          ],
          [
           13
          ],
          [
           13
          ],
          [
           13
          ],
          [
           13
          ],
          [
           13
          ],
          [
           13
          ],
          [
           13
          ],
          [
           13
          ],
          [
           13
          ],
          [
           13
          ],
          [
           13
          ],
          [
           13
          ],
          [
           13
          ],
          [
           104
          ],
          [
           39
          ],
          [
           52
          ],
          [
           13
          ],
          [
           91
          ],
          [
           13
          ],
          [
           13
          ],
          [
           39
          ],
          [
           13
          ],
          [
           26
          ],
          [
           39
          ],
          [
           26
          ],
          [
           13
          ],
          [
           13
          ],
          [
           13
          ],
          [
           13
          ],
          [
           13
          ],
          [
           13
          ],
          [
           104
          ],
          [
           13
          ],
          [
           13
          ],
          [
           13
          ],
          [
           13
          ],
          [
           13
          ],
          [
           13
          ],
          [
           13
          ],
          [
           13
          ],
          [
           13
          ],
          [
           13
          ],
          [
           13
          ],
          [
           13
          ],
          [
           13
          ],
          [
           13
          ],
          [
           13
          ],
          [
           13
          ],
          [
           13
          ],
          [
           13
          ],
          [
           13
          ],
          [
           13
          ],
          [
           13
          ],
          [
           13
          ],
          [
           13
          ],
          [
           13
          ],
          [
           13
          ],
          [
           13
          ],
          [
           13
          ],
          [
           13
          ],
          [
           13
          ],
          [
           13
          ],
          [
           13
          ],
          [
           13
          ],
          [
           13
          ],
          [
           13
          ],
          [
           13
          ],
          [
           13
          ],
          [
           39
          ],
          [
           26
          ],
          [
           13
          ],
          [
           13
          ],
          [
           13
          ],
          [
           13
          ],
          [
           13
          ],
          [
           13
          ],
          [
           13
          ],
          [
           13
          ],
          [
           13
          ],
          [
           13
          ],
          [
           13
          ],
          [
           13
          ],
          [
           13
          ],
          [
           13
          ],
          [
           26
          ],
          [
           13
          ],
          [
           13
          ],
          [
           13
          ],
          [
           13
          ],
          [
           13
          ],
          [
           13
          ],
          [
           13
          ],
          [
           13
          ],
          [
           13
          ],
          [
           13
          ],
          [
           13
          ],
          [
           13
          ],
          [
           13
          ],
          [
           12
          ],
          [
           26
          ],
          [
           13
          ],
          [
           13
          ],
          [
           13
          ],
          [
           13
          ],
          [
           13
          ],
          [
           13
          ],
          [
           52
          ],
          [
           13
          ],
          [
           13
          ],
          [
           13
          ],
          [
           13
          ],
          [
           39
          ],
          [
           13
          ],
          [
           13
          ],
          [
           13
          ],
          [
           13
          ],
          [
           13
          ],
          [
           13
          ],
          [
           13
          ],
          [
           13
          ],
          [
           13
          ],
          [
           13
          ],
          [
           13
          ],
          [
           13
          ],
          [
           26
          ],
          [
           13
          ],
          [
           13
          ],
          [
           13
          ],
          [
           13
          ],
          [
           13
          ],
          [
           13
          ],
          [
           13
          ],
          [
           26
          ],
          [
           78
          ],
          [
           65
          ],
          [
           13
          ],
          [
           13
          ],
          [
           39
          ],
          [
           13
          ],
          [
           13
          ],
          [
           13
          ],
          [
           13
          ],
          [
           13
          ],
          [
           13
          ],
          [
           26
          ],
          [
           26
          ],
          [
           78
          ],
          [
           13
          ],
          [
           13
          ],
          [
           13
          ],
          [
           13
          ],
          [
           39
          ],
          [
           39
          ],
          [
           13
          ],
          [
           13
          ],
          [
           13
          ],
          [
           13
          ],
          [
           13
          ],
          [
           13
          ],
          [
           13
          ],
          [
           13
          ],
          [
           39
          ],
          [
           26
          ],
          [
           52
          ],
          [
           52
          ],
          [
           13
          ],
          [
           13
          ],
          [
           13
          ],
          [
           13
          ],
          [
           13
          ],
          [
           26
          ],
          [
           13
          ],
          [
           13
          ],
          [
           13
          ],
          [
           13
          ],
          [
           13
          ],
          [
           26
          ],
          [
           13
          ],
          [
           13
          ],
          [
           13
          ],
          [
           13
          ],
          [
           13
          ],
          [
           13
          ],
          [
           13
          ],
          [
           13
          ],
          [
           26
          ],
          [
           13
          ],
          [
           13
          ],
          [
           13
          ],
          [
           13
          ],
          [
           26
          ],
          [
           13
          ],
          [
           13
          ],
          [
           13
          ],
          [
           13
          ],
          [
           13
          ],
          [
           26
          ],
          [
           13
          ],
          [
           13
          ],
          [
           39
          ],
          [
           26
          ],
          [
           26
          ],
          [
           13
          ],
          [
           13
          ],
          [
           13
          ],
          [
           13
          ],
          [
           13
          ],
          [
           13
          ],
          [
           13
          ],
          [
           26
          ],
          [
           13
          ],
          [
           13
          ],
          [
           13
          ],
          [
           13
          ],
          [
           52
          ],
          [
           13
          ],
          [
           52
          ],
          [
           13
          ],
          [
           13
          ],
          [
           13
          ],
          [
           13
          ],
          [
           13
          ],
          [
           13
          ],
          [
           26
          ],
          [
           13
          ],
          [
           13
          ],
          [
           13
          ],
          [
           26
          ],
          [
           13
          ],
          [
           13
          ],
          [
           13
          ],
          [
           65
          ],
          [
           52
          ],
          [
           39
          ],
          [
           65
          ],
          [
           13
          ],
          [
           65
          ],
          [
           26
          ],
          [
           13
          ],
          [
           26
          ],
          [
           65
          ],
          [
           13
          ],
          [
           13
          ],
          [
           13
          ],
          [
           13
          ],
          [
           39
          ],
          [
           26
          ],
          [
           13
          ],
          [
           26
          ],
          [
           13
          ],
          [
           13
          ],
          [
           52
          ],
          [
           13
          ],
          [
           13
          ],
          [
           13
          ],
          [
           13
          ],
          [
           13
          ],
          [
           13
          ],
          [
           13
          ],
          [
           13
          ],
          [
           13
          ],
          [
           13
          ],
          [
           13
          ],
          [
           13
          ],
          [
           13
          ],
          [
           13
          ],
          [
           13
          ],
          [
           26
          ],
          [
           13
          ],
          [
           13
          ],
          [
           13
          ],
          [
           13
          ],
          [
           13
          ],
          [
           13
          ],
          [
           91
          ],
          [
           13
          ],
          [
           13
          ],
          [
           13
          ],
          [
           13
          ],
          [
           13
          ],
          [
           13
          ],
          [
           65
          ],
          [
           299
          ],
          [
           13
          ],
          [
           13
          ],
          [
           13
          ],
          [
           13
          ],
          [
           13
          ],
          [
           13
          ],
          [
           13
          ],
          [
           13
          ],
          [
           13
          ],
          [
           13
          ],
          [
           13
          ],
          [
           13
          ],
          [
           13
          ],
          [
           117
          ],
          [
           13
          ],
          [
           91
          ],
          [
           13
          ],
          [
           13
          ],
          [
           13
          ],
          [
           13
          ],
          [
           13
          ],
          [
           13
          ],
          [
           13
          ],
          [
           13
          ],
          [
           13
          ],
          [
           13
          ],
          [
           13
          ],
          [
           13
          ],
          [
           13
          ],
          [
           13
          ],
          [
           13
          ],
          [
           13
          ],
          [
           52
          ],
          [
           13
          ],
          [
           13
          ],
          [
           13
          ],
          [
           13
          ],
          [
           56.333333333333336
          ],
          [
           13
          ],
          [
           26
          ],
          [
           26
          ],
          [
           52
          ],
          [
           52
          ],
          [
           13
          ],
          [
           52
          ],
          [
           13
          ],
          [
           13
          ],
          [
           26
          ],
          [
           13
          ],
          [
           26
          ],
          [
           13
          ],
          [
           13
          ],
          [
           13
          ],
          [
           13
          ],
          [
           78
          ],
          [
           13
          ],
          [
           13
          ],
          [
           299
          ],
          [
           26
          ],
          [
           13
          ],
          [
           13
          ],
          [
           26
          ],
          [
           13
          ],
          [
           13
          ],
          [
           13
          ],
          [
           13
          ],
          [
           13
          ],
          [
           26
          ],
          [
           91
          ],
          [
           13
          ],
          [
           13
          ],
          [
           13
          ],
          [
           13
          ],
          [
           13
          ],
          [
           26
          ],
          [
           13
          ],
          [
           13
          ],
          [
           13
          ],
          [
           13
          ],
          [
           65
          ],
          [
           13
          ],
          [
           13
          ],
          [
           26
          ],
          [
           13
          ],
          [
           13
          ],
          [
           13
          ],
          [
           13
          ],
          [
           13
          ],
          [
           13
          ],
          [
           13
          ],
          [
           26
          ],
          [
           13
          ],
          [
           13
          ],
          [
           13
          ],
          [
           13
          ],
          [
           13
          ],
          [
           52
          ],
          [
           13
          ],
          [
           13
          ],
          [
           13
          ],
          [
           13
          ],
          [
           13
          ],
          [
           13
          ],
          [
           13
          ],
          [
           13
          ],
          [
           13
          ],
          [
           13
          ],
          [
           13
          ],
          [
           13
          ],
          [
           13
          ],
          [
           39
          ],
          [
           13
          ],
          [
           13
          ],
          [
           26
          ],
          [
           13
          ],
          [
           13
          ],
          [
           13
          ],
          [
           13
          ],
          [
           21.666666666666668
          ],
          [
           13
          ],
          [
           13
          ],
          [
           13
          ],
          [
           13
          ],
          [
           13
          ],
          [
           13
          ],
          [
           13
          ],
          [
           91
          ],
          [
           13
          ],
          [
           13
          ],
          [
           13
          ],
          [
           13
          ],
          [
           13
          ],
          [
           13
          ],
          [
           13
          ],
          [
           26
          ],
          [
           26
          ],
          [
           13
          ],
          [
           13
          ],
          [
           13
          ],
          [
           13
          ],
          [
           13
          ],
          [
           13
          ],
          [
           13
          ],
          [
           13
          ],
          [
           13
          ],
          [
           26
          ],
          [
           91
          ],
          [
           13
          ],
          [
           13
          ],
          [
           13
          ],
          [
           429
          ],
          [
           13
          ],
          [
           13
          ],
          [
           65
          ],
          [
           13
          ],
          [
           13
          ],
          [
           13
          ],
          [
           13
          ],
          [
           13
          ],
          [
           13
          ],
          [
           13
          ],
          [
           39
          ],
          [
           39
          ],
          [
           26
          ],
          [
           13
          ],
          [
           13
          ],
          [
           13
          ],
          [
           13
          ],
          [
           390
          ],
          [
           13
          ],
          [
           13
          ],
          [
           13
          ],
          [
           13
          ],
          [
           26
          ],
          [
           26
          ],
          [
           13
          ],
          [
           52
          ],
          [
           13
          ],
          [
           13
          ],
          [
           52
          ],
          [
           13
          ],
          [
           39
          ],
          [
           13
          ],
          [
           13
          ],
          [
           13
          ],
          [
           13
          ],
          [
           52
          ],
          [
           13
          ],
          [
           13
          ],
          [
           78
          ],
          [
           65
          ],
          [
           39
          ],
          [
           65
          ],
          [
           13
          ],
          [
           13
          ],
          [
           91
          ],
          [
           13
          ],
          [
           91
          ],
          [
           13
          ],
          [
           26
          ],
          [
           13
          ],
          [
           13
          ],
          [
           26
          ],
          [
           13
          ],
          [
           13
          ],
          [
           13
          ],
          [
           13
          ],
          [
           13
          ],
          [
           13
          ],
          [
           26
          ],
          [
           13
          ],
          [
           26
          ],
          [
           13
          ],
          [
           13
          ],
          [
           13
          ],
          [
           13
          ],
          [
           13
          ],
          [
           13
          ],
          [
           13
          ],
          [
           13
          ],
          [
           13
          ],
          [
           39
          ],
          [
           13
          ],
          [
           13
          ],
          [
           39
          ],
          [
           13
          ],
          [
           52
          ],
          [
           104
          ],
          [
           13
          ],
          [
           13
          ],
          [
           104
          ],
          [
           13
          ],
          [
           78
          ],
          [
           13
          ],
          [
           13
          ],
          [
           13
          ],
          [
           78
          ],
          [
           13
          ],
          [
           13
          ],
          [
           13
          ],
          [
           13
          ],
          [
           13
          ],
          [
           13
          ],
          [
           13
          ],
          [
           13
          ],
          [
           13
          ],
          [
           13
          ],
          [
           26
          ],
          [
           26
          ],
          [
           78
          ],
          [
           13
          ],
          [
           13
          ],
          [
           26
          ],
          [
           13
          ],
          [
           13
          ],
          [
           13
          ],
          [
           13
          ],
          [
           39
          ],
          [
           13
          ],
          [
           91
          ],
          [
           13
          ],
          [
           13
          ],
          [
           13
          ],
          [
           13
          ],
          [
           13
          ],
          [
           78
          ],
          [
           13
          ],
          [
           13
          ],
          [
           13
          ],
          [
           39
          ],
          [
           65
          ],
          [
           26
          ],
          [
           13
          ],
          [
           13
          ],
          [
           26
          ],
          [
           65
          ],
          [
           13
          ],
          [
           13
          ],
          [
           26
          ],
          [
           13
          ],
          [
           13
          ],
          [
           13
          ],
          [
           13
          ],
          [
           13
          ],
          [
           26
          ],
          [
           26
          ],
          [
           13
          ],
          [
           39
          ],
          [
           13
          ],
          [
           26
          ],
          [
           13
          ],
          [
           26
          ],
          [
           26
          ],
          [
           13
          ],
          [
           52
          ],
          [
           13
          ],
          [
           13
          ],
          [
           13
          ],
          [
           13
          ],
          [
           104
          ],
          [
           13
          ],
          [
           13
          ],
          [
           52
          ],
          [
           39
          ],
          [
           13
          ],
          [
           13
          ],
          [
           13
          ],
          [
           13
          ],
          [
           13
          ],
          [
           65
          ],
          [
           65
          ],
          [
           13
          ],
          [
           13
          ],
          [
           13
          ],
          [
           39
          ],
          [
           26
          ],
          [
           13
          ],
          [
           13
          ],
          [
           13
          ],
          [
           13
          ],
          [
           13
          ],
          [
           104
          ],
          [
           13
          ],
          [
           13
          ],
          [
           13
          ],
          [
           13
          ],
          [
           104
          ],
          [
           13
          ],
          [
           13
          ],
          [
           39
          ],
          [
           13
          ],
          [
           13
          ],
          [
           13
          ],
          [
           52
          ],
          [
           26
          ],
          [
           13
          ],
          [
           13
          ],
          [
           39
          ],
          [
           26
          ],
          [
           13
          ],
          [
           13
          ],
          [
           13
          ],
          [
           13
          ],
          [
           390
          ],
          [
           13
          ],
          [
           13
          ],
          [
           13
          ],
          [
           65
          ],
          [
           13
          ],
          [
           13
          ],
          [
           13
          ],
          [
           13
          ],
          [
           13
          ],
          [
           39
          ],
          [
           13
          ],
          [
           91
          ],
          [
           39
          ],
          [
           13
          ],
          [
           26
          ],
          [
           13
          ],
          [
           13
          ],
          [
           13
          ],
          [
           13
          ],
          [
           13
          ],
          [
           13
          ],
          [
           26
          ],
          [
           13
          ],
          [
           13
          ],
          [
           13
          ],
          [
           52
          ],
          [
           13
          ],
          [
           13
          ],
          [
           13
          ],
          [
           13
          ],
          [
           13
          ],
          [
           39
          ],
          [
           13
          ],
          [
           52
          ],
          [
           12
          ],
          [
           13
          ],
          [
           91
          ],
          [
           13
          ],
          [
           13
          ],
          [
           39
          ],
          [
           13
          ],
          [
           13
          ],
          [
           13
          ],
          [
           39
          ],
          [
           13
          ],
          [
           13
          ],
          [
           13
          ],
          [
           26
          ],
          [
           13
          ],
          [
           78
          ],
          [
           78
          ],
          [
           13
          ],
          [
           26
          ],
          [
           13
          ],
          [
           104
          ],
          [
           13
          ],
          [
           13
          ],
          [
           65
          ],
          [
           13
          ],
          [
           39
          ],
          [
           13
          ],
          [
           13
          ],
          [
           52
          ],
          [
           13
          ],
          [
           13
          ],
          [
           26
          ],
          [
           13
          ],
          [
           39
          ],
          [
           13
          ],
          [
           13
          ],
          [
           65
          ],
          [
           13
          ],
          [
           13
          ],
          [
           13
          ],
          [
           13
          ],
          [
           39
          ],
          [
           13
          ],
          [
           13
          ],
          [
           13
          ],
          [
           52
          ],
          [
           91
          ],
          [
           13
          ],
          [
           13
          ],
          [
           13
          ],
          [
           13
          ],
          [
           13
          ],
          [
           13
          ],
          [
           13
          ],
          [
           13
          ],
          [
           26
          ],
          [
           13
          ],
          [
           52
          ],
          [
           13
          ],
          [
           13
          ],
          [
           13
          ],
          [
           13
          ],
          [
           13
          ],
          [
           26
          ],
          [
           13
          ],
          [
           39
          ],
          [
           52
          ],
          [
           13
          ],
          [
           13
          ],
          [
           13
          ],
          [
           13
          ],
          [
           13
          ],
          [
           26
          ],
          [
           13
          ],
          [
           91
          ],
          [
           13
          ],
          [
           52
          ],
          [
           13
          ],
          [
           13
          ],
          [
           26
          ],
          [
           13
          ],
          [
           13
          ],
          [
           13
          ],
          [
           13
          ],
          [
           13
          ],
          [
           13
          ],
          [
           13
          ],
          [
           13
          ],
          [
           13
          ],
          [
           13
          ],
          [
           13
          ],
          [
           13
          ],
          [
           13
          ],
          [
           52
          ],
          [
           13
          ],
          [
           13
          ],
          [
           13
          ],
          [
           26
          ],
          [
           13
          ],
          [
           13
          ],
          [
           13
          ],
          [
           13
          ],
          [
           36.80722891566265
          ],
          [
           18.2
          ],
          [
           13
          ],
          [
           26
          ],
          [
           13
          ],
          [
           93.88888888888889
          ],
          [
           13
          ],
          [
           13
          ],
          [
           13
          ],
          [
           13
          ],
          [
           17.333333333333332
          ],
          [
           13
          ],
          [
           13
          ],
          [
           13
          ],
          [
           13
          ],
          [
           13
          ],
          [
           13
          ],
          [
           13
          ],
          [
           13
          ],
          [
           15.88888888888889
          ],
          [
           13
          ],
          [
           13
          ],
          [
           13
          ],
          [
           13
          ],
          [
           13
          ],
          [
           13
          ],
          [
           13
          ],
          [
           13
          ],
          [
           13
          ],
          [
           13
          ],
          [
           13
          ],
          [
           13
          ],
          [
           16.25
          ],
          [
           13
          ],
          [
           13
          ],
          [
           13
          ],
          [
           26
          ],
          [
           13
          ],
          [
           21.666666666666668
          ],
          [
           13
          ],
          [
           13
          ],
          [
           13
          ],
          [
           13
          ],
          [
           18.805825242718445
          ],
          [
           13
          ],
          [
           13
          ],
          [
           13
          ],
          [
           104
          ],
          [
           97.27340031729244
          ],
          [
           39
          ],
          [
           65
          ],
          [
           32.5
          ],
          [
           52
          ],
          [
           36.63636363636363
          ],
          [
           91
          ],
          [
           39
          ],
          [
           31.571428571428573
          ],
          [
           21.666666666666668
          ],
          [
           13
          ],
          [
           13
          ],
          [
           62.483870967741936
          ],
          [
           65
          ],
          [
           13
          ],
          [
           25
          ],
          [
           17.333333333333332
          ],
          [
           13
          ],
          [
           13
          ],
          [
           13
          ],
          [
           26
          ],
          [
           13
          ],
          [
           13
          ],
          [
           390
          ],
          [
           13
          ],
          [
           13
          ],
          [
           55
          ],
          [
           345.42857142857144
          ],
          [
           13
          ],
          [
           18.77777777777778
          ],
          [
           13
          ],
          [
           13
          ],
          [
           13
          ],
          [
           13
          ],
          [
           13
          ],
          [
           44
          ],
          [
           13
          ],
          [
           39
          ],
          [
           13
          ],
          [
           13
          ],
          [
           13
          ],
          [
           13
          ],
          [
           13
          ],
          [
           26
          ],
          [
           35.285714285714285
          ],
          [
           13
          ],
          [
           13
          ],
          [
           13
          ],
          [
           13
          ],
          [
           13
          ],
          [
           35.285714285714285
          ],
          [
           13
          ],
          [
           13
          ],
          [
           13
          ],
          [
           13
          ],
          [
           26
          ],
          [
           13
          ],
          [
           19.5
          ],
          [
           13
          ],
          [
           299
          ],
          [
           13
          ],
          [
           13
          ],
          [
           16.25
          ],
          [
           13
          ],
          [
           13
          ],
          [
           79.66820524655743
          ]
         ],
         "domain": {
          "x": [
           0,
           1
          ],
          "y": [
           0,
           1
          ]
         },
         "hovertemplate": "labels=%{label}<br>Count_sum=%{value}<br>parent=%{parent}<br>id=%{id}<br>Count=%{color}<extra></extra>",
         "ids": [
          "Reasons for Recall/The affected lots of Carboplatin Injection, Cytarabine  Injection, Methotrexate Injection, USP, and Paclitaxel Injection are being recalled due to visible particles embedded in the glass located at the neck of the vial. There may be the potential for product to come into contact with the embedded particles and the particles may become dislodged into the solution./62459/",
          "Reasons for Recall/Lack of Assurance of Sterility/63511/",
          "Reasons for Recall/Failed Dissolution Test Requirements/63908/",
          "Reasons for Recall/Subpotent/66402/",
          "Reasons for Recall/Penicillin Cross Contamination/67723/",
          "Reasons for Recall/First Aid Only, Inc is recalling Smart Tab First Aid ezRefill System Ibuprofen boxes  and First Aid Cabinets containing these Ibuprofen boxes.  Ibuprofen boxes (FAE 7014) were accidentally used to package  aspirin packs  (10 packs of 2 / 235mg tablets)./67846/",
          "Reasons for Recall/Failed Content Uniformity Specifications./69075/",
          "Reasons for Recall/Subpotent Drug/69553/",
          "Reasons for Recall/Lack of sterility assurance./70118/",
          "Reasons for Recall/Subpotent Drug/70555/",
          "Reasons for Recall/Lack of assurance of sterility/70807/",
          "Reasons for Recall/Presence of Particulate Matter/70936/",
          "Reasons for Recall/Presence of Particulate Matter/71004/",
          "Reasons for Recall/Subpotent drug/71046/",
          "Reasons for Recall/Lack of Assurance of Sterility/71205/",
          "Reasons for Recall/Failed dissolution specifications/71219/",
          "Reasons for Recall/Subpotent drug/71375/",
          "Reasons for Recall/Recalled products were made using an active ingredient that was recalled by a supplier due to penicillin cross contamination./71535/",
          "Reasons for Recall/Subpotent drug/71765/",
          "Reasons for Recall/Penicillin Cross Contamination and Presence of Foreign Substance.  Product was contaminated with penicillin and foreign substances during manufacturing process./71920/",
          "Reasons for Recall/Stability data does not support expiry./72177/",
          "Reasons for Recall/Lack of Assurance of Sterility/72455/",
          "Reasons for Recall/Lack of Assurance of Sterility/72520/",
          "Reasons for Recall/Lack of Assurance of Sterility/72594/",
          "Reasons for Recall/Marketed Without An Approved NDA/ANDA/73018/",
          "Reasons for Recall/Failed Impurities/Degradation Specifications/73152/",
          "Reasons for Recall/Lack of Assurance of Sterility/73304/",
          "Reasons for Recall/Lack of Assurance of Sterility/73336/",
          "Reasons for Recall/Lack of Processing Controls/73662/",
          "Reasons for Recall/Failed Impurities/Degradation Specifications/73679/",
          "Reasons for Recall/Failed Impuities/Degradation Specifications/73811/",
          "Reasons for Recall/Lack of Sterility Assurance/73899/",
          "Reasons for Recall/Lack of Sterility Assurance./73899/",
          "Reasons for Recall/Lack of Assurance of Sterility/73960/",
          "Reasons for Recall/Lack of Assurance of Sterility/74466/",
          "Reasons for Recall/CGMP Deviations/74497/",
          "Reasons for Recall/Failed Impurities/Degradation Specifications/74694/",
          "Reasons for Recall/Lack of assurance of sterility/75092/",
          "Reasons for Recall/Lack of Assurance of Sterility/75164/",
          "Reasons for Recall/Superpotent and Subpotent drugs/75247/",
          "Reasons for Recall/Lack of Assurance of Sterility/75289/",
          "Reasons for Recall/CGMP Deviations/75757/",
          "Reasons for Recall/Lack of Assurance of Sterility/75763/",
          "Reasons for Recall/Discoloration./76743/",
          "Reasons for Recall/Lack of Assurance of Sterility/77595/",
          "Reasons for Recall/Lack of Sterility Assurance./77780/",
          "Reasons for Recall/Crystallization with subpotent out of  specification assay results for chlorhexidine./77822/",
          "Reasons for Recall/Failed Dissolution Specifications/77862/",
          "Reasons for Recall/Lack of Assurance of Sterility./77959/",
          "Reasons for Recall/Subpotent Drug/78063/",
          "Reasons for Recall/Lack of Assurance of Sterility./78227/",
          "Reasons for Recall/Lack Of Assurance Of Sterility./78320/",
          "Reasons for Recall/Failed Impurities/Degradation Specifications./78325/",
          "Reasons for Recall/Lack of sterility assurance./78828/",
          "Reasons for Recall/cGMP Deviations/79606/",
          "Reasons for Recall/Presence of Particulate matter. Recall due to presence of unknown particulate matter./79671/",
          "Reasons for Recall/Lack of Processing Controls./79748/",
          "Reasons for Recall/CGMP Deviations/80006/",
          "Reasons for Recall/Lack of sterility assurance./80118/",
          "Reasons for Recall/Failed Impurities/Degradation Specifications/80356/",
          "Reasons for Recall/Microbial contamination/80601/",
          "Reasons for Recall/CGMP Deviations/80881/",
          "Reasons for Recall/Lack of Assurance of Sterility/81002/",
          "Reasons for Recall/Lack of Assurance of Sterility/81346/",
          "Reasons for Recall/Cross Contamination with Other Products/81457/",
          "Reasons for Recall/Failed Dissolution Specifications./81795/",
          "Reasons for Recall/Lack of sterility assurance./81810/",
          "Reasons for Recall/Lack of sterility assurance./81883/",
          "Reasons for Recall/Unapproved new drug/82106/",
          "Reasons for Recall/Lack of Assurance of Sterility/82398/",
          "Reasons for Recall/Presence of Particulate Matter./82463/",
          "Reasons for Recall/Lack of sterility assurance./82554/",
          "Reasons for Recall/Lack of assurance of sterility for injectables and solutions intended to be sterile./82615/",
          "Reasons for Recall/Lack of sterility assurance./82620/",
          "Reasons for Recall/Crystallization/83074/",
          "Reasons for Recall/Lack of Assurance of Sterility/83074/",
          "Reasons for Recall/Lack of Assurance of Sterility/83136/",
          "Reasons for Recall/Lack of Assurance of Sterility/83265/",
          "Reasons for Recall/Failed dissolution specifications/83434/",
          "Reasons for Recall/Failed Impurities/Degradation Specifications/83581/",
          "Reasons for Recall/Lack of Assurance of Sterility/83669/",
          "Reasons for Recall/Failed Stability Specifications./83700/",
          "Reasons for Recall/Lack of Assurance of Sterility/83789/",
          "Reasons for Recall/Lack of sterility assurance./84401/",
          "Reasons for Recall/Lack of sterility assurance./84546/",
          "Reasons for Recall/Lack of Assurance of Sterility/84978/",
          "Reasons for Recall/Lack Of Processing Controls/85081/",
          "Reasons for Recall/Subpotent Drug/85207/",
          "Reasons for Recall/Firm is recalling 46 lots of various products because of a lack of sterility assurance./85212/",
          "Reasons for Recall/Lack of Processing Control/85404/",
          "Reasons for Recall/Lack of Processing Controls (lack of assurance of conformity to specifications)./85992/",
          "Reasons for Recall/GMP Deviations/86579/",
          "Reasons for Recall/CGMP Deviations/86712/",
          "Reasons for Recall/Subpotent drug/86858/",
          "Reasons for Recall/CGMP Deviations/86955/",
          "Reasons for Recall/Lack of Assurance of Sterility/72241/  A recall of all compounded sterile preparations within expiry is being initiated due to observations associated with poor sterile production practices resulting in a lack of sterility assurance for their finished drugs.",
          "Reasons for Recall/Lack of Assurance of Sterility/74539/  Aluminum crimps do not fully seal the rubber stopper to the vials.",
          "Reasons for Recall/Failed Tablet/Capsule Specifications/72648/  Product recalled due to reports of breakage and leakage of Paricalcitol capsules.",
          "Reasons for Recall/Lack of assurance of sterility/74606/  This recall includes of all unexpired lots medications containing Calcium Gluconate, Papaverine, Phentolamine, and /or Prostaglandin) due to unsubstantiated validation of beyond use dating.",
          "Reasons for Recall/Presence of Particulate Matter/73653/  particulate matter identified as an insect in one vial.",
          "Reasons for Recall/Subpotent/63846/ 15 month stability (by mfr)",
          "Reasons for Recall/Subpotent/65047/ 24 month stability test station",
          "Reasons for Recall/Presence of Foreign Tablets/Capsules/75880/ 500 mg capsules were found in bottles labeled to contain 250 mg capsules",
          "Reasons for Recall/Subpotent/69233/ 6 month stability time point",
          "Reasons for Recall/Failed Dissolution Specifications/75764/ 6 month time point",
          "Reasons for Recall/Lack of Assurance of Sterility/67904/ A mold like substance was discovered on the surface of an unopened bag of Sodium Chloride 0.9% while prepping the bag for production.",
          "Reasons for Recall/Lack of Assurance of Sterility/69633/ A recent FDA inspection of Vann Healthcare Services facility revealed deficiencies that raise concerns about the pharmacy's ability to consistently assure sterility of their products.",
          "Reasons for Recall/Presence of particulate matter/69567/ A returned customer sample was evaluated and found to have human hair attached to a pinched area of the stopper.",
          "Reasons for Recall/Presence of Particulate Matter/74057/ API contaminated with glass particulate was used to produce sterile injectable drugs.",
          "Reasons for Recall/Failed Capsule/Tablet Specifications/70001/ Actavis has received several complaint for clumping and breaking of capsules with some bottles showing popped out bottle bottom (round bottom) and creased labels from one distribution center.",
          "Reasons for Recall/Labeling Product Contains Undeclared API/84620/ Active Ingredient on label is not the active ingredient in the product.",
          "Reasons for Recall/cGMP Deviations/76103/ Active Pharmaceutical Ingredient (API) manufacturer is on FDA Import Alert.",
          "Reasons for Recall/Failed Impurities/Degradation Specifications/84550/ Additional testing found Out of Specification impurity test results.",
          "Reasons for Recall/cGMP deviations/65154/ After quality review of stability failures in previous lots, there is insufficient data to determine that other lots are not affected.",
          "Reasons for Recall/Penicillin Cross Contamination/70452/ All lots of all products repackaged and distributed between 01/05/12 and 02/12/15 are being recalled because they were repackaged in a facility with penicillin products without adequate separation which could introduce the potential for cross contamination with penicillin.",
          "Reasons for Recall/Stability Data Does Not Support Expiry/70452/ All lots of all products repackaged and distributed between 01/05/12 and 02/12/15 are being recalled because they were repackaged without data to support the printed expiry date.",
          "Reasons for Recall/Lack of Sterility Assurance/66856/ All lots of sterile products compounded by the pharmacy that are not expired due to concerns associated with quality control procedures that present a potential risk to sterility assurance that were observed during a recent FDA inspection.",
          "Reasons for Recall/Lack of Sterility Assurance/69519/ All lots of sterile products compounded by the pharmacy that are not expired due to concerns associated with quality control procedures that present a potential risk to sterility assurance that were observed during a recent FDA inspection.",
          "Reasons for Recall/Lack of Assurance of Sterility/66568/ All lots of sterile products compounded by the pharmacy within expiry are subject to this recall. This recall is initiated due to concerns associated with quality control procedures observed during a recent FDA inspection.",
          "Reasons for Recall/Lack of Assurance of Sterility/66566/ All unexpired sterile compounded human and veterinary products are being recalled because they were compounded in the same environment and under the same practices as another product found to be nonsterile and therefore sterility cannot be assured.",
          "Reasons for Recall/Superpotent Drug/76726/ An oversized tablet was found in a bottle.",
          "Reasons for Recall/Presence of Precipitate/82660/ Appearance is Out of Specification for the reconstituted solution during 24month stability time point analysis.",
          "Reasons for Recall/Failed Impurities/Degradation Specifications/82947/ Atypical odor and unpleasant taste was reported",
          "Reasons for Recall/Presence of Particulate Matter/66913/ B. Braun Medical Inc. is recalling several injectable products due to visible particulate matter found in reserve sample units.",
          "Reasons for Recall/Presence of Paticulate Matter/67092/ Baxter is issuing a voluntary recall for these IV solutions due to particulate matter found in the solution identified as polyester and cotton fibers, adhesivelike mixture, polyacetal particles, thermally degraded PVC, black polypropylene and human hair embedded in the plastic bag",
          "Reasons for Recall/Marketed without an approved NDA/ANDA/78461/ Bottles were released prior to final approval.",
          "Reasons for Recall/Failed Tablet/Capsule Specifications/69157/ Broken tablets found in sealed bottles.",
          "Reasons for Recall/CGMP Deviations/80538/ Carcinogen impurity detected in API used to manufacture drug product.",
          "Reasons for Recall/CGMP Deviations/80557/ Carcinogen impurity detected in API used to manufacture drug product.",
          "Reasons for Recall/CGMP Deviations/80773/ Carcinogen impurity detected in API used to manufacture drug product.",
          "Reasons for Recall/Presence of Particulate Matter/68048/ Confirmed customer complaint of discolored solution with visible metal particles embedded in the glass vial and visible in the solution.",
          "Reasons for Recall/Presence of Particulate Matter/68579/ Confirmed customer complaint of discolored solution with visible metal particles embedded in the glass vial and visible in the solution.",
          "Reasons for Recall/Defective Container/72947/ Confirmed customer complaints of leaking bottles.",
          "Reasons for Recall/Unit Dose Mispackaging/84261/ Customer complaint that a carton labeled as Myorisan 20 mg Capsules, USP erroneously contained one 10count blister card of the 40 mg product in addition to two 10count blister cards of the 20 mg product.",
          "Reasons for Recall/CGMP Deviations/82337/ Detection of a trace amount of unexpected impurity N nitrosodiethylamine (NDEA) found in finished products",
          "Reasons for Recall/Failed Dissolution Specifications/76663/ Dissolution at 8 hour was out of specification at 12 month at 25 degree Celsius.",
          "Reasons for Recall/Lack of Assurance of Sterility/71618/ Due to lack of documentation of proper environmental monitoring during the time in which the medication was produced.",
          "Reasons for Recall/Subpotent Drug/67053/ During routine stability testing one tablet was found with tablet weight below specification.",
          "Reasons for Recall/Lack of Processing Controls/83996/ Environmental sampling revealed 1 CFU (Colony Forming Unit) identified as Talaromyces rotundus, a fungi.",
          "Reasons for Recall/Marketed Without An Approved NDA/ANDA/65894/ FDA analyses detected the presence of phenolphthalein, NdiDesmethylsibutramine, and trace amounts of sibutramine and NDesmethylsibutramine. Sibutramine and phenolphthalein were previously available drug products but were removed from the U.S. market making these products unapproved new drugs.",
          "Reasons for Recall/Marketed Without An Approved NDA/ANDA/77859/ FDA analysis found the product to contain undeclared sildenafil and tadalafil and undeclared milk. The presence of sildenafil and tadalafil makes AMPT Natural Herbal Coffee an unapproved drug for which safety and efficacy have not been established and, therefore, subject to recall. Additionally, this product has been found to contain undeclared milk, milk is recognized as one of the foods reported to have caused deaths due to anaphylactic shock in persons with underlying hypersensitivities.",
          "Reasons for Recall/Marked Without An Approved NDA/ANDA/76644/ FDA analysis found these products to contain sildenafil, an FDA approved drug for the treatment of erectile dysfunction, making these products unapproved drugs for which safety and efficacy have not been establish and therefore, subject to recall.",
          "Reasons for Recall/Marketed Without An Approved NDA/ANDA/65441/ FDA analysis found this product contained undeclared sibutramine and phenolphthalein, two active ingredients that were once marketed in the U.S. but removed due to safety reasons, making this product an unapproved new drug.",
          "Reasons for Recall/Marketed without an Approved NDA/ANDA/85232/ FDA analysis found this product to contain undeclared Tadalafil, an FDA approved drug for the treatment of erectile dysfunction",
          "Reasons for Recall/Marketed without an Approved NDA/ANDA/67247/ FDA has determined that the products are unapproved new drugs and misbranded.",
          "Reasons for Recall/Lack of Assurance of Sterility/64661/ FDA inspection findings resulted in concerns regarding quality control processes",
          "Reasons for Recall/Lack of Assurance of Sterility/65360/ FDA inspection findings resulted in concerns regarding quality control processes",
          "Reasons for Recall/Lack of Assurance of Sterility/64661/ FDA inspection findings resulted in concerns regarding quality control processes.",
          "Reasons for Recall/Lack of Assurance of Sterility/65019/ FDA inspection findings resulted in concerns regarding quality control processes.",
          "Reasons for Recall/Lack of Assurance of Sterility/65125/ FDA inspection findings resulted in concerns regarding quality control processes.",
          "Reasons for Recall/GMP Deviations/77526/ FDA inspection found significant manufacturing practices that call into question the safety, identity, strength, quality and purity of unexpired drug products manufactured by the firm.",
          "Reasons for Recall/Lack of Assurance of Sterility/71371/ FDA inspection identified GMP violations potentially impacting product quality and sterility",
          "Reasons for Recall/Lack of Assurance of Sterility/72361/ FDA inspection identified GMP violations potentially impacting product quality and sterility",
          "Reasons for Recall/Lack of Assurance of Sterility/74187/ FDA inspection identified GMP violations potentially impacting product quality and sterility.",
          "Reasons for Recall/Lack of Assurance of Sterility/64716/ FDA inspectional findings resulted in concerns associated with quality control procedures that impacted sterility assurance",
          "Reasons for Recall/Lack of Assurance of Sterility/65876/ FDA inspectional findings resulted in concerns associated with quality control procedures that impacted sterility assurance",
          "Reasons for Recall/CGMP Deviations/81613/ FDA lab confirmed presence an impurity, Nnitrosodiethylamine (NDEA) contained in the API used to manufacture the product.",
          "Reasons for Recall/CGMP Deviations/82585/ FDA lab confirmed presence of an impurity, NMethylnitrosobutyric acid (NMBA)  in the finished product above the interim acceptable daily intake level.",
          "Reasons for Recall/CGMP Deviations/82782/ FDA lab confirmed presence of an impurity, NMethylnitrosobutyric acid (NMBA) in the finished product above the interim acceptable daily intake level at the manufacturer",
          "Reasons for Recall/CGMP Deviations/83840/ FDA lab confirmed presence of an impurity, NMethylnitrosobutyric acid (NMBA) in the finished product above the interim acceptable daily intake level of 9.82 parts per million.",
          "Reasons for Recall/CGMP Deviations/81500/ FDA laboratory testing confirmed presence of an impurity, Nnitrosodiethylamine (NDEA) in product.",
          "Reasons for Recall/CGMP Deviations/81646/ FDA laboratory testing confirmed presence of an impurity, Nnitrosodimethylamine (NDEA) in product.",
          "Reasons for Recall/Marketed Without an Approved NDA/ANDA/71989/ FDA sampling confirmed the presence of Salicylic acid  in dietary supplements.",
          "Reasons for Recall/Failed Content Uniformity Specifications/71598/ Failed Uniformity of Dosage Units specifications.",
          "Reasons for Recall/CGMP Deviations/71104/ Firm did not adequately investigate customer complaints.",
          "Reasons for Recall/Lack of Assurance of Sterility/77161/ Firm failed to establish an adequate system for monitoring environmental conditions in aseptic processing areas.",
          "Reasons for Recall/Lack of Assurance of Sterility/73090/ Firm is recalling all unexpired lots of sterile compounded products after FDA inspection found concerns of lack of sterility assurance.",
          "Reasons for Recall/Lack of Assurance Sterility/79619/ Firm is recalling various drug products due to a nonapproved method of sterilization.",
          "Reasons for Recall/Lack of Processing Controls/80119/ Firm is voluntarily recalling all lots of homeopathic Teething Drops, Nausea Drops, Intestinal Colic Drops, Stomach Calm, Expectorant Cough Syrup, SilverZinc Throat Spray, and Argentum Elixir, within expiry, due to lack of adequate controls during manufacturing.",
          "Reasons for Recall/Presence of Foreign Tablets/Capsules/74949/ Firm received a market complaint stating the presence of one foreign tablet (Montelukast Sodium Chewable Tab 4mg) in the product bottle of Pantoprazole.",
          "Reasons for Recall/Lack of Assurance of Sterility/69056/ Firm received fentanyl from a supplier who recalled it  because fliptop vial crimps were loose or missing.",
          "Reasons for Recall/Contraceptive Tablets Out of Sequence/77323/ First 4 pills of the packet are brown, instead of the last four pills and the expiry/lot was not printed on the package.",
          "Reasons for Recall/Marketed Without An Approved NDA/ANDA/78991/ Flawless Beauty, LLC is voluntarily recalling all lots of different products sold individually or as part of multiunit kits in accordance with Consent Decree of Permanent Injunction ordered by the United States District Court due to misbranding and unapproved new drugs pursuant to the FD&C Act.",
          "Reasons for Recall/Lack of Assurance of Sterility/62416/ Franck's Lab Inc. initiated a recall of all Sterile Human Drugs distributed between 11/21/2011 and 05/21/2012 because FDA environmental sampling revealed the presence of microorganisms and fungal growth in the clean room where sterile products were prepared.",
          "Reasons for Recall/Lack of Assurance of Sterility/62443/ Franck's Lab Inc. initiated a recall of all Sterile Human Drugs distributed between 11/21/2011 and 05/21/2012. FDA environmental sampling revealed the presence of microorganisms and fungal growth in the clean room where sterile products were prepared.",
          "Reasons for Recall/Superpotent Drug/73569/ High out of specification results for assay at the 6 month time point interval.",
          "Reasons for Recall/Failed Impurities/Degradation Specifications/68787/ High outofspecification results for a related compound obtained during routine stability testing.",
          "Reasons for Recall/Lack of Assurance of Sterility/61918/ Hospira, Inc is voluntarily recalling the products due to possible leaking bags.",
          "Reasons for Recall/Marketed without an Approved NDA/ANDA/68626/ IM and SQ injectable products are being recalled because the manufacturing firm is not registered with the FDA as a drug manufacturer",
          "Reasons for Recall/Labeling/69942/ Illegible Label Sandoz Inc. is recalling of one lot of Fluoxetine Capsules due to an illegible logo on the capsule.",
          "Reasons for Recall/CGMP Deviations/84353/ Impurity Nnitrosodimethylamine (NDMA) found in API",
          "Reasons for Recall/CGMP Deviations/85039/ Impurity Nnitrosodimethylamine (NDMA) found in API.",
          "Reasons for Recall/Lack of Assurance of Sterility/80890/ Inadequate processes and equipment to assure the sterility of products intended to be sterile.",
          "Reasons for Recall/CGMP Deviations/78730/ Inadvertent release of a drug product with unapproved active ingredient manufacturer.",
          "Reasons for Recall/Labeling/72699/ Incorrect Instructions RemedyRepack, Inc. a relabeler, is recalling these products due to incorrect storage instructions.",
          "Reasons for Recall/Labeling/65840/ Incorrect Or Missing Lot and/or Exp Date The lot number and/or expiration date may be illegible on the outer plastic bottle packaging.",
          "Reasons for Recall/Labeling/86584/ Incorrect expiration date.  Product dated with 24month expiration date instead of 18months.",
          "Reasons for Recall/Labeling/85136/ Incorrect or Missing Exp Date  An incorrect expiration date has been identified on Prednisone Tablets USP 5 mg",
          "Reasons for Recall/Labeling/79640/ Incorrect or Missing Lot and/or Exp Date",
          "Reasons for Recall/Labeling/78553/ Incorrect or Missing Lot and/or Exp Date Beyond Use Date (BUD) exceed the BUD/EXP of at least one ingredient used to make final product.",
          "Reasons for Recall/Labeling/81337/ Incorrect or Missing Lot and/or Expiration Date vial indicates a 1 year expiration date instead of a 6 month expiration date",
          "Reasons for Recall/Labeling/64372/ Incorrect or Missing Lot and/or Expiration date The Lot and/or Expiration date on the tube may not be legible in this lot..",
          "Reasons for Recall/Labeling/69445/ Incorrect or Missing Package Insert",
          "Reasons for Recall/Labeling/73032/ Incorrect or Missing Package Insert Package insert is missing updates compared with reference drug insert.",
          "Reasons for Recall/Labeling/68572/ Incorrect or Missing Package Insert Product is packaged with the incorrect version of the package insert.",
          "Reasons for Recall/Labeling/78232/ Incorrect or Missing Package Insert authorized generic product was packaged with the incorrect insert for the brand name product Clolar (clofarabine) injection.",
          "Reasons for Recall/Labeling/86997/ Incorrect or Missing lot and/or expiration date The lot number and BUD were printed in the incorrect position on the product label making it illegible.",
          "Reasons for Recall/Labeling/84527/ Incorrect or missing lot and/or expiration date. Products were compounded using expired components.",
          "Reasons for Recall/Labeling/84082/ Incorrect or missing package insert.",
          "Reasons for Recall/Lack of Processing Controls/82278/ Insanitary conditions observed during compounding of sterile drugs during recent FDA Inspection.",
          "Reasons for Recall/Labeling/65008/ Label Error on Declared Strength Unopened bottles of Ropinirole USP 3 mg tablets was found to be incorrectly labeled as Ropinirole USP 4 mg tablets..",
          "Reasons for Recall/Labeling/66233/ Label Error on Declared Strength the label states that the product contains 62% ethyl alcohol, but the ethyl alcohol content is 20%.",
          "Reasons for Recall/Labeling/81441/ Label Error on Declared Strength the preprinted text on the primary infusion bag and the NDC incorrectly identifies the product as Levetiracetam in 0.75% Sodium Chloride (1000 mg/100 mL) however, the external foil pouch correctly identifies the product as Levetiracetam in 0.54% Sodium Chloride Injection (1,500/100 mL).",
          "Reasons for Recall/Labeling/78637/ Label Error on Declared Strength. A single syringe labeled as 150 mg/1.0 mL was found packaged in a blister labeled as 120 mg/mL",
          "Reasons for Recall/Labeling/87283/ Label MixUp  Prepackaged bottles labeled spironolactone 25 mg may contain spironolactone 50 mg tablets.",
          "Reasons for Recall/Labeling/79457/ Label MixUp Brilliant Blue G was labeled with an inaccurate auxiliary label which contained active/inactive ingredient information for incorrect product.",
          "Reasons for Recall/Labeling/73662/ Label MixUp Products labeled Biotin 100 mg found to contain 4aminopyridine",
          "Reasons for Recall/Labeling/65690/ Label Mixup ASPIRIN DR EC, Tablet, 81 mg may have potentially been mislabeled as one of the following drugs  SOTALOL HCL, Tablet, 120 mg, NDC 00093106001, Pedigree AD49448_20, EXP 5/17/2014  FOLIC ACID, Tablet, 1 mg, NDC 65162036110, Pedigree W003097, EXP 6/13/2014.",
          "Reasons for Recall/Labeling/65690/ Label Mixup ATORVASTATIN CALCIUM, Tablet, 10 mg may have potentially been mislabeled as one of the following drugs  PANCRELIPASE DR, Capsule, 12000 /38000 /60000 USP units, NDC 00032121201, Pedigree AD30180_4, EXP 5/8/2014  OMEPRAZOLE/SODIUM BICARBONATE, Capsule, 20 mg/1,110 mg, NDC 11523726503, Pedigree AD49399_4, EXP 5/16/2014  ASPIRIN, CHEW Tablet, 81 mg, NDC 00536329736, Pedi",
          "Reasons for Recall/Labeling/65690/ Label Mixup ATORVASTATIN CALCIUM, Tablet, 40 mg may have potentially been mislabeled as one of the following drugs  ATORVASTATIN CALCIUM, Tablet, 10 mg, NDC 00378201577, Pedigree AD33897_4, EXP 5/9/2014  FINASTERIDE, Tablet, 5 mg, NDC 16714052201, Pedigree W003031, EXP 2/28/2014.",
          "Reasons for Recall/Labeling/65690/ Label Mixup CHOLECALCIFEROL, Tablet, 5000 units may have potentially been mislabeled as one of the following drugs  LACTOBACILLUS ACIDOPHILUS, Capsule, 0 mg, NDC 54629011101, Pedigree AD65311_7, EXP 5/24/2014  QUINAPRIL HCL, Tablet, 20 mg, NDC 68180055809, Pedigree W003556, EXP 6/24/2014  POTASSIUM ACID PHOSPHATE, Tablet, 500 mg, NDC 00486111101, Pedigree AD52778_34, EXP 5/20/2",
          "Reasons for Recall/Labeling/65690/ Label Mixup CILOSTAZOL, Tablet, 100 mg may have potentially been mislabeled as the following drug  TRIAMTERENE/ HYDROCHLOROTHIAZIDE, Tablet, 37.5 mg/25 mg, NDC 00591042401, Pedigree W002900, EXP 6/10/2014.",
          "Reasons for Recall/Labeling/65690/ Label Mixup DESMOPRESSIN ACETATE, Tablet 0.1 mg may have potentially been mislabeled as the following drug   LOXAPINE, Capsule, 5 mg, NDC 00591036901, Pedigree AD46426_7, EXP 5/15/2014.",
          "Reasons for Recall/Labeling/65690/ Label Mixup DIGOXIN, Tablet, 125 mcg may have potentially been mislabeled as the following drug  CHOLECALCIFEROL/ CALCIUM/ PHOSPHORUS, Tablet, 120 units/105 mg/81 mg, NDC 64980015001, Pedigree W002581, EXP 6/3/2014.",
          "Reasons for Recall/Labeling/65690/ Label Mixup DOXAZOSIN MESYLATE, Tablet, 1 mg may have potentially been mislabeled as the following drug  PYRIDOXINE HCL, Tablet, 100 mg, NDC 00536440901, Pedigree W003872, EXP 6/27/2014.",
          "Reasons for Recall/Labeling/65707/ Label Mixup DOXEPIN HCL Capsule, 150 mg may be potentially mislabeled as    VALSARTAN, Tablet, 160 mg, NDC 00078035934, Pedigree AD46312_7, EXP 5/16/2014.",
          "Reasons for Recall/Labeling/65690/ Label Mixup ESTROPIPATE, Tablet, 0.75 mg may have potentially been mislabeled as the following drug   MESALAMINE DR, Capsule, 400 mg, NDC 00430075327, Pedigree AD34934_1, EXP 1/31/2014.",
          "Reasons for Recall/Labeling/65690/ Label Mixup EXEMESTANE, Tablet, 25 mg may be potentially mislabeled as the following drug   OMEGA3 FATTY ACID, Capsule, 1000 mg, NDC 00904404360, Pedigree W003473, EXP 6/20/2014.",
          "Reasons for Recall/Labeling/65707/ Label Mixup FAMOTIDINE Tablet, 20 mg may be potentially mislabeled as    CARVEDILOL PHOSPHATE ER, Capsule, 20 mg, NDC 00007337113, Pedigree W003225, EXP 6/17/2014  DULoxetine HCl DR, Capsule, 20 mg, NDC 00002323560, Pedigree W003506, EXP 6/21/2014  FAMOTIDINE, Tablet, 20 mg, NDC 16714036104, Pedigree W003507, EXP 6/21/2014  MYCOPHENOLATE MOFETIL, Capsule, 250 mg, NDC 0037822500",
          "Reasons for Recall/Labeling/65690/ Label Mixup FLUCONAZOLE, Tablet, 200 mg may have potentially been mislabeled as one of the following drugs  VALSARTAN, Tablet, 80 mg, NDC 00078035834, Pedigree AD65475_10, EXP 5/28/2014  FLUCONAZOLE, Tablet, 100 mg, NDC 68462010230, Pedigree W003064, EXP 6/12/2014.",
          "Reasons for Recall/Labeling/65707/ Label Mixup ITRACONAZOLE, Capsule, 100 mg may be potentially mislabeled as     FAMCICLOVIR, Tablet, 500 mg, NDC 00093811956, Pedigree AD54549_4, EXP 5/20/2014.",
          "Reasons for Recall/Labeling/65690/ Label Mixup LEVOTHYROXINE SODIUM, Tablet, 125 mcg may have potentially been mislabeled as the following drug  MAGNESIUM CHLORIDE DR, Tablet, 64 mg, NDC 00904791152, Pedigree AD70615_1, EXP 2/28/2014.",
          "Reasons for Recall/Labeling/65690/ Label Mixup LEVOTHYROXINE SODIUM, Tablet, 175 mcg may have potentially been mislabeled as the following drug  CINACALCET HCL, Tablet, 60 mg, NDC 55513007430, Pedigree W003742, EXP 6/26/2014.",
          "Reasons for Recall/Labeling/65690/ Label Mixup LEVOTHYROXINE SODIUM, Tablet, 88 mcg may have potentially been mislabeled as the following drug  guanFACINE HCl, Tablet, 1 mg, NDC 00378116001, Pedigree W003007, EXP 6/12/2014.",
          "Reasons for Recall/Labeling/65707/ Label Mixup LISINOPRIL Tablet, 2.5 mg may be potentially mislabeled as    RANOLAZINE ER, Tablet, 500 mg, NDC 61958100301, Pedigree AD23087_1, EXP 5/2/2014  DOCUSATE SODIUM, Capsule, 250 mg, NDC 00536375701, Pedigree W003358, EXP 6/19/2014.",
          "Reasons for Recall/Labeling/65707/ Label Mixup LORATADINE Tablet, 10 mg may be potentially mislabeled as    GLYCOPYRROLATE, Tablet, 2 mg, NDC 00603318121, Pedigree W002650, EXP 6/5/2014  OMEGA3 FATTY ACID, Capsule, 1000 mg, NDC 05445800022, Pedigree AD21858_4, EXP 5/1/2014  OMEGA3 FATTY ACID, Capsule, 1000 mg, NDC 00904404360, Pedigree W003217, EXP 6/14/2014.",
          "Reasons for Recall/Labeling/65690/ Label Mixup LOSARTAN POTASSIUM, Tablet, 25 mg may have potentially been mislabeled as the following drug  PHYTONADIONE, Tablet, 5 mg, NDC 25010040515, Pedigree AD46312_22, EXP 4/30/2014.",
          "Reasons for Recall/Labeling/65690/ Label Mixup LOXAPINE, Capsule, 5 mg may have potentially been mislabeled as the following drug   SERTRALINE HCL, Tablet, 50 mg, NDC 16714061204, Pedigree AD46426_1, EXP 5/15/2014.",
          "Reasons for Recall/Labeling/65707/ Label Mixup MELATONIN, Tablet, 3 mg may be potentially mislabeled as    VITAMIN B COMPLEX, Capsule, NDC 00536478701, Pedigree AD32757_4, EXP 5/13/2014  MULTIVITAMIN/ MULTIMINERAL/ LUTEIN, Capsule, NDC 24208063210, Pedigree W003025, EXP 6/12/2014  LACTASE ENZYME, Tablet, 3000 units, NDC 24385014976, Pedigree W003721, EXP 6/26/2014  GLUCOSAMINE/CHONDROITIN DS, Capsule, 500 mg/400",
          "Reasons for Recall/Labeling/65690/ Label Mixup MESALAMINE DR, Capsule, 400 mg may have potentially been mislabeled as the following drug    CHLOROPHYLLIN COPPER COMPLEX, Tablet, 100 mg, NDC 11868000901, Pedigree AD34928_1, EXP 5/9/2014.",
          "Reasons for Recall/Labeling/65707/ Label Mixup METAXALONE Tablet, 800 mg may be potentially mislabeled as    ESTERIFIED ESTROGENS, Tablet, 0.625 mg, NDC 61570007301, Pedigree W003736, EXP 6/26/2014.",
          "Reasons for Recall/Labeling/65690/ Label Mixup METOPROLOL TARTRATE, Tablet, 50 mg  may have potentially been mislabeled as one of the following drugs  METOPROLOL TARTRATE, Tablet, 25 mg, NDC 57664050652, Pedigree W003843, EXP 6/27/2014  ATORVASTATIN CALCIUM, Tablet, 20 mg, NDC 60505257909, Pedigree W003846, EXP 6/27/2014  OXYBUTYNIN CHLORIDE, Tablet, 5 mg, NDC 00603497521, Pedigree W003898, EXP 6/27/2014.",
          "Reasons for Recall/Labeling/65690/ Label Mixup MINOCYCLINE HCL, Capsule, 100 mg may have potentially been mislabeled as the following drug  PROGESTERONE, Capsule, 100 mg, NDC 00591396401, Pedigree AD73611_4, EXP 5/30/2014.",
          "Reasons for Recall/Labeling/65690/ Label Mixup MONTELUKAST SODIUM, CHEW Tablet, 4 mg may be potentially mislabeled as the following drug  DICYCLOMINE HCL, Tablet, 20 mg, NDC 00591079501, Pedigree AD76639_4, EXP 5/31/2014.",
          "Reasons for Recall/Labeling/65690/ Label Mixup NIACIN TR, Tablet, 750 mg may have potentially been mislabeled as the following drug  NORTRIPTYLINE HCL, Capsule, 50 mg, NDC 00093081201, Pedigree AD46414_47, EXP 5/16/2014.",
          "Reasons for Recall/Labeling/65690/ Label Mixup NIACIN, Tablet, 500 mg may have potentially been mislabeled as one of the following drugs  NAPROXEN, Tablet, 500 mg, NDC 53746019001, Pedigree AD54516_1, EXP 5/20/2014  DOCUSATE SODIUM, Capsule, 250 mg, NDC 00904789159, Pedigree W002920, EXP 6/10/2014.",
          "Reasons for Recall/Labeling/65707/ Label Mixup NICOTINE POLACRILEX Gum, 2 mg may be potentially mislabeled as    SACCHAROMYCES BOULARDII LYO, Capsule, 250 mg, NDC 00414200007, Pedigree AD54586_4, EXP 5/21/2014.",
          "Reasons for Recall/Labeling/65707/ Label Mixup NICOTINE POLACRILEX Lozenge, 2 mg may be potentially mislabeled as    ASPIRIN DR EC, Tablet, 81 mg, NDC 00182106105, Pedigree AD52433_1, EXP 5/17/2014  chlorproMAZINE HCl, Tablet, 100 mg, NDC 00832030300, Pedigree AD70700_1, EXP 5/29/2014  CALCIUM ACETATE, Capsule, 667 mg, NDC 00054008826, Pedigree AD73623_1, EXP 5/30/2014  FOLIC ACID, Tablet, 1 mg, NDC 65162036110,",
          "Reasons for Recall/Labeling/65690/ Label Mixup NIFEdipine ER, Tablet, 60 mg may have potentially been mislabeled as the following drug   NICOTINE POLACRILEX, LOZENGE, 2 mg, NDC 00135051001, Pedigree W003749, EXP 6/26/2014.",
          "Reasons for Recall/Labeling/65707/ Label Mixup OMEPRAZOLE/SODIUM BICARBONATE, Capsule, 20 mg/1,100 mg may be potentially mislabeled as    CYANOCOBALAMIN, Tablet, 1000 mcg, NDC 00536355601, Pedigree W003788, EXP 6/27/2014  OMEGA3 FATTY ACID, Capsule, 1000 mg, NDC 00904404360, Pedigree W003870, EXP 6/27/2014.",
          "Reasons for Recall/Labeling/65707/ Label Mixup OMEPRAZOLE/SODIUM BICARBONATE, Capsule, 20 mg/110 mg may be potentially mislabeled as     BENZOCAINE/MENTHOL, LOZENGE, 15 mg/2.6 mg, NDC 63824073116, Pedigree AD42592_4, EXP 5/14/2014.",
          "Reasons for Recall/Labeling/65707/ Label Mixup PANTOPRAZOLE SODIUM DR, Tablet, 20 mg may be potentially mislabel as    NORTRIPTYLINE HCL, Capsule, 75 mg, NDC 00093081301, Pedigree W003694, EXP 6/26/2014.",
          "Reasons for Recall/Labeling/65690/ Label Mixup PERPHENAZINE, Tablet, 16 mg may have potentially been mislabeled as one of the following drugs  LITHIUM CARBONATE ER, Tablet, 450 mg, NDC 00054002025, Pedigree AD21790_28, EXP 5/1/2014  LITHIUM CARBONATE ER, Tablet, 450 mg, NDC 00054002025, Pedigree W002730, EXP 6/6/2014  RALTEGRAVIR, Tablet, 400 mg, NDC 00006022761, Pedigree W003680, EXP 6/25/2014  VENLAFAXINE HCL",
          "Reasons for Recall/Labeling/65707/ Label Mixup PHOSPHORUS Tablet, 250 mg may be potentially mislabeled as    CITALOPRAM, Tablet, 10 mg, NDC 57664050788, Pedigree AD56921_1, EXP 5/21/2014  VENLAFAXINE HCL, Tablet, 75 mg, NDC 00093738201, Pedigree W002533, EXP 2/28/2014  NITROFURANTOIN MACROCRYSTALS, Capsule, 50 mg, NDC 47781030701, Pedigree AD25452_4, EXP 5/3/2014  traZODone HCl, Tablet, 50 mg, NDC 50111043303, P",
          "Reasons for Recall/Labeling/65690/ Label Mixup PYRIDOXINE HCL, Tablet, 100 mg may have potentially been mislabeled as one of the following drugs  CYANOCOBALAMIN, Tablet, 1000 mcg, NDC 00536355601, Pedigree AD73627_29, EXP 5/30/2014  COENZYME Q10, Capsule, 100 mg, NDC 37205055065, Pedigree W003871, EXP 6/27/2014  VITAMIN B COMPLEX PROLONGED RELEASE, Tablet, 0 mg, NDC 40985022251, Pedigree AD76686_1, EXP 5/31/201",
          "Reasons for Recall/Labeling/65707/ Label Mixup TORSEMIDE Tablet, 10 mg may be potentially mislabeled as    MEXILETINE HCL, Capsule, 200 mg, NDC 00093874001, Pedigree AD25264_7, EXP 5/3/2014.",
          "Reasons for Recall/Labeling/61948/ Label Mixup This recall was initiated after identifying that the label statement on the blister strip regarding the maximum number of capsules/caplets that should be taken within a 24hour period, does not match the statement on the carton.",
          "Reasons for Recall/Labeling/65707/ Label Mixup VENLAFAXINE HCL Tablet, 50 mg may be potentially mislabeled as    sulfaSALAzine, Tablet, 500 mg, NDC 00603580121, Pedigree AD65475_19, EXP 5/28/2014.",
          "Reasons for Recall/Labeling/65707/ Label Mixup VITAMIN B COMPLEX Tablet may be potentially mislabeled as    OMEPRAZOLE/SODIUM BICARBONATE, Capsule, 20 mg/1,100 mg, NDC 11523726503, Pedigree W003789, EXP 6/27/2014  prednisoLONE, Tablet, 5 mg, NDC 16477050501, Pedigree W003627, EXP 6/25/2014.",
          "Reasons for Recall/Labeling/77315/ Label Mixup blister lidding foil and shellpack labeled as 10 mg but package actually contains 5 mg tablets",
          "Reasons for Recall/Labeling/87233/ Label Mixup correctly labeled 2 mL vials were packaged into blister strips labeled for 1 mL vials",
          "Reasons for Recall/Labeling/65690/ Label Mixup guanFACINE HC, Tablet, 1 mg may have potentially been mislabeled as one of the following drugs  glyBURIDE, Tablet, 2.5 mg, NDC 00093834301, Pedigree AD46265_22, EXP 5/15/2014  FOSINOPRIL SODIUM, Tablet, 10 mg, NDC 60505251002, Pedigree AD46414_19, EXP 5/16/2014  chlorproMAZINE HCl, Tablet, 100 mg, NDC 00832030300, Pedigree AD70629_4, EXP 5/29/2014  guanFACINE HCl,",
          "Reasons for Recall/Labeling/65690/ Label Mixup sitaGLIPtin PHOSPHATE, Tablet, 50 mg may be potentially mislabeled as one of the following drugs  LACTOBACILLUS, Tablet, 0 mg, NDC 64980012950, Pedigree AD62992_1, EXP 5/23/2014  CYANOCOBALAMIN, Tablet, 500 mcg, NDC 00536355101, Pedigree W002860, EXP 6/7/2014.",
          "Reasons for Recall/Labeling/63821/ Label lacks warning or Rx legend Certain information was inadvertently excluded from the product carton label.",
          "Reasons for Recall/Labeling/69135/ Labeling Bears Unapproved Claims Dermatend is not FDA approved and therefore has not been shown to be safe and effective for the uses suggested in the labeling.",
          "Reasons for Recall/Marketed without an Approved NDA/ANDA/65095/ Laboratory analysis conducted by the FDA has determined the Vicerex product contains undeclared tadalafil and the Black Ant product contains undeclared sildenafil.   Tadalafil and sildenafil are FDAApproved drugs used to treat male erectile dysfunction (ED), making the Vicerex and the Black Ant products unapproved new drugs.",
          "Reasons for Recall/CGMP Deviations/79149/ Lack of stability data and controls to support the manufacturers assigned retest or expiration date in firm's container/closure system.",
          "Reasons for Recall/Lack of Assurance of Sterility/68557/ Lack of sterility assurance in compounded aseptically filled injectable products.",
          "Reasons for Recall/CGMP Deviations/86123/ Light sensitive drug products repackaged in transparent/partially transparent pouches.",
          "Reasons for Recall/Subpotent Drug/68812/ Low out of specification results for both pH and assay obtained during routine stability testing after 36 months.",
          "Reasons for Recall/Lack of Assurance of Sterility/69152/ Martin Avenue Pharmacy, Inc. is conducting a voluntary recall of all compounded sterile preparations within expiry. The recall is being initiated in connection with a recent FDA inspection due to observations associated with certain quality control procedures that present a risk to sterility assurance.",
          "Reasons for Recall/Presence of Foreign Tablet/79119/ Metformin BP 1000mg was found in bottle of Metformin HCl 1000mg",
          "Reasons for Recall/Failed Tablet/Capsule Specifications/66360/ Multiple complaints for push through tablet breakage.",
          "Reasons for Recall/Penicillin Cross Contamination/71078/ Multiple finished products potentially contaminated with penicillin.",
          "Reasons for Recall/CGMP Deviations/84218/ Nnitrosodimethylamine (NDMA) has been detected in Ranitidine tablets, capsules and syrups.",
          "Reasons for Recall/Labeling/77191/ Not Elsewhere Classified Incorrect volume printed on the product label.",
          "Reasons for Recall/Labeling/76561/ Not Elsewhere Classified Products may contain synthetic latex and/or natural latex.",
          "Reasons for Recall/Labeling/83798/ Not Elsewhere Classified RFID formatting error which reads product in Ultraject syringe as expired and will not allow injection of product by the Optivantage injector.",
          "Reasons for Recall/Labeling/79175/ Not Elsewhere Classified Schedule IV controlled substance indicator of CIV being omitted  from the product carton, primary label is correct.",
          "Reasons for Recall/Labeling/82760/ Not Elsewhere Classified. This recall has been initiated due to mislabeling. The printed carton used in manufacturing both batches contained text for both 2% Xylocaine DENTAL and Articadent DENTAL. Xylocaine DENTAL is a trade name for Lidocaine HCL 2% and Epinephrine 1 100,000 formulation, while Articadent DENTAL is a trade name for Articaine HCI 4% and Epinephrine 1 100,000. The cartridges contained within the  printed carton are labeled appropriately as Articadent DENTAL.",
          "Reasons for Recall/Labeling/64104/ Not elsewhere classified On 12/12/11, DEA published a final rule in the Federal Register making this product a schedule IV (CIV)controlled substance.  This product is being recalled because this controlled product was not relabeled with the required \"CIV\" imprint on the label for products distributed after the 06/11/12 deadline.",
          "Reasons for Recall/Marketed Without an Approved NDA/ANDA/67860/ Nova Products, Inc. of Aston, Pennsylvania is voluntarily recalling XZEN PLATINUM because FDA laboratory analysis determined they contain undeclared amounts of sildenafil and tadalafil, active ingredients of FDAapproved drugs used to treat erectile dysfunction.",
          "Reasons for Recall/Marketed Without an Approved NDA/ANDA/67860/ Nova Products, Inc. of Aston, Pennsylvania is voluntarily recalling Xzen 1200 because FDA laboratory analysis determined they contain undeclared amounts of sildenafil and tadalafil, active ingredients of FDAapproved drugs used to treat erectile dysfunction.",
          "Reasons for Recall/Temperature Abuse/69346/ One shipment was inadvertantly stored refrigerated rather than the labeled room temperature recommendation at McKesson MedicalSurgical Inc., one of the distributing wholesalers.",
          "Reasons for Recall/Cross Contamination With Other Products/77992/ Oral care solutions were manufactured by a third party supplier on equipment shared with nonpharmaceutical products",
          "Reasons for Recall/Superpotent Drug/71973/ Out Of Specification (OOS) result for Assay.",
          "Reasons for Recall/Impurities/Degradation Products/61947/ Out Of Specification levels of nitrogen dioxide.",
          "Reasons for Recall/Defective Delivery System/64710/ Out of Specification (OOS) results for the zstatistic value, which relates to the patients and caregiver ability to remove the release liner from the patch adhesive prior to administration, were obtained.",
          "Reasons for Recall/Defective Delivery System/67718/ Out of Specification (OOS) results for the zstatistic value, which relates to the patients and caregiver ability to remove the release liner from the patch adhesive prior to administration, were obtained.",
          "Reasons for Recall/Failed pH Specifications/86685/ Out of Specification pH Test Results were found in Sodium Chloride Injection USP 0.9% 2 mL vial.",
          "Reasons for Recall/CGMP Deviations/83316/ Out of Specification results for either total microbial count or total organic carbon in the purified water utilized in the manufacturing process.",
          "Reasons for Recall/Miscalibrated and/or Defective Delivery System/61891/ Out of Specification results for mechanical peel force and/or the zstatistic value which relates to the patient's ability to remove the release liner from the patch adhesive prior to administration.",
          "Reasons for Recall/Failed Stability Specifications/77311/ Out of Specification results obtained for preservative Methylparaben content.",
          "Reasons for Recall/Failed Stability Specifications/72493/ Out of Specification results obtained for preservative butylparaben.",
          "Reasons for Recall/Failed Impurities/Degradation Specifications/87566/ Out of Specification results obtained for unknown impurities during stability testing by manufacturer",
          "Reasons for Recall/Failed Dissolution Specification/64056/ Out of a specification result occurred during the 3month stability testing. Dissolution result at the 4hour time point was 41% (specification 2040%).",
          "Reasons for Recall/Subpotent Drug/83137/ Out of specification assay result in Esterified Estrogen and Methyltestosterone tablets.",
          "Reasons for Recall/Failed Dissolution Specifications/70743/ Out of specification for dissolution of sulfamethoxazole.",
          "Reasons for Recall/Failed Dissolution Specifications/86787/ Out of specification for dissolution.",
          "Reasons for Recall/Failed Impurities/Degradation Specifications/72476/ Out of specification for impurities.",
          "Reasons for Recall/Failed Impurities/Degradation Specifications/72733/ Out of specification for impurities.",
          "Reasons for Recall/Defective Delivery System/87373/ Out of specification for mechanical peel.",
          "Reasons for Recall/Failed Degradation/Impurities Specifications/82127/ Out of specification related substance results during stability testing.",
          "Reasons for Recall/Failed Stability Specifications/68879/ Out of specification result for preservative sodium benzoate.",
          "Reasons for Recall/Impurities/Degradation Products/62911/ Out of specification results for Related Compound during routine stability testing.",
          "Reasons for Recall/GMP Deviations/81784/ Out of specification results for Total Aerobic Microbial count in excipient purified water sample",
          "Reasons for Recall/Failed Stability Specifications/68098/ Out of specification results for viscosity in one lot of Glytone Acne Treatment Facial Cleanser.",
          "Reasons for Recall/Failed Stability Specifications/86264/ OutofSpecification (OOS) results for the Aspirin related compound Salicylic Acid was observed.",
          "Reasons for Recall/Failed Impurities/Degradation Specifications /69547/ Outofspecification result for an unidentified impurity at the 12 month stability test point.",
          "Reasons for Recall/Failed Dissolution Specifications/74847/ Outofspecification results in retained sample.",
          "Reasons for Recall/Superpotent (Multiple Ingredient) Drug/63899/ Oversized tablets resulting in superpotent assays of both the hydrocodone and acetaminophen components.",
          "Reasons for Recall/Marketed Without An Approved NDA/ANDA/68158/ Parenteral product is labeled for use as an antidote.",
          "Reasons for Recall/Lack of Assurance of Sterility/66083/ Park Compounding is voluntarily recalling two lots of  Methylcobalamin 5mg/ml and Multitrace5 Concentrate, and one lot of Testosterone Cypionate (sesame oil) for injection due lack of sterility assurance.",
          "Reasons for Recall/Presence of Particulate Matter/67690/ Particulates identified as stainless steel and barium sulfate.",
          "Reasons for Recall/Presence of Particulate Matter/84622/ Particulates observed in vials release for dispensing.",
          "Reasons for Recall/Failed Dissolution Specifications/65393/ Pfizer Inc. (Pfizer) is recalling PREMPRO (conjugated estrogens/medroxyprogesterone acetate tablets) because certain lots for this product  may not meet the specification for conjugated estrogens dissolution.",
          "Reasons for Recall/Does Not Meet Monograph/68671/ Phenylephrine and pseudoephedrine are below monograph specifications, and label inaccurately contains wording \"Rx Only\".",
          "Reasons for Recall/Presence of Particulate Matter/80167/ Potential for particulate matter on the syringe plunger.",
          "Reasons for Recall/Penicillin Cross Contamination/72795/ Potential for products to be crosscontaminated with penicillin.",
          "Reasons for Recall/Tablet Thickness/61871/ Potential for some tablets not conforming to weight specifications (under and over weight)",
          "Reasons for Recall/cGMP Deviations/83457/ Potential glass contamination",
          "Reasons for Recall/Lack of Assurance of Sterility/80307/ Potential leakage of bags.",
          "Reasons for Recall/Lack of Assurance of Sterility/69494/ Potential of punctures through the overwrap and primary container which may result in IV bag leaks.",
          "Reasons for Recall/Presence of Particulate Matter/68969/ Potential presence of glass particulate matter in the vials.",
          "Reasons for Recall/cGMP Deviations/82889/ Potential product contamination with Burkholderia cepacia (B.cepacia) and Ralstonia pickettii (R. pickettii).",
          "Reasons for Recall/Lack of Assurance of Sterility/80633/ Practices at firm may call into question the sterility of products intended to be sterile.",
          "Reasons for Recall/CGMP Deviation/81442/ Presence of NDEA (NNitrosodimethylamine), a carcinogen impurity, detected in the active ingredient.",
          "Reasons for Recall/CGMP Deviation/82147/ Presence of NDEA (NNitrosodimethylamine), a carcinogen impurity, detected in the active ingredient.",
          "Reasons for Recall/CGMP Deviations/84637/ Presence of NDMA impurity detected in product.",
          "Reasons for Recall/CGMP Deviations/84799/ Presence of NDMA impurity detected in product.",
          "Reasons for Recall/CGMP Deviations/86498/ Presence of NDMA impurity detected in product.",
          "Reasons for Recall/Labeling/61960/ Presence of Undeclared Additive Medicated lotion soap produced and distributed by the recalling firm contains the unapproved ingredient, Red Dye #15.  This dye is not approved for use in food, drugs or cosmetics.",
          "Reasons for Recall/Labeling/61683/ Presence of Undeclared Color Additive The product is being recalled because several inactive ingredients were not included in the labeling for this product Undeclared D&C Red #33, FD&C Blue #1, Titanium Dioxide Suspension, Purified Water USP.",
          "Reasons for Recall/Presence of Foreign Substance/84396/ Presence of a foreign object in a single tablet.",
          "Reasons for Recall/Presence of Foreign Substance/71921/ Presence of hair.",
          "Reasons for Recall/Crystallization/84011/ Presence of particulate matter identified as API crystallization",
          "Reasons for Recall/Stability Data Does Not Support Expiry/67688/ Printed expiration date should be Nov 2013 rather than Nov 2014.",
          "Reasons for Recall/Lack of Assurance of Sterility/71591/ Process deficiencies were observed in the sterile ophthalmic and injectable products that could have compromised the sterility of the product.",
          "Reasons for Recall/Lack of assurance of sterility/77314/ Product bags leaking at seam.",
          "Reasons for Recall/Failed Tablet/Capsule Specifications/69724/ Product being recalled due to the potential presence of cracked or broken capsules.",
          "Reasons for Recall/CGMP deviations/84797/ Product bottle may be absent of desiccant.",
          "Reasons for Recall/GMP Deviations/84798/ Product bottle may be absent of desiccant.",
          "Reasons for Recall/GMP Deviations/84990/ Product bottle may be absent of desiccant.",
          "Reasons for Recall/Chemical Contamination/86037/ Product contains methanol.",
          "Reasons for Recall/Crystallization/74399/ Product contains particulate identified to be crystallized active ingredient.",
          "Reasons for Recall/Marketed Without an Approved NDA/ANDA/68122/ Product contains undeclared indomethacin, diclofenac, and chlorzoxazone.",
          "Reasons for Recall/Marketed Without an Approved NDA/ANDA/72614/ Product contains undeclared sibutramine.",
          "Reasons for Recall/Subpotent drug /85773/ Product did not contain drug.",
          "Reasons for Recall/Failed Impurities/Degradation Specifications/69928/ Product failed a known impurity specification.",
          "Reasons for Recall/Subpotent Drug/69248/ Product failed to meet USP Specifications on assay, content uniformity, and dissolution.",
          "Reasons for Recall/Failed Dissolution Specifications/65515/ Product is being recalled due to out of specification dissolution results obtained during routine stability testing.",
          "Reasons for Recall/Lack of Assurance of Sterility/82421/ Product is not terminally sterialized and not tested per USP 71.",
          "Reasons for Recall/Lack of Assurance of Sterility/72746/ Product sterility cannot be guaranteed.",
          "Reasons for Recall/Marketed Without an Approved NDA/ANDA/67471/ Product was found to contain undeclared active pharmaceutical ingredient Phenolphthalein",
          "Reasons for Recall/Marketed Without An Approved NDA/ANDA/70444/ Product was found to contain undeclared phenolphthalein and fluoxetine, making iNSANE an unapproved drug.",
          "Reasons for Recall/Failed Content Uniformity Specifications/80719/ Product was manufactured using an adulterated active pharmaceutical ingredient additionally, lack of process controls and good manufacturing practices resulted in finished product failing content uniformity specifications which can result in a product having a strength that is more or less than is labeled.",
          "Reasons for Recall/Cross Contamination with Other Products/64137/ Product was mixed with another type of mouth wash.",
          "Reasons for Recall/CGMP deviations/80638/ Product was released while a hood certification discrepancy was being investigated.",
          "Reasons for Recall/Chemical Contamination/68967/ Product were manufactured with active pharmaceutical ingredient (API) batches contaminated with residual materials and solvents.",
          "Reasons for Recall/CGMP Deviations/64188/ Products are underdosed or have an incorrect dosage regime.",
          "Reasons for Recall/Marketed without an Approved NDA/ANDA/72522/ Products contain undeclared active pharmaceutical ingredients desmethyl carbondenafil and dapoxetine.",
          "Reasons for Recall/Marketed Without an Approved NDA/ANDA/65774/ Products found to contain undeclared sibutramine, NDesmethylsibutramine, and Ndi  Desmethylsibutramine. Sibutramine was removed from the U.S. market for safety reasons, making these products unapproved new drugs.",
          "Reasons for Recall/Marketed Without An Approved NDA/ANDA/74017/ Products marked as dietary supplements have labeling that bears drug/disease claims, making them unapproved drugs.",
          "Reasons for Recall/Defective Delivery System/78021/ Products no longer meet the release liner removal specification and/or zstatistic.",
          "Reasons for Recall/CGMP Deviations/83437/ Products were manufactured outside of the controls required by current Good Manufacturing Practices.",
          "Reasons for Recall/CGMP Deviations/75650/ Purified water used to manufacture the drug products may have been contaminated with Burkholderia cepacia.",
          "Reasons for Recall/Chemical Contamination/63395/ QS Plus wipes were found to be contaminated with different substance (7820, Graffiti Remover).",
          "Reasons for Recall/Failed Tablet/Capsule Specifications/69237/ Recall due to complaints of split or broken tablets.",
          "Reasons for Recall/CGMP Deviations/74874/ Recall initiated as a precautionary measure due to a potential risk of product contamination with the bacteria B. cepacia.",
          "Reasons for Recall/CGMP Deviation/84696/ Received notice from supplier of potential Nitrosodimethylamine (NDMA) amounts above established levels.",
          "Reasons for Recall/Lack of Assurance of Sterility/80303/ SCA is conducting a voluntary recall of certain lots of sterile admixtures due to a potential for leakage.",
          "Reasons for Recall/Marketed Without An Approved NDA/ANDA/61957/ Samples tested by FDA were found to contain sulfoaildenafil, an analogue of sildenafil, an FDA approved drug used in the treatment of male erectile dysfunction, making these products unapproved new drugs.",
          "Reasons for Recall/Lack of Assurance of Sterility/65318/ Sandoz Inc is recalling Cefazolin for Injection, USP 1 gm vials, lot DB2208, due to a customer complaint for broken/cracked vials which was confirmed through review of retained samples.",
          "Reasons for Recall/Adulterated Presence of Foreign Tablets/Capsules/62439/ Some bottles may contain a small number of Nexium 20 mg capsules intended for the Japanese market in addtion to Nexium 40 mg capsules.",
          "Reasons for Recall/Defective Delivery System/72800/ Some canisters may not contain sufficient propellant to deliver the labeled claim of 200 actuations through the end of shelf life.",
          "Reasons for Recall/Failed Dissolution Specifications/68637/ Stability results found the product did not meet the drug dissolution specifications.",
          "Reasons for Recall/Failed Dissolution Specifications/67784/ Stability results found the product did not meet the drug release dissolution specifications.",
          "Reasons for Recall/CGMP deviations/83018/ Stability testing was not conducted on manufactured sunscreen and hand sanitizer OTC products.",
          "Reasons for Recall/Lack of Assurance of Sterility/65180/ Sterility could not be assured for compounded sterile renal nutritional prescriptions.",
          "Reasons for Recall/Lack of Assurance of Sterility/71415/ Sterility of product is not assured",
          "Reasons for Recall/Lack of Assurance of Sterility/71415/ Sterility of product is not assured.",
          "Reasons for Recall/Defective Container/85538/ Suboptimal crimping in vial of Pediatric Infuvite Multiple Vitamins",
          "Reasons for Recall/Failed Tablet/Capsule Specifications/67664/ Teva Pharmaceuticals USA, is voluntarily recalling certain lots of Duloxetine DR Capsules USP, 20 mg, 30 mg & 60 mg due to a customer complaint trend regarding capsule breakage.",
          "Reasons for Recall/Failed Impurities/Degradation Specifications/76443/ The API for these products had an out of specification result for an organic impurity.",
          "Reasons for Recall/Superpotent Drug/85774/ The active ingredient, avobenzone, is used at 5% which is higher than the allowable 3% in the sunscreen formula per FDA sunscreen regulations.",
          "Reasons for Recall/Subpotent Drug/67420/ The active ingredient, fluocinolone acetonide, was found to be subpotent during the firm's routine testing.",
          "Reasons for Recall/Lack of Assurance of Sterility/72179/ The firm is recalling all sterile preparations that are within expiry due to deficient practices which may have an impact on sterility assurance.",
          "Reasons for Recall/Lack of Assurance of Sterility/76912/ The firm is recalling sterile compounded drugs within expiry due to lack of assurance of sterility.",
          "Reasons for Recall/Subpotent (Single Ingredient Drug)/61518/ The firm is recalling the product because the product is subpotent and does not meet the labeled 0.25% zinc pyrithione level.",
          "Reasons for Recall/Presence of Particulate Matter/71844/ The firm manufactured products using Hospira 0.9% Sodium Chloride, USP injection which were subsequently recalled due to the presence of particulate matter (human hair).",
          "Reasons for Recall/Presence of Particulate Matter/71846/ The firm produced products using 0.9% Sodium Chloride Injection, USP or 5% Dextrose Injection, USP which were subsequently recalled by the manufacturer due to the presence of particulate matter.",
          "Reasons for Recall/Lack of Assurance of Sterility/71892/ The firm received a complaint of a sterility failure using a nonvalidated sterility test on a medication cassette.",
          "Reasons for Recall/Failed Dissolution Specifications/75581/ The firm was notified that there was a dissolution out of specification result on the 6 month stability samples.",
          "Reasons for Recall/Failed Impurities/Degradation Specifications/70041/ The known impurity went out of specification at 12 months stability point.",
          "Reasons for Recall/Good Manufacturing Practices Deviations/67881/ The product has an active pharmaceutical ingredient from an  unapproved source.",
          "Reasons for Recall/Lack of Assurance of Sterility/70174/ The product has the potential for solution to leak at the administrative port.",
          "Reasons for Recall/Failed Content Uniformity Specifications/71418/ The product may not meet the limit for blend uniformity specification.",
          "Reasons for Recall/Presence of Foreign Substance/65490/ The products are being recalled because they may contain foreign substances.",
          "Reasons for Recall/Subpotent Drug/65172/ The products were below specification for potency at the expiry stability point.",
          "Reasons for Recall/Lack of Assurance of Sterility/76472/ There are also CGMP Deviations.",
          "Reasons for Recall/Presence of Foreign Substance(s)/63891/ There is a potential for foreign particulate matter in the API.",
          "Reasons for Recall/Defective Container/65784/ There is a potential for frangible components to be broken, resulting in a leak at the port when the closure is removed.",
          "Reasons for Recall/Marketed Without an Approved NDA/ANDA/67228/ These dietary supplements contain undeclared sildenafil, an analogue of sildenafil, and/or tadalafil.",
          "Reasons for Recall/Marketed without an approved NDA/ANDA  /70317/ These products are being recalled due to the presence of synthetic hormone/prohormone (methylated anabolic steroid) ingredient making them unapproved new drugs.",
          "Reasons for Recall/CGMP Deviations/85341/ These products have been found to be misbranded as  unapproved new drugs",
          "Reasons for Recall/CGMP Deviations/85341/ These products have been found to be misbranded as unapproved new drugs",
          "Reasons for Recall/Defective Container/65780/ This action is being taken as a precautionary measure due to the product being repackaged in the U.S. using a filler material that (removes or blocks) less moisture than what is approved in the application.",
          "Reasons for Recall/Marketed Without An Approved NDA/ANDA/79327/ This product contains undeclared sibutramine. The presence of sibutramine, a previously approved controlled substance that was withdrawn from the U.S. market in October 2010 due to safety concerns, in this tainted product renders it an unapproved drug for which safety and efficacy have not been established and therefore subject to recall.",
          "Reasons for Recall/Presence of Particulate Matter/62627/ This product is being recalled due to the discovery of particles in the stability samples and retain samples.",
          "Reasons for Recall/Failed Dissolution Specifications/66838/ Three lots of product being recalled having failed stability dissolution testing.",
          "Reasons for Recall/Lack of assurance of sterility/79063/ Three lots were released where there was a failure to follow proper testing and investigation procedures. Product may be out of specification (OOS) for endotoxin.",
          "Reasons for Recall/Presence of Foreign Tablets/Capsules/68375/ Tramodol 50 mg tablet has been found in a bottle of Ciprofloxacin 500 mg",
          "Reasons for Recall/Subpotent Drug/65979/ Two lots of Lidocaine 2% with Epinephrine 1100,000 Injectable, distributed under the names Octocaine 100, and 2% Xylocaine Dental, may be subpotent for the epinephrine component.",
          "Reasons for Recall/Marketed Without an Approved NDA/ANDA/81436/ Undeclared Sibutramine",
          "Reasons for Recall/CGMP Deviations/78822/ Various strengths of ibuprofen tablets/caplets are being recalled due to complaints of odor related to CGMP deficiencies.",
          "Reasons for Recall/Lack of Assurance of Sterility/75230/ all compounded products within expiry produced using recalled filters",
          "Reasons for Recall/Lack of Assurance of Sterility/71806/ all sterile human compounded drugs within expiry",
          "Reasons for Recall/Lack of Assurance of Sterility/64879/ all sterile products compounded, repackaged, and distributed by this compounding pharmacy due to lack of sterility assurance and concerns associated with the quality control processes.",
          "Reasons for Recall/Failed Impurity/Degradation Specification/64644/ an impurity identified as NButylBenzene Sulfonamide (NBBS) was detected during impurity testing",
          "Reasons for Recall/CGMP Deviations/83417/ concerns regarding the sufficiency of Quality Assurance controls over critical systems in the manufacturing facility that could impact the product quality of the finished products.",
          "Reasons for Recall/Lack of Assurance of Sterility/79772/ confirmed customer report of a leaking bags and mold found between the outer bag and the overwrap",
          "Reasons for Recall/Presence of Foreign Substance/76543/ consumer complaint for foreign matter embedded in the tablet identified as a broken piece of wire rope from the manufacturing equipment.",
          "Reasons for Recall/Presence of Foriegn Tablets/Capsules/77336/ customer complaint that an 8count professional sample bottle labeled as BRILINTA 90 mg tablets contained 5 ZURAMPIC 200 mg tablets, in addition to the expected 8 BRILINTA tablets.",
          "Reasons for Recall/CGMP Deviations/75566/ deficiencies at the manufacturer  may result in assay or content uniformity failures",
          "Reasons for Recall/CGMP Deviations/86624/ detection of NNitrosodimethylamine (NDMA) impurity above the acceptable intake level (per manufacturer)",
          "Reasons for Recall/cGMP Deviations/62511/ does not meet in process specification requirements",
          "Reasons for Recall/Lack of Assurance of Sterility/86799/ due to concerns with production processes which cannot assure sterility of products intended to be sterile.",
          "Reasons for Recall/CGMP Deviations/85726/ due to the loss of product manufacturing records and retain product samples, there is no assurance that the product will remain within specification through the labeled expiration date.",
          "Reasons for Recall/Failed Impurities/Degradation Specifications/84927/ elevated levels of Benzaldehyde impurity was found in investigative samples (retain samples).",
          "Reasons for Recall/Chemical contamination/64835/ emission of strong odor after package was opened.",
          "Reasons for Recall/Failed Impurities/Degradation Specifications/71656/ failed specification for unknown impurity at the 24 month stability testing.",
          "Reasons for Recall/Presence of Foreign Substance/70849/ fine residue or dust identified as aluminum may be on exterior of the capsule shell",
          "Reasons for Recall/Subpotent Drug/69359/ for the active, HCB, and preservatives, Propylparaben and Butylparaben at the 18 month stability test point",
          "Reasons for Recall/Presence of Particulate Matter/82680/ glass fragment observed in one vial of reconstituted product",
          "Reasons for Recall/Presence of Foreign Substance/67118/ heavy metals (chromium, titanium etc) and inactive components of the product were visually observed during routine stability testing.",
          "Reasons for Recall/Failed Impurities/Degradation Specifications/78415/ high out of specification results for Dexamethasone adduct (related compound).",
          "Reasons for Recall/Failed Dissolution Specifications/82021/ high out of specification results for dissolution when measuring the amount of drug released at certain time points.",
          "Reasons for Recall/Failed Impurities/Degradation Specifications/76982/ high out of specification results for one of the known degradation products, mchlorobenzoic acid.",
          "Reasons for Recall/CGMP Deviations/83151/ impurity for NNitrosoNmethyl4aminobutyric acid (NMBA) detected in the active pharmaceutical ingredient (API) used to manufacture finished products.",
          "Reasons for Recall/Lack of Assurance of Sterility/73537/ incomplete or missing data regarding production.",
          "Reasons for Recall/Labeling/71220/ incorrect or missing lot number and/or expiration date",
          "Reasons for Recall/Lack of assurance of sterility/66104/ ineffective crimp on fliptop vials that may result in leaking at the neck of the vials.",
          "Reasons for Recall/CGMP Deviations/67811/ laboratory testing was not followed in accordance with GMP requirements.",
          "Reasons for Recall/cGMP Deviations/76890/ lack of quality assurance.",
          "Reasons for Recall/CGMP Deviations/79036/ lot made with active pharmaceutical ingredient that did not meet all its intended specifications.",
          "Reasons for Recall/Stability Data Does Not Support Expiry/77503/ lots do not have stability that supports the use of the container system.",
          "Reasons for Recall/Failed dissolution specifications /76539/ low dissolution  results at S3 stage.",
          "Reasons for Recall/Subpotent Drug/80750/ low out of specification assay results for the bacitracin zinc ingredient.",
          "Reasons for Recall/Failed Dissolution Specifications/76513/ low out of specification dissolution results found during stability testing.",
          "Reasons for Recall/CGMP Deviations/86343/ manufactured under the same conditions as those found to be subpotent.",
          "Reasons for Recall/Failed Dissolution Specifications/80791/ manufacturer WestWard Pharm Corp. recalled these repackaged lots due to failed dissolution results.",
          "Reasons for Recall/cGMP deviation/74361/ manufacturer is Not Registered with the Food and Drug Administration",
          "Reasons for Recall/Presence of Particulate matter/84263/ manufacturer recalled fentanyl API due to potential for glass particules",
          "Reasons for Recall/Lack of Assurance of Sterility/87298/ manufacturing areas for the recalled products exceeded acceptance levels for microbial recovery leading to a lack of sterility assurance for these sterile injectable products.",
          "Reasons for Recall/Lack of Assurance of Sterility/77634/ media fill failure at manufacturer",
          "Reasons for Recall/Cross contamination with other products/73434/ metronidazole",
          "Reasons for Recall/Incorrect/Undeclared Excipient/77647/ nonpharmaceutical grade PEG 40 Castor Oil was used due to a mislabeling by the supplier",
          "Reasons for Recall/Lack of Assurance of Sterility/71275/ objectionable conditions observed during a FDA inspection",
          "Reasons for Recall/Failed Tablet/Capsule Specifications/70740/ out of specification for thickness.",
          "Reasons for Recall/Failed Stability Specification/71310/ out of specification result obtained for the Particle Size Distribution test during stability testing.",
          "Reasons for Recall/Failed Impurities/Degradation Specifications/67971/ out of specification results for impurities/degradation testing for NOxide",
          "Reasons for Recall/Defective Delivery System/80997/ out of specification results for shear, an attribute related to the adhesive properties of the transdermal patches.",
          "Reasons for Recall/Failed Dissolution Specifications/77353/ out of specification results observed for low dissolution.",
          "Reasons for Recall/Failed Stability Specifications/75628/ outof specification value for homogeneity / phase separation.",
          "Reasons for Recall/Presence of Particulate Matter/68728/ particulate matter identified as fibers and/or plastics",
          "Reasons for Recall/Presence of Particulate Matter/72072/ particulate matter identified as iron oxide, was found embedded in the neck of glass vials.",
          "Reasons for Recall/GMP Deviations/82863/ possible cross contamination of product due to cleaning procedure failure.",
          "Reasons for Recall/Lack of Assurance of Sterility/86990/ potential for a defective syringe cap, resulting in a nonintegral unit",
          "Reasons for Recall/GMP Deviations/84000/ potential glass contamination",
          "Reasons for Recall/Stability Data Does Not Support Expiry/73925/ potential loss of potency in drugs packaged and stored in syringes.",
          "Reasons for Recall/Penicillin Cross Contamination/71494/ potentially contaminated with penicillin",
          "Reasons for Recall/Marketed without an approved NDA/ANDA/75537/ presence of undeclared sibutramine, desmethylsibutramine (an active metabolite of sibutramine) and phenolphthalein.",
          "Reasons for Recall/Marketed without an approved NDA/ANDA /73973/ presence of undeclared sildenafil.",
          "Reasons for Recall/Cross Contamination With Other Products/79788/ presence of unrelated ingredients (i.e. traces of Lisinopril, Mannitol, Iron, Calcium and Phosphorous).",
          "Reasons for Recall/Subpotency/74319/ product assayed and found OOS for cyproheptadine",
          "Reasons for Recall/Incorrect Product Formulation/78051/ product contains dexamethasone instead of hydrocortisone.",
          "Reasons for Recall/Chemical contamination/85854/ product contains elevated levels of undeclared lead.",
          "Reasons for Recall/Incorrect/Undeclared Excipient/75552/ product description section of testosterone cypionate incorrectly states \"in grapeseed oil\" instead of \"in sesame oil\" . The primary panel is correct",
          "Reasons for Recall/cGMP Deviations/73574/ product does not comply with cGMP requirements",
          "Reasons for Recall/Marketed Without an Approved NDA/ANDA/66469/ product found to contain undeclared sibutramine",
          "Reasons for Recall/Lack of Assurance of Sterility/77770/ product has the potential to leak.",
          "Reasons for Recall/Marketed Without An Approved NDA/ANDA/73571/ product is an unapproved drug and additionally 3 lots were found to be subpotent.",
          "Reasons for Recall/Lack of Assurance of Sterility/65253/ product linked to adverse event reports of endophthalimitis eye infections and FDA inspection findings resulted in concerns regarding quality control processes",
          "Reasons for Recall/Lack of Assurance of Sterility/75695/ product produced on a day there was an excursion in environmental monitoring data.",
          "Reasons for Recall/Lack of Assurance of Sterility/83427/ product sterility cannot be guaranteed.",
          "Reasons for Recall/Subpotent Drug/77840/ products are labeled as having SPF 10 protection however, this claim cannot be 100% guaranteed.",
          "Reasons for Recall/CGMP Deviations/81218/ products manufactured by contract manufacturer under conditions that could result in possible microbial contamination.",
          "Reasons for Recall/Lack of Assurance of Sterility/84055/ products manufactured in a manner than cannot guarantee its sterility.",
          "Reasons for Recall/CGMP Deviations/78595/ products manufactured in a manner that may impact product quality that includes but is not limited to failed viscosity.",
          "Reasons for Recall/CGMP Deviations/80750/ products manufactured under conditions that could impact its product quality.",
          "Reasons for Recall/Defective Container/84860/ products potentially could have been packaged in defective bottles, with a notched rim, that could cause inadequate foil sealing resulting in lack of moisture protection.",
          "Reasons for Recall/CGMP Deviations/83190/ products were manufactured with lack of process validation, cleaning validation, stability studies, and other current good manufacturing practice violations.",
          "Reasons for Recall/Presence of Foreign Substance/65642/ raw material recalled due to stainless steel and other contamination.",
          "Reasons for Recall/Lack of Assurance of Sterility and Stability Data does not Support Expiry/70656/ recent inspection observations associated with certain quality control procedures that present a risk to sterility and quality assurance.",
          "Reasons for Recall/CGMP deviations/86533/ repackaged product was recalled by the manufacturer because it was manufactured under the same conditions as products found to be subpotent.",
          "Reasons for Recall/Failed Tablet/Capsule Specification/64358/ tablet breakage while pushing through the blister pack (dispenser) .",
          "Reasons for Recall/Marketed Without An Approved NDA/ANDA/73016/ tainted product marketed as a dietary supplement. Product found to be tainted with sildenafil, an FDA approved drug for the treatment of male erectile dysfunction, making this an unapproved drug.",
          "Reasons for Recall/Defective Delivery System/85848/ the dosing cups are missing graduations applicable to certain age groups.",
          "Reasons for Recall/Lack of Assurance of Sterility /75745/ the firm is recalling select sterile drug products.",
          "Reasons for Recall/CGMP Deviations/77398/ these repackaged and redistributed products are being recalled due to a recall notice from the active pharmaceutical ingredient manufacturer for deviations from current Good Manufacturing Practices that were found during a recent FDA inspection.",
          "Reasons for Recall/Presence of particulate matter /76395/ this recall is due to a recent Hospira recall of vancomyicn hydrochloride 10gm vials due to presence of particulate matter.",
          "Reasons for Recall/Temperature Abuse/68793/ various products were not stored at Controlled Room Temperature as per USP guidelines during shipping",
          "Reasons for Recall/Temperature Abuse/68793/ various products were not stored at Controlled Room Temperature as per USP guidelines during shipping.",
          "Reasons for Recall/Presence of Precipitate/64298/ white substance confirmed as Guaifenesin, an active ingredient was observed in some bottles.  If the product is shaken or warmed the white particles goes into the solution.",
          "Reasons for Recall/Lack of Assurance of Sterility/64957/All sterile products compounded, repackaged, and distributed by this  compounding pharmacy due to lack of sterility assurance and concerns associated with the quality control processes.",
          "Reasons for Recall/Labeling/65707/Label Mixup ASCORBIC ACID Tablet, 500 mg may be potentially mislabeled as    FEBUXOSTAT, Tablet, 40 mg, NDC 64764091830, Pedigree AD23082_16, EXP 11/1/2013.",
          "Reasons for Recall/Labeling/65707/Label Mixup CALCITRIOL, Capsule, 0.5 mcg may be potentially mislabeled as  NIACIN TR, Tablet, 250 mg, NDC 10939043533, Pedigree W003756, EXP 5/31/2014  ISONIAZID, Tablet, 300 mg, NDC 00555007102, Pedigree AD32757_28, EXP 5/13/2014.",
          "Reasons for Recall/Labeling/65707/Label Mixup FLECAINIDE ACETATE Tablet, 50 mg may be potentially mislabeled as    VITAMIN B COMPLEX W/C, Tablet, NDC 00904026013, Pedigree AD46419_7, EXP 5/16/2014.",
          "Reasons for Recall/Labeling/65707/Label Mixup LURASIDONE HCl Tablet, 120 mg may be potentially mislabeled as    DULoxetine HCl DR, Capsule, 20 mg, NDC 00002323560, Pedigree W003486, EXP 6/20/2014.",
          "Reasons for Recall/Labeling/65707/Label Mixup MIRTAZAPINE Tablet, 7.5 mg may be potentially mislabeled as    BROMOCRIPTINE MESYLATE, Tablet, 2.5 mg, NDC 00574010603, Pedigree AD73525_40, EXP 5/30/2014  DULoxetine HCl DR, Capsule, 20 mg, NDC 00002323560, Pedigree W003005, EXP 6/11/2014  carBAMazepine ER, Tablet, 100 mg, NDC 00078051005, Pedigree W003330, EXP 6/18/2014.",
          "Reasons for Recall/Labeling/65707/Label Mixup MULTIVITAMIN/MULTIMINERAL W/FLUORIDE, Chew Tablet, 1 mg (F) may be potentially mislabeled as    ISOMETHEPTENE MUCATE/ DICHLORALPHENAZONE/APAP, Capsule, 65 mg/100 mg/325 mg, NDC 44183044001, Pedigree AD22858_1, EXP 3/31/2014.",
          "Reasons for Recall/Labeling/65707/Label Mixup QUEtiapine FUMARATE, Tablet, 25 mg may be potentially mislabeled as    MULTIVITAMIN/MULTIMINERAL, Chew Tablet, NDC 58914001460, Pedigree AD32325_1, EXP 5/9/2014  ASPIRIN DR EC, Tablet, 81 mg, NDC 00182106105, Pedigree W003094, EXP 6/13/2014.",
          "Reasons for Recall/Labeling/65707/Label Mixup RANOLAZINE ER Tablet, 500 mg may be potentially mislabeled as    MELATONIN, Tablet, 3 mg, NDC 51991001406, Pedigree AD25452_16, EXP 5/3/2014  DULoxetine HCl DR, Capsule, 20 mg, NDC 00002323560, Pedigree AD70585_16, EXP 5/29/2014  OMEGA3 FATTY ACID, Capsule, 1000 mg, NDC 00904404360, Pedigree W002852, EXP 6/7/2014  VALSARTAN, Tablet, 80 mg, NDC 00078035834, Pedigree",
          "Reasons for Recall/Labeling/65707/Label Mixup guaiFENesin ER, Tablet, 600 mg may be potentially mislabeled as    MISOPROSTOL, Tablet, 200 mcg, NDC 59762500801, Pedigree AD21965_13, EXP 5/1/2014  TACROLIMUS, Capsule, 1 mg, NDC 00781210301, Pedigree AD56917_7, EXP 5/21/2014  LACTOBACILLUS GG, Capsule, NDC 49100036374, Pedigree AD73627_17, EXP 5/30/2014  LACTOBACILLUS GG, Capsule, NDC 49100036374, Pedigree W003216",
          "Reasons for Recall/Labeling/65707/Label Mixup tiZANidine HCl Tablet, 2 mg may be potentially mislabeled as    RIBAVIRIN, Capsule, 200 mg, NDC 68382026007, Pedigree AD21790_37, EXP 4/30/2014  CYANOCOBALAMIN, Tablet, 1000 mcg, NDC 00904421713, Pedigree AD46257_59, EXP 5/15/2014  NIACIN, Tablet, 100 mg, NDC 00904227160, Pedigree W002661, EXP 6/5/2014  PANTOPRAZOLE SODIUM DR, Tablet, 20 mg, NDC 00008060601, Pedigree",
          "Reasons for Recall/Subpotent Drug/81775/Out of specification for percentage of active pharmaceutical ingredients.",
          "Reasons for Recall/Failed Impurities/Degradation Specifications/74068/Out of specification result for a known impurity obtained during testing.",
          "Reasons for Recall/Failed Impurities/Degradation Specifications/77915/Out of specification results for individual unknown impurities at 30th month Room Temperature Retained Sample stabilities test .",
          "Reasons for Recall/Failed Impurities/Degradation/65181/SpecificationsUnknown degradant found during stability testing.",
          "Reasons for Recall/Microbial Contamination of Non/86767/Sterile Drug Product. The product was found to be contaminated with the bacteria Burkholderia cepecia.",
          "Reasons for Recall/Microbal Contamination of Non/80343/Sterile Product FDA analysis found  salmonella contamination",
          "Reasons for Recall/Microbial Contamination of Non/74792/Sterile Products  microbial contamination with B. cepacia",
          "Reasons for Recall/Microbial Contamination of Non/67303/Sterile Products Outofspecification results for microbial count were observed at the initial stability interval for Lansoprazole Delayed Release Capsules.",
          "Reasons for Recall/Microbial Contamination of a Non/65951/Sterile Products Product was found to be contaminated with the bacteria, Sarcina Lutea.",
          "Reasons for Recall/Microbial Contamination of Non/80365/Sterile Products The firm is initiating a recall of some of its products due to the potential of high microbial loads.",
          "Reasons for Recall/Non/79114/Sterility Confirmed customer complaints of glass product container vials that may be empty or cracked.",
          "Reasons for Recall/Non/63953/Sterility Green Valley Drugs received positive sterility results from their testing lab on two lots of Methylprednisolone Preservative Free 40 mg/mL injectable suspension and  one lot of Cyanocobalamin 1000 mcg/mL injection, 30 mL MDV.",
          "Reasons for Recall/Non/70148/Sterility Out of specification results for the sterility test for microbial contamination.",
          "Reasons for Recall/Non/85903/Sterility Product is being recalled due to presence of Aspergillus Penicilloides",
          "Reasons for Recall/Non/68345/Sterility contract laboratory identified Staphylococcus warneri in the product",
          "Reasons for Recall/Non/73626/Sterility fungal contamination due to leaking containers.",
          "Reasons for Recall/Non/64018/Sterility one or more components of the kit have been found to be contaminated with yeast.",
          "Reasons for Recall/Presence of Foriegn Substance/65601/The manufacturer, Westward Pharmaceutical, recalled product because of the presence of black spots on tablets. In response, the repackager initiated its own recall.",
          "Reasons for Recall/Lack of Assurance of Sterility/66297/The product lots are being recalled due to laboratory results (from a contract lab) indicating microbial contamination. The FDA was concerned test results obtained from the recalling firm's contract testing lab may not be reliable. Hence the sterility of the products cannot be assured.",
          "Reasons for Recall/Subpotent Drug/78575/The titratable iodine contained in the PovidoneIodine prep pads  is below label claim of 0.85%.",
          "Reasons for Recall/The firm received seven reports of adverse reactions in the form of skin abscesses potentially linked to compounded preservative/65479/free methylprednisolone 80mg/ml 10 ml vials.",
          "Reasons for Recall/Failed Impurities/Degradation Specifications/80767/outofspecification (OOS) results for Azelastine Noxide",
          "Reasons for Recall/Sub/86243/potent Drug OutofSpecification assay results found at 3 month stability testing.",
          "Reasons for Recall/Microbial Contamination of Non/86656/sterile Products contamination with Burkholderia lata.",
          "Reasons for Recall/Microbial contamination of non/84179/sterile product.",
          "Reasons for Recall/Subpotent (Single Ingredient Drug)/61518",
          "Reasons for Recall/Labeling/61683",
          "Reasons for Recall/Tablet Thickness/61871",
          "Reasons for Recall/Miscalibrated and/or Defective Delivery System/61891",
          "Reasons for Recall/Lack of Assurance of Sterility/61918",
          "Reasons for Recall/Impurities/Degradation Products/61947",
          "Reasons for Recall/Labeling/61948",
          "Reasons for Recall/Marketed Without An Approved NDA/ANDA/61957",
          "Reasons for Recall/Labeling/61960",
          "Reasons for Recall/Lack of Assurance of Sterility/62416",
          "Reasons for Recall/Adulterated Presence of Foreign Tablets/Capsules/62439",
          "Reasons for Recall/Lack of Assurance of Sterility/62443",
          "Reasons for Recall/The affected lots of Carboplatin Injection, Cytarabine  Injection, Methotrexate Injection, USP, and Paclitaxel Injection are being recalled due to visible particles embedded in the glass located at the neck of the vial. There may be the potential for product to come into contact with the embedded particles and the particles may become dislodged into the solution./62459",
          "Reasons for Recall/cGMP Deviations/62511",
          "Reasons for Recall/Presence of Particulate Matter/62627",
          "Reasons for Recall/Impurities/Degradation Products/62911",
          "Reasons for Recall/Chemical Contamination/63395",
          "Reasons for Recall/Lack of Assurance of Sterility/63511",
          "Reasons for Recall/Labeling/63821",
          "Reasons for Recall/Subpotent/63846",
          "Reasons for Recall/Presence of Foreign Substance(s)/63891",
          "Reasons for Recall/Superpotent (Multiple Ingredient) Drug/63899",
          "Reasons for Recall/Failed Dissolution Test Requirements/63908",
          "Reasons for Recall/Non/63953",
          "Reasons for Recall/Non/64018",
          "Reasons for Recall/Failed Dissolution Specification/64056",
          "Reasons for Recall/Labeling/64104",
          "Reasons for Recall/Cross Contamination with Other Products/64137",
          "Reasons for Recall/CGMP Deviations/64188",
          "Reasons for Recall/Presence of Precipitate/64298",
          "Reasons for Recall/Failed Tablet/Capsule Specification/64358",
          "Reasons for Recall/Labeling/64372",
          "Reasons for Recall/Failed Impurity/Degradation Specification/64644",
          "Reasons for Recall/Lack of Assurance of Sterility/64661",
          "Reasons for Recall/Defective Delivery System/64710",
          "Reasons for Recall/Lack of Assurance of Sterility/64716",
          "Reasons for Recall/Chemical contamination/64835",
          "Reasons for Recall/Lack of Assurance of Sterility/64879",
          "Reasons for Recall/Lack of Assurance of Sterility/64957",
          "Reasons for Recall/Labeling/65008",
          "Reasons for Recall/Lack of Assurance of Sterility/65019",
          "Reasons for Recall/Subpotent/65047",
          "Reasons for Recall/Marketed without an Approved NDA/ANDA/65095",
          "Reasons for Recall/Lack of Assurance of Sterility/65125",
          "Reasons for Recall/cGMP deviations/65154",
          "Reasons for Recall/Subpotent Drug/65172",
          "Reasons for Recall/Lack of Assurance of Sterility/65180",
          "Reasons for Recall/Failed Impurities/Degradation/65181",
          "Reasons for Recall/Lack of Assurance of Sterility/65253",
          "Reasons for Recall/Lack of Assurance of Sterility/65318",
          "Reasons for Recall/Lack of Assurance of Sterility/65360",
          "Reasons for Recall/Failed Dissolution Specifications/65393",
          "Reasons for Recall/Marketed Without An Approved NDA/ANDA/65441",
          "Reasons for Recall/The firm received seven reports of adverse reactions in the form of skin abscesses potentially linked to compounded preservative/65479",
          "Reasons for Recall/Presence of Foreign Substance/65490",
          "Reasons for Recall/Failed Dissolution Specifications/65515",
          "Reasons for Recall/Presence of Foriegn Substance/65601",
          "Reasons for Recall/Presence of Foreign Substance/65642",
          "Reasons for Recall/Labeling/65690",
          "Reasons for Recall/Labeling/65707",
          "Reasons for Recall/Marketed Without an Approved NDA/ANDA/65774",
          "Reasons for Recall/Defective Container/65780",
          "Reasons for Recall/Defective Container/65784",
          "Reasons for Recall/Labeling/65840",
          "Reasons for Recall/Lack of Assurance of Sterility/65876",
          "Reasons for Recall/Marketed Without An Approved NDA/ANDA/65894",
          "Reasons for Recall/Microbial Contamination of a Non/65951",
          "Reasons for Recall/Subpotent Drug/65979",
          "Reasons for Recall/Lack of Assurance of Sterility/66083",
          "Reasons for Recall/Lack of assurance of sterility/66104",
          "Reasons for Recall/Labeling/66233",
          "Reasons for Recall/Lack of Assurance of Sterility/66297",
          "Reasons for Recall/Failed Tablet/Capsule Specifications/66360",
          "Reasons for Recall/Subpotent/66402",
          "Reasons for Recall/Marketed Without an Approved NDA/ANDA/66469",
          "Reasons for Recall/Lack of Assurance of Sterility/66566",
          "Reasons for Recall/Lack of Assurance of Sterility/66568",
          "Reasons for Recall/Failed Dissolution Specifications/66838",
          "Reasons for Recall/Lack of Sterility Assurance/66856",
          "Reasons for Recall/Presence of Particulate Matter/66913",
          "Reasons for Recall/Subpotent Drug/67053",
          "Reasons for Recall/Presence of Paticulate Matter/67092",
          "Reasons for Recall/Presence of Foreign Substance/67118",
          "Reasons for Recall/Marketed Without an Approved NDA/ANDA/67228",
          "Reasons for Recall/Marketed without an Approved NDA/ANDA/67247",
          "Reasons for Recall/Microbial Contamination of Non/67303",
          "Reasons for Recall/Subpotent Drug/67420",
          "Reasons for Recall/Marketed Without an Approved NDA/ANDA/67471",
          "Reasons for Recall/Failed Tablet/Capsule Specifications/67664",
          "Reasons for Recall/Stability Data Does Not Support Expiry/67688",
          "Reasons for Recall/Presence of Particulate Matter/67690",
          "Reasons for Recall/Defective Delivery System/67718",
          "Reasons for Recall/Penicillin Cross Contamination/67723",
          "Reasons for Recall/Failed Dissolution Specifications/67784",
          "Reasons for Recall/CGMP Deviations/67811",
          "Reasons for Recall/First Aid Only, Inc is recalling Smart Tab First Aid ezRefill System Ibuprofen boxes  and First Aid Cabinets containing these Ibuprofen boxes.  Ibuprofen boxes (FAE 7014) were accidentally used to package  aspirin packs  (10 packs of 2 / 235mg tablets)./67846",
          "Reasons for Recall/Marketed Without an Approved NDA/ANDA/67860",
          "Reasons for Recall/Good Manufacturing Practices Deviations/67881",
          "Reasons for Recall/Lack of Assurance of Sterility/67904",
          "Reasons for Recall/Failed Impurities/Degradation Specifications/67971",
          "Reasons for Recall/Presence of Particulate Matter/68048",
          "Reasons for Recall/Failed Stability Specifications/68098",
          "Reasons for Recall/Marketed Without an Approved NDA/ANDA/68122",
          "Reasons for Recall/Marketed Without An Approved NDA/ANDA/68158",
          "Reasons for Recall/Non/68345",
          "Reasons for Recall/Presence of Foreign Tablets/Capsules/68375",
          "Reasons for Recall/Lack of Assurance of Sterility/68557",
          "Reasons for Recall/Labeling/68572",
          "Reasons for Recall/Presence of Particulate Matter/68579",
          "Reasons for Recall/Marketed without an Approved NDA/ANDA/68626",
          "Reasons for Recall/Failed Dissolution Specifications/68637",
          "Reasons for Recall/Does Not Meet Monograph/68671",
          "Reasons for Recall/Presence of Particulate Matter/68728",
          "Reasons for Recall/Failed Impurities/Degradation Specifications/68787",
          "Reasons for Recall/Temperature Abuse/68793",
          "Reasons for Recall/Subpotent Drug/68812",
          "Reasons for Recall/Failed Stability Specifications/68879",
          "Reasons for Recall/Chemical Contamination/68967",
          "Reasons for Recall/Presence of Particulate Matter/68969",
          "Reasons for Recall/Lack of Assurance of Sterility/69056",
          "Reasons for Recall/Failed Content Uniformity Specifications./69075",
          "Reasons for Recall/Labeling/69135",
          "Reasons for Recall/Lack of Assurance of Sterility/69152",
          "Reasons for Recall/Failed Tablet/Capsule Specifications/69157",
          "Reasons for Recall/Subpotent/69233",
          "Reasons for Recall/Failed Tablet/Capsule Specifications/69237",
          "Reasons for Recall/Subpotent Drug/69248",
          "Reasons for Recall/Temperature Abuse/69346",
          "Reasons for Recall/Subpotent Drug/69359",
          "Reasons for Recall/Labeling/69445",
          "Reasons for Recall/Lack of Assurance of Sterility/69494",
          "Reasons for Recall/Lack of Sterility Assurance/69519",
          "Reasons for Recall/Failed Impurities/Degradation Specifications /69547",
          "Reasons for Recall/Subpotent Drug/69553",
          "Reasons for Recall/Presence of particulate matter/69567",
          "Reasons for Recall/Lack of Assurance of Sterility/69633",
          "Reasons for Recall/Failed Tablet/Capsule Specifications/69724",
          "Reasons for Recall/Failed Impurities/Degradation Specifications/69928",
          "Reasons for Recall/Labeling/69942",
          "Reasons for Recall/Failed Capsule/Tablet Specifications/70001",
          "Reasons for Recall/Failed Impurities/Degradation Specifications/70041",
          "Reasons for Recall/Lack of sterility assurance./70118",
          "Reasons for Recall/Non/70148",
          "Reasons for Recall/Lack of Assurance of Sterility/70174",
          "Reasons for Recall/Marketed without an approved NDA/ANDA  /70317",
          "Reasons for Recall/Marketed Without An Approved NDA/ANDA/70444",
          "Reasons for Recall/Penicillin Cross Contamination/70452",
          "Reasons for Recall/Stability Data Does Not Support Expiry/70452",
          "Reasons for Recall/Subpotent Drug/70555",
          "Reasons for Recall/Lack of Assurance of Sterility and Stability Data does not Support Expiry/70656",
          "Reasons for Recall/Failed Tablet/Capsule Specifications/70740",
          "Reasons for Recall/Failed Dissolution Specifications/70743",
          "Reasons for Recall/Lack of assurance of sterility/70807",
          "Reasons for Recall/Presence of Foreign Substance/70849",
          "Reasons for Recall/Presence of Particulate Matter/70936",
          "Reasons for Recall/Presence of Particulate Matter/71004",
          "Reasons for Recall/Subpotent drug/71046",
          "Reasons for Recall/Penicillin Cross Contamination/71078",
          "Reasons for Recall/CGMP Deviations/71104",
          "Reasons for Recall/Lack of Assurance of Sterility/71205",
          "Reasons for Recall/Failed dissolution specifications/71219",
          "Reasons for Recall/Labeling/71220",
          "Reasons for Recall/Lack of Assurance of Sterility/71275",
          "Reasons for Recall/Failed Stability Specification/71310",
          "Reasons for Recall/Lack of Assurance of Sterility/71371",
          "Reasons for Recall/Subpotent drug/71375",
          "Reasons for Recall/Lack of Assurance of Sterility/71415",
          "Reasons for Recall/Failed Content Uniformity Specifications/71418",
          "Reasons for Recall/Penicillin Cross Contamination/71494",
          "Reasons for Recall/Recalled products were made using an active ingredient that was recalled by a supplier due to penicillin cross contamination./71535",
          "Reasons for Recall/Lack of Assurance of Sterility/71591",
          "Reasons for Recall/Failed Content Uniformity Specifications/71598",
          "Reasons for Recall/Lack of Assurance of Sterility/71618",
          "Reasons for Recall/Failed Impurities/Degradation Specifications/71656",
          "Reasons for Recall/Subpotent drug/71765",
          "Reasons for Recall/Lack of Assurance of Sterility/71806",
          "Reasons for Recall/Presence of Particulate Matter/71844",
          "Reasons for Recall/Presence of Particulate Matter/71846",
          "Reasons for Recall/Lack of Assurance of Sterility/71892",
          "Reasons for Recall/Penicillin Cross Contamination and Presence of Foreign Substance.  Product was contaminated with penicillin and foreign substances during manufacturing process./71920",
          "Reasons for Recall/Presence of Foreign Substance/71921",
          "Reasons for Recall/Superpotent Drug/71973",
          "Reasons for Recall/Marketed Without an Approved NDA/ANDA/71989",
          "Reasons for Recall/Presence of Particulate Matter/72072",
          "Reasons for Recall/Stability data does not support expiry./72177",
          "Reasons for Recall/Lack of Assurance of Sterility/72179",
          "Reasons for Recall/Lack of Assurance of Sterility/72241",
          "Reasons for Recall/Lack of Assurance of Sterility/72361",
          "Reasons for Recall/Lack of Assurance of Sterility/72455",
          "Reasons for Recall/Failed Impurities/Degradation Specifications/72476",
          "Reasons for Recall/Failed Stability Specifications/72493",
          "Reasons for Recall/Lack of Assurance of Sterility/72520",
          "Reasons for Recall/Marketed without an Approved NDA/ANDA/72522",
          "Reasons for Recall/Lack of Assurance of Sterility/72594",
          "Reasons for Recall/Marketed Without an Approved NDA/ANDA/72614",
          "Reasons for Recall/Failed Tablet/Capsule Specifications/72648",
          "Reasons for Recall/Labeling/72699",
          "Reasons for Recall/Failed Impurities/Degradation Specifications/72733",
          "Reasons for Recall/Lack of Assurance of Sterility/72746",
          "Reasons for Recall/Penicillin Cross Contamination/72795",
          "Reasons for Recall/Defective Delivery System/72800",
          "Reasons for Recall/Defective Container/72947",
          "Reasons for Recall/Marketed Without An Approved NDA/ANDA/73016",
          "Reasons for Recall/Marketed Without An Approved NDA/ANDA/73018",
          "Reasons for Recall/Labeling/73032",
          "Reasons for Recall/Lack of Assurance of Sterility/73090",
          "Reasons for Recall/Failed Impurities/Degradation Specifications/73152",
          "Reasons for Recall/Lack of Assurance of Sterility/73304",
          "Reasons for Recall/Lack of Assurance of Sterility/73336",
          "Reasons for Recall/Cross contamination with other products/73434",
          "Reasons for Recall/Lack of Assurance of Sterility/73537",
          "Reasons for Recall/Superpotent Drug/73569",
          "Reasons for Recall/Marketed Without An Approved NDA/ANDA/73571",
          "Reasons for Recall/cGMP Deviations/73574",
          "Reasons for Recall/Non/73626",
          "Reasons for Recall/Presence of Particulate Matter/73653",
          "Reasons for Recall/Labeling/73662",
          "Reasons for Recall/Lack of Processing Controls/73662",
          "Reasons for Recall/Failed Impurities/Degradation Specifications/73679",
          "Reasons for Recall/Failed Impuities/Degradation Specifications/73811",
          "Reasons for Recall/Lack of Sterility Assurance/73899",
          "Reasons for Recall/Lack of Sterility Assurance./73899",
          "Reasons for Recall/Stability Data Does Not Support Expiry/73925",
          "Reasons for Recall/Lack of Assurance of Sterility/73960",
          "Reasons for Recall/Marketed without an approved NDA/ANDA /73973",
          "Reasons for Recall/Marketed Without An Approved NDA/ANDA/74017",
          "Reasons for Recall/Presence of Particulate Matter/74057",
          "Reasons for Recall/Failed Impurities/Degradation Specifications/74068",
          "Reasons for Recall/Lack of Assurance of Sterility/74187",
          "Reasons for Recall/Subpotency/74319",
          "Reasons for Recall/cGMP deviation/74361",
          "Reasons for Recall/Crystallization/74399",
          "Reasons for Recall/Lack of Assurance of Sterility/74466",
          "Reasons for Recall/CGMP Deviations/74497",
          "Reasons for Recall/Lack of Assurance of Sterility/74539",
          "Reasons for Recall/Lack of assurance of sterility/74606",
          "Reasons for Recall/Failed Impurities/Degradation Specifications/74694",
          "Reasons for Recall/Microbial Contamination of Non/74792",
          "Reasons for Recall/Failed Dissolution Specifications/74847",
          "Reasons for Recall/CGMP Deviations/74874",
          "Reasons for Recall/Presence of Foreign Tablets/Capsules/74949",
          "Reasons for Recall/Lack of assurance of sterility/75092",
          "Reasons for Recall/Lack of Assurance of Sterility/75164",
          "Reasons for Recall/Lack of Assurance of Sterility/75230",
          "Reasons for Recall/Superpotent and Subpotent drugs/75247",
          "Reasons for Recall/Lack of Assurance of Sterility/75289",
          "Reasons for Recall/Marketed without an approved NDA/ANDA/75537",
          "Reasons for Recall/Incorrect/Undeclared Excipient/75552",
          "Reasons for Recall/CGMP Deviations/75566",
          "Reasons for Recall/Failed Dissolution Specifications/75581",
          "Reasons for Recall/Failed Stability Specifications/75628",
          "Reasons for Recall/CGMP Deviations/75650",
          "Reasons for Recall/Lack of Assurance of Sterility/75695",
          "Reasons for Recall/Lack of Assurance of Sterility /75745",
          "Reasons for Recall/CGMP Deviations/75757",
          "Reasons for Recall/Lack of Assurance of Sterility/75763",
          "Reasons for Recall/Failed Dissolution Specifications/75764",
          "Reasons for Recall/Presence of Foreign Tablets/Capsules/75880",
          "Reasons for Recall/cGMP Deviations/76103",
          "Reasons for Recall/Presence of particulate matter /76395",
          "Reasons for Recall/Failed Impurities/Degradation Specifications/76443",
          "Reasons for Recall/Lack of Assurance of Sterility/76472",
          "Reasons for Recall/Failed Dissolution Specifications/76513",
          "Reasons for Recall/Failed dissolution specifications /76539",
          "Reasons for Recall/Presence of Foreign Substance/76543",
          "Reasons for Recall/Labeling/76561",
          "Reasons for Recall/Marked Without An Approved NDA/ANDA/76644",
          "Reasons for Recall/Failed Dissolution Specifications/76663",
          "Reasons for Recall/Superpotent Drug/76726",
          "Reasons for Recall/Discoloration./76743",
          "Reasons for Recall/cGMP Deviations/76890",
          "Reasons for Recall/Lack of Assurance of Sterility/76912",
          "Reasons for Recall/Failed Impurities/Degradation Specifications/76982",
          "Reasons for Recall/Lack of Assurance of Sterility/77161",
          "Reasons for Recall/Labeling/77191",
          "Reasons for Recall/Failed Stability Specifications/77311",
          "Reasons for Recall/Lack of assurance of sterility/77314",
          "Reasons for Recall/Labeling/77315",
          "Reasons for Recall/Contraceptive Tablets Out of Sequence/77323",
          "Reasons for Recall/Presence of Foriegn Tablets/Capsules/77336",
          "Reasons for Recall/Failed Dissolution Specifications/77353",
          "Reasons for Recall/CGMP Deviations/77398",
          "Reasons for Recall/Stability Data Does Not Support Expiry/77503",
          "Reasons for Recall/GMP Deviations/77526",
          "Reasons for Recall/Lack of Assurance of Sterility/77595",
          "Reasons for Recall/Lack of Assurance of Sterility/77634",
          "Reasons for Recall/Incorrect/Undeclared Excipient/77647",
          "Reasons for Recall/Lack of Assurance of Sterility/77770",
          "Reasons for Recall/Lack of Sterility Assurance./77780",
          "Reasons for Recall/Crystallization with subpotent out of  specification assay results for chlorhexidine./77822",
          "Reasons for Recall/Subpotent Drug/77840",
          "Reasons for Recall/Marketed Without An Approved NDA/ANDA/77859",
          "Reasons for Recall/Failed Dissolution Specifications/77862",
          "Reasons for Recall/Failed Impurities/Degradation Specifications/77915",
          "Reasons for Recall/Lack of Assurance of Sterility./77959",
          "Reasons for Recall/Cross Contamination With Other Products/77992",
          "Reasons for Recall/Defective Delivery System/78021",
          "Reasons for Recall/Incorrect Product Formulation/78051",
          "Reasons for Recall/Subpotent Drug/78063",
          "Reasons for Recall/Lack of Assurance of Sterility./78227",
          "Reasons for Recall/Labeling/78232",
          "Reasons for Recall/Lack Of Assurance Of Sterility./78320",
          "Reasons for Recall/Failed Impurities/Degradation Specifications./78325",
          "Reasons for Recall/Failed Impurities/Degradation Specifications/78415",
          "Reasons for Recall/Marketed without an approved NDA/ANDA/78461",
          "Reasons for Recall/Labeling/78553",
          "Reasons for Recall/Subpotent Drug/78575",
          "Reasons for Recall/CGMP Deviations/78595",
          "Reasons for Recall/Labeling/78637",
          "Reasons for Recall/CGMP Deviations/78730",
          "Reasons for Recall/CGMP Deviations/78822",
          "Reasons for Recall/Lack of sterility assurance./78828",
          "Reasons for Recall/Marketed Without An Approved NDA/ANDA/78991",
          "Reasons for Recall/CGMP Deviations/79036",
          "Reasons for Recall/Lack of assurance of sterility/79063",
          "Reasons for Recall/Non/79114",
          "Reasons for Recall/Presence of Foreign Tablet/79119",
          "Reasons for Recall/CGMP Deviations/79149",
          "Reasons for Recall/Labeling/79175",
          "Reasons for Recall/Marketed Without An Approved NDA/ANDA/79327",
          "Reasons for Recall/Labeling/79457",
          "Reasons for Recall/cGMP Deviations/79606",
          "Reasons for Recall/Lack of Assurance Sterility/79619",
          "Reasons for Recall/Labeling/79640",
          "Reasons for Recall/Presence of Particulate matter. Recall due to presence of unknown particulate matter./79671",
          "Reasons for Recall/Lack of Processing Controls./79748",
          "Reasons for Recall/Lack of Assurance of Sterility/79772",
          "Reasons for Recall/Cross Contamination With Other Products/79788",
          "Reasons for Recall/CGMP Deviations/80006",
          "Reasons for Recall/Lack of sterility assurance./80118",
          "Reasons for Recall/Lack of Processing Controls/80119",
          "Reasons for Recall/Presence of Particulate Matter/80167",
          "Reasons for Recall/Lack of Assurance of Sterility/80303",
          "Reasons for Recall/Lack of Assurance of Sterility/80307",
          "Reasons for Recall/Microbal Contamination of Non/80343",
          "Reasons for Recall/Failed Impurities/Degradation Specifications/80356",
          "Reasons for Recall/Microbial Contamination of Non/80365",
          "Reasons for Recall/CGMP Deviations/80538",
          "Reasons for Recall/CGMP Deviations/80557",
          "Reasons for Recall/Microbial contamination/80601",
          "Reasons for Recall/Lack of Assurance of Sterility/80633",
          "Reasons for Recall/CGMP deviations/80638",
          "Reasons for Recall/Failed Content Uniformity Specifications/80719",
          "Reasons for Recall/CGMP Deviations/80750",
          "Reasons for Recall/Subpotent Drug/80750",
          "Reasons for Recall/Failed Impurities/Degradation Specifications/80767",
          "Reasons for Recall/CGMP Deviations/80773",
          "Reasons for Recall/Failed Dissolution Specifications/80791",
          "Reasons for Recall/CGMP Deviations/80881",
          "Reasons for Recall/Lack of Assurance of Sterility/80890",
          "Reasons for Recall/Defective Delivery System/80997",
          "Reasons for Recall/Lack of Assurance of Sterility/81002",
          "Reasons for Recall/CGMP Deviations/81218",
          "Reasons for Recall/Labeling/81337",
          "Reasons for Recall/Lack of Assurance of Sterility/81346",
          "Reasons for Recall/Marketed Without an Approved NDA/ANDA/81436",
          "Reasons for Recall/Labeling/81441",
          "Reasons for Recall/CGMP Deviation/81442",
          "Reasons for Recall/Cross Contamination with Other Products/81457",
          "Reasons for Recall/CGMP Deviations/81500",
          "Reasons for Recall/CGMP Deviations/81613",
          "Reasons for Recall/CGMP Deviations/81646",
          "Reasons for Recall/Subpotent Drug/81775",
          "Reasons for Recall/GMP Deviations/81784",
          "Reasons for Recall/Failed Dissolution Specifications./81795",
          "Reasons for Recall/Lack of sterility assurance./81810",
          "Reasons for Recall/Lack of sterility assurance./81883",
          "Reasons for Recall/Failed Dissolution Specifications/82021",
          "Reasons for Recall/Unapproved new drug/82106",
          "Reasons for Recall/Failed Degradation/Impurities Specifications/82127",
          "Reasons for Recall/CGMP Deviation/82147",
          "Reasons for Recall/Lack of Processing Controls/82278",
          "Reasons for Recall/CGMP Deviations/82337",
          "Reasons for Recall/Lack of Assurance of Sterility/82398",
          "Reasons for Recall/Lack of Assurance of Sterility/82421",
          "Reasons for Recall/Presence of Particulate Matter./82463",
          "Reasons for Recall/Lack of sterility assurance./82554",
          "Reasons for Recall/CGMP Deviations/82585",
          "Reasons for Recall/Lack of assurance of sterility for injectables and solutions intended to be sterile./82615",
          "Reasons for Recall/Lack of sterility assurance./82620",
          "Reasons for Recall/Presence of Precipitate/82660",
          "Reasons for Recall/Presence of Particulate Matter/82680",
          "Reasons for Recall/Labeling/82760",
          "Reasons for Recall/CGMP Deviations/82782",
          "Reasons for Recall/GMP Deviations/82863",
          "Reasons for Recall/cGMP Deviations/82889",
          "Reasons for Recall/Failed Impurities/Degradation Specifications/82947",
          "Reasons for Recall/CGMP deviations/83018",
          "Reasons for Recall/Crystallization/83074",
          "Reasons for Recall/Lack of Assurance of Sterility/83074",
          "Reasons for Recall/Lack of Assurance of Sterility/83136",
          "Reasons for Recall/Subpotent Drug/83137",
          "Reasons for Recall/CGMP Deviations/83151",
          "Reasons for Recall/CGMP Deviations/83190",
          "Reasons for Recall/Lack of Assurance of Sterility/83265",
          "Reasons for Recall/CGMP Deviations/83316",
          "Reasons for Recall/CGMP Deviations/83417",
          "Reasons for Recall/Lack of Assurance of Sterility/83427",
          "Reasons for Recall/Failed dissolution specifications/83434",
          "Reasons for Recall/CGMP Deviations/83437",
          "Reasons for Recall/cGMP Deviations/83457",
          "Reasons for Recall/Failed Impurities/Degradation Specifications/83581",
          "Reasons for Recall/Lack of Assurance of Sterility/83669",
          "Reasons for Recall/Failed Stability Specifications./83700",
          "Reasons for Recall/Lack of Assurance of Sterility/83789",
          "Reasons for Recall/Labeling/83798",
          "Reasons for Recall/CGMP Deviations/83840",
          "Reasons for Recall/Lack of Processing Controls/83996",
          "Reasons for Recall/GMP Deviations/84000",
          "Reasons for Recall/Crystallization/84011",
          "Reasons for Recall/Lack of Assurance of Sterility/84055",
          "Reasons for Recall/Labeling/84082",
          "Reasons for Recall/Microbial contamination of non/84179",
          "Reasons for Recall/CGMP Deviations/84218",
          "Reasons for Recall/Unit Dose Mispackaging/84261",
          "Reasons for Recall/Presence of Particulate matter/84263",
          "Reasons for Recall/CGMP Deviations/84353",
          "Reasons for Recall/Presence of Foreign Substance/84396",
          "Reasons for Recall/Lack of sterility assurance./84401",
          "Reasons for Recall/Labeling/84527",
          "Reasons for Recall/Lack of sterility assurance./84546",
          "Reasons for Recall/Failed Impurities/Degradation Specifications/84550",
          "Reasons for Recall/Labeling Product Contains Undeclared API/84620",
          "Reasons for Recall/Presence of Particulate Matter/84622",
          "Reasons for Recall/CGMP Deviations/84637",
          "Reasons for Recall/CGMP Deviation/84696",
          "Reasons for Recall/CGMP deviations/84797",
          "Reasons for Recall/GMP Deviations/84798",
          "Reasons for Recall/CGMP Deviations/84799",
          "Reasons for Recall/Defective Container/84860",
          "Reasons for Recall/Failed Impurities/Degradation Specifications/84927",
          "Reasons for Recall/Lack of Assurance of Sterility/84978",
          "Reasons for Recall/GMP Deviations/84990",
          "Reasons for Recall/CGMP Deviations/85039",
          "Reasons for Recall/Lack Of Processing Controls/85081",
          "Reasons for Recall/Labeling/85136",
          "Reasons for Recall/Subpotent Drug/85207",
          "Reasons for Recall/Firm is recalling 46 lots of various products because of a lack of sterility assurance./85212",
          "Reasons for Recall/Marketed without an Approved NDA/ANDA/85232",
          "Reasons for Recall/CGMP Deviations/85341",
          "Reasons for Recall/Lack of Processing Control/85404",
          "Reasons for Recall/Defective Container/85538",
          "Reasons for Recall/CGMP Deviations/85726",
          "Reasons for Recall/Subpotent drug /85773",
          "Reasons for Recall/Superpotent Drug/85774",
          "Reasons for Recall/Defective Delivery System/85848",
          "Reasons for Recall/Chemical contamination/85854",
          "Reasons for Recall/Non/85903",
          "Reasons for Recall/Lack of Processing Controls (lack of assurance of conformity to specifications)./85992",
          "Reasons for Recall/Chemical Contamination/86037",
          "Reasons for Recall/CGMP Deviations/86123",
          "Reasons for Recall/Sub/86243",
          "Reasons for Recall/Failed Stability Specifications/86264",
          "Reasons for Recall/CGMP Deviations/86343",
          "Reasons for Recall/CGMP Deviations/86498",
          "Reasons for Recall/CGMP deviations/86533",
          "Reasons for Recall/GMP Deviations/86579",
          "Reasons for Recall/Labeling/86584",
          "Reasons for Recall/CGMP Deviations/86624",
          "Reasons for Recall/Microbial Contamination of Non/86656",
          "Reasons for Recall/Failed pH Specifications/86685",
          "Reasons for Recall/CGMP Deviations/86712",
          "Reasons for Recall/Microbial Contamination of Non/86767",
          "Reasons for Recall/Failed Dissolution Specifications/86787",
          "Reasons for Recall/Lack of Assurance of Sterility/86799",
          "Reasons for Recall/Subpotent drug/86858",
          "Reasons for Recall/CGMP Deviations/86955",
          "Reasons for Recall/Lack of Assurance of Sterility/86990",
          "Reasons for Recall/Labeling/86997",
          "Reasons for Recall/Labeling/87233",
          "Reasons for Recall/Labeling/87283",
          "Reasons for Recall/Lack of Assurance of Sterility/87298",
          "Reasons for Recall/Defective Delivery System/87373",
          "Reasons for Recall/Failed Impurities/Degradation Specifications/87566",
          "Reasons for Recall/Adulterated Presence of Foreign Tablets/Capsules",
          "Reasons for Recall/CGMP Deviation",
          "Reasons for Recall/CGMP Deviations",
          "Reasons for Recall/CGMP deviations",
          "Reasons for Recall/Chemical Contamination",
          "Reasons for Recall/Chemical contamination",
          "Reasons for Recall/Contraceptive Tablets Out of Sequence",
          "Reasons for Recall/Cross Contamination With Other Products",
          "Reasons for Recall/Cross Contamination with Other Products",
          "Reasons for Recall/Cross contamination with other products",
          "Reasons for Recall/Crystallization",
          "Reasons for Recall/Crystallization with subpotent out of  specification assay results for chlorhexidine.",
          "Reasons for Recall/Defective Container",
          "Reasons for Recall/Defective Delivery System",
          "Reasons for Recall/Discoloration.",
          "Reasons for Recall/Does Not Meet Monograph",
          "Reasons for Recall/Failed Capsule/Tablet Specifications",
          "Reasons for Recall/Failed Content Uniformity Specifications",
          "Reasons for Recall/Failed Content Uniformity Specifications.",
          "Reasons for Recall/Failed Degradation/Impurities Specifications",
          "Reasons for Recall/Failed Dissolution Specification",
          "Reasons for Recall/Failed Dissolution Specifications",
          "Reasons for Recall/Failed Dissolution Specifications.",
          "Reasons for Recall/Failed Dissolution Test Requirements",
          "Reasons for Recall/Failed Impuities/Degradation Specifications",
          "Reasons for Recall/Failed Impurities/Degradation",
          "Reasons for Recall/Failed Impurities/Degradation Specifications",
          "Reasons for Recall/Failed Impurities/Degradation Specifications ",
          "Reasons for Recall/Failed Impurities/Degradation Specifications.",
          "Reasons for Recall/Failed Impurity/Degradation Specification",
          "Reasons for Recall/Failed Stability Specification",
          "Reasons for Recall/Failed Stability Specifications",
          "Reasons for Recall/Failed Stability Specifications.",
          "Reasons for Recall/Failed Tablet/Capsule Specification",
          "Reasons for Recall/Failed Tablet/Capsule Specifications",
          "Reasons for Recall/Failed dissolution specifications",
          "Reasons for Recall/Failed dissolution specifications ",
          "Reasons for Recall/Failed pH Specifications",
          "Reasons for Recall/Firm is recalling 46 lots of various products because of a lack of sterility assurance.",
          "Reasons for Recall/First Aid Only, Inc is recalling Smart Tab First Aid ezRefill System Ibuprofen boxes  and First Aid Cabinets containing these Ibuprofen boxes.  Ibuprofen boxes (FAE 7014) were accidentally used to package  aspirin packs  (10 packs of 2 / 235mg tablets).",
          "Reasons for Recall/GMP Deviations",
          "Reasons for Recall/Good Manufacturing Practices Deviations",
          "Reasons for Recall/Impurities/Degradation Products",
          "Reasons for Recall/Incorrect Product Formulation",
          "Reasons for Recall/Incorrect/Undeclared Excipient",
          "Reasons for Recall/Labeling",
          "Reasons for Recall/Labeling Product Contains Undeclared API",
          "Reasons for Recall/Lack Of Assurance Of Sterility.",
          "Reasons for Recall/Lack Of Processing Controls",
          "Reasons for Recall/Lack of Assurance Sterility",
          "Reasons for Recall/Lack of Assurance of Sterility",
          "Reasons for Recall/Lack of Assurance of Sterility ",
          "Reasons for Recall/Lack of Assurance of Sterility and Stability Data does not Support Expiry",
          "Reasons for Recall/Lack of Assurance of Sterility.",
          "Reasons for Recall/Lack of Processing Control",
          "Reasons for Recall/Lack of Processing Controls",
          "Reasons for Recall/Lack of Processing Controls (lack of assurance of conformity to specifications).",
          "Reasons for Recall/Lack of Processing Controls.",
          "Reasons for Recall/Lack of Sterility Assurance",
          "Reasons for Recall/Lack of Sterility Assurance.",
          "Reasons for Recall/Lack of assurance of sterility",
          "Reasons for Recall/Lack of assurance of sterility for injectables and solutions intended to be sterile.",
          "Reasons for Recall/Lack of sterility assurance.",
          "Reasons for Recall/Marked Without An Approved NDA/ANDA",
          "Reasons for Recall/Marketed Without An Approved NDA/ANDA",
          "Reasons for Recall/Marketed Without an Approved NDA/ANDA",
          "Reasons for Recall/Marketed without an Approved NDA/ANDA",
          "Reasons for Recall/Marketed without an approved NDA/ANDA",
          "Reasons for Recall/Marketed without an approved NDA/ANDA ",
          "Reasons for Recall/Marketed without an approved NDA/ANDA  ",
          "Reasons for Recall/Microbal Contamination of Non",
          "Reasons for Recall/Microbial Contamination of Non",
          "Reasons for Recall/Microbial Contamination of a Non",
          "Reasons for Recall/Microbial contamination",
          "Reasons for Recall/Microbial contamination of non",
          "Reasons for Recall/Miscalibrated and/or Defective Delivery System",
          "Reasons for Recall/Non",
          "Reasons for Recall/Penicillin Cross Contamination",
          "Reasons for Recall/Penicillin Cross Contamination and Presence of Foreign Substance.  Product was contaminated with penicillin and foreign substances during manufacturing process.",
          "Reasons for Recall/Presence of Foreign Substance",
          "Reasons for Recall/Presence of Foreign Substance(s)",
          "Reasons for Recall/Presence of Foreign Tablet",
          "Reasons for Recall/Presence of Foreign Tablets/Capsules",
          "Reasons for Recall/Presence of Foriegn Substance",
          "Reasons for Recall/Presence of Foriegn Tablets/Capsules",
          "Reasons for Recall/Presence of Particulate Matter",
          "Reasons for Recall/Presence of Particulate Matter.",
          "Reasons for Recall/Presence of Particulate matter",
          "Reasons for Recall/Presence of Particulate matter. Recall due to presence of unknown particulate matter.",
          "Reasons for Recall/Presence of Paticulate Matter",
          "Reasons for Recall/Presence of Precipitate",
          "Reasons for Recall/Presence of particulate matter",
          "Reasons for Recall/Presence of particulate matter ",
          "Reasons for Recall/Recalled products were made using an active ingredient that was recalled by a supplier due to penicillin cross contamination.",
          "Reasons for Recall/Stability Data Does Not Support Expiry",
          "Reasons for Recall/Stability data does not support expiry.",
          "Reasons for Recall/Sub",
          "Reasons for Recall/Subpotency",
          "Reasons for Recall/Subpotent",
          "Reasons for Recall/Subpotent (Single Ingredient Drug)",
          "Reasons for Recall/Subpotent Drug",
          "Reasons for Recall/Subpotent drug",
          "Reasons for Recall/Subpotent drug ",
          "Reasons for Recall/Superpotent (Multiple Ingredient) Drug",
          "Reasons for Recall/Superpotent Drug",
          "Reasons for Recall/Superpotent and Subpotent drugs",
          "Reasons for Recall/Tablet Thickness",
          "Reasons for Recall/Temperature Abuse",
          "Reasons for Recall/The affected lots of Carboplatin Injection, Cytarabine  Injection, Methotrexate Injection, USP, and Paclitaxel Injection are being recalled due to visible particles embedded in the glass located at the neck of the vial. There may be the potential for product to come into contact with the embedded particles and the particles may become dislodged into the solution.",
          "Reasons for Recall/The firm received seven reports of adverse reactions in the form of skin abscesses potentially linked to compounded preservative",
          "Reasons for Recall/Unapproved new drug",
          "Reasons for Recall/Unit Dose Mispackaging",
          "Reasons for Recall/cGMP Deviations",
          "Reasons for Recall/cGMP deviation",
          "Reasons for Recall/cGMP deviations",
          "Reasons for Recall"
         ],
         "labels": [
          "",
          "",
          "",
          "",
          "",
          "",
          "",
          "",
          "",
          "",
          "",
          "",
          "",
          "",
          "",
          "",
          "",
          "",
          "",
          "",
          "",
          "",
          "",
          "",
          "",
          "",
          "",
          "",
          "",
          "",
          "",
          "",
          "",
          "",
          "",
          "",
          "",
          "",
          "",
          "",
          "",
          "",
          "",
          "",
          "",
          "",
          "",
          "",
          "",
          "",
          "",
          "",
          "",
          "",
          "",
          "",
          "",
          "",
          "",
          "",
          "",
          "",
          "",
          "",
          "",
          "",
          "",
          "",
          "",
          "",
          "",
          "",
          "",
          "",
          "",
          "",
          "",
          "",
          "",
          "",
          "",
          "",
          "",
          "",
          "",
          "",
          "",
          "",
          "",
          "",
          "",
          "",
          "",
          "",
          "",
          "  A recall of all compounded sterile preparations within expiry is being initiated due to observations associated with poor sterile production practices resulting in a lack of sterility assurance for their finished drugs.",
          "  Aluminum crimps do not fully seal the rubber stopper to the vials.",
          "  Product recalled due to reports of breakage and leakage of Paricalcitol capsules.",
          "  This recall includes of all unexpired lots medications containing Calcium Gluconate, Papaverine, Phentolamine, and /or Prostaglandin) due to unsubstantiated validation of beyond use dating.",
          "  particulate matter identified as an insect in one vial.",
          " 15 month stability (by mfr)",
          " 24 month stability test station",
          " 500 mg capsules were found in bottles labeled to contain 250 mg capsules",
          " 6 month stability time point",
          " 6 month time point",
          " A mold like substance was discovered on the surface of an unopened bag of Sodium Chloride 0.9% while prepping the bag for production.",
          " A recent FDA inspection of Vann Healthcare Services facility revealed deficiencies that raise concerns about the pharmacy's ability to consistently assure sterility of their products.",
          " A returned customer sample was evaluated and found to have human hair attached to a pinched area of the stopper.",
          " API contaminated with glass particulate was used to produce sterile injectable drugs.",
          " Actavis has received several complaint for clumping and breaking of capsules with some bottles showing popped out bottle bottom (round bottom) and creased labels from one distribution center.",
          " Active Ingredient on label is not the active ingredient in the product.",
          " Active Pharmaceutical Ingredient (API) manufacturer is on FDA Import Alert.",
          " Additional testing found Out of Specification impurity test results.",
          " After quality review of stability failures in previous lots, there is insufficient data to determine that other lots are not affected.",
          " All lots of all products repackaged and distributed between 01/05/12 and 02/12/15 are being recalled because they were repackaged in a facility with penicillin products without adequate separation which could introduce the potential for cross contamination with penicillin.",
          " All lots of all products repackaged and distributed between 01/05/12 and 02/12/15 are being recalled because they were repackaged without data to support the printed expiry date.",
          " All lots of sterile products compounded by the pharmacy that are not expired due to concerns associated with quality control procedures that present a potential risk to sterility assurance that were observed during a recent FDA inspection.",
          " All lots of sterile products compounded by the pharmacy that are not expired due to concerns associated with quality control procedures that present a potential risk to sterility assurance that were observed during a recent FDA inspection.",
          " All lots of sterile products compounded by the pharmacy within expiry are subject to this recall. This recall is initiated due to concerns associated with quality control procedures observed during a recent FDA inspection.",
          " All unexpired sterile compounded human and veterinary products are being recalled because they were compounded in the same environment and under the same practices as another product found to be nonsterile and therefore sterility cannot be assured.",
          " An oversized tablet was found in a bottle.",
          " Appearance is Out of Specification for the reconstituted solution during 24month stability time point analysis.",
          " Atypical odor and unpleasant taste was reported",
          " B. Braun Medical Inc. is recalling several injectable products due to visible particulate matter found in reserve sample units.",
          " Baxter is issuing a voluntary recall for these IV solutions due to particulate matter found in the solution identified as polyester and cotton fibers, adhesivelike mixture, polyacetal particles, thermally degraded PVC, black polypropylene and human hair embedded in the plastic bag",
          " Bottles were released prior to final approval.",
          " Broken tablets found in sealed bottles.",
          " Carcinogen impurity detected in API used to manufacture drug product.",
          " Carcinogen impurity detected in API used to manufacture drug product.",
          " Carcinogen impurity detected in API used to manufacture drug product.",
          " Confirmed customer complaint of discolored solution with visible metal particles embedded in the glass vial and visible in the solution.",
          " Confirmed customer complaint of discolored solution with visible metal particles embedded in the glass vial and visible in the solution.",
          " Confirmed customer complaints of leaking bottles.",
          " Customer complaint that a carton labeled as Myorisan 20 mg Capsules, USP erroneously contained one 10count blister card of the 40 mg product in addition to two 10count blister cards of the 20 mg product.",
          " Detection of a trace amount of unexpected impurity N nitrosodiethylamine (NDEA) found in finished products",
          " Dissolution at 8 hour was out of specification at 12 month at 25 degree Celsius.",
          " Due to lack of documentation of proper environmental monitoring during the time in which the medication was produced.",
          " During routine stability testing one tablet was found with tablet weight below specification.",
          " Environmental sampling revealed 1 CFU (Colony Forming Unit) identified as Talaromyces rotundus, a fungi.",
          " FDA analyses detected the presence of phenolphthalein, NdiDesmethylsibutramine, and trace amounts of sibutramine and NDesmethylsibutramine. Sibutramine and phenolphthalein were previously available drug products but were removed from the U.S. market making these products unapproved new drugs.",
          " FDA analysis found the product to contain undeclared sildenafil and tadalafil and undeclared milk. The presence of sildenafil and tadalafil makes AMPT Natural Herbal Coffee an unapproved drug for which safety and efficacy have not been established and, therefore, subject to recall. Additionally, this product has been found to contain undeclared milk, milk is recognized as one of the foods reported to have caused deaths due to anaphylactic shock in persons with underlying hypersensitivities.",
          " FDA analysis found these products to contain sildenafil, an FDA approved drug for the treatment of erectile dysfunction, making these products unapproved drugs for which safety and efficacy have not been establish and therefore, subject to recall.",
          " FDA analysis found this product contained undeclared sibutramine and phenolphthalein, two active ingredients that were once marketed in the U.S. but removed due to safety reasons, making this product an unapproved new drug.",
          " FDA analysis found this product to contain undeclared Tadalafil, an FDA approved drug for the treatment of erectile dysfunction",
          " FDA has determined that the products are unapproved new drugs and misbranded.",
          " FDA inspection findings resulted in concerns regarding quality control processes",
          " FDA inspection findings resulted in concerns regarding quality control processes",
          " FDA inspection findings resulted in concerns regarding quality control processes.",
          " FDA inspection findings resulted in concerns regarding quality control processes.",
          " FDA inspection findings resulted in concerns regarding quality control processes.",
          " FDA inspection found significant manufacturing practices that call into question the safety, identity, strength, quality and purity of unexpired drug products manufactured by the firm.",
          " FDA inspection identified GMP violations potentially impacting product quality and sterility",
          " FDA inspection identified GMP violations potentially impacting product quality and sterility",
          " FDA inspection identified GMP violations potentially impacting product quality and sterility.",
          " FDA inspectional findings resulted in concerns associated with quality control procedures that impacted sterility assurance",
          " FDA inspectional findings resulted in concerns associated with quality control procedures that impacted sterility assurance",
          " FDA lab confirmed presence an impurity, Nnitrosodiethylamine (NDEA) contained in the API used to manufacture the product.",
          " FDA lab confirmed presence of an impurity, NMethylnitrosobutyric acid (NMBA)  in the finished product above the interim acceptable daily intake level.",
          " FDA lab confirmed presence of an impurity, NMethylnitrosobutyric acid (NMBA) in the finished product above the interim acceptable daily intake level at the manufacturer",
          " FDA lab confirmed presence of an impurity, NMethylnitrosobutyric acid (NMBA) in the finished product above the interim acceptable daily intake level of 9.82 parts per million.",
          " FDA laboratory testing confirmed presence of an impurity, Nnitrosodiethylamine (NDEA) in product.",
          " FDA laboratory testing confirmed presence of an impurity, Nnitrosodimethylamine (NDEA) in product.",
          " FDA sampling confirmed the presence of Salicylic acid  in dietary supplements.",
          " Failed Uniformity of Dosage Units specifications.",
          " Firm did not adequately investigate customer complaints.",
          " Firm failed to establish an adequate system for monitoring environmental conditions in aseptic processing areas.",
          " Firm is recalling all unexpired lots of sterile compounded products after FDA inspection found concerns of lack of sterility assurance.",
          " Firm is recalling various drug products due to a nonapproved method of sterilization.",
          " Firm is voluntarily recalling all lots of homeopathic Teething Drops, Nausea Drops, Intestinal Colic Drops, Stomach Calm, Expectorant Cough Syrup, SilverZinc Throat Spray, and Argentum Elixir, within expiry, due to lack of adequate controls during manufacturing.",
          " Firm received a market complaint stating the presence of one foreign tablet (Montelukast Sodium Chewable Tab 4mg) in the product bottle of Pantoprazole.",
          " Firm received fentanyl from a supplier who recalled it  because fliptop vial crimps were loose or missing.",
          " First 4 pills of the packet are brown, instead of the last four pills and the expiry/lot was not printed on the package.",
          " Flawless Beauty, LLC is voluntarily recalling all lots of different products sold individually or as part of multiunit kits in accordance with Consent Decree of Permanent Injunction ordered by the United States District Court due to misbranding and unapproved new drugs pursuant to the FD&C Act.",
          " Franck's Lab Inc. initiated a recall of all Sterile Human Drugs distributed between 11/21/2011 and 05/21/2012 because FDA environmental sampling revealed the presence of microorganisms and fungal growth in the clean room where sterile products were prepared.",
          " Franck's Lab Inc. initiated a recall of all Sterile Human Drugs distributed between 11/21/2011 and 05/21/2012. FDA environmental sampling revealed the presence of microorganisms and fungal growth in the clean room where sterile products were prepared.",
          " High out of specification results for assay at the 6 month time point interval.",
          " High outofspecification results for a related compound obtained during routine stability testing.",
          " Hospira, Inc is voluntarily recalling the products due to possible leaking bags.",
          " IM and SQ injectable products are being recalled because the manufacturing firm is not registered with the FDA as a drug manufacturer",
          " Illegible Label Sandoz Inc. is recalling of one lot of Fluoxetine Capsules due to an illegible logo on the capsule.",
          " Impurity Nnitrosodimethylamine (NDMA) found in API",
          " Impurity Nnitrosodimethylamine (NDMA) found in API.",
          " Inadequate processes and equipment to assure the sterility of products intended to be sterile.",
          " Inadvertent release of a drug product with unapproved active ingredient manufacturer.",
          " Incorrect Instructions RemedyRepack, Inc. a relabeler, is recalling these products due to incorrect storage instructions.",
          " Incorrect Or Missing Lot and/or Exp Date The lot number and/or expiration date may be illegible on the outer plastic bottle packaging.",
          " Incorrect expiration date.  Product dated with 24month expiration date instead of 18months.",
          " Incorrect or Missing Exp Date  An incorrect expiration date has been identified on Prednisone Tablets USP 5 mg",
          " Incorrect or Missing Lot and/or Exp Date",
          " Incorrect or Missing Lot and/or Exp Date Beyond Use Date (BUD) exceed the BUD/EXP of at least one ingredient used to make final product.",
          " Incorrect or Missing Lot and/or Expiration Date vial indicates a 1 year expiration date instead of a 6 month expiration date",
          " Incorrect or Missing Lot and/or Expiration date The Lot and/or Expiration date on the tube may not be legible in this lot..",
          " Incorrect or Missing Package Insert",
          " Incorrect or Missing Package Insert Package insert is missing updates compared with reference drug insert.",
          " Incorrect or Missing Package Insert Product is packaged with the incorrect version of the package insert.",
          " Incorrect or Missing Package Insert authorized generic product was packaged with the incorrect insert for the brand name product Clolar (clofarabine) injection.",
          " Incorrect or Missing lot and/or expiration date The lot number and BUD were printed in the incorrect position on the product label making it illegible.",
          " Incorrect or missing lot and/or expiration date. Products were compounded using expired components.",
          " Incorrect or missing package insert.",
          " Insanitary conditions observed during compounding of sterile drugs during recent FDA Inspection.",
          " Label Error on Declared Strength Unopened bottles of Ropinirole USP 3 mg tablets was found to be incorrectly labeled as Ropinirole USP 4 mg tablets..",
          " Label Error on Declared Strength the label states that the product contains 62% ethyl alcohol, but the ethyl alcohol content is 20%.",
          " Label Error on Declared Strength the preprinted text on the primary infusion bag and the NDC incorrectly identifies the product as Levetiracetam in 0.75% Sodium Chloride (1000 mg/100 mL) however, the external foil pouch correctly identifies the product as Levetiracetam in 0.54% Sodium Chloride Injection (1,500/100 mL).",
          " Label Error on Declared Strength. A single syringe labeled as 150 mg/1.0 mL was found packaged in a blister labeled as 120 mg/mL",
          " Label MixUp  Prepackaged bottles labeled spironolactone 25 mg may contain spironolactone 50 mg tablets.",
          " Label MixUp Brilliant Blue G was labeled with an inaccurate auxiliary label which contained active/inactive ingredient information for incorrect product.",
          " Label MixUp Products labeled Biotin 100 mg found to contain 4aminopyridine",
          " Label Mixup ASPIRIN DR EC, Tablet, 81 mg may have potentially been mislabeled as one of the following drugs  SOTALOL HCL, Tablet, 120 mg, NDC 00093106001, Pedigree AD49448_20, EXP 5/17/2014  FOLIC ACID, Tablet, 1 mg, NDC 65162036110, Pedigree W003097, EXP 6/13/2014.",
          " Label Mixup ATORVASTATIN CALCIUM, Tablet, 10 mg may have potentially been mislabeled as one of the following drugs  PANCRELIPASE DR, Capsule, 12000 /38000 /60000 USP units, NDC 00032121201, Pedigree AD30180_4, EXP 5/8/2014  OMEPRAZOLE/SODIUM BICARBONATE, Capsule, 20 mg/1,110 mg, NDC 11523726503, Pedigree AD49399_4, EXP 5/16/2014  ASPIRIN, CHEW Tablet, 81 mg, NDC 00536329736, Pedi",
          " Label Mixup ATORVASTATIN CALCIUM, Tablet, 40 mg may have potentially been mislabeled as one of the following drugs  ATORVASTATIN CALCIUM, Tablet, 10 mg, NDC 00378201577, Pedigree AD33897_4, EXP 5/9/2014  FINASTERIDE, Tablet, 5 mg, NDC 16714052201, Pedigree W003031, EXP 2/28/2014.",
          " Label Mixup CHOLECALCIFEROL, Tablet, 5000 units may have potentially been mislabeled as one of the following drugs  LACTOBACILLUS ACIDOPHILUS, Capsule, 0 mg, NDC 54629011101, Pedigree AD65311_7, EXP 5/24/2014  QUINAPRIL HCL, Tablet, 20 mg, NDC 68180055809, Pedigree W003556, EXP 6/24/2014  POTASSIUM ACID PHOSPHATE, Tablet, 500 mg, NDC 00486111101, Pedigree AD52778_34, EXP 5/20/2",
          " Label Mixup CILOSTAZOL, Tablet, 100 mg may have potentially been mislabeled as the following drug  TRIAMTERENE/ HYDROCHLOROTHIAZIDE, Tablet, 37.5 mg/25 mg, NDC 00591042401, Pedigree W002900, EXP 6/10/2014.",
          " Label Mixup DESMOPRESSIN ACETATE, Tablet 0.1 mg may have potentially been mislabeled as the following drug   LOXAPINE, Capsule, 5 mg, NDC 00591036901, Pedigree AD46426_7, EXP 5/15/2014.",
          " Label Mixup DIGOXIN, Tablet, 125 mcg may have potentially been mislabeled as the following drug  CHOLECALCIFEROL/ CALCIUM/ PHOSPHORUS, Tablet, 120 units/105 mg/81 mg, NDC 64980015001, Pedigree W002581, EXP 6/3/2014.",
          " Label Mixup DOXAZOSIN MESYLATE, Tablet, 1 mg may have potentially been mislabeled as the following drug  PYRIDOXINE HCL, Tablet, 100 mg, NDC 00536440901, Pedigree W003872, EXP 6/27/2014.",
          " Label Mixup DOXEPIN HCL Capsule, 150 mg may be potentially mislabeled as    VALSARTAN, Tablet, 160 mg, NDC 00078035934, Pedigree AD46312_7, EXP 5/16/2014.",
          " Label Mixup ESTROPIPATE, Tablet, 0.75 mg may have potentially been mislabeled as the following drug   MESALAMINE DR, Capsule, 400 mg, NDC 00430075327, Pedigree AD34934_1, EXP 1/31/2014.",
          " Label Mixup EXEMESTANE, Tablet, 25 mg may be potentially mislabeled as the following drug   OMEGA3 FATTY ACID, Capsule, 1000 mg, NDC 00904404360, Pedigree W003473, EXP 6/20/2014.",
          " Label Mixup FAMOTIDINE Tablet, 20 mg may be potentially mislabeled as    CARVEDILOL PHOSPHATE ER, Capsule, 20 mg, NDC 00007337113, Pedigree W003225, EXP 6/17/2014  DULoxetine HCl DR, Capsule, 20 mg, NDC 00002323560, Pedigree W003506, EXP 6/21/2014  FAMOTIDINE, Tablet, 20 mg, NDC 16714036104, Pedigree W003507, EXP 6/21/2014  MYCOPHENOLATE MOFETIL, Capsule, 250 mg, NDC 0037822500",
          " Label Mixup FLUCONAZOLE, Tablet, 200 mg may have potentially been mislabeled as one of the following drugs  VALSARTAN, Tablet, 80 mg, NDC 00078035834, Pedigree AD65475_10, EXP 5/28/2014  FLUCONAZOLE, Tablet, 100 mg, NDC 68462010230, Pedigree W003064, EXP 6/12/2014.",
          " Label Mixup ITRACONAZOLE, Capsule, 100 mg may be potentially mislabeled as     FAMCICLOVIR, Tablet, 500 mg, NDC 00093811956, Pedigree AD54549_4, EXP 5/20/2014.",
          " Label Mixup LEVOTHYROXINE SODIUM, Tablet, 125 mcg may have potentially been mislabeled as the following drug  MAGNESIUM CHLORIDE DR, Tablet, 64 mg, NDC 00904791152, Pedigree AD70615_1, EXP 2/28/2014.",
          " Label Mixup LEVOTHYROXINE SODIUM, Tablet, 175 mcg may have potentially been mislabeled as the following drug  CINACALCET HCL, Tablet, 60 mg, NDC 55513007430, Pedigree W003742, EXP 6/26/2014.",
          " Label Mixup LEVOTHYROXINE SODIUM, Tablet, 88 mcg may have potentially been mislabeled as the following drug  guanFACINE HCl, Tablet, 1 mg, NDC 00378116001, Pedigree W003007, EXP 6/12/2014.",
          " Label Mixup LISINOPRIL Tablet, 2.5 mg may be potentially mislabeled as    RANOLAZINE ER, Tablet, 500 mg, NDC 61958100301, Pedigree AD23087_1, EXP 5/2/2014  DOCUSATE SODIUM, Capsule, 250 mg, NDC 00536375701, Pedigree W003358, EXP 6/19/2014.",
          " Label Mixup LORATADINE Tablet, 10 mg may be potentially mislabeled as    GLYCOPYRROLATE, Tablet, 2 mg, NDC 00603318121, Pedigree W002650, EXP 6/5/2014  OMEGA3 FATTY ACID, Capsule, 1000 mg, NDC 05445800022, Pedigree AD21858_4, EXP 5/1/2014  OMEGA3 FATTY ACID, Capsule, 1000 mg, NDC 00904404360, Pedigree W003217, EXP 6/14/2014.",
          " Label Mixup LOSARTAN POTASSIUM, Tablet, 25 mg may have potentially been mislabeled as the following drug  PHYTONADIONE, Tablet, 5 mg, NDC 25010040515, Pedigree AD46312_22, EXP 4/30/2014.",
          " Label Mixup LOXAPINE, Capsule, 5 mg may have potentially been mislabeled as the following drug   SERTRALINE HCL, Tablet, 50 mg, NDC 16714061204, Pedigree AD46426_1, EXP 5/15/2014.",
          " Label Mixup MELATONIN, Tablet, 3 mg may be potentially mislabeled as    VITAMIN B COMPLEX, Capsule, NDC 00536478701, Pedigree AD32757_4, EXP 5/13/2014  MULTIVITAMIN/ MULTIMINERAL/ LUTEIN, Capsule, NDC 24208063210, Pedigree W003025, EXP 6/12/2014  LACTASE ENZYME, Tablet, 3000 units, NDC 24385014976, Pedigree W003721, EXP 6/26/2014  GLUCOSAMINE/CHONDROITIN DS, Capsule, 500 mg/400",
          " Label Mixup MESALAMINE DR, Capsule, 400 mg may have potentially been mislabeled as the following drug    CHLOROPHYLLIN COPPER COMPLEX, Tablet, 100 mg, NDC 11868000901, Pedigree AD34928_1, EXP 5/9/2014.",
          " Label Mixup METAXALONE Tablet, 800 mg may be potentially mislabeled as    ESTERIFIED ESTROGENS, Tablet, 0.625 mg, NDC 61570007301, Pedigree W003736, EXP 6/26/2014.",
          " Label Mixup METOPROLOL TARTRATE, Tablet, 50 mg  may have potentially been mislabeled as one of the following drugs  METOPROLOL TARTRATE, Tablet, 25 mg, NDC 57664050652, Pedigree W003843, EXP 6/27/2014  ATORVASTATIN CALCIUM, Tablet, 20 mg, NDC 60505257909, Pedigree W003846, EXP 6/27/2014  OXYBUTYNIN CHLORIDE, Tablet, 5 mg, NDC 00603497521, Pedigree W003898, EXP 6/27/2014.",
          " Label Mixup MINOCYCLINE HCL, Capsule, 100 mg may have potentially been mislabeled as the following drug  PROGESTERONE, Capsule, 100 mg, NDC 00591396401, Pedigree AD73611_4, EXP 5/30/2014.",
          " Label Mixup MONTELUKAST SODIUM, CHEW Tablet, 4 mg may be potentially mislabeled as the following drug  DICYCLOMINE HCL, Tablet, 20 mg, NDC 00591079501, Pedigree AD76639_4, EXP 5/31/2014.",
          " Label Mixup NIACIN TR, Tablet, 750 mg may have potentially been mislabeled as the following drug  NORTRIPTYLINE HCL, Capsule, 50 mg, NDC 00093081201, Pedigree AD46414_47, EXP 5/16/2014.",
          " Label Mixup NIACIN, Tablet, 500 mg may have potentially been mislabeled as one of the following drugs  NAPROXEN, Tablet, 500 mg, NDC 53746019001, Pedigree AD54516_1, EXP 5/20/2014  DOCUSATE SODIUM, Capsule, 250 mg, NDC 00904789159, Pedigree W002920, EXP 6/10/2014.",
          " Label Mixup NICOTINE POLACRILEX Gum, 2 mg may be potentially mislabeled as    SACCHAROMYCES BOULARDII LYO, Capsule, 250 mg, NDC 00414200007, Pedigree AD54586_4, EXP 5/21/2014.",
          " Label Mixup NICOTINE POLACRILEX Lozenge, 2 mg may be potentially mislabeled as    ASPIRIN DR EC, Tablet, 81 mg, NDC 00182106105, Pedigree AD52433_1, EXP 5/17/2014  chlorproMAZINE HCl, Tablet, 100 mg, NDC 00832030300, Pedigree AD70700_1, EXP 5/29/2014  CALCIUM ACETATE, Capsule, 667 mg, NDC 00054008826, Pedigree AD73623_1, EXP 5/30/2014  FOLIC ACID, Tablet, 1 mg, NDC 65162036110,",
          " Label Mixup NIFEdipine ER, Tablet, 60 mg may have potentially been mislabeled as the following drug   NICOTINE POLACRILEX, LOZENGE, 2 mg, NDC 00135051001, Pedigree W003749, EXP 6/26/2014.",
          " Label Mixup OMEPRAZOLE/SODIUM BICARBONATE, Capsule, 20 mg/1,100 mg may be potentially mislabeled as    CYANOCOBALAMIN, Tablet, 1000 mcg, NDC 00536355601, Pedigree W003788, EXP 6/27/2014  OMEGA3 FATTY ACID, Capsule, 1000 mg, NDC 00904404360, Pedigree W003870, EXP 6/27/2014.",
          " Label Mixup OMEPRAZOLE/SODIUM BICARBONATE, Capsule, 20 mg/110 mg may be potentially mislabeled as     BENZOCAINE/MENTHOL, LOZENGE, 15 mg/2.6 mg, NDC 63824073116, Pedigree AD42592_4, EXP 5/14/2014.",
          " Label Mixup PANTOPRAZOLE SODIUM DR, Tablet, 20 mg may be potentially mislabel as    NORTRIPTYLINE HCL, Capsule, 75 mg, NDC 00093081301, Pedigree W003694, EXP 6/26/2014.",
          " Label Mixup PERPHENAZINE, Tablet, 16 mg may have potentially been mislabeled as one of the following drugs  LITHIUM CARBONATE ER, Tablet, 450 mg, NDC 00054002025, Pedigree AD21790_28, EXP 5/1/2014  LITHIUM CARBONATE ER, Tablet, 450 mg, NDC 00054002025, Pedigree W002730, EXP 6/6/2014  RALTEGRAVIR, Tablet, 400 mg, NDC 00006022761, Pedigree W003680, EXP 6/25/2014  VENLAFAXINE HCL",
          " Label Mixup PHOSPHORUS Tablet, 250 mg may be potentially mislabeled as    CITALOPRAM, Tablet, 10 mg, NDC 57664050788, Pedigree AD56921_1, EXP 5/21/2014  VENLAFAXINE HCL, Tablet, 75 mg, NDC 00093738201, Pedigree W002533, EXP 2/28/2014  NITROFURANTOIN MACROCRYSTALS, Capsule, 50 mg, NDC 47781030701, Pedigree AD25452_4, EXP 5/3/2014  traZODone HCl, Tablet, 50 mg, NDC 50111043303, P",
          " Label Mixup PYRIDOXINE HCL, Tablet, 100 mg may have potentially been mislabeled as one of the following drugs  CYANOCOBALAMIN, Tablet, 1000 mcg, NDC 00536355601, Pedigree AD73627_29, EXP 5/30/2014  COENZYME Q10, Capsule, 100 mg, NDC 37205055065, Pedigree W003871, EXP 6/27/2014  VITAMIN B COMPLEX PROLONGED RELEASE, Tablet, 0 mg, NDC 40985022251, Pedigree AD76686_1, EXP 5/31/201",
          " Label Mixup TORSEMIDE Tablet, 10 mg may be potentially mislabeled as    MEXILETINE HCL, Capsule, 200 mg, NDC 00093874001, Pedigree AD25264_7, EXP 5/3/2014.",
          " Label Mixup This recall was initiated after identifying that the label statement on the blister strip regarding the maximum number of capsules/caplets that should be taken within a 24hour period, does not match the statement on the carton.",
          " Label Mixup VENLAFAXINE HCL Tablet, 50 mg may be potentially mislabeled as    sulfaSALAzine, Tablet, 500 mg, NDC 00603580121, Pedigree AD65475_19, EXP 5/28/2014.",
          " Label Mixup VITAMIN B COMPLEX Tablet may be potentially mislabeled as    OMEPRAZOLE/SODIUM BICARBONATE, Capsule, 20 mg/1,100 mg, NDC 11523726503, Pedigree W003789, EXP 6/27/2014  prednisoLONE, Tablet, 5 mg, NDC 16477050501, Pedigree W003627, EXP 6/25/2014.",
          " Label Mixup blister lidding foil and shellpack labeled as 10 mg but package actually contains 5 mg tablets",
          " Label Mixup correctly labeled 2 mL vials were packaged into blister strips labeled for 1 mL vials",
          " Label Mixup guanFACINE HC, Tablet, 1 mg may have potentially been mislabeled as one of the following drugs  glyBURIDE, Tablet, 2.5 mg, NDC 00093834301, Pedigree AD46265_22, EXP 5/15/2014  FOSINOPRIL SODIUM, Tablet, 10 mg, NDC 60505251002, Pedigree AD46414_19, EXP 5/16/2014  chlorproMAZINE HCl, Tablet, 100 mg, NDC 00832030300, Pedigree AD70629_4, EXP 5/29/2014  guanFACINE HCl,",
          " Label Mixup sitaGLIPtin PHOSPHATE, Tablet, 50 mg may be potentially mislabeled as one of the following drugs  LACTOBACILLUS, Tablet, 0 mg, NDC 64980012950, Pedigree AD62992_1, EXP 5/23/2014  CYANOCOBALAMIN, Tablet, 500 mcg, NDC 00536355101, Pedigree W002860, EXP 6/7/2014.",
          " Label lacks warning or Rx legend Certain information was inadvertently excluded from the product carton label.",
          " Labeling Bears Unapproved Claims Dermatend is not FDA approved and therefore has not been shown to be safe and effective for the uses suggested in the labeling.",
          " Laboratory analysis conducted by the FDA has determined the Vicerex product contains undeclared tadalafil and the Black Ant product contains undeclared sildenafil.   Tadalafil and sildenafil are FDAApproved drugs used to treat male erectile dysfunction (ED), making the Vicerex and the Black Ant products unapproved new drugs.",
          " Lack of stability data and controls to support the manufacturers assigned retest or expiration date in firm's container/closure system.",
          " Lack of sterility assurance in compounded aseptically filled injectable products.",
          " Light sensitive drug products repackaged in transparent/partially transparent pouches.",
          " Low out of specification results for both pH and assay obtained during routine stability testing after 36 months.",
          " Martin Avenue Pharmacy, Inc. is conducting a voluntary recall of all compounded sterile preparations within expiry. The recall is being initiated in connection with a recent FDA inspection due to observations associated with certain quality control procedures that present a risk to sterility assurance.",
          " Metformin BP 1000mg was found in bottle of Metformin HCl 1000mg",
          " Multiple complaints for push through tablet breakage.",
          " Multiple finished products potentially contaminated with penicillin.",
          " Nnitrosodimethylamine (NDMA) has been detected in Ranitidine tablets, capsules and syrups.",
          " Not Elsewhere Classified Incorrect volume printed on the product label.",
          " Not Elsewhere Classified Products may contain synthetic latex and/or natural latex.",
          " Not Elsewhere Classified RFID formatting error which reads product in Ultraject syringe as expired and will not allow injection of product by the Optivantage injector.",
          " Not Elsewhere Classified Schedule IV controlled substance indicator of CIV being omitted  from the product carton, primary label is correct.",
          " Not Elsewhere Classified. This recall has been initiated due to mislabeling. The printed carton used in manufacturing both batches contained text for both 2% Xylocaine DENTAL and Articadent DENTAL. Xylocaine DENTAL is a trade name for Lidocaine HCL 2% and Epinephrine 1 100,000 formulation, while Articadent DENTAL is a trade name for Articaine HCI 4% and Epinephrine 1 100,000. The cartridges contained within the  printed carton are labeled appropriately as Articadent DENTAL.",
          " Not elsewhere classified On 12/12/11, DEA published a final rule in the Federal Register making this product a schedule IV (CIV)controlled substance.  This product is being recalled because this controlled product was not relabeled with the required \"CIV\" imprint on the label for products distributed after the 06/11/12 deadline.",
          " Nova Products, Inc. of Aston, Pennsylvania is voluntarily recalling XZEN PLATINUM because FDA laboratory analysis determined they contain undeclared amounts of sildenafil and tadalafil, active ingredients of FDAapproved drugs used to treat erectile dysfunction.",
          " Nova Products, Inc. of Aston, Pennsylvania is voluntarily recalling Xzen 1200 because FDA laboratory analysis determined they contain undeclared amounts of sildenafil and tadalafil, active ingredients of FDAapproved drugs used to treat erectile dysfunction.",
          " One shipment was inadvertantly stored refrigerated rather than the labeled room temperature recommendation at McKesson MedicalSurgical Inc., one of the distributing wholesalers.",
          " Oral care solutions were manufactured by a third party supplier on equipment shared with nonpharmaceutical products",
          " Out Of Specification (OOS) result for Assay.",
          " Out Of Specification levels of nitrogen dioxide.",
          " Out of Specification (OOS) results for the zstatistic value, which relates to the patients and caregiver ability to remove the release liner from the patch adhesive prior to administration, were obtained.",
          " Out of Specification (OOS) results for the zstatistic value, which relates to the patients and caregiver ability to remove the release liner from the patch adhesive prior to administration, were obtained.",
          " Out of Specification pH Test Results were found in Sodium Chloride Injection USP 0.9% 2 mL vial.",
          " Out of Specification results for either total microbial count or total organic carbon in the purified water utilized in the manufacturing process.",
          " Out of Specification results for mechanical peel force and/or the zstatistic value which relates to the patient's ability to remove the release liner from the patch adhesive prior to administration.",
          " Out of Specification results obtained for preservative Methylparaben content.",
          " Out of Specification results obtained for preservative butylparaben.",
          " Out of Specification results obtained for unknown impurities during stability testing by manufacturer",
          " Out of a specification result occurred during the 3month stability testing. Dissolution result at the 4hour time point was 41% (specification 2040%).",
          " Out of specification assay result in Esterified Estrogen and Methyltestosterone tablets.",
          " Out of specification for dissolution of sulfamethoxazole.",
          " Out of specification for dissolution.",
          " Out of specification for impurities.",
          " Out of specification for impurities.",
          " Out of specification for mechanical peel.",
          " Out of specification related substance results during stability testing.",
          " Out of specification result for preservative sodium benzoate.",
          " Out of specification results for Related Compound during routine stability testing.",
          " Out of specification results for Total Aerobic Microbial count in excipient purified water sample",
          " Out of specification results for viscosity in one lot of Glytone Acne Treatment Facial Cleanser.",
          " OutofSpecification (OOS) results for the Aspirin related compound Salicylic Acid was observed.",
          " Outofspecification result for an unidentified impurity at the 12 month stability test point.",
          " Outofspecification results in retained sample.",
          " Oversized tablets resulting in superpotent assays of both the hydrocodone and acetaminophen components.",
          " Parenteral product is labeled for use as an antidote.",
          " Park Compounding is voluntarily recalling two lots of  Methylcobalamin 5mg/ml and Multitrace5 Concentrate, and one lot of Testosterone Cypionate (sesame oil) for injection due lack of sterility assurance.",
          " Particulates identified as stainless steel and barium sulfate.",
          " Particulates observed in vials release for dispensing.",
          " Pfizer Inc. (Pfizer) is recalling PREMPRO (conjugated estrogens/medroxyprogesterone acetate tablets) because certain lots for this product  may not meet the specification for conjugated estrogens dissolution.",
          " Phenylephrine and pseudoephedrine are below monograph specifications, and label inaccurately contains wording \"Rx Only\".",
          " Potential for particulate matter on the syringe plunger.",
          " Potential for products to be crosscontaminated with penicillin.",
          " Potential for some tablets not conforming to weight specifications (under and over weight)",
          " Potential glass contamination",
          " Potential leakage of bags.",
          " Potential of punctures through the overwrap and primary container which may result in IV bag leaks.",
          " Potential presence of glass particulate matter in the vials.",
          " Potential product contamination with Burkholderia cepacia (B.cepacia) and Ralstonia pickettii (R. pickettii).",
          " Practices at firm may call into question the sterility of products intended to be sterile.",
          " Presence of NDEA (NNitrosodimethylamine), a carcinogen impurity, detected in the active ingredient.",
          " Presence of NDEA (NNitrosodimethylamine), a carcinogen impurity, detected in the active ingredient.",
          " Presence of NDMA impurity detected in product.",
          " Presence of NDMA impurity detected in product.",
          " Presence of NDMA impurity detected in product.",
          " Presence of Undeclared Additive Medicated lotion soap produced and distributed by the recalling firm contains the unapproved ingredient, Red Dye #15.  This dye is not approved for use in food, drugs or cosmetics.",
          " Presence of Undeclared Color Additive The product is being recalled because several inactive ingredients were not included in the labeling for this product Undeclared D&C Red #33, FD&C Blue #1, Titanium Dioxide Suspension, Purified Water USP.",
          " Presence of a foreign object in a single tablet.",
          " Presence of hair.",
          " Presence of particulate matter identified as API crystallization",
          " Printed expiration date should be Nov 2013 rather than Nov 2014.",
          " Process deficiencies were observed in the sterile ophthalmic and injectable products that could have compromised the sterility of the product.",
          " Product bags leaking at seam.",
          " Product being recalled due to the potential presence of cracked or broken capsules.",
          " Product bottle may be absent of desiccant.",
          " Product bottle may be absent of desiccant.",
          " Product bottle may be absent of desiccant.",
          " Product contains methanol.",
          " Product contains particulate identified to be crystallized active ingredient.",
          " Product contains undeclared indomethacin, diclofenac, and chlorzoxazone.",
          " Product contains undeclared sibutramine.",
          " Product did not contain drug.",
          " Product failed a known impurity specification.",
          " Product failed to meet USP Specifications on assay, content uniformity, and dissolution.",
          " Product is being recalled due to out of specification dissolution results obtained during routine stability testing.",
          " Product is not terminally sterialized and not tested per USP 71.",
          " Product sterility cannot be guaranteed.",
          " Product was found to contain undeclared active pharmaceutical ingredient Phenolphthalein",
          " Product was found to contain undeclared phenolphthalein and fluoxetine, making iNSANE an unapproved drug.",
          " Product was manufactured using an adulterated active pharmaceutical ingredient additionally, lack of process controls and good manufacturing practices resulted in finished product failing content uniformity specifications which can result in a product having a strength that is more or less than is labeled.",
          " Product was mixed with another type of mouth wash.",
          " Product was released while a hood certification discrepancy was being investigated.",
          " Product were manufactured with active pharmaceutical ingredient (API) batches contaminated with residual materials and solvents.",
          " Products are underdosed or have an incorrect dosage regime.",
          " Products contain undeclared active pharmaceutical ingredients desmethyl carbondenafil and dapoxetine.",
          " Products found to contain undeclared sibutramine, NDesmethylsibutramine, and Ndi  Desmethylsibutramine. Sibutramine was removed from the U.S. market for safety reasons, making these products unapproved new drugs.",
          " Products marked as dietary supplements have labeling that bears drug/disease claims, making them unapproved drugs.",
          " Products no longer meet the release liner removal specification and/or zstatistic.",
          " Products were manufactured outside of the controls required by current Good Manufacturing Practices.",
          " Purified water used to manufacture the drug products may have been contaminated with Burkholderia cepacia.",
          " QS Plus wipes were found to be contaminated with different substance (7820, Graffiti Remover).",
          " Recall due to complaints of split or broken tablets.",
          " Recall initiated as a precautionary measure due to a potential risk of product contamination with the bacteria B. cepacia.",
          " Received notice from supplier of potential Nitrosodimethylamine (NDMA) amounts above established levels.",
          " SCA is conducting a voluntary recall of certain lots of sterile admixtures due to a potential for leakage.",
          " Samples tested by FDA were found to contain sulfoaildenafil, an analogue of sildenafil, an FDA approved drug used in the treatment of male erectile dysfunction, making these products unapproved new drugs.",
          " Sandoz Inc is recalling Cefazolin for Injection, USP 1 gm vials, lot DB2208, due to a customer complaint for broken/cracked vials which was confirmed through review of retained samples.",
          " Some bottles may contain a small number of Nexium 20 mg capsules intended for the Japanese market in addtion to Nexium 40 mg capsules.",
          " Some canisters may not contain sufficient propellant to deliver the labeled claim of 200 actuations through the end of shelf life.",
          " Stability results found the product did not meet the drug dissolution specifications.",
          " Stability results found the product did not meet the drug release dissolution specifications.",
          " Stability testing was not conducted on manufactured sunscreen and hand sanitizer OTC products.",
          " Sterility could not be assured for compounded sterile renal nutritional prescriptions.",
          " Sterility of product is not assured",
          " Sterility of product is not assured.",
          " Suboptimal crimping in vial of Pediatric Infuvite Multiple Vitamins",
          " Teva Pharmaceuticals USA, is voluntarily recalling certain lots of Duloxetine DR Capsules USP, 20 mg, 30 mg & 60 mg due to a customer complaint trend regarding capsule breakage.",
          " The API for these products had an out of specification result for an organic impurity.",
          " The active ingredient, avobenzone, is used at 5% which is higher than the allowable 3% in the sunscreen formula per FDA sunscreen regulations.",
          " The active ingredient, fluocinolone acetonide, was found to be subpotent during the firm's routine testing.",
          " The firm is recalling all sterile preparations that are within expiry due to deficient practices which may have an impact on sterility assurance.",
          " The firm is recalling sterile compounded drugs within expiry due to lack of assurance of sterility.",
          " The firm is recalling the product because the product is subpotent and does not meet the labeled 0.25% zinc pyrithione level.",
          " The firm manufactured products using Hospira 0.9% Sodium Chloride, USP injection which were subsequently recalled due to the presence of particulate matter (human hair).",
          " The firm produced products using 0.9% Sodium Chloride Injection, USP or 5% Dextrose Injection, USP which were subsequently recalled by the manufacturer due to the presence of particulate matter.",
          " The firm received a complaint of a sterility failure using a nonvalidated sterility test on a medication cassette.",
          " The firm was notified that there was a dissolution out of specification result on the 6 month stability samples.",
          " The known impurity went out of specification at 12 months stability point.",
          " The product has an active pharmaceutical ingredient from an  unapproved source.",
          " The product has the potential for solution to leak at the administrative port.",
          " The product may not meet the limit for blend uniformity specification.",
          " The products are being recalled because they may contain foreign substances.",
          " The products were below specification for potency at the expiry stability point.",
          " There are also CGMP Deviations.",
          " There is a potential for foreign particulate matter in the API.",
          " There is a potential for frangible components to be broken, resulting in a leak at the port when the closure is removed.",
          " These dietary supplements contain undeclared sildenafil, an analogue of sildenafil, and/or tadalafil.",
          " These products are being recalled due to the presence of synthetic hormone/prohormone (methylated anabolic steroid) ingredient making them unapproved new drugs.",
          " These products have been found to be misbranded as  unapproved new drugs",
          " These products have been found to be misbranded as unapproved new drugs",
          " This action is being taken as a precautionary measure due to the product being repackaged in the U.S. using a filler material that (removes or blocks) less moisture than what is approved in the application.",
          " This product contains undeclared sibutramine. The presence of sibutramine, a previously approved controlled substance that was withdrawn from the U.S. market in October 2010 due to safety concerns, in this tainted product renders it an unapproved drug for which safety and efficacy have not been established and therefore subject to recall.",
          " This product is being recalled due to the discovery of particles in the stability samples and retain samples.",
          " Three lots of product being recalled having failed stability dissolution testing.",
          " Three lots were released where there was a failure to follow proper testing and investigation procedures. Product may be out of specification (OOS) for endotoxin.",
          " Tramodol 50 mg tablet has been found in a bottle of Ciprofloxacin 500 mg",
          " Two lots of Lidocaine 2% with Epinephrine 1100,000 Injectable, distributed under the names Octocaine 100, and 2% Xylocaine Dental, may be subpotent for the epinephrine component.",
          " Undeclared Sibutramine",
          " Various strengths of ibuprofen tablets/caplets are being recalled due to complaints of odor related to CGMP deficiencies.",
          " all compounded products within expiry produced using recalled filters",
          " all sterile human compounded drugs within expiry",
          " all sterile products compounded, repackaged, and distributed by this compounding pharmacy due to lack of sterility assurance and concerns associated with the quality control processes.",
          " an impurity identified as NButylBenzene Sulfonamide (NBBS) was detected during impurity testing",
          " concerns regarding the sufficiency of Quality Assurance controls over critical systems in the manufacturing facility that could impact the product quality of the finished products.",
          " confirmed customer report of a leaking bags and mold found between the outer bag and the overwrap",
          " consumer complaint for foreign matter embedded in the tablet identified as a broken piece of wire rope from the manufacturing equipment.",
          " customer complaint that an 8count professional sample bottle labeled as BRILINTA 90 mg tablets contained 5 ZURAMPIC 200 mg tablets, in addition to the expected 8 BRILINTA tablets.",
          " deficiencies at the manufacturer  may result in assay or content uniformity failures",
          " detection of NNitrosodimethylamine (NDMA) impurity above the acceptable intake level (per manufacturer)",
          " does not meet in process specification requirements",
          " due to concerns with production processes which cannot assure sterility of products intended to be sterile.",
          " due to the loss of product manufacturing records and retain product samples, there is no assurance that the product will remain within specification through the labeled expiration date.",
          " elevated levels of Benzaldehyde impurity was found in investigative samples (retain samples).",
          " emission of strong odor after package was opened.",
          " failed specification for unknown impurity at the 24 month stability testing.",
          " fine residue or dust identified as aluminum may be on exterior of the capsule shell",
          " for the active, HCB, and preservatives, Propylparaben and Butylparaben at the 18 month stability test point",
          " glass fragment observed in one vial of reconstituted product",
          " heavy metals (chromium, titanium etc) and inactive components of the product were visually observed during routine stability testing.",
          " high out of specification results for Dexamethasone adduct (related compound).",
          " high out of specification results for dissolution when measuring the amount of drug released at certain time points.",
          " high out of specification results for one of the known degradation products, mchlorobenzoic acid.",
          " impurity for NNitrosoNmethyl4aminobutyric acid (NMBA) detected in the active pharmaceutical ingredient (API) used to manufacture finished products.",
          " incomplete or missing data regarding production.",
          " incorrect or missing lot number and/or expiration date",
          " ineffective crimp on fliptop vials that may result in leaking at the neck of the vials.",
          " laboratory testing was not followed in accordance with GMP requirements.",
          " lack of quality assurance.",
          " lot made with active pharmaceutical ingredient that did not meet all its intended specifications.",
          " lots do not have stability that supports the use of the container system.",
          " low dissolution  results at S3 stage.",
          " low out of specification assay results for the bacitracin zinc ingredient.",
          " low out of specification dissolution results found during stability testing.",
          " manufactured under the same conditions as those found to be subpotent.",
          " manufacturer WestWard Pharm Corp. recalled these repackaged lots due to failed dissolution results.",
          " manufacturer is Not Registered with the Food and Drug Administration",
          " manufacturer recalled fentanyl API due to potential for glass particules",
          " manufacturing areas for the recalled products exceeded acceptance levels for microbial recovery leading to a lack of sterility assurance for these sterile injectable products.",
          " media fill failure at manufacturer",
          " metronidazole",
          " nonpharmaceutical grade PEG 40 Castor Oil was used due to a mislabeling by the supplier",
          " objectionable conditions observed during a FDA inspection",
          " out of specification for thickness.",
          " out of specification result obtained for the Particle Size Distribution test during stability testing.",
          " out of specification results for impurities/degradation testing for NOxide",
          " out of specification results for shear, an attribute related to the adhesive properties of the transdermal patches.",
          " out of specification results observed for low dissolution.",
          " outof specification value for homogeneity / phase separation.",
          " particulate matter identified as fibers and/or plastics",
          " particulate matter identified as iron oxide, was found embedded in the neck of glass vials.",
          " possible cross contamination of product due to cleaning procedure failure.",
          " potential for a defective syringe cap, resulting in a nonintegral unit",
          " potential glass contamination",
          " potential loss of potency in drugs packaged and stored in syringes.",
          " potentially contaminated with penicillin",
          " presence of undeclared sibutramine, desmethylsibutramine (an active metabolite of sibutramine) and phenolphthalein.",
          " presence of undeclared sildenafil.",
          " presence of unrelated ingredients (i.e. traces of Lisinopril, Mannitol, Iron, Calcium and Phosphorous).",
          " product assayed and found OOS for cyproheptadine",
          " product contains dexamethasone instead of hydrocortisone.",
          " product contains elevated levels of undeclared lead.",
          " product description section of testosterone cypionate incorrectly states \"in grapeseed oil\" instead of \"in sesame oil\" . The primary panel is correct",
          " product does not comply with cGMP requirements",
          " product found to contain undeclared sibutramine",
          " product has the potential to leak.",
          " product is an unapproved drug and additionally 3 lots were found to be subpotent.",
          " product linked to adverse event reports of endophthalimitis eye infections and FDA inspection findings resulted in concerns regarding quality control processes",
          " product produced on a day there was an excursion in environmental monitoring data.",
          " product sterility cannot be guaranteed.",
          " products are labeled as having SPF 10 protection however, this claim cannot be 100% guaranteed.",
          " products manufactured by contract manufacturer under conditions that could result in possible microbial contamination.",
          " products manufactured in a manner than cannot guarantee its sterility.",
          " products manufactured in a manner that may impact product quality that includes but is not limited to failed viscosity.",
          " products manufactured under conditions that could impact its product quality.",
          " products potentially could have been packaged in defective bottles, with a notched rim, that could cause inadequate foil sealing resulting in lack of moisture protection.",
          " products were manufactured with lack of process validation, cleaning validation, stability studies, and other current good manufacturing practice violations.",
          " raw material recalled due to stainless steel and other contamination.",
          " recent inspection observations associated with certain quality control procedures that present a risk to sterility and quality assurance.",
          " repackaged product was recalled by the manufacturer because it was manufactured under the same conditions as products found to be subpotent.",
          " tablet breakage while pushing through the blister pack (dispenser) .",
          " tainted product marketed as a dietary supplement. Product found to be tainted with sildenafil, an FDA approved drug for the treatment of male erectile dysfunction, making this an unapproved drug.",
          " the dosing cups are missing graduations applicable to certain age groups.",
          " the firm is recalling select sterile drug products.",
          " these repackaged and redistributed products are being recalled due to a recall notice from the active pharmaceutical ingredient manufacturer for deviations from current Good Manufacturing Practices that were found during a recent FDA inspection.",
          " this recall is due to a recent Hospira recall of vancomyicn hydrochloride 10gm vials due to presence of particulate matter.",
          " various products were not stored at Controlled Room Temperature as per USP guidelines during shipping",
          " various products were not stored at Controlled Room Temperature as per USP guidelines during shipping.",
          " white substance confirmed as Guaifenesin, an active ingredient was observed in some bottles.  If the product is shaken or warmed the white particles goes into the solution.",
          "All sterile products compounded, repackaged, and distributed by this  compounding pharmacy due to lack of sterility assurance and concerns associated with the quality control processes.",
          "Label Mixup ASCORBIC ACID Tablet, 500 mg may be potentially mislabeled as    FEBUXOSTAT, Tablet, 40 mg, NDC 64764091830, Pedigree AD23082_16, EXP 11/1/2013.",
          "Label Mixup CALCITRIOL, Capsule, 0.5 mcg may be potentially mislabeled as  NIACIN TR, Tablet, 250 mg, NDC 10939043533, Pedigree W003756, EXP 5/31/2014  ISONIAZID, Tablet, 300 mg, NDC 00555007102, Pedigree AD32757_28, EXP 5/13/2014.",
          "Label Mixup FLECAINIDE ACETATE Tablet, 50 mg may be potentially mislabeled as    VITAMIN B COMPLEX W/C, Tablet, NDC 00904026013, Pedigree AD46419_7, EXP 5/16/2014.",
          "Label Mixup LURASIDONE HCl Tablet, 120 mg may be potentially mislabeled as    DULoxetine HCl DR, Capsule, 20 mg, NDC 00002323560, Pedigree W003486, EXP 6/20/2014.",
          "Label Mixup MIRTAZAPINE Tablet, 7.5 mg may be potentially mislabeled as    BROMOCRIPTINE MESYLATE, Tablet, 2.5 mg, NDC 00574010603, Pedigree AD73525_40, EXP 5/30/2014  DULoxetine HCl DR, Capsule, 20 mg, NDC 00002323560, Pedigree W003005, EXP 6/11/2014  carBAMazepine ER, Tablet, 100 mg, NDC 00078051005, Pedigree W003330, EXP 6/18/2014.",
          "Label Mixup MULTIVITAMIN/MULTIMINERAL W/FLUORIDE, Chew Tablet, 1 mg (F) may be potentially mislabeled as    ISOMETHEPTENE MUCATE/ DICHLORALPHENAZONE/APAP, Capsule, 65 mg/100 mg/325 mg, NDC 44183044001, Pedigree AD22858_1, EXP 3/31/2014.",
          "Label Mixup QUEtiapine FUMARATE, Tablet, 25 mg may be potentially mislabeled as    MULTIVITAMIN/MULTIMINERAL, Chew Tablet, NDC 58914001460, Pedigree AD32325_1, EXP 5/9/2014  ASPIRIN DR EC, Tablet, 81 mg, NDC 00182106105, Pedigree W003094, EXP 6/13/2014.",
          "Label Mixup RANOLAZINE ER Tablet, 500 mg may be potentially mislabeled as    MELATONIN, Tablet, 3 mg, NDC 51991001406, Pedigree AD25452_16, EXP 5/3/2014  DULoxetine HCl DR, Capsule, 20 mg, NDC 00002323560, Pedigree AD70585_16, EXP 5/29/2014  OMEGA3 FATTY ACID, Capsule, 1000 mg, NDC 00904404360, Pedigree W002852, EXP 6/7/2014  VALSARTAN, Tablet, 80 mg, NDC 00078035834, Pedigree",
          "Label Mixup guaiFENesin ER, Tablet, 600 mg may be potentially mislabeled as    MISOPROSTOL, Tablet, 200 mcg, NDC 59762500801, Pedigree AD21965_13, EXP 5/1/2014  TACROLIMUS, Capsule, 1 mg, NDC 00781210301, Pedigree AD56917_7, EXP 5/21/2014  LACTOBACILLUS GG, Capsule, NDC 49100036374, Pedigree AD73627_17, EXP 5/30/2014  LACTOBACILLUS GG, Capsule, NDC 49100036374, Pedigree W003216",
          "Label Mixup tiZANidine HCl Tablet, 2 mg may be potentially mislabeled as    RIBAVIRIN, Capsule, 200 mg, NDC 68382026007, Pedigree AD21790_37, EXP 4/30/2014  CYANOCOBALAMIN, Tablet, 1000 mcg, NDC 00904421713, Pedigree AD46257_59, EXP 5/15/2014  NIACIN, Tablet, 100 mg, NDC 00904227160, Pedigree W002661, EXP 6/5/2014  PANTOPRAZOLE SODIUM DR, Tablet, 20 mg, NDC 00008060601, Pedigree",
          "Out of specification for percentage of active pharmaceutical ingredients.",
          "Out of specification result for a known impurity obtained during testing.",
          "Out of specification results for individual unknown impurities at 30th month Room Temperature Retained Sample stabilities test .",
          "SpecificationsUnknown degradant found during stability testing.",
          "Sterile Drug Product. The product was found to be contaminated with the bacteria Burkholderia cepecia.",
          "Sterile Product FDA analysis found  salmonella contamination",
          "Sterile Products  microbial contamination with B. cepacia",
          "Sterile Products Outofspecification results for microbial count were observed at the initial stability interval for Lansoprazole Delayed Release Capsules.",
          "Sterile Products Product was found to be contaminated with the bacteria, Sarcina Lutea.",
          "Sterile Products The firm is initiating a recall of some of its products due to the potential of high microbial loads.",
          "Sterility Confirmed customer complaints of glass product container vials that may be empty or cracked.",
          "Sterility Green Valley Drugs received positive sterility results from their testing lab on two lots of Methylprednisolone Preservative Free 40 mg/mL injectable suspension and  one lot of Cyanocobalamin 1000 mcg/mL injection, 30 mL MDV.",
          "Sterility Out of specification results for the sterility test for microbial contamination.",
          "Sterility Product is being recalled due to presence of Aspergillus Penicilloides",
          "Sterility contract laboratory identified Staphylococcus warneri in the product",
          "Sterility fungal contamination due to leaking containers.",
          "Sterility one or more components of the kit have been found to be contaminated with yeast.",
          "The manufacturer, Westward Pharmaceutical, recalled product because of the presence of black spots on tablets. In response, the repackager initiated its own recall.",
          "The product lots are being recalled due to laboratory results (from a contract lab) indicating microbial contamination. The FDA was concerned test results obtained from the recalling firm's contract testing lab may not be reliable. Hence the sterility of the products cannot be assured.",
          "The titratable iodine contained in the PovidoneIodine prep pads  is below label claim of 0.85%.",
          "free methylprednisolone 80mg/ml 10 ml vials.",
          "outofspecification (OOS) results for Azelastine Noxide",
          "potent Drug OutofSpecification assay results found at 3 month stability testing.",
          "sterile Products contamination with Burkholderia lata.",
          "sterile product.",
          "61518",
          "61683",
          "61871",
          "61891",
          "61918",
          "61947",
          "61948",
          "61957",
          "61960",
          "62416",
          "62439",
          "62443",
          "62459",
          "62511",
          "62627",
          "62911",
          "63395",
          "63511",
          "63821",
          "63846",
          "63891",
          "63899",
          "63908",
          "63953",
          "64018",
          "64056",
          "64104",
          "64137",
          "64188",
          "64298",
          "64358",
          "64372",
          "64644",
          "64661",
          "64710",
          "64716",
          "64835",
          "64879",
          "64957",
          "65008",
          "65019",
          "65047",
          "65095",
          "65125",
          "65154",
          "65172",
          "65180",
          "65181",
          "65253",
          "65318",
          "65360",
          "65393",
          "65441",
          "65479",
          "65490",
          "65515",
          "65601",
          "65642",
          "65690",
          "65707",
          "65774",
          "65780",
          "65784",
          "65840",
          "65876",
          "65894",
          "65951",
          "65979",
          "66083",
          "66104",
          "66233",
          "66297",
          "66360",
          "66402",
          "66469",
          "66566",
          "66568",
          "66838",
          "66856",
          "66913",
          "67053",
          "67092",
          "67118",
          "67228",
          "67247",
          "67303",
          "67420",
          "67471",
          "67664",
          "67688",
          "67690",
          "67718",
          "67723",
          "67784",
          "67811",
          "67846",
          "67860",
          "67881",
          "67904",
          "67971",
          "68048",
          "68098",
          "68122",
          "68158",
          "68345",
          "68375",
          "68557",
          "68572",
          "68579",
          "68626",
          "68637",
          "68671",
          "68728",
          "68787",
          "68793",
          "68812",
          "68879",
          "68967",
          "68969",
          "69056",
          "69075",
          "69135",
          "69152",
          "69157",
          "69233",
          "69237",
          "69248",
          "69346",
          "69359",
          "69445",
          "69494",
          "69519",
          "69547",
          "69553",
          "69567",
          "69633",
          "69724",
          "69928",
          "69942",
          "70001",
          "70041",
          "70118",
          "70148",
          "70174",
          "70317",
          "70444",
          "70452",
          "70452",
          "70555",
          "70656",
          "70740",
          "70743",
          "70807",
          "70849",
          "70936",
          "71004",
          "71046",
          "71078",
          "71104",
          "71205",
          "71219",
          "71220",
          "71275",
          "71310",
          "71371",
          "71375",
          "71415",
          "71418",
          "71494",
          "71535",
          "71591",
          "71598",
          "71618",
          "71656",
          "71765",
          "71806",
          "71844",
          "71846",
          "71892",
          "71920",
          "71921",
          "71973",
          "71989",
          "72072",
          "72177",
          "72179",
          "72241",
          "72361",
          "72455",
          "72476",
          "72493",
          "72520",
          "72522",
          "72594",
          "72614",
          "72648",
          "72699",
          "72733",
          "72746",
          "72795",
          "72800",
          "72947",
          "73016",
          "73018",
          "73032",
          "73090",
          "73152",
          "73304",
          "73336",
          "73434",
          "73537",
          "73569",
          "73571",
          "73574",
          "73626",
          "73653",
          "73662",
          "73662",
          "73679",
          "73811",
          "73899",
          "73899",
          "73925",
          "73960",
          "73973",
          "74017",
          "74057",
          "74068",
          "74187",
          "74319",
          "74361",
          "74399",
          "74466",
          "74497",
          "74539",
          "74606",
          "74694",
          "74792",
          "74847",
          "74874",
          "74949",
          "75092",
          "75164",
          "75230",
          "75247",
          "75289",
          "75537",
          "75552",
          "75566",
          "75581",
          "75628",
          "75650",
          "75695",
          "75745",
          "75757",
          "75763",
          "75764",
          "75880",
          "76103",
          "76395",
          "76443",
          "76472",
          "76513",
          "76539",
          "76543",
          "76561",
          "76644",
          "76663",
          "76726",
          "76743",
          "76890",
          "76912",
          "76982",
          "77161",
          "77191",
          "77311",
          "77314",
          "77315",
          "77323",
          "77336",
          "77353",
          "77398",
          "77503",
          "77526",
          "77595",
          "77634",
          "77647",
          "77770",
          "77780",
          "77822",
          "77840",
          "77859",
          "77862",
          "77915",
          "77959",
          "77992",
          "78021",
          "78051",
          "78063",
          "78227",
          "78232",
          "78320",
          "78325",
          "78415",
          "78461",
          "78553",
          "78575",
          "78595",
          "78637",
          "78730",
          "78822",
          "78828",
          "78991",
          "79036",
          "79063",
          "79114",
          "79119",
          "79149",
          "79175",
          "79327",
          "79457",
          "79606",
          "79619",
          "79640",
          "79671",
          "79748",
          "79772",
          "79788",
          "80006",
          "80118",
          "80119",
          "80167",
          "80303",
          "80307",
          "80343",
          "80356",
          "80365",
          "80538",
          "80557",
          "80601",
          "80633",
          "80638",
          "80719",
          "80750",
          "80750",
          "80767",
          "80773",
          "80791",
          "80881",
          "80890",
          "80997",
          "81002",
          "81218",
          "81337",
          "81346",
          "81436",
          "81441",
          "81442",
          "81457",
          "81500",
          "81613",
          "81646",
          "81775",
          "81784",
          "81795",
          "81810",
          "81883",
          "82021",
          "82106",
          "82127",
          "82147",
          "82278",
          "82337",
          "82398",
          "82421",
          "82463",
          "82554",
          "82585",
          "82615",
          "82620",
          "82660",
          "82680",
          "82760",
          "82782",
          "82863",
          "82889",
          "82947",
          "83018",
          "83074",
          "83074",
          "83136",
          "83137",
          "83151",
          "83190",
          "83265",
          "83316",
          "83417",
          "83427",
          "83434",
          "83437",
          "83457",
          "83581",
          "83669",
          "83700",
          "83789",
          "83798",
          "83840",
          "83996",
          "84000",
          "84011",
          "84055",
          "84082",
          "84179",
          "84218",
          "84261",
          "84263",
          "84353",
          "84396",
          "84401",
          "84527",
          "84546",
          "84550",
          "84620",
          "84622",
          "84637",
          "84696",
          "84797",
          "84798",
          "84799",
          "84860",
          "84927",
          "84978",
          "84990",
          "85039",
          "85081",
          "85136",
          "85207",
          "85212",
          "85232",
          "85341",
          "85404",
          "85538",
          "85726",
          "85773",
          "85774",
          "85848",
          "85854",
          "85903",
          "85992",
          "86037",
          "86123",
          "86243",
          "86264",
          "86343",
          "86498",
          "86533",
          "86579",
          "86584",
          "86624",
          "86656",
          "86685",
          "86712",
          "86767",
          "86787",
          "86799",
          "86858",
          "86955",
          "86990",
          "86997",
          "87233",
          "87283",
          "87298",
          "87373",
          "87566",
          "Adulterated Presence of Foreign Tablets/Capsules",
          "CGMP Deviation",
          "CGMP Deviations",
          "CGMP deviations",
          "Chemical Contamination",
          "Chemical contamination",
          "Contraceptive Tablets Out of Sequence",
          "Cross Contamination With Other Products",
          "Cross Contamination with Other Products",
          "Cross contamination with other products",
          "Crystallization",
          "Crystallization with subpotent out of  specification assay results for chlorhexidine.",
          "Defective Container",
          "Defective Delivery System",
          "Discoloration.",
          "Does Not Meet Monograph",
          "Failed Capsule/Tablet Specifications",
          "Failed Content Uniformity Specifications",
          "Failed Content Uniformity Specifications.",
          "Failed Degradation/Impurities Specifications",
          "Failed Dissolution Specification",
          "Failed Dissolution Specifications",
          "Failed Dissolution Specifications.",
          "Failed Dissolution Test Requirements",
          "Failed Impuities/Degradation Specifications",
          "Failed Impurities/Degradation",
          "Failed Impurities/Degradation Specifications",
          "Failed Impurities/Degradation Specifications ",
          "Failed Impurities/Degradation Specifications.",
          "Failed Impurity/Degradation Specification",
          "Failed Stability Specification",
          "Failed Stability Specifications",
          "Failed Stability Specifications.",
          "Failed Tablet/Capsule Specification",
          "Failed Tablet/Capsule Specifications",
          "Failed dissolution specifications",
          "Failed dissolution specifications ",
          "Failed pH Specifications",
          "Firm is recalling 46 lots of various products because of a lack of sterility assurance.",
          "First Aid Only, Inc is recalling Smart Tab First Aid ezRefill System Ibuprofen boxes  and First Aid Cabinets containing these Ibuprofen boxes.  Ibuprofen boxes (FAE 7014) were accidentally used to package  aspirin packs  (10 packs of 2 / 235mg tablets).",
          "GMP Deviations",
          "Good Manufacturing Practices Deviations",
          "Impurities/Degradation Products",
          "Incorrect Product Formulation",
          "Incorrect/Undeclared Excipient",
          "Labeling",
          "Labeling Product Contains Undeclared API",
          "Lack Of Assurance Of Sterility.",
          "Lack Of Processing Controls",
          "Lack of Assurance Sterility",
          "Lack of Assurance of Sterility",
          "Lack of Assurance of Sterility ",
          "Lack of Assurance of Sterility and Stability Data does not Support Expiry",
          "Lack of Assurance of Sterility.",
          "Lack of Processing Control",
          "Lack of Processing Controls",
          "Lack of Processing Controls (lack of assurance of conformity to specifications).",
          "Lack of Processing Controls.",
          "Lack of Sterility Assurance",
          "Lack of Sterility Assurance.",
          "Lack of assurance of sterility",
          "Lack of assurance of sterility for injectables and solutions intended to be sterile.",
          "Lack of sterility assurance.",
          "Marked Without An Approved NDA/ANDA",
          "Marketed Without An Approved NDA/ANDA",
          "Marketed Without an Approved NDA/ANDA",
          "Marketed without an Approved NDA/ANDA",
          "Marketed without an approved NDA/ANDA",
          "Marketed without an approved NDA/ANDA ",
          "Marketed without an approved NDA/ANDA  ",
          "Microbal Contamination of Non",
          "Microbial Contamination of Non",
          "Microbial Contamination of a Non",
          "Microbial contamination",
          "Microbial contamination of non",
          "Miscalibrated and/or Defective Delivery System",
          "Non",
          "Penicillin Cross Contamination",
          "Penicillin Cross Contamination and Presence of Foreign Substance.  Product was contaminated with penicillin and foreign substances during manufacturing process.",
          "Presence of Foreign Substance",
          "Presence of Foreign Substance(s)",
          "Presence of Foreign Tablet",
          "Presence of Foreign Tablets/Capsules",
          "Presence of Foriegn Substance",
          "Presence of Foriegn Tablets/Capsules",
          "Presence of Particulate Matter",
          "Presence of Particulate Matter.",
          "Presence of Particulate matter",
          "Presence of Particulate matter. Recall due to presence of unknown particulate matter.",
          "Presence of Paticulate Matter",
          "Presence of Precipitate",
          "Presence of particulate matter",
          "Presence of particulate matter ",
          "Recalled products were made using an active ingredient that was recalled by a supplier due to penicillin cross contamination.",
          "Stability Data Does Not Support Expiry",
          "Stability data does not support expiry.",
          "Sub",
          "Subpotency",
          "Subpotent",
          "Subpotent (Single Ingredient Drug)",
          "Subpotent Drug",
          "Subpotent drug",
          "Subpotent drug ",
          "Superpotent (Multiple Ingredient) Drug",
          "Superpotent Drug",
          "Superpotent and Subpotent drugs",
          "Tablet Thickness",
          "Temperature Abuse",
          "The affected lots of Carboplatin Injection, Cytarabine  Injection, Methotrexate Injection, USP, and Paclitaxel Injection are being recalled due to visible particles embedded in the glass located at the neck of the vial. There may be the potential for product to come into contact with the embedded particles and the particles may become dislodged into the solution.",
          "The firm received seven reports of adverse reactions in the form of skin abscesses potentially linked to compounded preservative",
          "Unapproved new drug",
          "Unit Dose Mispackaging",
          "cGMP Deviations",
          "cGMP deviation",
          "cGMP deviations",
          "Reasons for Recall"
         ],
         "marker": {
          "coloraxis": "coloraxis",
          "colors": [
           13,
           13,
           13,
           13,
           52,
           13,
           13,
           13,
           26,
           13,
           13,
           13,
           13,
           13,
           26,
           13,
           13,
           26,
           13,
           13,
           13,
           65,
           91,
           91,
           13,
           13,
           26,
           13,
           39,
           13,
           13,
           39,
           13,
           104,
           78,
           13,
           13,
           13,
           13,
           26,
           78,
           13,
           91,
           13,
           13,
           26,
           13,
           13,
           13,
           52,
           39,
           13,
           13,
           26,
           13,
           13,
           39,
           13,
           52,
           13,
           390,
           13,
           91,
           26,
           13,
           13,
           52,
           13,
           13,
           52,
           13,
           91,
           13,
           39,
           13,
           78,
           78,
           104,
           13,
           13,
           52,
           13,
           13,
           13,
           91,
           52,
           13,
           13,
           26,
           52,
           91,
           13,
           13,
           13,
           13,
           65,
           13,
           26,
           13,
           13,
           13,
           13,
           13,
           13,
           13,
           13,
           13,
           13,
           104,
           13,
           13,
           13,
           13,
           13,
           429,
           13,
           26,
           26,
           13,
           65,
           13,
           13,
           13,
           13,
           13,
           13,
           13,
           13,
           13,
           13,
           13,
           13,
           13,
           13,
           13,
           26,
           52,
           13,
           39,
           13,
           13,
           65,
           13,
           13,
           13,
           65,
           78,
           13,
           52,
           26,
           39,
           390,
           39,
           78,
           26,
           91,
           13,
           13,
           39,
           13,
           13,
           26,
           52,
           13,
           39,
           13,
           26,
           104,
           26,
           13,
           13,
           13,
           13,
           117,
           91,
           13,
           13,
           13,
           26,
           13,
           13,
           13,
           39,
           13,
           13,
           26,
           13,
           13,
           13,
           65,
           13,
           13,
           13,
           13,
           13,
           13,
           13,
           52,
           13,
           39,
           13,
           26,
           13,
           13,
           13,
           13,
           13,
           13,
           13,
           13,
           13,
           13,
           13,
           13,
           13,
           13,
           13,
           13,
           13,
           13,
           13,
           13,
           13,
           13,
           13,
           13,
           13,
           13,
           13,
           13,
           13,
           13,
           13,
           13,
           13,
           13,
           13,
           13,
           13,
           13,
           13,
           13,
           13,
           13,
           13,
           13,
           13,
           13,
           13,
           13,
           13,
           13,
           13,
           13,
           13,
           13,
           104,
           39,
           52,
           13,
           91,
           13,
           13,
           39,
           13,
           26,
           39,
           26,
           13,
           13,
           13,
           13,
           13,
           13,
           104,
           13,
           13,
           13,
           13,
           13,
           13,
           13,
           13,
           13,
           13,
           13,
           13,
           13,
           13,
           13,
           13,
           13,
           13,
           13,
           13,
           13,
           13,
           13,
           13,
           13,
           13,
           13,
           13,
           13,
           13,
           13,
           13,
           13,
           13,
           13,
           13,
           39,
           26,
           13,
           13,
           13,
           13,
           13,
           13,
           13,
           13,
           13,
           13,
           13,
           13,
           13,
           13,
           26,
           13,
           13,
           13,
           13,
           13,
           13,
           13,
           13,
           13,
           13,
           13,
           13,
           13,
           12,
           26,
           13,
           13,
           13,
           13,
           13,
           13,
           52,
           13,
           13,
           13,
           13,
           39,
           13,
           13,
           13,
           13,
           13,
           13,
           13,
           13,
           13,
           13,
           13,
           13,
           26,
           13,
           13,
           13,
           13,
           13,
           13,
           13,
           26,
           78,
           65,
           13,
           13,
           39,
           13,
           13,
           13,
           13,
           13,
           13,
           26,
           26,
           78,
           13,
           13,
           13,
           13,
           39,
           39,
           13,
           13,
           13,
           13,
           13,
           13,
           13,
           13,
           39,
           26,
           52,
           52,
           13,
           13,
           13,
           13,
           13,
           26,
           13,
           13,
           13,
           13,
           13,
           26,
           13,
           13,
           13,
           13,
           13,
           13,
           13,
           13,
           26,
           13,
           13,
           13,
           13,
           26,
           13,
           13,
           13,
           13,
           13,
           26,
           13,
           13,
           39,
           26,
           26,
           13,
           13,
           13,
           13,
           13,
           13,
           13,
           26,
           13,
           13,
           13,
           13,
           52,
           13,
           52,
           13,
           13,
           13,
           13,
           13,
           13,
           26,
           13,
           13,
           13,
           26,
           13,
           13,
           13,
           65,
           52,
           39,
           65,
           13,
           65,
           26,
           13,
           26,
           65,
           13,
           13,
           13,
           13,
           39,
           26,
           13,
           26,
           13,
           13,
           52,
           13,
           13,
           13,
           13,
           13,
           13,
           13,
           13,
           13,
           13,
           13,
           13,
           13,
           13,
           13,
           26,
           13,
           13,
           13,
           13,
           13,
           13,
           91,
           13,
           13,
           13,
           13,
           13,
           13,
           65,
           299,
           13,
           13,
           13,
           13,
           13,
           13,
           13,
           13,
           13,
           13,
           13,
           13,
           13,
           117,
           13,
           91,
           13,
           13,
           13,
           13,
           13,
           13,
           13,
           13,
           13,
           13,
           13,
           13,
           13,
           13,
           13,
           13,
           52,
           13,
           13,
           13,
           13,
           56.333333333333336,
           13,
           26,
           26,
           52,
           52,
           13,
           52,
           13,
           13,
           26,
           13,
           26,
           13,
           13,
           13,
           13,
           78,
           13,
           13,
           299,
           26,
           13,
           13,
           26,
           13,
           13,
           13,
           13,
           13,
           26,
           91,
           13,
           13,
           13,
           13,
           13,
           26,
           13,
           13,
           13,
           13,
           65,
           13,
           13,
           26,
           13,
           13,
           13,
           13,
           13,
           13,
           13,
           26,
           13,
           13,
           13,
           13,
           13,
           52,
           13,
           13,
           13,
           13,
           13,
           13,
           13,
           13,
           13,
           13,
           13,
           13,
           13,
           39,
           13,
           13,
           26,
           13,
           13,
           13,
           13,
           21.666666666666668,
           13,
           13,
           13,
           13,
           13,
           13,
           13,
           91,
           13,
           13,
           13,
           13,
           13,
           13,
           13,
           26,
           26,
           13,
           13,
           13,
           13,
           13,
           13,
           13,
           13,
           13,
           26,
           91,
           13,
           13,
           13,
           429,
           13,
           13,
           65,
           13,
           13,
           13,
           13,
           13,
           13,
           13,
           39,
           39,
           26,
           13,
           13,
           13,
           13,
           390,
           13,
           13,
           13,
           13,
           26,
           26,
           13,
           52,
           13,
           13,
           52,
           13,
           39,
           13,
           13,
           13,
           13,
           52,
           13,
           13,
           78,
           65,
           39,
           65,
           13,
           13,
           91,
           13,
           91,
           13,
           26,
           13,
           13,
           26,
           13,
           13,
           13,
           13,
           13,
           13,
           26,
           13,
           26,
           13,
           13,
           13,
           13,
           13,
           13,
           13,
           13,
           13,
           39,
           13,
           13,
           39,
           13,
           52,
           104,
           13,
           13,
           104,
           13,
           78,
           13,
           13,
           13,
           78,
           13,
           13,
           13,
           13,
           13,
           13,
           13,
           13,
           13,
           13,
           26,
           26,
           78,
           13,
           13,
           26,
           13,
           13,
           13,
           13,
           39,
           13,
           91,
           13,
           13,
           13,
           13,
           13,
           78,
           13,
           13,
           13,
           39,
           65,
           26,
           13,
           13,
           26,
           65,
           13,
           13,
           26,
           13,
           13,
           13,
           13,
           13,
           26,
           26,
           13,
           39,
           13,
           26,
           13,
           26,
           26,
           13,
           52,
           13,
           13,
           13,
           13,
           104,
           13,
           13,
           52,
           39,
           13,
           13,
           13,
           13,
           13,
           65,
           65,
           13,
           13,
           13,
           39,
           26,
           13,
           13,
           13,
           13,
           13,
           104,
           13,
           13,
           13,
           13,
           104,
           13,
           13,
           39,
           13,
           13,
           13,
           52,
           26,
           13,
           13,
           39,
           26,
           13,
           13,
           13,
           13,
           390,
           13,
           13,
           13,
           65,
           13,
           13,
           13,
           13,
           13,
           39,
           13,
           91,
           39,
           13,
           26,
           13,
           13,
           13,
           13,
           13,
           13,
           26,
           13,
           13,
           13,
           52,
           13,
           13,
           13,
           13,
           13,
           39,
           13,
           52,
           12,
           13,
           91,
           13,
           13,
           39,
           13,
           13,
           13,
           39,
           13,
           13,
           13,
           26,
           13,
           78,
           78,
           13,
           26,
           13,
           104,
           13,
           13,
           65,
           13,
           39,
           13,
           13,
           52,
           13,
           13,
           26,
           13,
           39,
           13,
           13,
           65,
           13,
           13,
           13,
           13,
           39,
           13,
           13,
           13,
           52,
           91,
           13,
           13,
           13,
           13,
           13,
           13,
           13,
           13,
           26,
           13,
           52,
           13,
           13,
           13,
           13,
           13,
           26,
           13,
           39,
           52,
           13,
           13,
           13,
           13,
           13,
           26,
           13,
           91,
           13,
           52,
           13,
           13,
           26,
           13,
           13,
           13,
           13,
           13,
           13,
           13,
           13,
           13,
           13,
           13,
           13,
           13,
           52,
           13,
           13,
           13,
           26,
           13,
           13,
           13,
           13,
           36.80722891566265,
           18.2,
           13,
           26,
           13,
           93.88888888888889,
           13,
           13,
           13,
           13,
           17.333333333333332,
           13,
           13,
           13,
           13,
           13,
           13,
           13,
           13,
           15.88888888888889,
           13,
           13,
           13,
           13,
           13,
           13,
           13,
           13,
           13,
           13,
           13,
           13,
           16.25,
           13,
           13,
           13,
           26,
           13,
           21.666666666666668,
           13,
           13,
           13,
           13,
           18.805825242718445,
           13,
           13,
           13,
           104,
           97.27340031729244,
           39,
           65,
           32.5,
           52,
           36.63636363636363,
           91,
           39,
           31.571428571428573,
           21.666666666666668,
           13,
           13,
           62.483870967741936,
           65,
           13,
           25,
           17.333333333333332,
           13,
           13,
           13,
           26,
           13,
           13,
           390,
           13,
           13,
           55,
           345.42857142857144,
           13,
           18.77777777777778,
           13,
           13,
           13,
           13,
           13,
           44,
           13,
           39,
           13,
           13,
           13,
           13,
           13,
           26,
           35.285714285714285,
           13,
           13,
           13,
           13,
           13,
           35.285714285714285,
           13,
           13,
           13,
           13,
           26,
           13,
           19.5,
           13,
           299,
           13,
           13,
           16.25,
           13,
           13,
           79.66820524655743
          ]
         },
         "maxdepth": 2,
         "name": "",
         "parents": [
          "Reasons for Recall/The affected lots of Carboplatin Injection, Cytarabine  Injection, Methotrexate Injection, USP, and Paclitaxel Injection are being recalled due to visible particles embedded in the glass located at the neck of the vial. There may be the potential for product to come into contact with the embedded particles and the particles may become dislodged into the solution./62459",
          "Reasons for Recall/Lack of Assurance of Sterility/63511",
          "Reasons for Recall/Failed Dissolution Test Requirements/63908",
          "Reasons for Recall/Subpotent/66402",
          "Reasons for Recall/Penicillin Cross Contamination/67723",
          "Reasons for Recall/First Aid Only, Inc is recalling Smart Tab First Aid ezRefill System Ibuprofen boxes  and First Aid Cabinets containing these Ibuprofen boxes.  Ibuprofen boxes (FAE 7014) were accidentally used to package  aspirin packs  (10 packs of 2 / 235mg tablets)./67846",
          "Reasons for Recall/Failed Content Uniformity Specifications./69075",
          "Reasons for Recall/Subpotent Drug/69553",
          "Reasons for Recall/Lack of sterility assurance./70118",
          "Reasons for Recall/Subpotent Drug/70555",
          "Reasons for Recall/Lack of assurance of sterility/70807",
          "Reasons for Recall/Presence of Particulate Matter/70936",
          "Reasons for Recall/Presence of Particulate Matter/71004",
          "Reasons for Recall/Subpotent drug/71046",
          "Reasons for Recall/Lack of Assurance of Sterility/71205",
          "Reasons for Recall/Failed dissolution specifications/71219",
          "Reasons for Recall/Subpotent drug/71375",
          "Reasons for Recall/Recalled products were made using an active ingredient that was recalled by a supplier due to penicillin cross contamination./71535",
          "Reasons for Recall/Subpotent drug/71765",
          "Reasons for Recall/Penicillin Cross Contamination and Presence of Foreign Substance.  Product was contaminated with penicillin and foreign substances during manufacturing process./71920",
          "Reasons for Recall/Stability data does not support expiry./72177",
          "Reasons for Recall/Lack of Assurance of Sterility/72455",
          "Reasons for Recall/Lack of Assurance of Sterility/72520",
          "Reasons for Recall/Lack of Assurance of Sterility/72594",
          "Reasons for Recall/Marketed Without An Approved NDA/ANDA/73018",
          "Reasons for Recall/Failed Impurities/Degradation Specifications/73152",
          "Reasons for Recall/Lack of Assurance of Sterility/73304",
          "Reasons for Recall/Lack of Assurance of Sterility/73336",
          "Reasons for Recall/Lack of Processing Controls/73662",
          "Reasons for Recall/Failed Impurities/Degradation Specifications/73679",
          "Reasons for Recall/Failed Impuities/Degradation Specifications/73811",
          "Reasons for Recall/Lack of Sterility Assurance/73899",
          "Reasons for Recall/Lack of Sterility Assurance./73899",
          "Reasons for Recall/Lack of Assurance of Sterility/73960",
          "Reasons for Recall/Lack of Assurance of Sterility/74466",
          "Reasons for Recall/CGMP Deviations/74497",
          "Reasons for Recall/Failed Impurities/Degradation Specifications/74694",
          "Reasons for Recall/Lack of assurance of sterility/75092",
          "Reasons for Recall/Lack of Assurance of Sterility/75164",
          "Reasons for Recall/Superpotent and Subpotent drugs/75247",
          "Reasons for Recall/Lack of Assurance of Sterility/75289",
          "Reasons for Recall/CGMP Deviations/75757",
          "Reasons for Recall/Lack of Assurance of Sterility/75763",
          "Reasons for Recall/Discoloration./76743",
          "Reasons for Recall/Lack of Assurance of Sterility/77595",
          "Reasons for Recall/Lack of Sterility Assurance./77780",
          "Reasons for Recall/Crystallization with subpotent out of  specification assay results for chlorhexidine./77822",
          "Reasons for Recall/Failed Dissolution Specifications/77862",
          "Reasons for Recall/Lack of Assurance of Sterility./77959",
          "Reasons for Recall/Subpotent Drug/78063",
          "Reasons for Recall/Lack of Assurance of Sterility./78227",
          "Reasons for Recall/Lack Of Assurance Of Sterility./78320",
          "Reasons for Recall/Failed Impurities/Degradation Specifications./78325",
          "Reasons for Recall/Lack of sterility assurance./78828",
          "Reasons for Recall/cGMP Deviations/79606",
          "Reasons for Recall/Presence of Particulate matter. Recall due to presence of unknown particulate matter./79671",
          "Reasons for Recall/Lack of Processing Controls./79748",
          "Reasons for Recall/CGMP Deviations/80006",
          "Reasons for Recall/Lack of sterility assurance./80118",
          "Reasons for Recall/Failed Impurities/Degradation Specifications/80356",
          "Reasons for Recall/Microbial contamination/80601",
          "Reasons for Recall/CGMP Deviations/80881",
          "Reasons for Recall/Lack of Assurance of Sterility/81002",
          "Reasons for Recall/Lack of Assurance of Sterility/81346",
          "Reasons for Recall/Cross Contamination with Other Products/81457",
          "Reasons for Recall/Failed Dissolution Specifications./81795",
          "Reasons for Recall/Lack of sterility assurance./81810",
          "Reasons for Recall/Lack of sterility assurance./81883",
          "Reasons for Recall/Unapproved new drug/82106",
          "Reasons for Recall/Lack of Assurance of Sterility/82398",
          "Reasons for Recall/Presence of Particulate Matter./82463",
          "Reasons for Recall/Lack of sterility assurance./82554",
          "Reasons for Recall/Lack of assurance of sterility for injectables and solutions intended to be sterile./82615",
          "Reasons for Recall/Lack of sterility assurance./82620",
          "Reasons for Recall/Crystallization/83074",
          "Reasons for Recall/Lack of Assurance of Sterility/83074",
          "Reasons for Recall/Lack of Assurance of Sterility/83136",
          "Reasons for Recall/Lack of Assurance of Sterility/83265",
          "Reasons for Recall/Failed dissolution specifications/83434",
          "Reasons for Recall/Failed Impurities/Degradation Specifications/83581",
          "Reasons for Recall/Lack of Assurance of Sterility/83669",
          "Reasons for Recall/Failed Stability Specifications./83700",
          "Reasons for Recall/Lack of Assurance of Sterility/83789",
          "Reasons for Recall/Lack of sterility assurance./84401",
          "Reasons for Recall/Lack of sterility assurance./84546",
          "Reasons for Recall/Lack of Assurance of Sterility/84978",
          "Reasons for Recall/Lack Of Processing Controls/85081",
          "Reasons for Recall/Subpotent Drug/85207",
          "Reasons for Recall/Firm is recalling 46 lots of various products because of a lack of sterility assurance./85212",
          "Reasons for Recall/Lack of Processing Control/85404",
          "Reasons for Recall/Lack of Processing Controls (lack of assurance of conformity to specifications)./85992",
          "Reasons for Recall/GMP Deviations/86579",
          "Reasons for Recall/CGMP Deviations/86712",
          "Reasons for Recall/Subpotent drug/86858",
          "Reasons for Recall/CGMP Deviations/86955",
          "Reasons for Recall/Lack of Assurance of Sterility/72241",
          "Reasons for Recall/Lack of Assurance of Sterility/74539",
          "Reasons for Recall/Failed Tablet/Capsule Specifications/72648",
          "Reasons for Recall/Lack of assurance of sterility/74606",
          "Reasons for Recall/Presence of Particulate Matter/73653",
          "Reasons for Recall/Subpotent/63846",
          "Reasons for Recall/Subpotent/65047",
          "Reasons for Recall/Presence of Foreign Tablets/Capsules/75880",
          "Reasons for Recall/Subpotent/69233",
          "Reasons for Recall/Failed Dissolution Specifications/75764",
          "Reasons for Recall/Lack of Assurance of Sterility/67904",
          "Reasons for Recall/Lack of Assurance of Sterility/69633",
          "Reasons for Recall/Presence of particulate matter/69567",
          "Reasons for Recall/Presence of Particulate Matter/74057",
          "Reasons for Recall/Failed Capsule/Tablet Specifications/70001",
          "Reasons for Recall/Labeling Product Contains Undeclared API/84620",
          "Reasons for Recall/cGMP Deviations/76103",
          "Reasons for Recall/Failed Impurities/Degradation Specifications/84550",
          "Reasons for Recall/cGMP deviations/65154",
          "Reasons for Recall/Penicillin Cross Contamination/70452",
          "Reasons for Recall/Stability Data Does Not Support Expiry/70452",
          "Reasons for Recall/Lack of Sterility Assurance/66856",
          "Reasons for Recall/Lack of Sterility Assurance/69519",
          "Reasons for Recall/Lack of Assurance of Sterility/66568",
          "Reasons for Recall/Lack of Assurance of Sterility/66566",
          "Reasons for Recall/Superpotent Drug/76726",
          "Reasons for Recall/Presence of Precipitate/82660",
          "Reasons for Recall/Failed Impurities/Degradation Specifications/82947",
          "Reasons for Recall/Presence of Particulate Matter/66913",
          "Reasons for Recall/Presence of Paticulate Matter/67092",
          "Reasons for Recall/Marketed without an approved NDA/ANDA/78461",
          "Reasons for Recall/Failed Tablet/Capsule Specifications/69157",
          "Reasons for Recall/CGMP Deviations/80538",
          "Reasons for Recall/CGMP Deviations/80557",
          "Reasons for Recall/CGMP Deviations/80773",
          "Reasons for Recall/Presence of Particulate Matter/68048",
          "Reasons for Recall/Presence of Particulate Matter/68579",
          "Reasons for Recall/Defective Container/72947",
          "Reasons for Recall/Unit Dose Mispackaging/84261",
          "Reasons for Recall/CGMP Deviations/82337",
          "Reasons for Recall/Failed Dissolution Specifications/76663",
          "Reasons for Recall/Lack of Assurance of Sterility/71618",
          "Reasons for Recall/Subpotent Drug/67053",
          "Reasons for Recall/Lack of Processing Controls/83996",
          "Reasons for Recall/Marketed Without An Approved NDA/ANDA/65894",
          "Reasons for Recall/Marketed Without An Approved NDA/ANDA/77859",
          "Reasons for Recall/Marked Without An Approved NDA/ANDA/76644",
          "Reasons for Recall/Marketed Without An Approved NDA/ANDA/65441",
          "Reasons for Recall/Marketed without an Approved NDA/ANDA/85232",
          "Reasons for Recall/Marketed without an Approved NDA/ANDA/67247",
          "Reasons for Recall/Lack of Assurance of Sterility/64661",
          "Reasons for Recall/Lack of Assurance of Sterility/65360",
          "Reasons for Recall/Lack of Assurance of Sterility/64661",
          "Reasons for Recall/Lack of Assurance of Sterility/65019",
          "Reasons for Recall/Lack of Assurance of Sterility/65125",
          "Reasons for Recall/GMP Deviations/77526",
          "Reasons for Recall/Lack of Assurance of Sterility/71371",
          "Reasons for Recall/Lack of Assurance of Sterility/72361",
          "Reasons for Recall/Lack of Assurance of Sterility/74187",
          "Reasons for Recall/Lack of Assurance of Sterility/64716",
          "Reasons for Recall/Lack of Assurance of Sterility/65876",
          "Reasons for Recall/CGMP Deviations/81613",
          "Reasons for Recall/CGMP Deviations/82585",
          "Reasons for Recall/CGMP Deviations/82782",
          "Reasons for Recall/CGMP Deviations/83840",
          "Reasons for Recall/CGMP Deviations/81500",
          "Reasons for Recall/CGMP Deviations/81646",
          "Reasons for Recall/Marketed Without an Approved NDA/ANDA/71989",
          "Reasons for Recall/Failed Content Uniformity Specifications/71598",
          "Reasons for Recall/CGMP Deviations/71104",
          "Reasons for Recall/Lack of Assurance of Sterility/77161",
          "Reasons for Recall/Lack of Assurance of Sterility/73090",
          "Reasons for Recall/Lack of Assurance Sterility/79619",
          "Reasons for Recall/Lack of Processing Controls/80119",
          "Reasons for Recall/Presence of Foreign Tablets/Capsules/74949",
          "Reasons for Recall/Lack of Assurance of Sterility/69056",
          "Reasons for Recall/Contraceptive Tablets Out of Sequence/77323",
          "Reasons for Recall/Marketed Without An Approved NDA/ANDA/78991",
          "Reasons for Recall/Lack of Assurance of Sterility/62416",
          "Reasons for Recall/Lack of Assurance of Sterility/62443",
          "Reasons for Recall/Superpotent Drug/73569",
          "Reasons for Recall/Failed Impurities/Degradation Specifications/68787",
          "Reasons for Recall/Lack of Assurance of Sterility/61918",
          "Reasons for Recall/Marketed without an Approved NDA/ANDA/68626",
          "Reasons for Recall/Labeling/69942",
          "Reasons for Recall/CGMP Deviations/84353",
          "Reasons for Recall/CGMP Deviations/85039",
          "Reasons for Recall/Lack of Assurance of Sterility/80890",
          "Reasons for Recall/CGMP Deviations/78730",
          "Reasons for Recall/Labeling/72699",
          "Reasons for Recall/Labeling/65840",
          "Reasons for Recall/Labeling/86584",
          "Reasons for Recall/Labeling/85136",
          "Reasons for Recall/Labeling/79640",
          "Reasons for Recall/Labeling/78553",
          "Reasons for Recall/Labeling/81337",
          "Reasons for Recall/Labeling/64372",
          "Reasons for Recall/Labeling/69445",
          "Reasons for Recall/Labeling/73032",
          "Reasons for Recall/Labeling/68572",
          "Reasons for Recall/Labeling/78232",
          "Reasons for Recall/Labeling/86997",
          "Reasons for Recall/Labeling/84527",
          "Reasons for Recall/Labeling/84082",
          "Reasons for Recall/Lack of Processing Controls/82278",
          "Reasons for Recall/Labeling/65008",
          "Reasons for Recall/Labeling/66233",
          "Reasons for Recall/Labeling/81441",
          "Reasons for Recall/Labeling/78637",
          "Reasons for Recall/Labeling/87283",
          "Reasons for Recall/Labeling/79457",
          "Reasons for Recall/Labeling/73662",
          "Reasons for Recall/Labeling/65690",
          "Reasons for Recall/Labeling/65690",
          "Reasons for Recall/Labeling/65690",
          "Reasons for Recall/Labeling/65690",
          "Reasons for Recall/Labeling/65690",
          "Reasons for Recall/Labeling/65690",
          "Reasons for Recall/Labeling/65690",
          "Reasons for Recall/Labeling/65690",
          "Reasons for Recall/Labeling/65707",
          "Reasons for Recall/Labeling/65690",
          "Reasons for Recall/Labeling/65690",
          "Reasons for Recall/Labeling/65707",
          "Reasons for Recall/Labeling/65690",
          "Reasons for Recall/Labeling/65707",
          "Reasons for Recall/Labeling/65690",
          "Reasons for Recall/Labeling/65690",
          "Reasons for Recall/Labeling/65690",
          "Reasons for Recall/Labeling/65707",
          "Reasons for Recall/Labeling/65707",
          "Reasons for Recall/Labeling/65690",
          "Reasons for Recall/Labeling/65690",
          "Reasons for Recall/Labeling/65707",
          "Reasons for Recall/Labeling/65690",
          "Reasons for Recall/Labeling/65707",
          "Reasons for Recall/Labeling/65690",
          "Reasons for Recall/Labeling/65690",
          "Reasons for Recall/Labeling/65690",
          "Reasons for Recall/Labeling/65690",
          "Reasons for Recall/Labeling/65690",
          "Reasons for Recall/Labeling/65707",
          "Reasons for Recall/Labeling/65707",
          "Reasons for Recall/Labeling/65690",
          "Reasons for Recall/Labeling/65707",
          "Reasons for Recall/Labeling/65707",
          "Reasons for Recall/Labeling/65707",
          "Reasons for Recall/Labeling/65690",
          "Reasons for Recall/Labeling/65707",
          "Reasons for Recall/Labeling/65690",
          "Reasons for Recall/Labeling/65707",
          "Reasons for Recall/Labeling/61948",
          "Reasons for Recall/Labeling/65707",
          "Reasons for Recall/Labeling/65707",
          "Reasons for Recall/Labeling/77315",
          "Reasons for Recall/Labeling/87233",
          "Reasons for Recall/Labeling/65690",
          "Reasons for Recall/Labeling/65690",
          "Reasons for Recall/Labeling/63821",
          "Reasons for Recall/Labeling/69135",
          "Reasons for Recall/Marketed without an Approved NDA/ANDA/65095",
          "Reasons for Recall/CGMP Deviations/79149",
          "Reasons for Recall/Lack of Assurance of Sterility/68557",
          "Reasons for Recall/CGMP Deviations/86123",
          "Reasons for Recall/Subpotent Drug/68812",
          "Reasons for Recall/Lack of Assurance of Sterility/69152",
          "Reasons for Recall/Presence of Foreign Tablet/79119",
          "Reasons for Recall/Failed Tablet/Capsule Specifications/66360",
          "Reasons for Recall/Penicillin Cross Contamination/71078",
          "Reasons for Recall/CGMP Deviations/84218",
          "Reasons for Recall/Labeling/77191",
          "Reasons for Recall/Labeling/76561",
          "Reasons for Recall/Labeling/83798",
          "Reasons for Recall/Labeling/79175",
          "Reasons for Recall/Labeling/82760",
          "Reasons for Recall/Labeling/64104",
          "Reasons for Recall/Marketed Without an Approved NDA/ANDA/67860",
          "Reasons for Recall/Marketed Without an Approved NDA/ANDA/67860",
          "Reasons for Recall/Temperature Abuse/69346",
          "Reasons for Recall/Cross Contamination With Other Products/77992",
          "Reasons for Recall/Superpotent Drug/71973",
          "Reasons for Recall/Impurities/Degradation Products/61947",
          "Reasons for Recall/Defective Delivery System/64710",
          "Reasons for Recall/Defective Delivery System/67718",
          "Reasons for Recall/Failed pH Specifications/86685",
          "Reasons for Recall/CGMP Deviations/83316",
          "Reasons for Recall/Miscalibrated and/or Defective Delivery System/61891",
          "Reasons for Recall/Failed Stability Specifications/77311",
          "Reasons for Recall/Failed Stability Specifications/72493",
          "Reasons for Recall/Failed Impurities/Degradation Specifications/87566",
          "Reasons for Recall/Failed Dissolution Specification/64056",
          "Reasons for Recall/Subpotent Drug/83137",
          "Reasons for Recall/Failed Dissolution Specifications/70743",
          "Reasons for Recall/Failed Dissolution Specifications/86787",
          "Reasons for Recall/Failed Impurities/Degradation Specifications/72476",
          "Reasons for Recall/Failed Impurities/Degradation Specifications/72733",
          "Reasons for Recall/Defective Delivery System/87373",
          "Reasons for Recall/Failed Degradation/Impurities Specifications/82127",
          "Reasons for Recall/Failed Stability Specifications/68879",
          "Reasons for Recall/Impurities/Degradation Products/62911",
          "Reasons for Recall/GMP Deviations/81784",
          "Reasons for Recall/Failed Stability Specifications/68098",
          "Reasons for Recall/Failed Stability Specifications/86264",
          "Reasons for Recall/Failed Impurities/Degradation Specifications /69547",
          "Reasons for Recall/Failed Dissolution Specifications/74847",
          "Reasons for Recall/Superpotent (Multiple Ingredient) Drug/63899",
          "Reasons for Recall/Marketed Without An Approved NDA/ANDA/68158",
          "Reasons for Recall/Lack of Assurance of Sterility/66083",
          "Reasons for Recall/Presence of Particulate Matter/67690",
          "Reasons for Recall/Presence of Particulate Matter/84622",
          "Reasons for Recall/Failed Dissolution Specifications/65393",
          "Reasons for Recall/Does Not Meet Monograph/68671",
          "Reasons for Recall/Presence of Particulate Matter/80167",
          "Reasons for Recall/Penicillin Cross Contamination/72795",
          "Reasons for Recall/Tablet Thickness/61871",
          "Reasons for Recall/cGMP Deviations/83457",
          "Reasons for Recall/Lack of Assurance of Sterility/80307",
          "Reasons for Recall/Lack of Assurance of Sterility/69494",
          "Reasons for Recall/Presence of Particulate Matter/68969",
          "Reasons for Recall/cGMP Deviations/82889",
          "Reasons for Recall/Lack of Assurance of Sterility/80633",
          "Reasons for Recall/CGMP Deviation/81442",
          "Reasons for Recall/CGMP Deviation/82147",
          "Reasons for Recall/CGMP Deviations/84637",
          "Reasons for Recall/CGMP Deviations/84799",
          "Reasons for Recall/CGMP Deviations/86498",
          "Reasons for Recall/Labeling/61960",
          "Reasons for Recall/Labeling/61683",
          "Reasons for Recall/Presence of Foreign Substance/84396",
          "Reasons for Recall/Presence of Foreign Substance/71921",
          "Reasons for Recall/Crystallization/84011",
          "Reasons for Recall/Stability Data Does Not Support Expiry/67688",
          "Reasons for Recall/Lack of Assurance of Sterility/71591",
          "Reasons for Recall/Lack of assurance of sterility/77314",
          "Reasons for Recall/Failed Tablet/Capsule Specifications/69724",
          "Reasons for Recall/CGMP deviations/84797",
          "Reasons for Recall/GMP Deviations/84798",
          "Reasons for Recall/GMP Deviations/84990",
          "Reasons for Recall/Chemical Contamination/86037",
          "Reasons for Recall/Crystallization/74399",
          "Reasons for Recall/Marketed Without an Approved NDA/ANDA/68122",
          "Reasons for Recall/Marketed Without an Approved NDA/ANDA/72614",
          "Reasons for Recall/Subpotent drug /85773",
          "Reasons for Recall/Failed Impurities/Degradation Specifications/69928",
          "Reasons for Recall/Subpotent Drug/69248",
          "Reasons for Recall/Failed Dissolution Specifications/65515",
          "Reasons for Recall/Lack of Assurance of Sterility/82421",
          "Reasons for Recall/Lack of Assurance of Sterility/72746",
          "Reasons for Recall/Marketed Without an Approved NDA/ANDA/67471",
          "Reasons for Recall/Marketed Without An Approved NDA/ANDA/70444",
          "Reasons for Recall/Failed Content Uniformity Specifications/80719",
          "Reasons for Recall/Cross Contamination with Other Products/64137",
          "Reasons for Recall/CGMP deviations/80638",
          "Reasons for Recall/Chemical Contamination/68967",
          "Reasons for Recall/CGMP Deviations/64188",
          "Reasons for Recall/Marketed without an Approved NDA/ANDA/72522",
          "Reasons for Recall/Marketed Without an Approved NDA/ANDA/65774",
          "Reasons for Recall/Marketed Without An Approved NDA/ANDA/74017",
          "Reasons for Recall/Defective Delivery System/78021",
          "Reasons for Recall/CGMP Deviations/83437",
          "Reasons for Recall/CGMP Deviations/75650",
          "Reasons for Recall/Chemical Contamination/63395",
          "Reasons for Recall/Failed Tablet/Capsule Specifications/69237",
          "Reasons for Recall/CGMP Deviations/74874",
          "Reasons for Recall/CGMP Deviation/84696",
          "Reasons for Recall/Lack of Assurance of Sterility/80303",
          "Reasons for Recall/Marketed Without An Approved NDA/ANDA/61957",
          "Reasons for Recall/Lack of Assurance of Sterility/65318",
          "Reasons for Recall/Adulterated Presence of Foreign Tablets/Capsules/62439",
          "Reasons for Recall/Defective Delivery System/72800",
          "Reasons for Recall/Failed Dissolution Specifications/68637",
          "Reasons for Recall/Failed Dissolution Specifications/67784",
          "Reasons for Recall/CGMP deviations/83018",
          "Reasons for Recall/Lack of Assurance of Sterility/65180",
          "Reasons for Recall/Lack of Assurance of Sterility/71415",
          "Reasons for Recall/Lack of Assurance of Sterility/71415",
          "Reasons for Recall/Defective Container/85538",
          "Reasons for Recall/Failed Tablet/Capsule Specifications/67664",
          "Reasons for Recall/Failed Impurities/Degradation Specifications/76443",
          "Reasons for Recall/Superpotent Drug/85774",
          "Reasons for Recall/Subpotent Drug/67420",
          "Reasons for Recall/Lack of Assurance of Sterility/72179",
          "Reasons for Recall/Lack of Assurance of Sterility/76912",
          "Reasons for Recall/Subpotent (Single Ingredient Drug)/61518",
          "Reasons for Recall/Presence of Particulate Matter/71844",
          "Reasons for Recall/Presence of Particulate Matter/71846",
          "Reasons for Recall/Lack of Assurance of Sterility/71892",
          "Reasons for Recall/Failed Dissolution Specifications/75581",
          "Reasons for Recall/Failed Impurities/Degradation Specifications/70041",
          "Reasons for Recall/Good Manufacturing Practices Deviations/67881",
          "Reasons for Recall/Lack of Assurance of Sterility/70174",
          "Reasons for Recall/Failed Content Uniformity Specifications/71418",
          "Reasons for Recall/Presence of Foreign Substance/65490",
          "Reasons for Recall/Subpotent Drug/65172",
          "Reasons for Recall/Lack of Assurance of Sterility/76472",
          "Reasons for Recall/Presence of Foreign Substance(s)/63891",
          "Reasons for Recall/Defective Container/65784",
          "Reasons for Recall/Marketed Without an Approved NDA/ANDA/67228",
          "Reasons for Recall/Marketed without an approved NDA/ANDA  /70317",
          "Reasons for Recall/CGMP Deviations/85341",
          "Reasons for Recall/CGMP Deviations/85341",
          "Reasons for Recall/Defective Container/65780",
          "Reasons for Recall/Marketed Without An Approved NDA/ANDA/79327",
          "Reasons for Recall/Presence of Particulate Matter/62627",
          "Reasons for Recall/Failed Dissolution Specifications/66838",
          "Reasons for Recall/Lack of assurance of sterility/79063",
          "Reasons for Recall/Presence of Foreign Tablets/Capsules/68375",
          "Reasons for Recall/Subpotent Drug/65979",
          "Reasons for Recall/Marketed Without an Approved NDA/ANDA/81436",
          "Reasons for Recall/CGMP Deviations/78822",
          "Reasons for Recall/Lack of Assurance of Sterility/75230",
          "Reasons for Recall/Lack of Assurance of Sterility/71806",
          "Reasons for Recall/Lack of Assurance of Sterility/64879",
          "Reasons for Recall/Failed Impurity/Degradation Specification/64644",
          "Reasons for Recall/CGMP Deviations/83417",
          "Reasons for Recall/Lack of Assurance of Sterility/79772",
          "Reasons for Recall/Presence of Foreign Substance/76543",
          "Reasons for Recall/Presence of Foriegn Tablets/Capsules/77336",
          "Reasons for Recall/CGMP Deviations/75566",
          "Reasons for Recall/CGMP Deviations/86624",
          "Reasons for Recall/cGMP Deviations/62511",
          "Reasons for Recall/Lack of Assurance of Sterility/86799",
          "Reasons for Recall/CGMP Deviations/85726",
          "Reasons for Recall/Failed Impurities/Degradation Specifications/84927",
          "Reasons for Recall/Chemical contamination/64835",
          "Reasons for Recall/Failed Impurities/Degradation Specifications/71656",
          "Reasons for Recall/Presence of Foreign Substance/70849",
          "Reasons for Recall/Subpotent Drug/69359",
          "Reasons for Recall/Presence of Particulate Matter/82680",
          "Reasons for Recall/Presence of Foreign Substance/67118",
          "Reasons for Recall/Failed Impurities/Degradation Specifications/78415",
          "Reasons for Recall/Failed Dissolution Specifications/82021",
          "Reasons for Recall/Failed Impurities/Degradation Specifications/76982",
          "Reasons for Recall/CGMP Deviations/83151",
          "Reasons for Recall/Lack of Assurance of Sterility/73537",
          "Reasons for Recall/Labeling/71220",
          "Reasons for Recall/Lack of assurance of sterility/66104",
          "Reasons for Recall/CGMP Deviations/67811",
          "Reasons for Recall/cGMP Deviations/76890",
          "Reasons for Recall/CGMP Deviations/79036",
          "Reasons for Recall/Stability Data Does Not Support Expiry/77503",
          "Reasons for Recall/Failed dissolution specifications /76539",
          "Reasons for Recall/Subpotent Drug/80750",
          "Reasons for Recall/Failed Dissolution Specifications/76513",
          "Reasons for Recall/CGMP Deviations/86343",
          "Reasons for Recall/Failed Dissolution Specifications/80791",
          "Reasons for Recall/cGMP deviation/74361",
          "Reasons for Recall/Presence of Particulate matter/84263",
          "Reasons for Recall/Lack of Assurance of Sterility/87298",
          "Reasons for Recall/Lack of Assurance of Sterility/77634",
          "Reasons for Recall/Cross contamination with other products/73434",
          "Reasons for Recall/Incorrect/Undeclared Excipient/77647",
          "Reasons for Recall/Lack of Assurance of Sterility/71275",
          "Reasons for Recall/Failed Tablet/Capsule Specifications/70740",
          "Reasons for Recall/Failed Stability Specification/71310",
          "Reasons for Recall/Failed Impurities/Degradation Specifications/67971",
          "Reasons for Recall/Defective Delivery System/80997",
          "Reasons for Recall/Failed Dissolution Specifications/77353",
          "Reasons for Recall/Failed Stability Specifications/75628",
          "Reasons for Recall/Presence of Particulate Matter/68728",
          "Reasons for Recall/Presence of Particulate Matter/72072",
          "Reasons for Recall/GMP Deviations/82863",
          "Reasons for Recall/Lack of Assurance of Sterility/86990",
          "Reasons for Recall/GMP Deviations/84000",
          "Reasons for Recall/Stability Data Does Not Support Expiry/73925",
          "Reasons for Recall/Penicillin Cross Contamination/71494",
          "Reasons for Recall/Marketed without an approved NDA/ANDA/75537",
          "Reasons for Recall/Marketed without an approved NDA/ANDA /73973",
          "Reasons for Recall/Cross Contamination With Other Products/79788",
          "Reasons for Recall/Subpotency/74319",
          "Reasons for Recall/Incorrect Product Formulation/78051",
          "Reasons for Recall/Chemical contamination/85854",
          "Reasons for Recall/Incorrect/Undeclared Excipient/75552",
          "Reasons for Recall/cGMP Deviations/73574",
          "Reasons for Recall/Marketed Without an Approved NDA/ANDA/66469",
          "Reasons for Recall/Lack of Assurance of Sterility/77770",
          "Reasons for Recall/Marketed Without An Approved NDA/ANDA/73571",
          "Reasons for Recall/Lack of Assurance of Sterility/65253",
          "Reasons for Recall/Lack of Assurance of Sterility/75695",
          "Reasons for Recall/Lack of Assurance of Sterility/83427",
          "Reasons for Recall/Subpotent Drug/77840",
          "Reasons for Recall/CGMP Deviations/81218",
          "Reasons for Recall/Lack of Assurance of Sterility/84055",
          "Reasons for Recall/CGMP Deviations/78595",
          "Reasons for Recall/CGMP Deviations/80750",
          "Reasons for Recall/Defective Container/84860",
          "Reasons for Recall/CGMP Deviations/83190",
          "Reasons for Recall/Presence of Foreign Substance/65642",
          "Reasons for Recall/Lack of Assurance of Sterility and Stability Data does not Support Expiry/70656",
          "Reasons for Recall/CGMP deviations/86533",
          "Reasons for Recall/Failed Tablet/Capsule Specification/64358",
          "Reasons for Recall/Marketed Without An Approved NDA/ANDA/73016",
          "Reasons for Recall/Defective Delivery System/85848",
          "Reasons for Recall/Lack of Assurance of Sterility /75745",
          "Reasons for Recall/CGMP Deviations/77398",
          "Reasons for Recall/Presence of particulate matter /76395",
          "Reasons for Recall/Temperature Abuse/68793",
          "Reasons for Recall/Temperature Abuse/68793",
          "Reasons for Recall/Presence of Precipitate/64298",
          "Reasons for Recall/Lack of Assurance of Sterility/64957",
          "Reasons for Recall/Labeling/65707",
          "Reasons for Recall/Labeling/65707",
          "Reasons for Recall/Labeling/65707",
          "Reasons for Recall/Labeling/65707",
          "Reasons for Recall/Labeling/65707",
          "Reasons for Recall/Labeling/65707",
          "Reasons for Recall/Labeling/65707",
          "Reasons for Recall/Labeling/65707",
          "Reasons for Recall/Labeling/65707",
          "Reasons for Recall/Labeling/65707",
          "Reasons for Recall/Subpotent Drug/81775",
          "Reasons for Recall/Failed Impurities/Degradation Specifications/74068",
          "Reasons for Recall/Failed Impurities/Degradation Specifications/77915",
          "Reasons for Recall/Failed Impurities/Degradation/65181",
          "Reasons for Recall/Microbial Contamination of Non/86767",
          "Reasons for Recall/Microbal Contamination of Non/80343",
          "Reasons for Recall/Microbial Contamination of Non/74792",
          "Reasons for Recall/Microbial Contamination of Non/67303",
          "Reasons for Recall/Microbial Contamination of a Non/65951",
          "Reasons for Recall/Microbial Contamination of Non/80365",
          "Reasons for Recall/Non/79114",
          "Reasons for Recall/Non/63953",
          "Reasons for Recall/Non/70148",
          "Reasons for Recall/Non/85903",
          "Reasons for Recall/Non/68345",
          "Reasons for Recall/Non/73626",
          "Reasons for Recall/Non/64018",
          "Reasons for Recall/Presence of Foriegn Substance/65601",
          "Reasons for Recall/Lack of Assurance of Sterility/66297",
          "Reasons for Recall/Subpotent Drug/78575",
          "Reasons for Recall/The firm received seven reports of adverse reactions in the form of skin abscesses potentially linked to compounded preservative/65479",
          "Reasons for Recall/Failed Impurities/Degradation Specifications/80767",
          "Reasons for Recall/Sub/86243",
          "Reasons for Recall/Microbial Contamination of Non/86656",
          "Reasons for Recall/Microbial contamination of non/84179",
          "Reasons for Recall/Subpotent (Single Ingredient Drug)",
          "Reasons for Recall/Labeling",
          "Reasons for Recall/Tablet Thickness",
          "Reasons for Recall/Miscalibrated and/or Defective Delivery System",
          "Reasons for Recall/Lack of Assurance of Sterility",
          "Reasons for Recall/Impurities/Degradation Products",
          "Reasons for Recall/Labeling",
          "Reasons for Recall/Marketed Without An Approved NDA/ANDA",
          "Reasons for Recall/Labeling",
          "Reasons for Recall/Lack of Assurance of Sterility",
          "Reasons for Recall/Adulterated Presence of Foreign Tablets/Capsules",
          "Reasons for Recall/Lack of Assurance of Sterility",
          "Reasons for Recall/The affected lots of Carboplatin Injection, Cytarabine  Injection, Methotrexate Injection, USP, and Paclitaxel Injection are being recalled due to visible particles embedded in the glass located at the neck of the vial. There may be the potential for product to come into contact with the embedded particles and the particles may become dislodged into the solution.",
          "Reasons for Recall/cGMP Deviations",
          "Reasons for Recall/Presence of Particulate Matter",
          "Reasons for Recall/Impurities/Degradation Products",
          "Reasons for Recall/Chemical Contamination",
          "Reasons for Recall/Lack of Assurance of Sterility",
          "Reasons for Recall/Labeling",
          "Reasons for Recall/Subpotent",
          "Reasons for Recall/Presence of Foreign Substance(s)",
          "Reasons for Recall/Superpotent (Multiple Ingredient) Drug",
          "Reasons for Recall/Failed Dissolution Test Requirements",
          "Reasons for Recall/Non",
          "Reasons for Recall/Non",
          "Reasons for Recall/Failed Dissolution Specification",
          "Reasons for Recall/Labeling",
          "Reasons for Recall/Cross Contamination with Other Products",
          "Reasons for Recall/CGMP Deviations",
          "Reasons for Recall/Presence of Precipitate",
          "Reasons for Recall/Failed Tablet/Capsule Specification",
          "Reasons for Recall/Labeling",
          "Reasons for Recall/Failed Impurity/Degradation Specification",
          "Reasons for Recall/Lack of Assurance of Sterility",
          "Reasons for Recall/Defective Delivery System",
          "Reasons for Recall/Lack of Assurance of Sterility",
          "Reasons for Recall/Chemical contamination",
          "Reasons for Recall/Lack of Assurance of Sterility",
          "Reasons for Recall/Lack of Assurance of Sterility",
          "Reasons for Recall/Labeling",
          "Reasons for Recall/Lack of Assurance of Sterility",
          "Reasons for Recall/Subpotent",
          "Reasons for Recall/Marketed without an Approved NDA/ANDA",
          "Reasons for Recall/Lack of Assurance of Sterility",
          "Reasons for Recall/cGMP deviations",
          "Reasons for Recall/Subpotent Drug",
          "Reasons for Recall/Lack of Assurance of Sterility",
          "Reasons for Recall/Failed Impurities/Degradation",
          "Reasons for Recall/Lack of Assurance of Sterility",
          "Reasons for Recall/Lack of Assurance of Sterility",
          "Reasons for Recall/Lack of Assurance of Sterility",
          "Reasons for Recall/Failed Dissolution Specifications",
          "Reasons for Recall/Marketed Without An Approved NDA/ANDA",
          "Reasons for Recall/The firm received seven reports of adverse reactions in the form of skin abscesses potentially linked to compounded preservative",
          "Reasons for Recall/Presence of Foreign Substance",
          "Reasons for Recall/Failed Dissolution Specifications",
          "Reasons for Recall/Presence of Foriegn Substance",
          "Reasons for Recall/Presence of Foreign Substance",
          "Reasons for Recall/Labeling",
          "Reasons for Recall/Labeling",
          "Reasons for Recall/Marketed Without an Approved NDA/ANDA",
          "Reasons for Recall/Defective Container",
          "Reasons for Recall/Defective Container",
          "Reasons for Recall/Labeling",
          "Reasons for Recall/Lack of Assurance of Sterility",
          "Reasons for Recall/Marketed Without An Approved NDA/ANDA",
          "Reasons for Recall/Microbial Contamination of a Non",
          "Reasons for Recall/Subpotent Drug",
          "Reasons for Recall/Lack of Assurance of Sterility",
          "Reasons for Recall/Lack of assurance of sterility",
          "Reasons for Recall/Labeling",
          "Reasons for Recall/Lack of Assurance of Sterility",
          "Reasons for Recall/Failed Tablet/Capsule Specifications",
          "Reasons for Recall/Subpotent",
          "Reasons for Recall/Marketed Without an Approved NDA/ANDA",
          "Reasons for Recall/Lack of Assurance of Sterility",
          "Reasons for Recall/Lack of Assurance of Sterility",
          "Reasons for Recall/Failed Dissolution Specifications",
          "Reasons for Recall/Lack of Sterility Assurance",
          "Reasons for Recall/Presence of Particulate Matter",
          "Reasons for Recall/Subpotent Drug",
          "Reasons for Recall/Presence of Paticulate Matter",
          "Reasons for Recall/Presence of Foreign Substance",
          "Reasons for Recall/Marketed Without an Approved NDA/ANDA",
          "Reasons for Recall/Marketed without an Approved NDA/ANDA",
          "Reasons for Recall/Microbial Contamination of Non",
          "Reasons for Recall/Subpotent Drug",
          "Reasons for Recall/Marketed Without an Approved NDA/ANDA",
          "Reasons for Recall/Failed Tablet/Capsule Specifications",
          "Reasons for Recall/Stability Data Does Not Support Expiry",
          "Reasons for Recall/Presence of Particulate Matter",
          "Reasons for Recall/Defective Delivery System",
          "Reasons for Recall/Penicillin Cross Contamination",
          "Reasons for Recall/Failed Dissolution Specifications",
          "Reasons for Recall/CGMP Deviations",
          "Reasons for Recall/First Aid Only, Inc is recalling Smart Tab First Aid ezRefill System Ibuprofen boxes  and First Aid Cabinets containing these Ibuprofen boxes.  Ibuprofen boxes (FAE 7014) were accidentally used to package  aspirin packs  (10 packs of 2 / 235mg tablets).",
          "Reasons for Recall/Marketed Without an Approved NDA/ANDA",
          "Reasons for Recall/Good Manufacturing Practices Deviations",
          "Reasons for Recall/Lack of Assurance of Sterility",
          "Reasons for Recall/Failed Impurities/Degradation Specifications",
          "Reasons for Recall/Presence of Particulate Matter",
          "Reasons for Recall/Failed Stability Specifications",
          "Reasons for Recall/Marketed Without an Approved NDA/ANDA",
          "Reasons for Recall/Marketed Without An Approved NDA/ANDA",
          "Reasons for Recall/Non",
          "Reasons for Recall/Presence of Foreign Tablets/Capsules",
          "Reasons for Recall/Lack of Assurance of Sterility",
          "Reasons for Recall/Labeling",
          "Reasons for Recall/Presence of Particulate Matter",
          "Reasons for Recall/Marketed without an Approved NDA/ANDA",
          "Reasons for Recall/Failed Dissolution Specifications",
          "Reasons for Recall/Does Not Meet Monograph",
          "Reasons for Recall/Presence of Particulate Matter",
          "Reasons for Recall/Failed Impurities/Degradation Specifications",
          "Reasons for Recall/Temperature Abuse",
          "Reasons for Recall/Subpotent Drug",
          "Reasons for Recall/Failed Stability Specifications",
          "Reasons for Recall/Chemical Contamination",
          "Reasons for Recall/Presence of Particulate Matter",
          "Reasons for Recall/Lack of Assurance of Sterility",
          "Reasons for Recall/Failed Content Uniformity Specifications.",
          "Reasons for Recall/Labeling",
          "Reasons for Recall/Lack of Assurance of Sterility",
          "Reasons for Recall/Failed Tablet/Capsule Specifications",
          "Reasons for Recall/Subpotent",
          "Reasons for Recall/Failed Tablet/Capsule Specifications",
          "Reasons for Recall/Subpotent Drug",
          "Reasons for Recall/Temperature Abuse",
          "Reasons for Recall/Subpotent Drug",
          "Reasons for Recall/Labeling",
          "Reasons for Recall/Lack of Assurance of Sterility",
          "Reasons for Recall/Lack of Sterility Assurance",
          "Reasons for Recall/Failed Impurities/Degradation Specifications ",
          "Reasons for Recall/Subpotent Drug",
          "Reasons for Recall/Presence of particulate matter",
          "Reasons for Recall/Lack of Assurance of Sterility",
          "Reasons for Recall/Failed Tablet/Capsule Specifications",
          "Reasons for Recall/Failed Impurities/Degradation Specifications",
          "Reasons for Recall/Labeling",
          "Reasons for Recall/Failed Capsule/Tablet Specifications",
          "Reasons for Recall/Failed Impurities/Degradation Specifications",
          "Reasons for Recall/Lack of sterility assurance.",
          "Reasons for Recall/Non",
          "Reasons for Recall/Lack of Assurance of Sterility",
          "Reasons for Recall/Marketed without an approved NDA/ANDA  ",
          "Reasons for Recall/Marketed Without An Approved NDA/ANDA",
          "Reasons for Recall/Penicillin Cross Contamination",
          "Reasons for Recall/Stability Data Does Not Support Expiry",
          "Reasons for Recall/Subpotent Drug",
          "Reasons for Recall/Lack of Assurance of Sterility and Stability Data does not Support Expiry",
          "Reasons for Recall/Failed Tablet/Capsule Specifications",
          "Reasons for Recall/Failed Dissolution Specifications",
          "Reasons for Recall/Lack of assurance of sterility",
          "Reasons for Recall/Presence of Foreign Substance",
          "Reasons for Recall/Presence of Particulate Matter",
          "Reasons for Recall/Presence of Particulate Matter",
          "Reasons for Recall/Subpotent drug",
          "Reasons for Recall/Penicillin Cross Contamination",
          "Reasons for Recall/CGMP Deviations",
          "Reasons for Recall/Lack of Assurance of Sterility",
          "Reasons for Recall/Failed dissolution specifications",
          "Reasons for Recall/Labeling",
          "Reasons for Recall/Lack of Assurance of Sterility",
          "Reasons for Recall/Failed Stability Specification",
          "Reasons for Recall/Lack of Assurance of Sterility",
          "Reasons for Recall/Subpotent drug",
          "Reasons for Recall/Lack of Assurance of Sterility",
          "Reasons for Recall/Failed Content Uniformity Specifications",
          "Reasons for Recall/Penicillin Cross Contamination",
          "Reasons for Recall/Recalled products were made using an active ingredient that was recalled by a supplier due to penicillin cross contamination.",
          "Reasons for Recall/Lack of Assurance of Sterility",
          "Reasons for Recall/Failed Content Uniformity Specifications",
          "Reasons for Recall/Lack of Assurance of Sterility",
          "Reasons for Recall/Failed Impurities/Degradation Specifications",
          "Reasons for Recall/Subpotent drug",
          "Reasons for Recall/Lack of Assurance of Sterility",
          "Reasons for Recall/Presence of Particulate Matter",
          "Reasons for Recall/Presence of Particulate Matter",
          "Reasons for Recall/Lack of Assurance of Sterility",
          "Reasons for Recall/Penicillin Cross Contamination and Presence of Foreign Substance.  Product was contaminated with penicillin and foreign substances during manufacturing process.",
          "Reasons for Recall/Presence of Foreign Substance",
          "Reasons for Recall/Superpotent Drug",
          "Reasons for Recall/Marketed Without an Approved NDA/ANDA",
          "Reasons for Recall/Presence of Particulate Matter",
          "Reasons for Recall/Stability data does not support expiry.",
          "Reasons for Recall/Lack of Assurance of Sterility",
          "Reasons for Recall/Lack of Assurance of Sterility",
          "Reasons for Recall/Lack of Assurance of Sterility",
          "Reasons for Recall/Lack of Assurance of Sterility",
          "Reasons for Recall/Failed Impurities/Degradation Specifications",
          "Reasons for Recall/Failed Stability Specifications",
          "Reasons for Recall/Lack of Assurance of Sterility",
          "Reasons for Recall/Marketed without an Approved NDA/ANDA",
          "Reasons for Recall/Lack of Assurance of Sterility",
          "Reasons for Recall/Marketed Without an Approved NDA/ANDA",
          "Reasons for Recall/Failed Tablet/Capsule Specifications",
          "Reasons for Recall/Labeling",
          "Reasons for Recall/Failed Impurities/Degradation Specifications",
          "Reasons for Recall/Lack of Assurance of Sterility",
          "Reasons for Recall/Penicillin Cross Contamination",
          "Reasons for Recall/Defective Delivery System",
          "Reasons for Recall/Defective Container",
          "Reasons for Recall/Marketed Without An Approved NDA/ANDA",
          "Reasons for Recall/Marketed Without An Approved NDA/ANDA",
          "Reasons for Recall/Labeling",
          "Reasons for Recall/Lack of Assurance of Sterility",
          "Reasons for Recall/Failed Impurities/Degradation Specifications",
          "Reasons for Recall/Lack of Assurance of Sterility",
          "Reasons for Recall/Lack of Assurance of Sterility",
          "Reasons for Recall/Cross contamination with other products",
          "Reasons for Recall/Lack of Assurance of Sterility",
          "Reasons for Recall/Superpotent Drug",
          "Reasons for Recall/Marketed Without An Approved NDA/ANDA",
          "Reasons for Recall/cGMP Deviations",
          "Reasons for Recall/Non",
          "Reasons for Recall/Presence of Particulate Matter",
          "Reasons for Recall/Labeling",
          "Reasons for Recall/Lack of Processing Controls",
          "Reasons for Recall/Failed Impurities/Degradation Specifications",
          "Reasons for Recall/Failed Impuities/Degradation Specifications",
          "Reasons for Recall/Lack of Sterility Assurance",
          "Reasons for Recall/Lack of Sterility Assurance.",
          "Reasons for Recall/Stability Data Does Not Support Expiry",
          "Reasons for Recall/Lack of Assurance of Sterility",
          "Reasons for Recall/Marketed without an approved NDA/ANDA ",
          "Reasons for Recall/Marketed Without An Approved NDA/ANDA",
          "Reasons for Recall/Presence of Particulate Matter",
          "Reasons for Recall/Failed Impurities/Degradation Specifications",
          "Reasons for Recall/Lack of Assurance of Sterility",
          "Reasons for Recall/Subpotency",
          "Reasons for Recall/cGMP deviation",
          "Reasons for Recall/Crystallization",
          "Reasons for Recall/Lack of Assurance of Sterility",
          "Reasons for Recall/CGMP Deviations",
          "Reasons for Recall/Lack of Assurance of Sterility",
          "Reasons for Recall/Lack of assurance of sterility",
          "Reasons for Recall/Failed Impurities/Degradation Specifications",
          "Reasons for Recall/Microbial Contamination of Non",
          "Reasons for Recall/Failed Dissolution Specifications",
          "Reasons for Recall/CGMP Deviations",
          "Reasons for Recall/Presence of Foreign Tablets/Capsules",
          "Reasons for Recall/Lack of assurance of sterility",
          "Reasons for Recall/Lack of Assurance of Sterility",
          "Reasons for Recall/Lack of Assurance of Sterility",
          "Reasons for Recall/Superpotent and Subpotent drugs",
          "Reasons for Recall/Lack of Assurance of Sterility",
          "Reasons for Recall/Marketed without an approved NDA/ANDA",
          "Reasons for Recall/Incorrect/Undeclared Excipient",
          "Reasons for Recall/CGMP Deviations",
          "Reasons for Recall/Failed Dissolution Specifications",
          "Reasons for Recall/Failed Stability Specifications",
          "Reasons for Recall/CGMP Deviations",
          "Reasons for Recall/Lack of Assurance of Sterility",
          "Reasons for Recall/Lack of Assurance of Sterility ",
          "Reasons for Recall/CGMP Deviations",
          "Reasons for Recall/Lack of Assurance of Sterility",
          "Reasons for Recall/Failed Dissolution Specifications",
          "Reasons for Recall/Presence of Foreign Tablets/Capsules",
          "Reasons for Recall/cGMP Deviations",
          "Reasons for Recall/Presence of particulate matter ",
          "Reasons for Recall/Failed Impurities/Degradation Specifications",
          "Reasons for Recall/Lack of Assurance of Sterility",
          "Reasons for Recall/Failed Dissolution Specifications",
          "Reasons for Recall/Failed dissolution specifications ",
          "Reasons for Recall/Presence of Foreign Substance",
          "Reasons for Recall/Labeling",
          "Reasons for Recall/Marked Without An Approved NDA/ANDA",
          "Reasons for Recall/Failed Dissolution Specifications",
          "Reasons for Recall/Superpotent Drug",
          "Reasons for Recall/Discoloration.",
          "Reasons for Recall/cGMP Deviations",
          "Reasons for Recall/Lack of Assurance of Sterility",
          "Reasons for Recall/Failed Impurities/Degradation Specifications",
          "Reasons for Recall/Lack of Assurance of Sterility",
          "Reasons for Recall/Labeling",
          "Reasons for Recall/Failed Stability Specifications",
          "Reasons for Recall/Lack of assurance of sterility",
          "Reasons for Recall/Labeling",
          "Reasons for Recall/Contraceptive Tablets Out of Sequence",
          "Reasons for Recall/Presence of Foriegn Tablets/Capsules",
          "Reasons for Recall/Failed Dissolution Specifications",
          "Reasons for Recall/CGMP Deviations",
          "Reasons for Recall/Stability Data Does Not Support Expiry",
          "Reasons for Recall/GMP Deviations",
          "Reasons for Recall/Lack of Assurance of Sterility",
          "Reasons for Recall/Lack of Assurance of Sterility",
          "Reasons for Recall/Incorrect/Undeclared Excipient",
          "Reasons for Recall/Lack of Assurance of Sterility",
          "Reasons for Recall/Lack of Sterility Assurance.",
          "Reasons for Recall/Crystallization with subpotent out of  specification assay results for chlorhexidine.",
          "Reasons for Recall/Subpotent Drug",
          "Reasons for Recall/Marketed Without An Approved NDA/ANDA",
          "Reasons for Recall/Failed Dissolution Specifications",
          "Reasons for Recall/Failed Impurities/Degradation Specifications",
          "Reasons for Recall/Lack of Assurance of Sterility.",
          "Reasons for Recall/Cross Contamination With Other Products",
          "Reasons for Recall/Defective Delivery System",
          "Reasons for Recall/Incorrect Product Formulation",
          "Reasons for Recall/Subpotent Drug",
          "Reasons for Recall/Lack of Assurance of Sterility.",
          "Reasons for Recall/Labeling",
          "Reasons for Recall/Lack Of Assurance Of Sterility.",
          "Reasons for Recall/Failed Impurities/Degradation Specifications.",
          "Reasons for Recall/Failed Impurities/Degradation Specifications",
          "Reasons for Recall/Marketed without an approved NDA/ANDA",
          "Reasons for Recall/Labeling",
          "Reasons for Recall/Subpotent Drug",
          "Reasons for Recall/CGMP Deviations",
          "Reasons for Recall/Labeling",
          "Reasons for Recall/CGMP Deviations",
          "Reasons for Recall/CGMP Deviations",
          "Reasons for Recall/Lack of sterility assurance.",
          "Reasons for Recall/Marketed Without An Approved NDA/ANDA",
          "Reasons for Recall/CGMP Deviations",
          "Reasons for Recall/Lack of assurance of sterility",
          "Reasons for Recall/Non",
          "Reasons for Recall/Presence of Foreign Tablet",
          "Reasons for Recall/CGMP Deviations",
          "Reasons for Recall/Labeling",
          "Reasons for Recall/Marketed Without An Approved NDA/ANDA",
          "Reasons for Recall/Labeling",
          "Reasons for Recall/cGMP Deviations",
          "Reasons for Recall/Lack of Assurance Sterility",
          "Reasons for Recall/Labeling",
          "Reasons for Recall/Presence of Particulate matter. Recall due to presence of unknown particulate matter.",
          "Reasons for Recall/Lack of Processing Controls.",
          "Reasons for Recall/Lack of Assurance of Sterility",
          "Reasons for Recall/Cross Contamination With Other Products",
          "Reasons for Recall/CGMP Deviations",
          "Reasons for Recall/Lack of sterility assurance.",
          "Reasons for Recall/Lack of Processing Controls",
          "Reasons for Recall/Presence of Particulate Matter",
          "Reasons for Recall/Lack of Assurance of Sterility",
          "Reasons for Recall/Lack of Assurance of Sterility",
          "Reasons for Recall/Microbal Contamination of Non",
          "Reasons for Recall/Failed Impurities/Degradation Specifications",
          "Reasons for Recall/Microbial Contamination of Non",
          "Reasons for Recall/CGMP Deviations",
          "Reasons for Recall/CGMP Deviations",
          "Reasons for Recall/Microbial contamination",
          "Reasons for Recall/Lack of Assurance of Sterility",
          "Reasons for Recall/CGMP deviations",
          "Reasons for Recall/Failed Content Uniformity Specifications",
          "Reasons for Recall/CGMP Deviations",
          "Reasons for Recall/Subpotent Drug",
          "Reasons for Recall/Failed Impurities/Degradation Specifications",
          "Reasons for Recall/CGMP Deviations",
          "Reasons for Recall/Failed Dissolution Specifications",
          "Reasons for Recall/CGMP Deviations",
          "Reasons for Recall/Lack of Assurance of Sterility",
          "Reasons for Recall/Defective Delivery System",
          "Reasons for Recall/Lack of Assurance of Sterility",
          "Reasons for Recall/CGMP Deviations",
          "Reasons for Recall/Labeling",
          "Reasons for Recall/Lack of Assurance of Sterility",
          "Reasons for Recall/Marketed Without an Approved NDA/ANDA",
          "Reasons for Recall/Labeling",
          "Reasons for Recall/CGMP Deviation",
          "Reasons for Recall/Cross Contamination with Other Products",
          "Reasons for Recall/CGMP Deviations",
          "Reasons for Recall/CGMP Deviations",
          "Reasons for Recall/CGMP Deviations",
          "Reasons for Recall/Subpotent Drug",
          "Reasons for Recall/GMP Deviations",
          "Reasons for Recall/Failed Dissolution Specifications.",
          "Reasons for Recall/Lack of sterility assurance.",
          "Reasons for Recall/Lack of sterility assurance.",
          "Reasons for Recall/Failed Dissolution Specifications",
          "Reasons for Recall/Unapproved new drug",
          "Reasons for Recall/Failed Degradation/Impurities Specifications",
          "Reasons for Recall/CGMP Deviation",
          "Reasons for Recall/Lack of Processing Controls",
          "Reasons for Recall/CGMP Deviations",
          "Reasons for Recall/Lack of Assurance of Sterility",
          "Reasons for Recall/Lack of Assurance of Sterility",
          "Reasons for Recall/Presence of Particulate Matter.",
          "Reasons for Recall/Lack of sterility assurance.",
          "Reasons for Recall/CGMP Deviations",
          "Reasons for Recall/Lack of assurance of sterility for injectables and solutions intended to be sterile.",
          "Reasons for Recall/Lack of sterility assurance.",
          "Reasons for Recall/Presence of Precipitate",
          "Reasons for Recall/Presence of Particulate Matter",
          "Reasons for Recall/Labeling",
          "Reasons for Recall/CGMP Deviations",
          "Reasons for Recall/GMP Deviations",
          "Reasons for Recall/cGMP Deviations",
          "Reasons for Recall/Failed Impurities/Degradation Specifications",
          "Reasons for Recall/CGMP deviations",
          "Reasons for Recall/Crystallization",
          "Reasons for Recall/Lack of Assurance of Sterility",
          "Reasons for Recall/Lack of Assurance of Sterility",
          "Reasons for Recall/Subpotent Drug",
          "Reasons for Recall/CGMP Deviations",
          "Reasons for Recall/CGMP Deviations",
          "Reasons for Recall/Lack of Assurance of Sterility",
          "Reasons for Recall/CGMP Deviations",
          "Reasons for Recall/CGMP Deviations",
          "Reasons for Recall/Lack of Assurance of Sterility",
          "Reasons for Recall/Failed dissolution specifications",
          "Reasons for Recall/CGMP Deviations",
          "Reasons for Recall/cGMP Deviations",
          "Reasons for Recall/Failed Impurities/Degradation Specifications",
          "Reasons for Recall/Lack of Assurance of Sterility",
          "Reasons for Recall/Failed Stability Specifications.",
          "Reasons for Recall/Lack of Assurance of Sterility",
          "Reasons for Recall/Labeling",
          "Reasons for Recall/CGMP Deviations",
          "Reasons for Recall/Lack of Processing Controls",
          "Reasons for Recall/GMP Deviations",
          "Reasons for Recall/Crystallization",
          "Reasons for Recall/Lack of Assurance of Sterility",
          "Reasons for Recall/Labeling",
          "Reasons for Recall/Microbial contamination of non",
          "Reasons for Recall/CGMP Deviations",
          "Reasons for Recall/Unit Dose Mispackaging",
          "Reasons for Recall/Presence of Particulate matter",
          "Reasons for Recall/CGMP Deviations",
          "Reasons for Recall/Presence of Foreign Substance",
          "Reasons for Recall/Lack of sterility assurance.",
          "Reasons for Recall/Labeling",
          "Reasons for Recall/Lack of sterility assurance.",
          "Reasons for Recall/Failed Impurities/Degradation Specifications",
          "Reasons for Recall/Labeling Product Contains Undeclared API",
          "Reasons for Recall/Presence of Particulate Matter",
          "Reasons for Recall/CGMP Deviations",
          "Reasons for Recall/CGMP Deviation",
          "Reasons for Recall/CGMP deviations",
          "Reasons for Recall/GMP Deviations",
          "Reasons for Recall/CGMP Deviations",
          "Reasons for Recall/Defective Container",
          "Reasons for Recall/Failed Impurities/Degradation Specifications",
          "Reasons for Recall/Lack of Assurance of Sterility",
          "Reasons for Recall/GMP Deviations",
          "Reasons for Recall/CGMP Deviations",
          "Reasons for Recall/Lack Of Processing Controls",
          "Reasons for Recall/Labeling",
          "Reasons for Recall/Subpotent Drug",
          "Reasons for Recall/Firm is recalling 46 lots of various products because of a lack of sterility assurance.",
          "Reasons for Recall/Marketed without an Approved NDA/ANDA",
          "Reasons for Recall/CGMP Deviations",
          "Reasons for Recall/Lack of Processing Control",
          "Reasons for Recall/Defective Container",
          "Reasons for Recall/CGMP Deviations",
          "Reasons for Recall/Subpotent drug ",
          "Reasons for Recall/Superpotent Drug",
          "Reasons for Recall/Defective Delivery System",
          "Reasons for Recall/Chemical contamination",
          "Reasons for Recall/Non",
          "Reasons for Recall/Lack of Processing Controls (lack of assurance of conformity to specifications).",
          "Reasons for Recall/Chemical Contamination",
          "Reasons for Recall/CGMP Deviations",
          "Reasons for Recall/Sub",
          "Reasons for Recall/Failed Stability Specifications",
          "Reasons for Recall/CGMP Deviations",
          "Reasons for Recall/CGMP Deviations",
          "Reasons for Recall/CGMP deviations",
          "Reasons for Recall/GMP Deviations",
          "Reasons for Recall/Labeling",
          "Reasons for Recall/CGMP Deviations",
          "Reasons for Recall/Microbial Contamination of Non",
          "Reasons for Recall/Failed pH Specifications",
          "Reasons for Recall/CGMP Deviations",
          "Reasons for Recall/Microbial Contamination of Non",
          "Reasons for Recall/Failed Dissolution Specifications",
          "Reasons for Recall/Lack of Assurance of Sterility",
          "Reasons for Recall/Subpotent drug",
          "Reasons for Recall/CGMP Deviations",
          "Reasons for Recall/Lack of Assurance of Sterility",
          "Reasons for Recall/Labeling",
          "Reasons for Recall/Labeling",
          "Reasons for Recall/Labeling",
          "Reasons for Recall/Lack of Assurance of Sterility",
          "Reasons for Recall/Defective Delivery System",
          "Reasons for Recall/Failed Impurities/Degradation Specifications",
          "Reasons for Recall",
          "Reasons for Recall",
          "Reasons for Recall",
          "Reasons for Recall",
          "Reasons for Recall",
          "Reasons for Recall",
          "Reasons for Recall",
          "Reasons for Recall",
          "Reasons for Recall",
          "Reasons for Recall",
          "Reasons for Recall",
          "Reasons for Recall",
          "Reasons for Recall",
          "Reasons for Recall",
          "Reasons for Recall",
          "Reasons for Recall",
          "Reasons for Recall",
          "Reasons for Recall",
          "Reasons for Recall",
          "Reasons for Recall",
          "Reasons for Recall",
          "Reasons for Recall",
          "Reasons for Recall",
          "Reasons for Recall",
          "Reasons for Recall",
          "Reasons for Recall",
          "Reasons for Recall",
          "Reasons for Recall",
          "Reasons for Recall",
          "Reasons for Recall",
          "Reasons for Recall",
          "Reasons for Recall",
          "Reasons for Recall",
          "Reasons for Recall",
          "Reasons for Recall",
          "Reasons for Recall",
          "Reasons for Recall",
          "Reasons for Recall",
          "Reasons for Recall",
          "Reasons for Recall",
          "Reasons for Recall",
          "Reasons for Recall",
          "Reasons for Recall",
          "Reasons for Recall",
          "Reasons for Recall",
          "Reasons for Recall",
          "Reasons for Recall",
          "Reasons for Recall",
          "Reasons for Recall",
          "Reasons for Recall",
          "Reasons for Recall",
          "Reasons for Recall",
          "Reasons for Recall",
          "Reasons for Recall",
          "Reasons for Recall",
          "Reasons for Recall",
          "Reasons for Recall",
          "Reasons for Recall",
          "Reasons for Recall",
          "Reasons for Recall",
          "Reasons for Recall",
          "Reasons for Recall",
          "Reasons for Recall",
          "Reasons for Recall",
          "Reasons for Recall",
          "Reasons for Recall",
          "Reasons for Recall",
          "Reasons for Recall",
          "Reasons for Recall",
          "Reasons for Recall",
          "Reasons for Recall",
          "Reasons for Recall",
          "Reasons for Recall",
          "Reasons for Recall",
          "Reasons for Recall",
          "Reasons for Recall",
          "Reasons for Recall",
          "Reasons for Recall",
          "Reasons for Recall",
          "Reasons for Recall",
          "Reasons for Recall",
          "Reasons for Recall",
          "Reasons for Recall",
          "Reasons for Recall",
          "Reasons for Recall",
          "Reasons for Recall",
          "Reasons for Recall",
          "Reasons for Recall",
          "Reasons for Recall",
          "Reasons for Recall",
          "Reasons for Recall",
          "Reasons for Recall",
          "Reasons for Recall",
          "Reasons for Recall",
          "Reasons for Recall",
          "Reasons for Recall",
          "Reasons for Recall",
          "Reasons for Recall",
          "Reasons for Recall",
          "Reasons for Recall",
          "Reasons for Recall",
          "Reasons for Recall",
          "Reasons for Recall",
          "Reasons for Recall",
          "Reasons for Recall",
          "Reasons for Recall",
          "Reasons for Recall",
          "Reasons for Recall",
          "Reasons for Recall",
          "Reasons for Recall",
          "Reasons for Recall",
          "Reasons for Recall",
          "Reasons for Recall",
          "Reasons for Recall",
          "Reasons for Recall",
          ""
         ],
         "type": "treemap",
         "values": [
          13,
          13,
          13,
          13,
          52,
          13,
          13,
          13,
          26,
          13,
          13,
          13,
          13,
          13,
          26,
          13,
          13,
          26,
          13,
          13,
          13,
          65,
          91,
          91,
          13,
          13,
          26,
          13,
          39,
          13,
          13,
          39,
          13,
          104,
          78,
          13,
          13,
          13,
          13,
          26,
          78,
          13,
          91,
          13,
          13,
          26,
          13,
          13,
          13,
          52,
          39,
          13,
          13,
          26,
          13,
          13,
          39,
          13,
          52,
          13,
          390,
          13,
          91,
          26,
          13,
          13,
          52,
          13,
          13,
          52,
          13,
          91,
          13,
          39,
          13,
          78,
          78,
          104,
          13,
          13,
          52,
          13,
          13,
          13,
          91,
          52,
          13,
          13,
          26,
          52,
          91,
          13,
          13,
          13,
          13,
          65,
          13,
          26,
          13,
          13,
          13,
          13,
          13,
          13,
          13,
          13,
          13,
          13,
          104,
          13,
          13,
          13,
          13,
          13,
          429,
          13,
          26,
          26,
          13,
          65,
          13,
          13,
          13,
          13,
          13,
          13,
          13,
          13,
          13,
          13,
          13,
          13,
          13,
          13,
          13,
          26,
          52,
          13,
          39,
          13,
          13,
          65,
          13,
          13,
          13,
          65,
          78,
          13,
          52,
          26,
          39,
          390,
          39,
          78,
          26,
          91,
          13,
          13,
          39,
          13,
          13,
          26,
          52,
          13,
          39,
          13,
          26,
          104,
          26,
          13,
          13,
          13,
          13,
          117,
          91,
          13,
          13,
          13,
          26,
          13,
          13,
          13,
          39,
          13,
          13,
          26,
          13,
          13,
          13,
          65,
          13,
          13,
          13,
          13,
          13,
          13,
          13,
          52,
          13,
          39,
          13,
          26,
          13,
          13,
          13,
          13,
          13,
          13,
          13,
          13,
          13,
          13,
          13,
          13,
          13,
          13,
          13,
          13,
          13,
          13,
          13,
          13,
          13,
          13,
          13,
          13,
          13,
          13,
          13,
          13,
          13,
          13,
          13,
          13,
          13,
          13,
          13,
          13,
          13,
          13,
          13,
          13,
          13,
          13,
          13,
          13,
          13,
          13,
          13,
          13,
          13,
          13,
          13,
          13,
          13,
          13,
          104,
          39,
          52,
          13,
          91,
          13,
          13,
          39,
          13,
          26,
          39,
          26,
          13,
          13,
          13,
          13,
          13,
          13,
          104,
          13,
          13,
          13,
          13,
          13,
          13,
          13,
          13,
          13,
          13,
          13,
          13,
          13,
          13,
          13,
          13,
          13,
          13,
          13,
          13,
          13,
          13,
          13,
          13,
          13,
          13,
          13,
          13,
          13,
          13,
          13,
          13,
          13,
          13,
          13,
          13,
          39,
          26,
          13,
          13,
          13,
          13,
          13,
          13,
          13,
          13,
          13,
          13,
          13,
          13,
          13,
          13,
          26,
          13,
          13,
          13,
          13,
          13,
          13,
          13,
          13,
          13,
          13,
          13,
          13,
          13,
          12,
          26,
          13,
          13,
          13,
          13,
          13,
          13,
          52,
          13,
          13,
          13,
          13,
          39,
          13,
          13,
          13,
          13,
          13,
          13,
          13,
          13,
          13,
          13,
          13,
          13,
          26,
          13,
          13,
          13,
          13,
          13,
          13,
          13,
          26,
          78,
          65,
          13,
          13,
          39,
          13,
          13,
          13,
          13,
          13,
          13,
          26,
          26,
          78,
          13,
          13,
          13,
          13,
          39,
          39,
          13,
          13,
          13,
          13,
          13,
          13,
          13,
          13,
          39,
          26,
          52,
          52,
          13,
          13,
          13,
          13,
          13,
          26,
          13,
          13,
          13,
          13,
          13,
          26,
          13,
          13,
          13,
          13,
          13,
          13,
          13,
          13,
          26,
          13,
          13,
          13,
          13,
          26,
          13,
          13,
          13,
          13,
          13,
          26,
          13,
          13,
          39,
          26,
          26,
          13,
          13,
          13,
          13,
          13,
          13,
          13,
          26,
          13,
          13,
          13,
          13,
          52,
          13,
          52,
          13,
          13,
          13,
          13,
          13,
          13,
          26,
          13,
          13,
          13,
          26,
          13,
          13,
          13,
          65,
          52,
          39,
          65,
          13,
          65,
          26,
          13,
          26,
          65,
          13,
          13,
          13,
          13,
          39,
          26,
          13,
          26,
          13,
          13,
          52,
          13,
          13,
          13,
          13,
          13,
          13,
          13,
          13,
          13,
          13,
          13,
          13,
          13,
          13,
          13,
          26,
          13,
          13,
          13,
          13,
          13,
          13,
          91,
          13,
          13,
          13,
          13,
          13,
          13,
          65,
          299,
          13,
          13,
          13,
          13,
          13,
          13,
          13,
          13,
          13,
          13,
          13,
          13,
          13,
          117,
          13,
          91,
          13,
          13,
          13,
          13,
          13,
          13,
          13,
          13,
          13,
          13,
          13,
          13,
          13,
          13,
          13,
          13,
          52,
          13,
          13,
          13,
          13,
          78,
          13,
          26,
          26,
          52,
          52,
          13,
          52,
          13,
          13,
          26,
          13,
          26,
          13,
          13,
          13,
          13,
          78,
          13,
          13,
          299,
          26,
          13,
          13,
          26,
          351,
          338,
          13,
          13,
          13,
          26,
          91,
          13,
          13,
          13,
          13,
          13,
          26,
          13,
          13,
          13,
          13,
          65,
          13,
          13,
          26,
          13,
          13,
          13,
          13,
          13,
          13,
          13,
          26,
          13,
          13,
          13,
          13,
          13,
          52,
          13,
          13,
          13,
          26,
          13,
          13,
          13,
          13,
          13,
          13,
          13,
          13,
          13,
          39,
          13,
          13,
          26,
          13,
          13,
          13,
          13,
          39,
          13,
          13,
          13,
          13,
          13,
          13,
          13,
          91,
          13,
          13,
          13,
          13,
          13,
          13,
          13,
          26,
          26,
          13,
          13,
          13,
          13,
          13,
          13,
          13,
          13,
          13,
          26,
          91,
          13,
          13,
          13,
          429,
          13,
          13,
          65,
          13,
          13,
          13,
          13,
          13,
          13,
          13,
          39,
          39,
          26,
          13,
          13,
          13,
          13,
          390,
          13,
          26,
          13,
          13,
          26,
          26,
          13,
          52,
          13,
          13,
          52,
          13,
          39,
          13,
          13,
          13,
          13,
          52,
          13,
          13,
          78,
          65,
          39,
          65,
          13,
          13,
          91,
          13,
          91,
          13,
          26,
          13,
          13,
          26,
          13,
          13,
          13,
          13,
          13,
          13,
          26,
          13,
          26,
          13,
          13,
          13,
          13,
          13,
          13,
          13,
          13,
          13,
          39,
          13,
          13,
          39,
          13,
          52,
          104,
          13,
          13,
          104,
          13,
          78,
          13,
          13,
          13,
          78,
          13,
          13,
          13,
          13,
          13,
          13,
          13,
          13,
          13,
          13,
          26,
          26,
          78,
          13,
          13,
          26,
          13,
          13,
          13,
          13,
          39,
          13,
          91,
          13,
          13,
          13,
          13,
          13,
          78,
          13,
          13,
          13,
          39,
          65,
          26,
          13,
          13,
          26,
          65,
          13,
          13,
          26,
          13,
          13,
          13,
          13,
          13,
          26,
          26,
          13,
          39,
          13,
          26,
          13,
          26,
          26,
          13,
          52,
          13,
          13,
          13,
          13,
          104,
          13,
          13,
          52,
          39,
          13,
          13,
          13,
          13,
          13,
          65,
          65,
          13,
          13,
          13,
          39,
          26,
          13,
          13,
          13,
          13,
          13,
          104,
          13,
          13,
          13,
          13,
          104,
          13,
          13,
          39,
          13,
          13,
          13,
          52,
          26,
          13,
          13,
          39,
          26,
          13,
          13,
          13,
          13,
          390,
          13,
          13,
          13,
          65,
          13,
          13,
          13,
          13,
          13,
          39,
          13,
          91,
          39,
          13,
          26,
          13,
          13,
          13,
          13,
          13,
          13,
          26,
          13,
          13,
          13,
          52,
          13,
          13,
          13,
          13,
          13,
          39,
          13,
          52,
          12,
          13,
          91,
          13,
          13,
          39,
          13,
          13,
          13,
          39,
          13,
          13,
          13,
          26,
          13,
          78,
          78,
          13,
          26,
          13,
          104,
          13,
          13,
          65,
          13,
          39,
          13,
          13,
          52,
          13,
          13,
          26,
          13,
          39,
          13,
          13,
          65,
          13,
          13,
          13,
          13,
          39,
          13,
          13,
          13,
          52,
          91,
          13,
          13,
          13,
          13,
          13,
          13,
          13,
          13,
          26,
          13,
          52,
          13,
          13,
          13,
          13,
          13,
          26,
          13,
          78,
          52,
          13,
          13,
          13,
          13,
          13,
          26,
          13,
          91,
          13,
          52,
          13,
          13,
          26,
          13,
          13,
          13,
          13,
          13,
          13,
          13,
          13,
          13,
          13,
          13,
          13,
          13,
          52,
          13,
          13,
          13,
          26,
          13,
          13,
          13,
          39,
          1079,
          65,
          39,
          52,
          13,
          117,
          26,
          13,
          39,
          13,
          78,
          91,
          13,
          13,
          13,
          39,
          13,
          13,
          13,
          234,
          13,
          13,
          13,
          13,
          286,
          13,
          13,
          13,
          13,
          78,
          13,
          13,
          104,
          26,
          13,
          13,
          26,
          13,
          117,
          13,
          26,
          13,
          26,
          1339,
          13,
          13,
          13,
          104,
          3782,
          39,
          65,
          52,
          52,
          143,
          91,
          39,
          91,
          39,
          78,
          13,
          403,
          65,
          156,
          169,
          78,
          26,
          13,
          13,
          26,
          65,
          13,
          390,
          13,
          13,
          169,
          546,
          13,
          117,
          13,
          13,
          39,
          13,
          13,
          338,
          13,
          39,
          13,
          13,
          26,
          13,
          13,
          26,
          91,
          13,
          13,
          13,
          52,
          13,
          364,
          52,
          13,
          13,
          52,
          26,
          13,
          52,
          13,
          299,
          13,
          13,
          104,
          13,
          13,
          12999
         ]
        }
       ],
       "layout": {
        "coloraxis": {
         "colorbar": {
          "title": {
           "text": "Count"
          }
         },
         "colorscale": [
          [
           0,
           "rgb(247,251,255)"
          ],
          [
           0.125,
           "rgb(222,235,247)"
          ],
          [
           0.25,
           "rgb(198,219,239)"
          ],
          [
           0.375,
           "rgb(158,202,225)"
          ],
          [
           0.5,
           "rgb(107,174,214)"
          ],
          [
           0.625,
           "rgb(66,146,198)"
          ],
          [
           0.75,
           "rgb(33,113,181)"
          ],
          [
           0.875,
           "rgb(8,81,156)"
          ],
          [
           1,
           "rgb(8,48,107)"
          ]
         ]
        },
        "legend": {
         "tracegroupgap": 0
        },
        "margin": {
         "t": 60
        },
        "template": {
         "data": {
          "bar": [
           {
            "error_x": {
             "color": "#2a3f5f"
            },
            "error_y": {
             "color": "#2a3f5f"
            },
            "marker": {
             "line": {
              "color": "#E5ECF6",
              "width": 0.5
             }
            },
            "type": "bar"
           }
          ],
          "barpolar": [
           {
            "marker": {
             "line": {
              "color": "#E5ECF6",
              "width": 0.5
             }
            },
            "type": "barpolar"
           }
          ],
          "carpet": [
           {
            "aaxis": {
             "endlinecolor": "#2a3f5f",
             "gridcolor": "white",
             "linecolor": "white",
             "minorgridcolor": "white",
             "startlinecolor": "#2a3f5f"
            },
            "baxis": {
             "endlinecolor": "#2a3f5f",
             "gridcolor": "white",
             "linecolor": "white",
             "minorgridcolor": "white",
             "startlinecolor": "#2a3f5f"
            },
            "type": "carpet"
           }
          ],
          "choropleth": [
           {
            "colorbar": {
             "outlinewidth": 0,
             "ticks": ""
            },
            "type": "choropleth"
           }
          ],
          "contour": [
           {
            "colorbar": {
             "outlinewidth": 0,
             "ticks": ""
            },
            "colorscale": [
             [
              0,
              "#0d0887"
             ],
             [
              0.1111111111111111,
              "#46039f"
             ],
             [
              0.2222222222222222,
              "#7201a8"
             ],
             [
              0.3333333333333333,
              "#9c179e"
             ],
             [
              0.4444444444444444,
              "#bd3786"
             ],
             [
              0.5555555555555556,
              "#d8576b"
             ],
             [
              0.6666666666666666,
              "#ed7953"
             ],
             [
              0.7777777777777778,
              "#fb9f3a"
             ],
             [
              0.8888888888888888,
              "#fdca26"
             ],
             [
              1,
              "#f0f921"
             ]
            ],
            "type": "contour"
           }
          ],
          "contourcarpet": [
           {
            "colorbar": {
             "outlinewidth": 0,
             "ticks": ""
            },
            "type": "contourcarpet"
           }
          ],
          "heatmap": [
           {
            "colorbar": {
             "outlinewidth": 0,
             "ticks": ""
            },
            "colorscale": [
             [
              0,
              "#0d0887"
             ],
             [
              0.1111111111111111,
              "#46039f"
             ],
             [
              0.2222222222222222,
              "#7201a8"
             ],
             [
              0.3333333333333333,
              "#9c179e"
             ],
             [
              0.4444444444444444,
              "#bd3786"
             ],
             [
              0.5555555555555556,
              "#d8576b"
             ],
             [
              0.6666666666666666,
              "#ed7953"
             ],
             [
              0.7777777777777778,
              "#fb9f3a"
             ],
             [
              0.8888888888888888,
              "#fdca26"
             ],
             [
              1,
              "#f0f921"
             ]
            ],
            "type": "heatmap"
           }
          ],
          "heatmapgl": [
           {
            "colorbar": {
             "outlinewidth": 0,
             "ticks": ""
            },
            "colorscale": [
             [
              0,
              "#0d0887"
             ],
             [
              0.1111111111111111,
              "#46039f"
             ],
             [
              0.2222222222222222,
              "#7201a8"
             ],
             [
              0.3333333333333333,
              "#9c179e"
             ],
             [
              0.4444444444444444,
              "#bd3786"
             ],
             [
              0.5555555555555556,
              "#d8576b"
             ],
             [
              0.6666666666666666,
              "#ed7953"
             ],
             [
              0.7777777777777778,
              "#fb9f3a"
             ],
             [
              0.8888888888888888,
              "#fdca26"
             ],
             [
              1,
              "#f0f921"
             ]
            ],
            "type": "heatmapgl"
           }
          ],
          "histogram": [
           {
            "marker": {
             "colorbar": {
              "outlinewidth": 0,
              "ticks": ""
             }
            },
            "type": "histogram"
           }
          ],
          "histogram2d": [
           {
            "colorbar": {
             "outlinewidth": 0,
             "ticks": ""
            },
            "colorscale": [
             [
              0,
              "#0d0887"
             ],
             [
              0.1111111111111111,
              "#46039f"
             ],
             [
              0.2222222222222222,
              "#7201a8"
             ],
             [
              0.3333333333333333,
              "#9c179e"
             ],
             [
              0.4444444444444444,
              "#bd3786"
             ],
             [
              0.5555555555555556,
              "#d8576b"
             ],
             [
              0.6666666666666666,
              "#ed7953"
             ],
             [
              0.7777777777777778,
              "#fb9f3a"
             ],
             [
              0.8888888888888888,
              "#fdca26"
             ],
             [
              1,
              "#f0f921"
             ]
            ],
            "type": "histogram2d"
           }
          ],
          "histogram2dcontour": [
           {
            "colorbar": {
             "outlinewidth": 0,
             "ticks": ""
            },
            "colorscale": [
             [
              0,
              "#0d0887"
             ],
             [
              0.1111111111111111,
              "#46039f"
             ],
             [
              0.2222222222222222,
              "#7201a8"
             ],
             [
              0.3333333333333333,
              "#9c179e"
             ],
             [
              0.4444444444444444,
              "#bd3786"
             ],
             [
              0.5555555555555556,
              "#d8576b"
             ],
             [
              0.6666666666666666,
              "#ed7953"
             ],
             [
              0.7777777777777778,
              "#fb9f3a"
             ],
             [
              0.8888888888888888,
              "#fdca26"
             ],
             [
              1,
              "#f0f921"
             ]
            ],
            "type": "histogram2dcontour"
           }
          ],
          "mesh3d": [
           {
            "colorbar": {
             "outlinewidth": 0,
             "ticks": ""
            },
            "type": "mesh3d"
           }
          ],
          "parcoords": [
           {
            "line": {
             "colorbar": {
              "outlinewidth": 0,
              "ticks": ""
             }
            },
            "type": "parcoords"
           }
          ],
          "pie": [
           {
            "automargin": true,
            "type": "pie"
           }
          ],
          "scatter": [
           {
            "marker": {
             "colorbar": {
              "outlinewidth": 0,
              "ticks": ""
             }
            },
            "type": "scatter"
           }
          ],
          "scatter3d": [
           {
            "line": {
             "colorbar": {
              "outlinewidth": 0,
              "ticks": ""
             }
            },
            "marker": {
             "colorbar": {
              "outlinewidth": 0,
              "ticks": ""
             }
            },
            "type": "scatter3d"
           }
          ],
          "scattercarpet": [
           {
            "marker": {
             "colorbar": {
              "outlinewidth": 0,
              "ticks": ""
             }
            },
            "type": "scattercarpet"
           }
          ],
          "scattergeo": [
           {
            "marker": {
             "colorbar": {
              "outlinewidth": 0,
              "ticks": ""
             }
            },
            "type": "scattergeo"
           }
          ],
          "scattergl": [
           {
            "marker": {
             "colorbar": {
              "outlinewidth": 0,
              "ticks": ""
             }
            },
            "type": "scattergl"
           }
          ],
          "scattermapbox": [
           {
            "marker": {
             "colorbar": {
              "outlinewidth": 0,
              "ticks": ""
             }
            },
            "type": "scattermapbox"
           }
          ],
          "scatterpolar": [
           {
            "marker": {
             "colorbar": {
              "outlinewidth": 0,
              "ticks": ""
             }
            },
            "type": "scatterpolar"
           }
          ],
          "scatterpolargl": [
           {
            "marker": {
             "colorbar": {
              "outlinewidth": 0,
              "ticks": ""
             }
            },
            "type": "scatterpolargl"
           }
          ],
          "scatterternary": [
           {
            "marker": {
             "colorbar": {
              "outlinewidth": 0,
              "ticks": ""
             }
            },
            "type": "scatterternary"
           }
          ],
          "surface": [
           {
            "colorbar": {
             "outlinewidth": 0,
             "ticks": ""
            },
            "colorscale": [
             [
              0,
              "#0d0887"
             ],
             [
              0.1111111111111111,
              "#46039f"
             ],
             [
              0.2222222222222222,
              "#7201a8"
             ],
             [
              0.3333333333333333,
              "#9c179e"
             ],
             [
              0.4444444444444444,
              "#bd3786"
             ],
             [
              0.5555555555555556,
              "#d8576b"
             ],
             [
              0.6666666666666666,
              "#ed7953"
             ],
             [
              0.7777777777777778,
              "#fb9f3a"
             ],
             [
              0.8888888888888888,
              "#fdca26"
             ],
             [
              1,
              "#f0f921"
             ]
            ],
            "type": "surface"
           }
          ],
          "table": [
           {
            "cells": {
             "fill": {
              "color": "#EBF0F8"
             },
             "line": {
              "color": "white"
             }
            },
            "header": {
             "fill": {
              "color": "#C8D4E3"
             },
             "line": {
              "color": "white"
             }
            },
            "type": "table"
           }
          ]
         },
         "layout": {
          "annotationdefaults": {
           "arrowcolor": "#2a3f5f",
           "arrowhead": 0,
           "arrowwidth": 1
          },
          "autotypenumbers": "strict",
          "coloraxis": {
           "colorbar": {
            "outlinewidth": 0,
            "ticks": ""
           }
          },
          "colorscale": {
           "diverging": [
            [
             0,
             "#8e0152"
            ],
            [
             0.1,
             "#c51b7d"
            ],
            [
             0.2,
             "#de77ae"
            ],
            [
             0.3,
             "#f1b6da"
            ],
            [
             0.4,
             "#fde0ef"
            ],
            [
             0.5,
             "#f7f7f7"
            ],
            [
             0.6,
             "#e6f5d0"
            ],
            [
             0.7,
             "#b8e186"
            ],
            [
             0.8,
             "#7fbc41"
            ],
            [
             0.9,
             "#4d9221"
            ],
            [
             1,
             "#276419"
            ]
           ],
           "sequential": [
            [
             0,
             "#0d0887"
            ],
            [
             0.1111111111111111,
             "#46039f"
            ],
            [
             0.2222222222222222,
             "#7201a8"
            ],
            [
             0.3333333333333333,
             "#9c179e"
            ],
            [
             0.4444444444444444,
             "#bd3786"
            ],
            [
             0.5555555555555556,
             "#d8576b"
            ],
            [
             0.6666666666666666,
             "#ed7953"
            ],
            [
             0.7777777777777778,
             "#fb9f3a"
            ],
            [
             0.8888888888888888,
             "#fdca26"
            ],
            [
             1,
             "#f0f921"
            ]
           ],
           "sequentialminus": [
            [
             0,
             "#0d0887"
            ],
            [
             0.1111111111111111,
             "#46039f"
            ],
            [
             0.2222222222222222,
             "#7201a8"
            ],
            [
             0.3333333333333333,
             "#9c179e"
            ],
            [
             0.4444444444444444,
             "#bd3786"
            ],
            [
             0.5555555555555556,
             "#d8576b"
            ],
            [
             0.6666666666666666,
             "#ed7953"
            ],
            [
             0.7777777777777778,
             "#fb9f3a"
            ],
            [
             0.8888888888888888,
             "#fdca26"
            ],
            [
             1,
             "#f0f921"
            ]
           ]
          },
          "colorway": [
           "#636efa",
           "#EF553B",
           "#00cc96",
           "#ab63fa",
           "#FFA15A",
           "#19d3f3",
           "#FF6692",
           "#B6E880",
           "#FF97FF",
           "#FECB52"
          ],
          "font": {
           "color": "#2a3f5f"
          },
          "geo": {
           "bgcolor": "white",
           "lakecolor": "white",
           "landcolor": "#E5ECF6",
           "showlakes": true,
           "showland": true,
           "subunitcolor": "white"
          },
          "hoverlabel": {
           "align": "left"
          },
          "hovermode": "closest",
          "mapbox": {
           "style": "light"
          },
          "paper_bgcolor": "white",
          "plot_bgcolor": "#E5ECF6",
          "polar": {
           "angularaxis": {
            "gridcolor": "white",
            "linecolor": "white",
            "ticks": ""
           },
           "bgcolor": "#E5ECF6",
           "radialaxis": {
            "gridcolor": "white",
            "linecolor": "white",
            "ticks": ""
           }
          },
          "scene": {
           "xaxis": {
            "backgroundcolor": "#E5ECF6",
            "gridcolor": "white",
            "gridwidth": 2,
            "linecolor": "white",
            "showbackground": true,
            "ticks": "",
            "zerolinecolor": "white"
           },
           "yaxis": {
            "backgroundcolor": "#E5ECF6",
            "gridcolor": "white",
            "gridwidth": 2,
            "linecolor": "white",
            "showbackground": true,
            "ticks": "",
            "zerolinecolor": "white"
           },
           "zaxis": {
            "backgroundcolor": "#E5ECF6",
            "gridcolor": "white",
            "gridwidth": 2,
            "linecolor": "white",
            "showbackground": true,
            "ticks": "",
            "zerolinecolor": "white"
           }
          },
          "shapedefaults": {
           "line": {
            "color": "#2a3f5f"
           }
          },
          "ternary": {
           "aaxis": {
            "gridcolor": "white",
            "linecolor": "white",
            "ticks": ""
           },
           "baxis": {
            "gridcolor": "white",
            "linecolor": "white",
            "ticks": ""
           },
           "bgcolor": "#E5ECF6",
           "caxis": {
            "gridcolor": "white",
            "linecolor": "white",
            "ticks": ""
           }
          },
          "title": {
           "x": 0.05
          },
          "xaxis": {
           "automargin": true,
           "gridcolor": "white",
           "linecolor": "white",
           "ticks": "",
           "title": {
            "standoff": 15
           },
           "zerolinecolor": "white",
           "zerolinewidth": 2
          },
          "yaxis": {
           "automargin": true,
           "gridcolor": "white",
           "linecolor": "white",
           "ticks": "",
           "title": {
            "standoff": 15
           },
           "zerolinecolor": "white",
           "zerolinewidth": 2
          }
         }
        }
       }
      },
      "text/html": [
       "<div>                            <div id=\"bbcea74a-3b29-4fc3-b042-6f4a93df1753\" class=\"plotly-graph-div\" style=\"height:525px; width:100%;\"></div>            <script type=\"text/javascript\">                require([\"plotly\"], function(Plotly) {                    window.PLOTLYENV=window.PLOTLYENV || {};                                    if (document.getElementById(\"bbcea74a-3b29-4fc3-b042-6f4a93df1753\")) {                    Plotly.newPlot(                        \"bbcea74a-3b29-4fc3-b042-6f4a93df1753\",                        [{\"branchvalues\": \"total\", \"customdata\": [[13.0], [13.0], [13.0], [13.0], [52.0], [13.0], [13.0], [13.0], [26.0], [13.0], [13.0], [13.0], [13.0], [13.0], [26.0], [13.0], [13.0], [26.0], [13.0], [13.0], [13.0], [65.0], [91.0], [91.0], [13.0], [13.0], [26.0], [13.0], [39.0], [13.0], [13.0], [39.0], [13.0], [104.0], [78.0], [13.0], [13.0], [13.0], [13.0], [26.0], [78.0], [13.0], [91.0], [13.0], [13.0], [26.0], [13.0], [13.0], [13.0], [52.0], [39.0], [13.0], [13.0], [26.0], [13.0], [13.0], [39.0], [13.0], [52.0], [13.0], [390.0], [13.0], [91.0], [26.0], [13.0], [13.0], [52.0], [13.0], [13.0], [52.0], [13.0], [91.0], [13.0], [39.0], [13.0], [78.0], [78.0], [104.0], [13.0], [13.0], [52.0], [13.0], [13.0], [13.0], [91.0], [52.0], [13.0], [13.0], [26.0], [52.0], [91.0], [13.0], [13.0], [13.0], [13.0], [65.0], [13.0], [26.0], [13.0], [13.0], [13.0], [13.0], [13.0], [13.0], [13.0], [13.0], [13.0], [13.0], [104.0], [13.0], [13.0], [13.0], [13.0], [13.0], [429.0], [13.0], [26.0], [26.0], [13.0], [65.0], [13.0], [13.0], [13.0], [13.0], [13.0], [13.0], [13.0], [13.0], [13.0], [13.0], [13.0], [13.0], [13.0], [13.0], [13.0], [26.0], [52.0], [13.0], [39.0], [13.0], [13.0], [65.0], [13.0], [13.0], [13.0], [65.0], [78.0], [13.0], [52.0], [26.0], [39.0], [390.0], [39.0], [78.0], [26.0], [91.0], [13.0], [13.0], [39.0], [13.0], [13.0], [26.0], [52.0], [13.0], [39.0], [13.0], [26.0], [104.0], [26.0], [13.0], [13.0], [13.0], [13.0], [117.0], [91.0], [13.0], [13.0], [13.0], [26.0], [13.0], [13.0], [13.0], [39.0], [13.0], [13.0], [26.0], [13.0], [13.0], [13.0], [65.0], [13.0], [13.0], [13.0], [13.0], [13.0], [13.0], [13.0], [52.0], [13.0], [39.0], [13.0], [26.0], [13.0], [13.0], [13.0], [13.0], [13.0], [13.0], [13.0], [13.0], [13.0], [13.0], [13.0], [13.0], [13.0], [13.0], [13.0], [13.0], [13.0], [13.0], [13.0], [13.0], [13.0], [13.0], [13.0], [13.0], [13.0], [13.0], [13.0], [13.0], [13.0], [13.0], [13.0], [13.0], [13.0], [13.0], [13.0], [13.0], [13.0], [13.0], [13.0], [13.0], [13.0], [13.0], [13.0], [13.0], [13.0], [13.0], [13.0], [13.0], [13.0], [13.0], [13.0], [13.0], [13.0], [13.0], [104.0], [39.0], [52.0], [13.0], [91.0], [13.0], [13.0], [39.0], [13.0], [26.0], [39.0], [26.0], [13.0], [13.0], [13.0], [13.0], [13.0], [13.0], [104.0], [13.0], [13.0], [13.0], [13.0], [13.0], [13.0], [13.0], [13.0], [13.0], [13.0], [13.0], [13.0], [13.0], [13.0], [13.0], [13.0], [13.0], [13.0], [13.0], [13.0], [13.0], [13.0], [13.0], [13.0], [13.0], [13.0], [13.0], [13.0], [13.0], [13.0], [13.0], [13.0], [13.0], [13.0], [13.0], [13.0], [39.0], [26.0], [13.0], [13.0], [13.0], [13.0], [13.0], [13.0], [13.0], [13.0], [13.0], [13.0], [13.0], [13.0], [13.0], [13.0], [26.0], [13.0], [13.0], [13.0], [13.0], [13.0], [13.0], [13.0], [13.0], [13.0], [13.0], [13.0], [13.0], [13.0], [12.0], [26.0], [13.0], [13.0], [13.0], [13.0], [13.0], [13.0], [52.0], [13.0], [13.0], [13.0], [13.0], [39.0], [13.0], [13.0], [13.0], [13.0], [13.0], [13.0], [13.0], [13.0], [13.0], [13.0], [13.0], [13.0], [26.0], [13.0], [13.0], [13.0], [13.0], [13.0], [13.0], [13.0], [26.0], [78.0], [65.0], [13.0], [13.0], [39.0], [13.0], [13.0], [13.0], [13.0], [13.0], [13.0], [26.0], [26.0], [78.0], [13.0], [13.0], [13.0], [13.0], [39.0], [39.0], [13.0], [13.0], [13.0], [13.0], [13.0], [13.0], [13.0], [13.0], [39.0], [26.0], [52.0], [52.0], [13.0], [13.0], [13.0], [13.0], [13.0], [26.0], [13.0], [13.0], [13.0], [13.0], [13.0], [26.0], [13.0], [13.0], [13.0], [13.0], [13.0], [13.0], [13.0], [13.0], [26.0], [13.0], [13.0], [13.0], [13.0], [26.0], [13.0], [13.0], [13.0], [13.0], [13.0], [26.0], [13.0], [13.0], [39.0], [26.0], [26.0], [13.0], [13.0], [13.0], [13.0], [13.0], [13.0], [13.0], [26.0], [13.0], [13.0], [13.0], [13.0], [52.0], [13.0], [52.0], [13.0], [13.0], [13.0], [13.0], [13.0], [13.0], [26.0], [13.0], [13.0], [13.0], [26.0], [13.0], [13.0], [13.0], [65.0], [52.0], [39.0], [65.0], [13.0], [65.0], [26.0], [13.0], [26.0], [65.0], [13.0], [13.0], [13.0], [13.0], [39.0], [26.0], [13.0], [26.0], [13.0], [13.0], [52.0], [13.0], [13.0], [13.0], [13.0], [13.0], [13.0], [13.0], [13.0], [13.0], [13.0], [13.0], [13.0], [13.0], [13.0], [13.0], [26.0], [13.0], [13.0], [13.0], [13.0], [13.0], [13.0], [91.0], [13.0], [13.0], [13.0], [13.0], [13.0], [13.0], [65.0], [299.0], [13.0], [13.0], [13.0], [13.0], [13.0], [13.0], [13.0], [13.0], [13.0], [13.0], [13.0], [13.0], [13.0], [117.0], [13.0], [91.0], [13.0], [13.0], [13.0], [13.0], [13.0], [13.0], [13.0], [13.0], [13.0], [13.0], [13.0], [13.0], [13.0], [13.0], [13.0], [13.0], [52.0], [13.0], [13.0], [13.0], [13.0], [56.333333333333336], [13.0], [26.0], [26.0], [52.0], [52.0], [13.0], [52.0], [13.0], [13.0], [26.0], [13.0], [26.0], [13.0], [13.0], [13.0], [13.0], [78.0], [13.0], [13.0], [299.0], [26.0], [13.0], [13.0], [26.0], [13.0], [13.0], [13.0], [13.0], [13.0], [26.0], [91.0], [13.0], [13.0], [13.0], [13.0], [13.0], [26.0], [13.0], [13.0], [13.0], [13.0], [65.0], [13.0], [13.0], [26.0], [13.0], [13.0], [13.0], [13.0], [13.0], [13.0], [13.0], [26.0], [13.0], [13.0], [13.0], [13.0], [13.0], [52.0], [13.0], [13.0], [13.0], [13.0], [13.0], [13.0], [13.0], [13.0], [13.0], [13.0], [13.0], [13.0], [13.0], [39.0], [13.0], [13.0], [26.0], [13.0], [13.0], [13.0], [13.0], [21.666666666666668], [13.0], [13.0], [13.0], [13.0], [13.0], [13.0], [13.0], [91.0], [13.0], [13.0], [13.0], [13.0], [13.0], [13.0], [13.0], [26.0], [26.0], [13.0], [13.0], [13.0], [13.0], [13.0], [13.0], [13.0], [13.0], [13.0], [26.0], [91.0], [13.0], [13.0], [13.0], [429.0], [13.0], [13.0], [65.0], [13.0], [13.0], [13.0], [13.0], [13.0], [13.0], [13.0], [39.0], [39.0], [26.0], [13.0], [13.0], [13.0], [13.0], [390.0], [13.0], [13.0], [13.0], [13.0], [26.0], [26.0], [13.0], [52.0], [13.0], [13.0], [52.0], [13.0], [39.0], [13.0], [13.0], [13.0], [13.0], [52.0], [13.0], [13.0], [78.0], [65.0], [39.0], [65.0], [13.0], [13.0], [91.0], [13.0], [91.0], [13.0], [26.0], [13.0], [13.0], [26.0], [13.0], [13.0], [13.0], [13.0], [13.0], [13.0], [26.0], [13.0], [26.0], [13.0], [13.0], [13.0], [13.0], [13.0], [13.0], [13.0], [13.0], [13.0], [39.0], [13.0], [13.0], [39.0], [13.0], [52.0], [104.0], [13.0], [13.0], [104.0], [13.0], [78.0], [13.0], [13.0], [13.0], [78.0], [13.0], [13.0], [13.0], [13.0], [13.0], [13.0], [13.0], [13.0], [13.0], [13.0], [26.0], [26.0], [78.0], [13.0], [13.0], [26.0], [13.0], [13.0], [13.0], [13.0], [39.0], [13.0], [91.0], [13.0], [13.0], [13.0], [13.0], [13.0], [78.0], [13.0], [13.0], [13.0], [39.0], [65.0], [26.0], [13.0], [13.0], [26.0], [65.0], [13.0], [13.0], [26.0], [13.0], [13.0], [13.0], [13.0], [13.0], [26.0], [26.0], [13.0], [39.0], [13.0], [26.0], [13.0], [26.0], [26.0], [13.0], [52.0], [13.0], [13.0], [13.0], [13.0], [104.0], [13.0], [13.0], [52.0], [39.0], [13.0], [13.0], [13.0], [13.0], [13.0], [65.0], [65.0], [13.0], [13.0], [13.0], [39.0], [26.0], [13.0], [13.0], [13.0], [13.0], [13.0], [104.0], [13.0], [13.0], [13.0], [13.0], [104.0], [13.0], [13.0], [39.0], [13.0], [13.0], [13.0], [52.0], [26.0], [13.0], [13.0], [39.0], [26.0], [13.0], [13.0], [13.0], [13.0], [390.0], [13.0], [13.0], [13.0], [65.0], [13.0], [13.0], [13.0], [13.0], [13.0], [39.0], [13.0], [91.0], [39.0], [13.0], [26.0], [13.0], [13.0], [13.0], [13.0], [13.0], [13.0], [26.0], [13.0], [13.0], [13.0], [52.0], [13.0], [13.0], [13.0], [13.0], [13.0], [39.0], [13.0], [52.0], [12.0], [13.0], [91.0], [13.0], [13.0], [39.0], [13.0], [13.0], [13.0], [39.0], [13.0], [13.0], [13.0], [26.0], [13.0], [78.0], [78.0], [13.0], [26.0], [13.0], [104.0], [13.0], [13.0], [65.0], [13.0], [39.0], [13.0], [13.0], [52.0], [13.0], [13.0], [26.0], [13.0], [39.0], [13.0], [13.0], [65.0], [13.0], [13.0], [13.0], [13.0], [39.0], [13.0], [13.0], [13.0], [52.0], [91.0], [13.0], [13.0], [13.0], [13.0], [13.0], [13.0], [13.0], [13.0], [26.0], [13.0], [52.0], [13.0], [13.0], [13.0], [13.0], [13.0], [26.0], [13.0], [39.0], [52.0], [13.0], [13.0], [13.0], [13.0], [13.0], [26.0], [13.0], [91.0], [13.0], [52.0], [13.0], [13.0], [26.0], [13.0], [13.0], [13.0], [13.0], [13.0], [13.0], [13.0], [13.0], [13.0], [13.0], [13.0], [13.0], [13.0], [52.0], [13.0], [13.0], [13.0], [26.0], [13.0], [13.0], [13.0], [13.0], [36.80722891566265], [18.2], [13.0], [26.0], [13.0], [93.88888888888889], [13.0], [13.0], [13.0], [13.0], [17.333333333333332], [13.0], [13.0], [13.0], [13.0], [13.0], [13.0], [13.0], [13.0], [15.88888888888889], [13.0], [13.0], [13.0], [13.0], [13.0], [13.0], [13.0], [13.0], [13.0], [13.0], [13.0], [13.0], [16.25], [13.0], [13.0], [13.0], [26.0], [13.0], [21.666666666666668], [13.0], [13.0], [13.0], [13.0], [18.805825242718445], [13.0], [13.0], [13.0], [104.0], [97.27340031729244], [39.0], [65.0], [32.5], [52.0], [36.63636363636363], [91.0], [39.0], [31.571428571428573], [21.666666666666668], [13.0], [13.0], [62.483870967741936], [65.0], [13.0], [25.0], [17.333333333333332], [13.0], [13.0], [13.0], [26.0], [13.0], [13.0], [390.0], [13.0], [13.0], [55.0], [345.42857142857144], [13.0], [18.77777777777778], [13.0], [13.0], [13.0], [13.0], [13.0], [44.0], [13.0], [39.0], [13.0], [13.0], [13.0], [13.0], [13.0], [26.0], [35.285714285714285], [13.0], [13.0], [13.0], [13.0], [13.0], [35.285714285714285], [13.0], [13.0], [13.0], [13.0], [26.0], [13.0], [19.5], [13.0], [299.0], [13.0], [13.0], [16.25], [13.0], [13.0], [79.66820524655743]], \"domain\": {\"x\": [0.0, 1.0], \"y\": [0.0, 1.0]}, \"hovertemplate\": \"labels=%{label}<br>Count_sum=%{value}<br>parent=%{parent}<br>id=%{id}<br>Count=%{color}<extra></extra>\", \"ids\": [\"Reasons for Recall/The affected lots of Carboplatin Injection, Cytarabine  Injection, Methotrexate Injection, USP, and Paclitaxel Injection are being recalled due to visible particles embedded in the glass located at the neck of the vial. There may be the potential for product to come into contact with the embedded particles and the particles may become dislodged into the solution./62459/\", \"Reasons for Recall/Lack of Assurance of Sterility/63511/\", \"Reasons for Recall/Failed Dissolution Test Requirements/63908/\", \"Reasons for Recall/Subpotent/66402/\", \"Reasons for Recall/Penicillin Cross Contamination/67723/\", \"Reasons for Recall/First Aid Only, Inc is recalling Smart Tab First Aid ezRefill System Ibuprofen boxes  and First Aid Cabinets containing these Ibuprofen boxes.  Ibuprofen boxes (FAE 7014) were accidentally used to package  aspirin packs  (10 packs of 2 / 235mg tablets)./67846/\", \"Reasons for Recall/Failed Content Uniformity Specifications./69075/\", \"Reasons for Recall/Subpotent Drug/69553/\", \"Reasons for Recall/Lack of sterility assurance./70118/\", \"Reasons for Recall/Subpotent Drug/70555/\", \"Reasons for Recall/Lack of assurance of sterility/70807/\", \"Reasons for Recall/Presence of Particulate Matter/70936/\", \"Reasons for Recall/Presence of Particulate Matter/71004/\", \"Reasons for Recall/Subpotent drug/71046/\", \"Reasons for Recall/Lack of Assurance of Sterility/71205/\", \"Reasons for Recall/Failed dissolution specifications/71219/\", \"Reasons for Recall/Subpotent drug/71375/\", \"Reasons for Recall/Recalled products were made using an active ingredient that was recalled by a supplier due to penicillin cross contamination./71535/\", \"Reasons for Recall/Subpotent drug/71765/\", \"Reasons for Recall/Penicillin Cross Contamination and Presence of Foreign Substance.  Product was contaminated with penicillin and foreign substances during manufacturing process./71920/\", \"Reasons for Recall/Stability data does not support expiry./72177/\", \"Reasons for Recall/Lack of Assurance of Sterility/72455/\", \"Reasons for Recall/Lack of Assurance of Sterility/72520/\", \"Reasons for Recall/Lack of Assurance of Sterility/72594/\", \"Reasons for Recall/Marketed Without An Approved NDA/ANDA/73018/\", \"Reasons for Recall/Failed Impurities/Degradation Specifications/73152/\", \"Reasons for Recall/Lack of Assurance of Sterility/73304/\", \"Reasons for Recall/Lack of Assurance of Sterility/73336/\", \"Reasons for Recall/Lack of Processing Controls/73662/\", \"Reasons for Recall/Failed Impurities/Degradation Specifications/73679/\", \"Reasons for Recall/Failed Impuities/Degradation Specifications/73811/\", \"Reasons for Recall/Lack of Sterility Assurance/73899/\", \"Reasons for Recall/Lack of Sterility Assurance./73899/\", \"Reasons for Recall/Lack of Assurance of Sterility/73960/\", \"Reasons for Recall/Lack of Assurance of Sterility/74466/\", \"Reasons for Recall/CGMP Deviations/74497/\", \"Reasons for Recall/Failed Impurities/Degradation Specifications/74694/\", \"Reasons for Recall/Lack of assurance of sterility/75092/\", \"Reasons for Recall/Lack of Assurance of Sterility/75164/\", \"Reasons for Recall/Superpotent and Subpotent drugs/75247/\", \"Reasons for Recall/Lack of Assurance of Sterility/75289/\", \"Reasons for Recall/CGMP Deviations/75757/\", \"Reasons for Recall/Lack of Assurance of Sterility/75763/\", \"Reasons for Recall/Discoloration./76743/\", \"Reasons for Recall/Lack of Assurance of Sterility/77595/\", \"Reasons for Recall/Lack of Sterility Assurance./77780/\", \"Reasons for Recall/Crystallization with subpotent out of  specification assay results for chlorhexidine./77822/\", \"Reasons for Recall/Failed Dissolution Specifications/77862/\", \"Reasons for Recall/Lack of Assurance of Sterility./77959/\", \"Reasons for Recall/Subpotent Drug/78063/\", \"Reasons for Recall/Lack of Assurance of Sterility./78227/\", \"Reasons for Recall/Lack Of Assurance Of Sterility./78320/\", \"Reasons for Recall/Failed Impurities/Degradation Specifications./78325/\", \"Reasons for Recall/Lack of sterility assurance./78828/\", \"Reasons for Recall/cGMP Deviations/79606/\", \"Reasons for Recall/Presence of Particulate matter. Recall due to presence of unknown particulate matter./79671/\", \"Reasons for Recall/Lack of Processing Controls./79748/\", \"Reasons for Recall/CGMP Deviations/80006/\", \"Reasons for Recall/Lack of sterility assurance./80118/\", \"Reasons for Recall/Failed Impurities/Degradation Specifications/80356/\", \"Reasons for Recall/Microbial contamination/80601/\", \"Reasons for Recall/CGMP Deviations/80881/\", \"Reasons for Recall/Lack of Assurance of Sterility/81002/\", \"Reasons for Recall/Lack of Assurance of Sterility/81346/\", \"Reasons for Recall/Cross Contamination with Other Products/81457/\", \"Reasons for Recall/Failed Dissolution Specifications./81795/\", \"Reasons for Recall/Lack of sterility assurance./81810/\", \"Reasons for Recall/Lack of sterility assurance./81883/\", \"Reasons for Recall/Unapproved new drug/82106/\", \"Reasons for Recall/Lack of Assurance of Sterility/82398/\", \"Reasons for Recall/Presence of Particulate Matter./82463/\", \"Reasons for Recall/Lack of sterility assurance./82554/\", \"Reasons for Recall/Lack of assurance of sterility for injectables and solutions intended to be sterile./82615/\", \"Reasons for Recall/Lack of sterility assurance./82620/\", \"Reasons for Recall/Crystallization/83074/\", \"Reasons for Recall/Lack of Assurance of Sterility/83074/\", \"Reasons for Recall/Lack of Assurance of Sterility/83136/\", \"Reasons for Recall/Lack of Assurance of Sterility/83265/\", \"Reasons for Recall/Failed dissolution specifications/83434/\", \"Reasons for Recall/Failed Impurities/Degradation Specifications/83581/\", \"Reasons for Recall/Lack of Assurance of Sterility/83669/\", \"Reasons for Recall/Failed Stability Specifications./83700/\", \"Reasons for Recall/Lack of Assurance of Sterility/83789/\", \"Reasons for Recall/Lack of sterility assurance./84401/\", \"Reasons for Recall/Lack of sterility assurance./84546/\", \"Reasons for Recall/Lack of Assurance of Sterility/84978/\", \"Reasons for Recall/Lack Of Processing Controls/85081/\", \"Reasons for Recall/Subpotent Drug/85207/\", \"Reasons for Recall/Firm is recalling 46 lots of various products because of a lack of sterility assurance./85212/\", \"Reasons for Recall/Lack of Processing Control/85404/\", \"Reasons for Recall/Lack of Processing Controls (lack of assurance of conformity to specifications)./85992/\", \"Reasons for Recall/GMP Deviations/86579/\", \"Reasons for Recall/CGMP Deviations/86712/\", \"Reasons for Recall/Subpotent drug/86858/\", \"Reasons for Recall/CGMP Deviations/86955/\", \"Reasons for Recall/Lack of Assurance of Sterility/72241/  A recall of all compounded sterile preparations within expiry is being initiated due to observations associated with poor sterile production practices resulting in a lack of sterility assurance for their finished drugs.\", \"Reasons for Recall/Lack of Assurance of Sterility/74539/  Aluminum crimps do not fully seal the rubber stopper to the vials.\", \"Reasons for Recall/Failed Tablet/Capsule Specifications/72648/  Product recalled due to reports of breakage and leakage of Paricalcitol capsules.\", \"Reasons for Recall/Lack of assurance of sterility/74606/  This recall includes of all unexpired lots medications containing Calcium Gluconate, Papaverine, Phentolamine, and /or Prostaglandin) due to unsubstantiated validation of beyond use dating.\", \"Reasons for Recall/Presence of Particulate Matter/73653/  particulate matter identified as an insect in one vial.\", \"Reasons for Recall/Subpotent/63846/ 15 month stability (by mfr)\", \"Reasons for Recall/Subpotent/65047/ 24 month stability test station\", \"Reasons for Recall/Presence of Foreign Tablets/Capsules/75880/ 500 mg capsules were found in bottles labeled to contain 250 mg capsules\", \"Reasons for Recall/Subpotent/69233/ 6 month stability time point\", \"Reasons for Recall/Failed Dissolution Specifications/75764/ 6 month time point\", \"Reasons for Recall/Lack of Assurance of Sterility/67904/ A mold like substance was discovered on the surface of an unopened bag of Sodium Chloride 0.9% while prepping the bag for production.\", \"Reasons for Recall/Lack of Assurance of Sterility/69633/ A recent FDA inspection of Vann Healthcare Services facility revealed deficiencies that raise concerns about the pharmacy's ability to consistently assure sterility of their products.\", \"Reasons for Recall/Presence of particulate matter/69567/ A returned customer sample was evaluated and found to have human hair attached to a pinched area of the stopper.\", \"Reasons for Recall/Presence of Particulate Matter/74057/ API contaminated with glass particulate was used to produce sterile injectable drugs.\", \"Reasons for Recall/Failed Capsule/Tablet Specifications/70001/ Actavis has received several complaint for clumping and breaking of capsules with some bottles showing popped out bottle bottom (round bottom) and creased labels from one distribution center.\", \"Reasons for Recall/Labeling Product Contains Undeclared API/84620/ Active Ingredient on label is not the active ingredient in the product.\", \"Reasons for Recall/cGMP Deviations/76103/ Active Pharmaceutical Ingredient (API) manufacturer is on FDA Import Alert.\", \"Reasons for Recall/Failed Impurities/Degradation Specifications/84550/ Additional testing found Out of Specification impurity test results.\", \"Reasons for Recall/cGMP deviations/65154/ After quality review of stability failures in previous lots, there is insufficient data to determine that other lots are not affected.\", \"Reasons for Recall/Penicillin Cross Contamination/70452/ All lots of all products repackaged and distributed between 01/05/12 and 02/12/15 are being recalled because they were repackaged in a facility with penicillin products without adequate separation which could introduce the potential for cross contamination with penicillin.\", \"Reasons for Recall/Stability Data Does Not Support Expiry/70452/ All lots of all products repackaged and distributed between 01/05/12 and 02/12/15 are being recalled because they were repackaged without data to support the printed expiry date.\", \"Reasons for Recall/Lack of Sterility Assurance/66856/ All lots of sterile products compounded by the pharmacy that are not expired due to concerns associated with quality control procedures that present a potential risk to sterility assurance that were observed during a recent FDA inspection.\", \"Reasons for Recall/Lack of Sterility Assurance/69519/ All lots of sterile products compounded by the pharmacy that are not expired due to concerns associated with quality control procedures that present a potential risk to sterility assurance that were observed during a recent FDA inspection.\", \"Reasons for Recall/Lack of Assurance of Sterility/66568/ All lots of sterile products compounded by the pharmacy within expiry are subject to this recall. This recall is initiated due to concerns associated with quality control procedures observed during a recent FDA inspection.\", \"Reasons for Recall/Lack of Assurance of Sterility/66566/ All unexpired sterile compounded human and veterinary products are being recalled because they were compounded in the same environment and under the same practices as another product found to be nonsterile and therefore sterility cannot be assured.\", \"Reasons for Recall/Superpotent Drug/76726/ An oversized tablet was found in a bottle.\", \"Reasons for Recall/Presence of Precipitate/82660/ Appearance is Out of Specification for the reconstituted solution during 24month stability time point analysis.\", \"Reasons for Recall/Failed Impurities/Degradation Specifications/82947/ Atypical odor and unpleasant taste was reported\", \"Reasons for Recall/Presence of Particulate Matter/66913/ B. Braun Medical Inc. is recalling several injectable products due to visible particulate matter found in reserve sample units.\", \"Reasons for Recall/Presence of Paticulate Matter/67092/ Baxter is issuing a voluntary recall for these IV solutions due to particulate matter found in the solution identified as polyester and cotton fibers, adhesivelike mixture, polyacetal particles, thermally degraded PVC, black polypropylene and human hair embedded in the plastic bag\", \"Reasons for Recall/Marketed without an approved NDA/ANDA/78461/ Bottles were released prior to final approval.\", \"Reasons for Recall/Failed Tablet/Capsule Specifications/69157/ Broken tablets found in sealed bottles.\", \"Reasons for Recall/CGMP Deviations/80538/ Carcinogen impurity detected in API used to manufacture drug product.\", \"Reasons for Recall/CGMP Deviations/80557/ Carcinogen impurity detected in API used to manufacture drug product.\", \"Reasons for Recall/CGMP Deviations/80773/ Carcinogen impurity detected in API used to manufacture drug product.\", \"Reasons for Recall/Presence of Particulate Matter/68048/ Confirmed customer complaint of discolored solution with visible metal particles embedded in the glass vial and visible in the solution.\", \"Reasons for Recall/Presence of Particulate Matter/68579/ Confirmed customer complaint of discolored solution with visible metal particles embedded in the glass vial and visible in the solution.\", \"Reasons for Recall/Defective Container/72947/ Confirmed customer complaints of leaking bottles.\", \"Reasons for Recall/Unit Dose Mispackaging/84261/ Customer complaint that a carton labeled as Myorisan 20 mg Capsules, USP erroneously contained one 10count blister card of the 40 mg product in addition to two 10count blister cards of the 20 mg product.\", \"Reasons for Recall/CGMP Deviations/82337/ Detection of a trace amount of unexpected impurity N nitrosodiethylamine (NDEA) found in finished products\", \"Reasons for Recall/Failed Dissolution Specifications/76663/ Dissolution at 8 hour was out of specification at 12 month at 25 degree Celsius.\", \"Reasons for Recall/Lack of Assurance of Sterility/71618/ Due to lack of documentation of proper environmental monitoring during the time in which the medication was produced.\", \"Reasons for Recall/Subpotent Drug/67053/ During routine stability testing one tablet was found with tablet weight below specification.\", \"Reasons for Recall/Lack of Processing Controls/83996/ Environmental sampling revealed 1 CFU (Colony Forming Unit) identified as Talaromyces rotundus, a fungi.\", \"Reasons for Recall/Marketed Without An Approved NDA/ANDA/65894/ FDA analyses detected the presence of phenolphthalein, NdiDesmethylsibutramine, and trace amounts of sibutramine and NDesmethylsibutramine. Sibutramine and phenolphthalein were previously available drug products but were removed from the U.S. market making these products unapproved new drugs.\", \"Reasons for Recall/Marketed Without An Approved NDA/ANDA/77859/ FDA analysis found the product to contain undeclared sildenafil and tadalafil and undeclared milk. The presence of sildenafil and tadalafil makes AMPT Natural Herbal Coffee an unapproved drug for which safety and efficacy have not been established and, therefore, subject to recall. Additionally, this product has been found to contain undeclared milk, milk is recognized as one of the foods reported to have caused deaths due to anaphylactic shock in persons with underlying hypersensitivities.\", \"Reasons for Recall/Marked Without An Approved NDA/ANDA/76644/ FDA analysis found these products to contain sildenafil, an FDA approved drug for the treatment of erectile dysfunction, making these products unapproved drugs for which safety and efficacy have not been establish and therefore, subject to recall.\", \"Reasons for Recall/Marketed Without An Approved NDA/ANDA/65441/ FDA analysis found this product contained undeclared sibutramine and phenolphthalein, two active ingredients that were once marketed in the U.S. but removed due to safety reasons, making this product an unapproved new drug.\", \"Reasons for Recall/Marketed without an Approved NDA/ANDA/85232/ FDA analysis found this product to contain undeclared Tadalafil, an FDA approved drug for the treatment of erectile dysfunction\", \"Reasons for Recall/Marketed without an Approved NDA/ANDA/67247/ FDA has determined that the products are unapproved new drugs and misbranded.\", \"Reasons for Recall/Lack of Assurance of Sterility/64661/ FDA inspection findings resulted in concerns regarding quality control processes\", \"Reasons for Recall/Lack of Assurance of Sterility/65360/ FDA inspection findings resulted in concerns regarding quality control processes\", \"Reasons for Recall/Lack of Assurance of Sterility/64661/ FDA inspection findings resulted in concerns regarding quality control processes.\", \"Reasons for Recall/Lack of Assurance of Sterility/65019/ FDA inspection findings resulted in concerns regarding quality control processes.\", \"Reasons for Recall/Lack of Assurance of Sterility/65125/ FDA inspection findings resulted in concerns regarding quality control processes.\", \"Reasons for Recall/GMP Deviations/77526/ FDA inspection found significant manufacturing practices that call into question the safety, identity, strength, quality and purity of unexpired drug products manufactured by the firm.\", \"Reasons for Recall/Lack of Assurance of Sterility/71371/ FDA inspection identified GMP violations potentially impacting product quality and sterility\", \"Reasons for Recall/Lack of Assurance of Sterility/72361/ FDA inspection identified GMP violations potentially impacting product quality and sterility\", \"Reasons for Recall/Lack of Assurance of Sterility/74187/ FDA inspection identified GMP violations potentially impacting product quality and sterility.\", \"Reasons for Recall/Lack of Assurance of Sterility/64716/ FDA inspectional findings resulted in concerns associated with quality control procedures that impacted sterility assurance\", \"Reasons for Recall/Lack of Assurance of Sterility/65876/ FDA inspectional findings resulted in concerns associated with quality control procedures that impacted sterility assurance\", \"Reasons for Recall/CGMP Deviations/81613/ FDA lab confirmed presence an impurity, Nnitrosodiethylamine (NDEA) contained in the API used to manufacture the product.\", \"Reasons for Recall/CGMP Deviations/82585/ FDA lab confirmed presence of an impurity, NMethylnitrosobutyric acid (NMBA)  in the finished product above the interim acceptable daily intake level.\", \"Reasons for Recall/CGMP Deviations/82782/ FDA lab confirmed presence of an impurity, NMethylnitrosobutyric acid (NMBA) in the finished product above the interim acceptable daily intake level at the manufacturer\", \"Reasons for Recall/CGMP Deviations/83840/ FDA lab confirmed presence of an impurity, NMethylnitrosobutyric acid (NMBA) in the finished product above the interim acceptable daily intake level of 9.82 parts per million.\", \"Reasons for Recall/CGMP Deviations/81500/ FDA laboratory testing confirmed presence of an impurity, Nnitrosodiethylamine (NDEA) in product.\", \"Reasons for Recall/CGMP Deviations/81646/ FDA laboratory testing confirmed presence of an impurity, Nnitrosodimethylamine (NDEA) in product.\", \"Reasons for Recall/Marketed Without an Approved NDA/ANDA/71989/ FDA sampling confirmed the presence of Salicylic acid  in dietary supplements.\", \"Reasons for Recall/Failed Content Uniformity Specifications/71598/ Failed Uniformity of Dosage Units specifications.\", \"Reasons for Recall/CGMP Deviations/71104/ Firm did not adequately investigate customer complaints.\", \"Reasons for Recall/Lack of Assurance of Sterility/77161/ Firm failed to establish an adequate system for monitoring environmental conditions in aseptic processing areas.\", \"Reasons for Recall/Lack of Assurance of Sterility/73090/ Firm is recalling all unexpired lots of sterile compounded products after FDA inspection found concerns of lack of sterility assurance.\", \"Reasons for Recall/Lack of Assurance Sterility/79619/ Firm is recalling various drug products due to a nonapproved method of sterilization.\", \"Reasons for Recall/Lack of Processing Controls/80119/ Firm is voluntarily recalling all lots of homeopathic Teething Drops, Nausea Drops, Intestinal Colic Drops, Stomach Calm, Expectorant Cough Syrup, SilverZinc Throat Spray, and Argentum Elixir, within expiry, due to lack of adequate controls during manufacturing.\", \"Reasons for Recall/Presence of Foreign Tablets/Capsules/74949/ Firm received a market complaint stating the presence of one foreign tablet (Montelukast Sodium Chewable Tab 4mg) in the product bottle of Pantoprazole.\", \"Reasons for Recall/Lack of Assurance of Sterility/69056/ Firm received fentanyl from a supplier who recalled it  because fliptop vial crimps were loose or missing.\", \"Reasons for Recall/Contraceptive Tablets Out of Sequence/77323/ First 4 pills of the packet are brown, instead of the last four pills and the expiry/lot was not printed on the package.\", \"Reasons for Recall/Marketed Without An Approved NDA/ANDA/78991/ Flawless Beauty, LLC is voluntarily recalling all lots of different products sold individually or as part of multiunit kits in accordance with Consent Decree of Permanent Injunction ordered by the United States District Court due to misbranding and unapproved new drugs pursuant to the FD&C Act.\", \"Reasons for Recall/Lack of Assurance of Sterility/62416/ Franck's Lab Inc. initiated a recall of all Sterile Human Drugs distributed between 11/21/2011 and 05/21/2012 because FDA environmental sampling revealed the presence of microorganisms and fungal growth in the clean room where sterile products were prepared.\", \"Reasons for Recall/Lack of Assurance of Sterility/62443/ Franck's Lab Inc. initiated a recall of all Sterile Human Drugs distributed between 11/21/2011 and 05/21/2012. FDA environmental sampling revealed the presence of microorganisms and fungal growth in the clean room where sterile products were prepared.\", \"Reasons for Recall/Superpotent Drug/73569/ High out of specification results for assay at the 6 month time point interval.\", \"Reasons for Recall/Failed Impurities/Degradation Specifications/68787/ High outofspecification results for a related compound obtained during routine stability testing.\", \"Reasons for Recall/Lack of Assurance of Sterility/61918/ Hospira, Inc is voluntarily recalling the products due to possible leaking bags.\", \"Reasons for Recall/Marketed without an Approved NDA/ANDA/68626/ IM and SQ injectable products are being recalled because the manufacturing firm is not registered with the FDA as a drug manufacturer\", \"Reasons for Recall/Labeling/69942/ Illegible Label Sandoz Inc. is recalling of one lot of Fluoxetine Capsules due to an illegible logo on the capsule.\", \"Reasons for Recall/CGMP Deviations/84353/ Impurity Nnitrosodimethylamine (NDMA) found in API\", \"Reasons for Recall/CGMP Deviations/85039/ Impurity Nnitrosodimethylamine (NDMA) found in API.\", \"Reasons for Recall/Lack of Assurance of Sterility/80890/ Inadequate processes and equipment to assure the sterility of products intended to be sterile.\", \"Reasons for Recall/CGMP Deviations/78730/ Inadvertent release of a drug product with unapproved active ingredient manufacturer.\", \"Reasons for Recall/Labeling/72699/ Incorrect Instructions RemedyRepack, Inc. a relabeler, is recalling these products due to incorrect storage instructions.\", \"Reasons for Recall/Labeling/65840/ Incorrect Or Missing Lot and/or Exp Date The lot number and/or expiration date may be illegible on the outer plastic bottle packaging.\", \"Reasons for Recall/Labeling/86584/ Incorrect expiration date.  Product dated with 24month expiration date instead of 18months.\", \"Reasons for Recall/Labeling/85136/ Incorrect or Missing Exp Date  An incorrect expiration date has been identified on Prednisone Tablets USP 5 mg\", \"Reasons for Recall/Labeling/79640/ Incorrect or Missing Lot and/or Exp Date\", \"Reasons for Recall/Labeling/78553/ Incorrect or Missing Lot and/or Exp Date Beyond Use Date (BUD) exceed the BUD/EXP of at least one ingredient used to make final product.\", \"Reasons for Recall/Labeling/81337/ Incorrect or Missing Lot and/or Expiration Date vial indicates a 1 year expiration date instead of a 6 month expiration date\", \"Reasons for Recall/Labeling/64372/ Incorrect or Missing Lot and/or Expiration date The Lot and/or Expiration date on the tube may not be legible in this lot..\", \"Reasons for Recall/Labeling/69445/ Incorrect or Missing Package Insert\", \"Reasons for Recall/Labeling/73032/ Incorrect or Missing Package Insert Package insert is missing updates compared with reference drug insert.\", \"Reasons for Recall/Labeling/68572/ Incorrect or Missing Package Insert Product is packaged with the incorrect version of the package insert.\", \"Reasons for Recall/Labeling/78232/ Incorrect or Missing Package Insert authorized generic product was packaged with the incorrect insert for the brand name product Clolar (clofarabine) injection.\", \"Reasons for Recall/Labeling/86997/ Incorrect or Missing lot and/or expiration date The lot number and BUD were printed in the incorrect position on the product label making it illegible.\", \"Reasons for Recall/Labeling/84527/ Incorrect or missing lot and/or expiration date. Products were compounded using expired components.\", \"Reasons for Recall/Labeling/84082/ Incorrect or missing package insert.\", \"Reasons for Recall/Lack of Processing Controls/82278/ Insanitary conditions observed during compounding of sterile drugs during recent FDA Inspection.\", \"Reasons for Recall/Labeling/65008/ Label Error on Declared Strength Unopened bottles of Ropinirole USP 3 mg tablets was found to be incorrectly labeled as Ropinirole USP 4 mg tablets..\", \"Reasons for Recall/Labeling/66233/ Label Error on Declared Strength the label states that the product contains 62% ethyl alcohol, but the ethyl alcohol content is 20%.\", \"Reasons for Recall/Labeling/81441/ Label Error on Declared Strength the preprinted text on the primary infusion bag and the NDC incorrectly identifies the product as Levetiracetam in 0.75% Sodium Chloride (1000 mg/100 mL) however, the external foil pouch correctly identifies the product as Levetiracetam in 0.54% Sodium Chloride Injection (1,500/100 mL).\", \"Reasons for Recall/Labeling/78637/ Label Error on Declared Strength. A single syringe labeled as 150 mg/1.0 mL was found packaged in a blister labeled as 120 mg/mL\", \"Reasons for Recall/Labeling/87283/ Label MixUp  Prepackaged bottles labeled spironolactone 25 mg may contain spironolactone 50 mg tablets.\", \"Reasons for Recall/Labeling/79457/ Label MixUp Brilliant Blue G was labeled with an inaccurate auxiliary label which contained active/inactive ingredient information for incorrect product.\", \"Reasons for Recall/Labeling/73662/ Label MixUp Products labeled Biotin 100 mg found to contain 4aminopyridine\", \"Reasons for Recall/Labeling/65690/ Label Mixup ASPIRIN DR EC, Tablet, 81 mg may have potentially been mislabeled as one of the following drugs  SOTALOL HCL, Tablet, 120 mg, NDC 00093106001, Pedigree AD49448_20, EXP 5/17/2014  FOLIC ACID, Tablet, 1 mg, NDC 65162036110, Pedigree W003097, EXP 6/13/2014.\", \"Reasons for Recall/Labeling/65690/ Label Mixup ATORVASTATIN CALCIUM, Tablet, 10 mg may have potentially been mislabeled as one of the following drugs  PANCRELIPASE DR, Capsule, 12000 /38000 /60000 USP units, NDC 00032121201, Pedigree AD30180_4, EXP 5/8/2014  OMEPRAZOLE/SODIUM BICARBONATE, Capsule, 20 mg/1,110 mg, NDC 11523726503, Pedigree AD49399_4, EXP 5/16/2014  ASPIRIN, CHEW Tablet, 81 mg, NDC 00536329736, Pedi\", \"Reasons for Recall/Labeling/65690/ Label Mixup ATORVASTATIN CALCIUM, Tablet, 40 mg may have potentially been mislabeled as one of the following drugs  ATORVASTATIN CALCIUM, Tablet, 10 mg, NDC 00378201577, Pedigree AD33897_4, EXP 5/9/2014  FINASTERIDE, Tablet, 5 mg, NDC 16714052201, Pedigree W003031, EXP 2/28/2014.\", \"Reasons for Recall/Labeling/65690/ Label Mixup CHOLECALCIFEROL, Tablet, 5000 units may have potentially been mislabeled as one of the following drugs  LACTOBACILLUS ACIDOPHILUS, Capsule, 0 mg, NDC 54629011101, Pedigree AD65311_7, EXP 5/24/2014  QUINAPRIL HCL, Tablet, 20 mg, NDC 68180055809, Pedigree W003556, EXP 6/24/2014  POTASSIUM ACID PHOSPHATE, Tablet, 500 mg, NDC 00486111101, Pedigree AD52778_34, EXP 5/20/2\", \"Reasons for Recall/Labeling/65690/ Label Mixup CILOSTAZOL, Tablet, 100 mg may have potentially been mislabeled as the following drug  TRIAMTERENE/ HYDROCHLOROTHIAZIDE, Tablet, 37.5 mg/25 mg, NDC 00591042401, Pedigree W002900, EXP 6/10/2014.\", \"Reasons for Recall/Labeling/65690/ Label Mixup DESMOPRESSIN ACETATE, Tablet 0.1 mg may have potentially been mislabeled as the following drug   LOXAPINE, Capsule, 5 mg, NDC 00591036901, Pedigree AD46426_7, EXP 5/15/2014.\", \"Reasons for Recall/Labeling/65690/ Label Mixup DIGOXIN, Tablet, 125 mcg may have potentially been mislabeled as the following drug  CHOLECALCIFEROL/ CALCIUM/ PHOSPHORUS, Tablet, 120 units/105 mg/81 mg, NDC 64980015001, Pedigree W002581, EXP 6/3/2014.\", \"Reasons for Recall/Labeling/65690/ Label Mixup DOXAZOSIN MESYLATE, Tablet, 1 mg may have potentially been mislabeled as the following drug  PYRIDOXINE HCL, Tablet, 100 mg, NDC 00536440901, Pedigree W003872, EXP 6/27/2014.\", \"Reasons for Recall/Labeling/65707/ Label Mixup DOXEPIN HCL Capsule, 150 mg may be potentially mislabeled as    VALSARTAN, Tablet, 160 mg, NDC 00078035934, Pedigree AD46312_7, EXP 5/16/2014.\", \"Reasons for Recall/Labeling/65690/ Label Mixup ESTROPIPATE, Tablet, 0.75 mg may have potentially been mislabeled as the following drug   MESALAMINE DR, Capsule, 400 mg, NDC 00430075327, Pedigree AD34934_1, EXP 1/31/2014.\", \"Reasons for Recall/Labeling/65690/ Label Mixup EXEMESTANE, Tablet, 25 mg may be potentially mislabeled as the following drug   OMEGA3 FATTY ACID, Capsule, 1000 mg, NDC 00904404360, Pedigree W003473, EXP 6/20/2014.\", \"Reasons for Recall/Labeling/65707/ Label Mixup FAMOTIDINE Tablet, 20 mg may be potentially mislabeled as    CARVEDILOL PHOSPHATE ER, Capsule, 20 mg, NDC 00007337113, Pedigree W003225, EXP 6/17/2014  DULoxetine HCl DR, Capsule, 20 mg, NDC 00002323560, Pedigree W003506, EXP 6/21/2014  FAMOTIDINE, Tablet, 20 mg, NDC 16714036104, Pedigree W003507, EXP 6/21/2014  MYCOPHENOLATE MOFETIL, Capsule, 250 mg, NDC 0037822500\", \"Reasons for Recall/Labeling/65690/ Label Mixup FLUCONAZOLE, Tablet, 200 mg may have potentially been mislabeled as one of the following drugs  VALSARTAN, Tablet, 80 mg, NDC 00078035834, Pedigree AD65475_10, EXP 5/28/2014  FLUCONAZOLE, Tablet, 100 mg, NDC 68462010230, Pedigree W003064, EXP 6/12/2014.\", \"Reasons for Recall/Labeling/65707/ Label Mixup ITRACONAZOLE, Capsule, 100 mg may be potentially mislabeled as     FAMCICLOVIR, Tablet, 500 mg, NDC 00093811956, Pedigree AD54549_4, EXP 5/20/2014.\", \"Reasons for Recall/Labeling/65690/ Label Mixup LEVOTHYROXINE SODIUM, Tablet, 125 mcg may have potentially been mislabeled as the following drug  MAGNESIUM CHLORIDE DR, Tablet, 64 mg, NDC 00904791152, Pedigree AD70615_1, EXP 2/28/2014.\", \"Reasons for Recall/Labeling/65690/ Label Mixup LEVOTHYROXINE SODIUM, Tablet, 175 mcg may have potentially been mislabeled as the following drug  CINACALCET HCL, Tablet, 60 mg, NDC 55513007430, Pedigree W003742, EXP 6/26/2014.\", \"Reasons for Recall/Labeling/65690/ Label Mixup LEVOTHYROXINE SODIUM, Tablet, 88 mcg may have potentially been mislabeled as the following drug  guanFACINE HCl, Tablet, 1 mg, NDC 00378116001, Pedigree W003007, EXP 6/12/2014.\", \"Reasons for Recall/Labeling/65707/ Label Mixup LISINOPRIL Tablet, 2.5 mg may be potentially mislabeled as    RANOLAZINE ER, Tablet, 500 mg, NDC 61958100301, Pedigree AD23087_1, EXP 5/2/2014  DOCUSATE SODIUM, Capsule, 250 mg, NDC 00536375701, Pedigree W003358, EXP 6/19/2014.\", \"Reasons for Recall/Labeling/65707/ Label Mixup LORATADINE Tablet, 10 mg may be potentially mislabeled as    GLYCOPYRROLATE, Tablet, 2 mg, NDC 00603318121, Pedigree W002650, EXP 6/5/2014  OMEGA3 FATTY ACID, Capsule, 1000 mg, NDC 05445800022, Pedigree AD21858_4, EXP 5/1/2014  OMEGA3 FATTY ACID, Capsule, 1000 mg, NDC 00904404360, Pedigree W003217, EXP 6/14/2014.\", \"Reasons for Recall/Labeling/65690/ Label Mixup LOSARTAN POTASSIUM, Tablet, 25 mg may have potentially been mislabeled as the following drug  PHYTONADIONE, Tablet, 5 mg, NDC 25010040515, Pedigree AD46312_22, EXP 4/30/2014.\", \"Reasons for Recall/Labeling/65690/ Label Mixup LOXAPINE, Capsule, 5 mg may have potentially been mislabeled as the following drug   SERTRALINE HCL, Tablet, 50 mg, NDC 16714061204, Pedigree AD46426_1, EXP 5/15/2014.\", \"Reasons for Recall/Labeling/65707/ Label Mixup MELATONIN, Tablet, 3 mg may be potentially mislabeled as    VITAMIN B COMPLEX, Capsule, NDC 00536478701, Pedigree AD32757_4, EXP 5/13/2014  MULTIVITAMIN/ MULTIMINERAL/ LUTEIN, Capsule, NDC 24208063210, Pedigree W003025, EXP 6/12/2014  LACTASE ENZYME, Tablet, 3000 units, NDC 24385014976, Pedigree W003721, EXP 6/26/2014  GLUCOSAMINE/CHONDROITIN DS, Capsule, 500 mg/400\", \"Reasons for Recall/Labeling/65690/ Label Mixup MESALAMINE DR, Capsule, 400 mg may have potentially been mislabeled as the following drug    CHLOROPHYLLIN COPPER COMPLEX, Tablet, 100 mg, NDC 11868000901, Pedigree AD34928_1, EXP 5/9/2014.\", \"Reasons for Recall/Labeling/65707/ Label Mixup METAXALONE Tablet, 800 mg may be potentially mislabeled as    ESTERIFIED ESTROGENS, Tablet, 0.625 mg, NDC 61570007301, Pedigree W003736, EXP 6/26/2014.\", \"Reasons for Recall/Labeling/65690/ Label Mixup METOPROLOL TARTRATE, Tablet, 50 mg  may have potentially been mislabeled as one of the following drugs  METOPROLOL TARTRATE, Tablet, 25 mg, NDC 57664050652, Pedigree W003843, EXP 6/27/2014  ATORVASTATIN CALCIUM, Tablet, 20 mg, NDC 60505257909, Pedigree W003846, EXP 6/27/2014  OXYBUTYNIN CHLORIDE, Tablet, 5 mg, NDC 00603497521, Pedigree W003898, EXP 6/27/2014.\", \"Reasons for Recall/Labeling/65690/ Label Mixup MINOCYCLINE HCL, Capsule, 100 mg may have potentially been mislabeled as the following drug  PROGESTERONE, Capsule, 100 mg, NDC 00591396401, Pedigree AD73611_4, EXP 5/30/2014.\", \"Reasons for Recall/Labeling/65690/ Label Mixup MONTELUKAST SODIUM, CHEW Tablet, 4 mg may be potentially mislabeled as the following drug  DICYCLOMINE HCL, Tablet, 20 mg, NDC 00591079501, Pedigree AD76639_4, EXP 5/31/2014.\", \"Reasons for Recall/Labeling/65690/ Label Mixup NIACIN TR, Tablet, 750 mg may have potentially been mislabeled as the following drug  NORTRIPTYLINE HCL, Capsule, 50 mg, NDC 00093081201, Pedigree AD46414_47, EXP 5/16/2014.\", \"Reasons for Recall/Labeling/65690/ Label Mixup NIACIN, Tablet, 500 mg may have potentially been mislabeled as one of the following drugs  NAPROXEN, Tablet, 500 mg, NDC 53746019001, Pedigree AD54516_1, EXP 5/20/2014  DOCUSATE SODIUM, Capsule, 250 mg, NDC 00904789159, Pedigree W002920, EXP 6/10/2014.\", \"Reasons for Recall/Labeling/65707/ Label Mixup NICOTINE POLACRILEX Gum, 2 mg may be potentially mislabeled as    SACCHAROMYCES BOULARDII LYO, Capsule, 250 mg, NDC 00414200007, Pedigree AD54586_4, EXP 5/21/2014.\", \"Reasons for Recall/Labeling/65707/ Label Mixup NICOTINE POLACRILEX Lozenge, 2 mg may be potentially mislabeled as    ASPIRIN DR EC, Tablet, 81 mg, NDC 00182106105, Pedigree AD52433_1, EXP 5/17/2014  chlorproMAZINE HCl, Tablet, 100 mg, NDC 00832030300, Pedigree AD70700_1, EXP 5/29/2014  CALCIUM ACETATE, Capsule, 667 mg, NDC 00054008826, Pedigree AD73623_1, EXP 5/30/2014  FOLIC ACID, Tablet, 1 mg, NDC 65162036110,\", \"Reasons for Recall/Labeling/65690/ Label Mixup NIFEdipine ER, Tablet, 60 mg may have potentially been mislabeled as the following drug   NICOTINE POLACRILEX, LOZENGE, 2 mg, NDC 00135051001, Pedigree W003749, EXP 6/26/2014.\", \"Reasons for Recall/Labeling/65707/ Label Mixup OMEPRAZOLE/SODIUM BICARBONATE, Capsule, 20 mg/1,100 mg may be potentially mislabeled as    CYANOCOBALAMIN, Tablet, 1000 mcg, NDC 00536355601, Pedigree W003788, EXP 6/27/2014  OMEGA3 FATTY ACID, Capsule, 1000 mg, NDC 00904404360, Pedigree W003870, EXP 6/27/2014.\", \"Reasons for Recall/Labeling/65707/ Label Mixup OMEPRAZOLE/SODIUM BICARBONATE, Capsule, 20 mg/110 mg may be potentially mislabeled as     BENZOCAINE/MENTHOL, LOZENGE, 15 mg/2.6 mg, NDC 63824073116, Pedigree AD42592_4, EXP 5/14/2014.\", \"Reasons for Recall/Labeling/65707/ Label Mixup PANTOPRAZOLE SODIUM DR, Tablet, 20 mg may be potentially mislabel as    NORTRIPTYLINE HCL, Capsule, 75 mg, NDC 00093081301, Pedigree W003694, EXP 6/26/2014.\", \"Reasons for Recall/Labeling/65690/ Label Mixup PERPHENAZINE, Tablet, 16 mg may have potentially been mislabeled as one of the following drugs  LITHIUM CARBONATE ER, Tablet, 450 mg, NDC 00054002025, Pedigree AD21790_28, EXP 5/1/2014  LITHIUM CARBONATE ER, Tablet, 450 mg, NDC 00054002025, Pedigree W002730, EXP 6/6/2014  RALTEGRAVIR, Tablet, 400 mg, NDC 00006022761, Pedigree W003680, EXP 6/25/2014  VENLAFAXINE HCL\", \"Reasons for Recall/Labeling/65707/ Label Mixup PHOSPHORUS Tablet, 250 mg may be potentially mislabeled as    CITALOPRAM, Tablet, 10 mg, NDC 57664050788, Pedigree AD56921_1, EXP 5/21/2014  VENLAFAXINE HCL, Tablet, 75 mg, NDC 00093738201, Pedigree W002533, EXP 2/28/2014  NITROFURANTOIN MACROCRYSTALS, Capsule, 50 mg, NDC 47781030701, Pedigree AD25452_4, EXP 5/3/2014  traZODone HCl, Tablet, 50 mg, NDC 50111043303, P\", \"Reasons for Recall/Labeling/65690/ Label Mixup PYRIDOXINE HCL, Tablet, 100 mg may have potentially been mislabeled as one of the following drugs  CYANOCOBALAMIN, Tablet, 1000 mcg, NDC 00536355601, Pedigree AD73627_29, EXP 5/30/2014  COENZYME Q10, Capsule, 100 mg, NDC 37205055065, Pedigree W003871, EXP 6/27/2014  VITAMIN B COMPLEX PROLONGED RELEASE, Tablet, 0 mg, NDC 40985022251, Pedigree AD76686_1, EXP 5/31/201\", \"Reasons for Recall/Labeling/65707/ Label Mixup TORSEMIDE Tablet, 10 mg may be potentially mislabeled as    MEXILETINE HCL, Capsule, 200 mg, NDC 00093874001, Pedigree AD25264_7, EXP 5/3/2014.\", \"Reasons for Recall/Labeling/61948/ Label Mixup This recall was initiated after identifying that the label statement on the blister strip regarding the maximum number of capsules/caplets that should be taken within a 24hour period, does not match the statement on the carton.\", \"Reasons for Recall/Labeling/65707/ Label Mixup VENLAFAXINE HCL Tablet, 50 mg may be potentially mislabeled as    sulfaSALAzine, Tablet, 500 mg, NDC 00603580121, Pedigree AD65475_19, EXP 5/28/2014.\", \"Reasons for Recall/Labeling/65707/ Label Mixup VITAMIN B COMPLEX Tablet may be potentially mislabeled as    OMEPRAZOLE/SODIUM BICARBONATE, Capsule, 20 mg/1,100 mg, NDC 11523726503, Pedigree W003789, EXP 6/27/2014  prednisoLONE, Tablet, 5 mg, NDC 16477050501, Pedigree W003627, EXP 6/25/2014.\", \"Reasons for Recall/Labeling/77315/ Label Mixup blister lidding foil and shellpack labeled as 10 mg but package actually contains 5 mg tablets\", \"Reasons for Recall/Labeling/87233/ Label Mixup correctly labeled 2 mL vials were packaged into blister strips labeled for 1 mL vials\", \"Reasons for Recall/Labeling/65690/ Label Mixup guanFACINE HC, Tablet, 1 mg may have potentially been mislabeled as one of the following drugs  glyBURIDE, Tablet, 2.5 mg, NDC 00093834301, Pedigree AD46265_22, EXP 5/15/2014  FOSINOPRIL SODIUM, Tablet, 10 mg, NDC 60505251002, Pedigree AD46414_19, EXP 5/16/2014  chlorproMAZINE HCl, Tablet, 100 mg, NDC 00832030300, Pedigree AD70629_4, EXP 5/29/2014  guanFACINE HCl,\", \"Reasons for Recall/Labeling/65690/ Label Mixup sitaGLIPtin PHOSPHATE, Tablet, 50 mg may be potentially mislabeled as one of the following drugs  LACTOBACILLUS, Tablet, 0 mg, NDC 64980012950, Pedigree AD62992_1, EXP 5/23/2014  CYANOCOBALAMIN, Tablet, 500 mcg, NDC 00536355101, Pedigree W002860, EXP 6/7/2014.\", \"Reasons for Recall/Labeling/63821/ Label lacks warning or Rx legend Certain information was inadvertently excluded from the product carton label.\", \"Reasons for Recall/Labeling/69135/ Labeling Bears Unapproved Claims Dermatend is not FDA approved and therefore has not been shown to be safe and effective for the uses suggested in the labeling.\", \"Reasons for Recall/Marketed without an Approved NDA/ANDA/65095/ Laboratory analysis conducted by the FDA has determined the Vicerex product contains undeclared tadalafil and the Black Ant product contains undeclared sildenafil.   Tadalafil and sildenafil are FDAApproved drugs used to treat male erectile dysfunction (ED), making the Vicerex and the Black Ant products unapproved new drugs.\", \"Reasons for Recall/CGMP Deviations/79149/ Lack of stability data and controls to support the manufacturers assigned retest or expiration date in firm's container/closure system.\", \"Reasons for Recall/Lack of Assurance of Sterility/68557/ Lack of sterility assurance in compounded aseptically filled injectable products.\", \"Reasons for Recall/CGMP Deviations/86123/ Light sensitive drug products repackaged in transparent/partially transparent pouches.\", \"Reasons for Recall/Subpotent Drug/68812/ Low out of specification results for both pH and assay obtained during routine stability testing after 36 months.\", \"Reasons for Recall/Lack of Assurance of Sterility/69152/ Martin Avenue Pharmacy, Inc. is conducting a voluntary recall of all compounded sterile preparations within expiry. The recall is being initiated in connection with a recent FDA inspection due to observations associated with certain quality control procedures that present a risk to sterility assurance.\", \"Reasons for Recall/Presence of Foreign Tablet/79119/ Metformin BP 1000mg was found in bottle of Metformin HCl 1000mg\", \"Reasons for Recall/Failed Tablet/Capsule Specifications/66360/ Multiple complaints for push through tablet breakage.\", \"Reasons for Recall/Penicillin Cross Contamination/71078/ Multiple finished products potentially contaminated with penicillin.\", \"Reasons for Recall/CGMP Deviations/84218/ Nnitrosodimethylamine (NDMA) has been detected in Ranitidine tablets, capsules and syrups.\", \"Reasons for Recall/Labeling/77191/ Not Elsewhere Classified Incorrect volume printed on the product label.\", \"Reasons for Recall/Labeling/76561/ Not Elsewhere Classified Products may contain synthetic latex and/or natural latex.\", \"Reasons for Recall/Labeling/83798/ Not Elsewhere Classified RFID formatting error which reads product in Ultraject syringe as expired and will not allow injection of product by the Optivantage injector.\", \"Reasons for Recall/Labeling/79175/ Not Elsewhere Classified Schedule IV controlled substance indicator of CIV being omitted  from the product carton, primary label is correct.\", \"Reasons for Recall/Labeling/82760/ Not Elsewhere Classified. This recall has been initiated due to mislabeling. The printed carton used in manufacturing both batches contained text for both 2% Xylocaine DENTAL and Articadent DENTAL. Xylocaine DENTAL is a trade name for Lidocaine HCL 2% and Epinephrine 1 100,000 formulation, while Articadent DENTAL is a trade name for Articaine HCI 4% and Epinephrine 1 100,000. The cartridges contained within the  printed carton are labeled appropriately as Articadent DENTAL.\", \"Reasons for Recall/Labeling/64104/ Not elsewhere classified On 12/12/11, DEA published a final rule in the Federal Register making this product a schedule IV (CIV)controlled substance.  This product is being recalled because this controlled product was not relabeled with the required \\\"CIV\\\" imprint on the label for products distributed after the 06/11/12 deadline.\", \"Reasons for Recall/Marketed Without an Approved NDA/ANDA/67860/ Nova Products, Inc. of Aston, Pennsylvania is voluntarily recalling XZEN PLATINUM because FDA laboratory analysis determined they contain undeclared amounts of sildenafil and tadalafil, active ingredients of FDAapproved drugs used to treat erectile dysfunction.\", \"Reasons for Recall/Marketed Without an Approved NDA/ANDA/67860/ Nova Products, Inc. of Aston, Pennsylvania is voluntarily recalling Xzen 1200 because FDA laboratory analysis determined they contain undeclared amounts of sildenafil and tadalafil, active ingredients of FDAapproved drugs used to treat erectile dysfunction.\", \"Reasons for Recall/Temperature Abuse/69346/ One shipment was inadvertantly stored refrigerated rather than the labeled room temperature recommendation at McKesson MedicalSurgical Inc., one of the distributing wholesalers.\", \"Reasons for Recall/Cross Contamination With Other Products/77992/ Oral care solutions were manufactured by a third party supplier on equipment shared with nonpharmaceutical products\", \"Reasons for Recall/Superpotent Drug/71973/ Out Of Specification (OOS) result for Assay.\", \"Reasons for Recall/Impurities/Degradation Products/61947/ Out Of Specification levels of nitrogen dioxide.\", \"Reasons for Recall/Defective Delivery System/64710/ Out of Specification (OOS) results for the zstatistic value, which relates to the patients and caregiver ability to remove the release liner from the patch adhesive prior to administration, were obtained.\", \"Reasons for Recall/Defective Delivery System/67718/ Out of Specification (OOS) results for the zstatistic value, which relates to the patients and caregiver ability to remove the release liner from the patch adhesive prior to administration, were obtained.\", \"Reasons for Recall/Failed pH Specifications/86685/ Out of Specification pH Test Results were found in Sodium Chloride Injection USP 0.9% 2 mL vial.\", \"Reasons for Recall/CGMP Deviations/83316/ Out of Specification results for either total microbial count or total organic carbon in the purified water utilized in the manufacturing process.\", \"Reasons for Recall/Miscalibrated and/or Defective Delivery System/61891/ Out of Specification results for mechanical peel force and/or the zstatistic value which relates to the patient's ability to remove the release liner from the patch adhesive prior to administration.\", \"Reasons for Recall/Failed Stability Specifications/77311/ Out of Specification results obtained for preservative Methylparaben content.\", \"Reasons for Recall/Failed Stability Specifications/72493/ Out of Specification results obtained for preservative butylparaben.\", \"Reasons for Recall/Failed Impurities/Degradation Specifications/87566/ Out of Specification results obtained for unknown impurities during stability testing by manufacturer\", \"Reasons for Recall/Failed Dissolution Specification/64056/ Out of a specification result occurred during the 3month stability testing. Dissolution result at the 4hour time point was 41% (specification 2040%).\", \"Reasons for Recall/Subpotent Drug/83137/ Out of specification assay result in Esterified Estrogen and Methyltestosterone tablets.\", \"Reasons for Recall/Failed Dissolution Specifications/70743/ Out of specification for dissolution of sulfamethoxazole.\", \"Reasons for Recall/Failed Dissolution Specifications/86787/ Out of specification for dissolution.\", \"Reasons for Recall/Failed Impurities/Degradation Specifications/72476/ Out of specification for impurities.\", \"Reasons for Recall/Failed Impurities/Degradation Specifications/72733/ Out of specification for impurities.\", \"Reasons for Recall/Defective Delivery System/87373/ Out of specification for mechanical peel.\", \"Reasons for Recall/Failed Degradation/Impurities Specifications/82127/ Out of specification related substance results during stability testing.\", \"Reasons for Recall/Failed Stability Specifications/68879/ Out of specification result for preservative sodium benzoate.\", \"Reasons for Recall/Impurities/Degradation Products/62911/ Out of specification results for Related Compound during routine stability testing.\", \"Reasons for Recall/GMP Deviations/81784/ Out of specification results for Total Aerobic Microbial count in excipient purified water sample\", \"Reasons for Recall/Failed Stability Specifications/68098/ Out of specification results for viscosity in one lot of Glytone Acne Treatment Facial Cleanser.\", \"Reasons for Recall/Failed Stability Specifications/86264/ OutofSpecification (OOS) results for the Aspirin related compound Salicylic Acid was observed.\", \"Reasons for Recall/Failed Impurities/Degradation Specifications /69547/ Outofspecification result for an unidentified impurity at the 12 month stability test point.\", \"Reasons for Recall/Failed Dissolution Specifications/74847/ Outofspecification results in retained sample.\", \"Reasons for Recall/Superpotent (Multiple Ingredient) Drug/63899/ Oversized tablets resulting in superpotent assays of both the hydrocodone and acetaminophen components.\", \"Reasons for Recall/Marketed Without An Approved NDA/ANDA/68158/ Parenteral product is labeled for use as an antidote.\", \"Reasons for Recall/Lack of Assurance of Sterility/66083/ Park Compounding is voluntarily recalling two lots of  Methylcobalamin 5mg/ml and Multitrace5 Concentrate, and one lot of Testosterone Cypionate (sesame oil) for injection due lack of sterility assurance.\", \"Reasons for Recall/Presence of Particulate Matter/67690/ Particulates identified as stainless steel and barium sulfate.\", \"Reasons for Recall/Presence of Particulate Matter/84622/ Particulates observed in vials release for dispensing.\", \"Reasons for Recall/Failed Dissolution Specifications/65393/ Pfizer Inc. (Pfizer) is recalling PREMPRO (conjugated estrogens/medroxyprogesterone acetate tablets) because certain lots for this product  may not meet the specification for conjugated estrogens dissolution.\", \"Reasons for Recall/Does Not Meet Monograph/68671/ Phenylephrine and pseudoephedrine are below monograph specifications, and label inaccurately contains wording \\\"Rx Only\\\".\", \"Reasons for Recall/Presence of Particulate Matter/80167/ Potential for particulate matter on the syringe plunger.\", \"Reasons for Recall/Penicillin Cross Contamination/72795/ Potential for products to be crosscontaminated with penicillin.\", \"Reasons for Recall/Tablet Thickness/61871/ Potential for some tablets not conforming to weight specifications (under and over weight)\", \"Reasons for Recall/cGMP Deviations/83457/ Potential glass contamination\", \"Reasons for Recall/Lack of Assurance of Sterility/80307/ Potential leakage of bags.\", \"Reasons for Recall/Lack of Assurance of Sterility/69494/ Potential of punctures through the overwrap and primary container which may result in IV bag leaks.\", \"Reasons for Recall/Presence of Particulate Matter/68969/ Potential presence of glass particulate matter in the vials.\", \"Reasons for Recall/cGMP Deviations/82889/ Potential product contamination with Burkholderia cepacia (B.cepacia) and Ralstonia pickettii (R. pickettii).\", \"Reasons for Recall/Lack of Assurance of Sterility/80633/ Practices at firm may call into question the sterility of products intended to be sterile.\", \"Reasons for Recall/CGMP Deviation/81442/ Presence of NDEA (NNitrosodimethylamine), a carcinogen impurity, detected in the active ingredient.\", \"Reasons for Recall/CGMP Deviation/82147/ Presence of NDEA (NNitrosodimethylamine), a carcinogen impurity, detected in the active ingredient.\", \"Reasons for Recall/CGMP Deviations/84637/ Presence of NDMA impurity detected in product.\", \"Reasons for Recall/CGMP Deviations/84799/ Presence of NDMA impurity detected in product.\", \"Reasons for Recall/CGMP Deviations/86498/ Presence of NDMA impurity detected in product.\", \"Reasons for Recall/Labeling/61960/ Presence of Undeclared Additive Medicated lotion soap produced and distributed by the recalling firm contains the unapproved ingredient, Red Dye #15.  This dye is not approved for use in food, drugs or cosmetics.\", \"Reasons for Recall/Labeling/61683/ Presence of Undeclared Color Additive The product is being recalled because several inactive ingredients were not included in the labeling for this product Undeclared D&C Red #33, FD&C Blue #1, Titanium Dioxide Suspension, Purified Water USP.\", \"Reasons for Recall/Presence of Foreign Substance/84396/ Presence of a foreign object in a single tablet.\", \"Reasons for Recall/Presence of Foreign Substance/71921/ Presence of hair.\", \"Reasons for Recall/Crystallization/84011/ Presence of particulate matter identified as API crystallization\", \"Reasons for Recall/Stability Data Does Not Support Expiry/67688/ Printed expiration date should be Nov 2013 rather than Nov 2014.\", \"Reasons for Recall/Lack of Assurance of Sterility/71591/ Process deficiencies were observed in the sterile ophthalmic and injectable products that could have compromised the sterility of the product.\", \"Reasons for Recall/Lack of assurance of sterility/77314/ Product bags leaking at seam.\", \"Reasons for Recall/Failed Tablet/Capsule Specifications/69724/ Product being recalled due to the potential presence of cracked or broken capsules.\", \"Reasons for Recall/CGMP deviations/84797/ Product bottle may be absent of desiccant.\", \"Reasons for Recall/GMP Deviations/84798/ Product bottle may be absent of desiccant.\", \"Reasons for Recall/GMP Deviations/84990/ Product bottle may be absent of desiccant.\", \"Reasons for Recall/Chemical Contamination/86037/ Product contains methanol.\", \"Reasons for Recall/Crystallization/74399/ Product contains particulate identified to be crystallized active ingredient.\", \"Reasons for Recall/Marketed Without an Approved NDA/ANDA/68122/ Product contains undeclared indomethacin, diclofenac, and chlorzoxazone.\", \"Reasons for Recall/Marketed Without an Approved NDA/ANDA/72614/ Product contains undeclared sibutramine.\", \"Reasons for Recall/Subpotent drug /85773/ Product did not contain drug.\", \"Reasons for Recall/Failed Impurities/Degradation Specifications/69928/ Product failed a known impurity specification.\", \"Reasons for Recall/Subpotent Drug/69248/ Product failed to meet USP Specifications on assay, content uniformity, and dissolution.\", \"Reasons for Recall/Failed Dissolution Specifications/65515/ Product is being recalled due to out of specification dissolution results obtained during routine stability testing.\", \"Reasons for Recall/Lack of Assurance of Sterility/82421/ Product is not terminally sterialized and not tested per USP 71.\", \"Reasons for Recall/Lack of Assurance of Sterility/72746/ Product sterility cannot be guaranteed.\", \"Reasons for Recall/Marketed Without an Approved NDA/ANDA/67471/ Product was found to contain undeclared active pharmaceutical ingredient Phenolphthalein\", \"Reasons for Recall/Marketed Without An Approved NDA/ANDA/70444/ Product was found to contain undeclared phenolphthalein and fluoxetine, making iNSANE an unapproved drug.\", \"Reasons for Recall/Failed Content Uniformity Specifications/80719/ Product was manufactured using an adulterated active pharmaceutical ingredient additionally, lack of process controls and good manufacturing practices resulted in finished product failing content uniformity specifications which can result in a product having a strength that is more or less than is labeled.\", \"Reasons for Recall/Cross Contamination with Other Products/64137/ Product was mixed with another type of mouth wash.\", \"Reasons for Recall/CGMP deviations/80638/ Product was released while a hood certification discrepancy was being investigated.\", \"Reasons for Recall/Chemical Contamination/68967/ Product were manufactured with active pharmaceutical ingredient (API) batches contaminated with residual materials and solvents.\", \"Reasons for Recall/CGMP Deviations/64188/ Products are underdosed or have an incorrect dosage regime.\", \"Reasons for Recall/Marketed without an Approved NDA/ANDA/72522/ Products contain undeclared active pharmaceutical ingredients desmethyl carbondenafil and dapoxetine.\", \"Reasons for Recall/Marketed Without an Approved NDA/ANDA/65774/ Products found to contain undeclared sibutramine, NDesmethylsibutramine, and Ndi  Desmethylsibutramine. Sibutramine was removed from the U.S. market for safety reasons, making these products unapproved new drugs.\", \"Reasons for Recall/Marketed Without An Approved NDA/ANDA/74017/ Products marked as dietary supplements have labeling that bears drug/disease claims, making them unapproved drugs.\", \"Reasons for Recall/Defective Delivery System/78021/ Products no longer meet the release liner removal specification and/or zstatistic.\", \"Reasons for Recall/CGMP Deviations/83437/ Products were manufactured outside of the controls required by current Good Manufacturing Practices.\", \"Reasons for Recall/CGMP Deviations/75650/ Purified water used to manufacture the drug products may have been contaminated with Burkholderia cepacia.\", \"Reasons for Recall/Chemical Contamination/63395/ QS Plus wipes were found to be contaminated with different substance (7820, Graffiti Remover).\", \"Reasons for Recall/Failed Tablet/Capsule Specifications/69237/ Recall due to complaints of split or broken tablets.\", \"Reasons for Recall/CGMP Deviations/74874/ Recall initiated as a precautionary measure due to a potential risk of product contamination with the bacteria B. cepacia.\", \"Reasons for Recall/CGMP Deviation/84696/ Received notice from supplier of potential Nitrosodimethylamine (NDMA) amounts above established levels.\", \"Reasons for Recall/Lack of Assurance of Sterility/80303/ SCA is conducting a voluntary recall of certain lots of sterile admixtures due to a potential for leakage.\", \"Reasons for Recall/Marketed Without An Approved NDA/ANDA/61957/ Samples tested by FDA were found to contain sulfoaildenafil, an analogue of sildenafil, an FDA approved drug used in the treatment of male erectile dysfunction, making these products unapproved new drugs.\", \"Reasons for Recall/Lack of Assurance of Sterility/65318/ Sandoz Inc is recalling Cefazolin for Injection, USP 1 gm vials, lot DB2208, due to a customer complaint for broken/cracked vials which was confirmed through review of retained samples.\", \"Reasons for Recall/Adulterated Presence of Foreign Tablets/Capsules/62439/ Some bottles may contain a small number of Nexium 20 mg capsules intended for the Japanese market in addtion to Nexium 40 mg capsules.\", \"Reasons for Recall/Defective Delivery System/72800/ Some canisters may not contain sufficient propellant to deliver the labeled claim of 200 actuations through the end of shelf life.\", \"Reasons for Recall/Failed Dissolution Specifications/68637/ Stability results found the product did not meet the drug dissolution specifications.\", \"Reasons for Recall/Failed Dissolution Specifications/67784/ Stability results found the product did not meet the drug release dissolution specifications.\", \"Reasons for Recall/CGMP deviations/83018/ Stability testing was not conducted on manufactured sunscreen and hand sanitizer OTC products.\", \"Reasons for Recall/Lack of Assurance of Sterility/65180/ Sterility could not be assured for compounded sterile renal nutritional prescriptions.\", \"Reasons for Recall/Lack of Assurance of Sterility/71415/ Sterility of product is not assured\", \"Reasons for Recall/Lack of Assurance of Sterility/71415/ Sterility of product is not assured.\", \"Reasons for Recall/Defective Container/85538/ Suboptimal crimping in vial of Pediatric Infuvite Multiple Vitamins\", \"Reasons for Recall/Failed Tablet/Capsule Specifications/67664/ Teva Pharmaceuticals USA, is voluntarily recalling certain lots of Duloxetine DR Capsules USP, 20 mg, 30 mg & 60 mg due to a customer complaint trend regarding capsule breakage.\", \"Reasons for Recall/Failed Impurities/Degradation Specifications/76443/ The API for these products had an out of specification result for an organic impurity.\", \"Reasons for Recall/Superpotent Drug/85774/ The active ingredient, avobenzone, is used at 5% which is higher than the allowable 3% in the sunscreen formula per FDA sunscreen regulations.\", \"Reasons for Recall/Subpotent Drug/67420/ The active ingredient, fluocinolone acetonide, was found to be subpotent during the firm's routine testing.\", \"Reasons for Recall/Lack of Assurance of Sterility/72179/ The firm is recalling all sterile preparations that are within expiry due to deficient practices which may have an impact on sterility assurance.\", \"Reasons for Recall/Lack of Assurance of Sterility/76912/ The firm is recalling sterile compounded drugs within expiry due to lack of assurance of sterility.\", \"Reasons for Recall/Subpotent (Single Ingredient Drug)/61518/ The firm is recalling the product because the product is subpotent and does not meet the labeled 0.25% zinc pyrithione level.\", \"Reasons for Recall/Presence of Particulate Matter/71844/ The firm manufactured products using Hospira 0.9% Sodium Chloride, USP injection which were subsequently recalled due to the presence of particulate matter (human hair).\", \"Reasons for Recall/Presence of Particulate Matter/71846/ The firm produced products using 0.9% Sodium Chloride Injection, USP or 5% Dextrose Injection, USP which were subsequently recalled by the manufacturer due to the presence of particulate matter.\", \"Reasons for Recall/Lack of Assurance of Sterility/71892/ The firm received a complaint of a sterility failure using a nonvalidated sterility test on a medication cassette.\", \"Reasons for Recall/Failed Dissolution Specifications/75581/ The firm was notified that there was a dissolution out of specification result on the 6 month stability samples.\", \"Reasons for Recall/Failed Impurities/Degradation Specifications/70041/ The known impurity went out of specification at 12 months stability point.\", \"Reasons for Recall/Good Manufacturing Practices Deviations/67881/ The product has an active pharmaceutical ingredient from an  unapproved source.\", \"Reasons for Recall/Lack of Assurance of Sterility/70174/ The product has the potential for solution to leak at the administrative port.\", \"Reasons for Recall/Failed Content Uniformity Specifications/71418/ The product may not meet the limit for blend uniformity specification.\", \"Reasons for Recall/Presence of Foreign Substance/65490/ The products are being recalled because they may contain foreign substances.\", \"Reasons for Recall/Subpotent Drug/65172/ The products were below specification for potency at the expiry stability point.\", \"Reasons for Recall/Lack of Assurance of Sterility/76472/ There are also CGMP Deviations.\", \"Reasons for Recall/Presence of Foreign Substance(s)/63891/ There is a potential for foreign particulate matter in the API.\", \"Reasons for Recall/Defective Container/65784/ There is a potential for frangible components to be broken, resulting in a leak at the port when the closure is removed.\", \"Reasons for Recall/Marketed Without an Approved NDA/ANDA/67228/ These dietary supplements contain undeclared sildenafil, an analogue of sildenafil, and/or tadalafil.\", \"Reasons for Recall/Marketed without an approved NDA/ANDA  /70317/ These products are being recalled due to the presence of synthetic hormone/prohormone (methylated anabolic steroid) ingredient making them unapproved new drugs.\", \"Reasons for Recall/CGMP Deviations/85341/ These products have been found to be misbranded as  unapproved new drugs\", \"Reasons for Recall/CGMP Deviations/85341/ These products have been found to be misbranded as unapproved new drugs\", \"Reasons for Recall/Defective Container/65780/ This action is being taken as a precautionary measure due to the product being repackaged in the U.S. using a filler material that (removes or blocks) less moisture than what is approved in the application.\", \"Reasons for Recall/Marketed Without An Approved NDA/ANDA/79327/ This product contains undeclared sibutramine. The presence of sibutramine, a previously approved controlled substance that was withdrawn from the U.S. market in October 2010 due to safety concerns, in this tainted product renders it an unapproved drug for which safety and efficacy have not been established and therefore subject to recall.\", \"Reasons for Recall/Presence of Particulate Matter/62627/ This product is being recalled due to the discovery of particles in the stability samples and retain samples.\", \"Reasons for Recall/Failed Dissolution Specifications/66838/ Three lots of product being recalled having failed stability dissolution testing.\", \"Reasons for Recall/Lack of assurance of sterility/79063/ Three lots were released where there was a failure to follow proper testing and investigation procedures. Product may be out of specification (OOS) for endotoxin.\", \"Reasons for Recall/Presence of Foreign Tablets/Capsules/68375/ Tramodol 50 mg tablet has been found in a bottle of Ciprofloxacin 500 mg\", \"Reasons for Recall/Subpotent Drug/65979/ Two lots of Lidocaine 2% with Epinephrine 1100,000 Injectable, distributed under the names Octocaine 100, and 2% Xylocaine Dental, may be subpotent for the epinephrine component.\", \"Reasons for Recall/Marketed Without an Approved NDA/ANDA/81436/ Undeclared Sibutramine\", \"Reasons for Recall/CGMP Deviations/78822/ Various strengths of ibuprofen tablets/caplets are being recalled due to complaints of odor related to CGMP deficiencies.\", \"Reasons for Recall/Lack of Assurance of Sterility/75230/ all compounded products within expiry produced using recalled filters\", \"Reasons for Recall/Lack of Assurance of Sterility/71806/ all sterile human compounded drugs within expiry\", \"Reasons for Recall/Lack of Assurance of Sterility/64879/ all sterile products compounded, repackaged, and distributed by this compounding pharmacy due to lack of sterility assurance and concerns associated with the quality control processes.\", \"Reasons for Recall/Failed Impurity/Degradation Specification/64644/ an impurity identified as NButylBenzene Sulfonamide (NBBS) was detected during impurity testing\", \"Reasons for Recall/CGMP Deviations/83417/ concerns regarding the sufficiency of Quality Assurance controls over critical systems in the manufacturing facility that could impact the product quality of the finished products.\", \"Reasons for Recall/Lack of Assurance of Sterility/79772/ confirmed customer report of a leaking bags and mold found between the outer bag and the overwrap\", \"Reasons for Recall/Presence of Foreign Substance/76543/ consumer complaint for foreign matter embedded in the tablet identified as a broken piece of wire rope from the manufacturing equipment.\", \"Reasons for Recall/Presence of Foriegn Tablets/Capsules/77336/ customer complaint that an 8count professional sample bottle labeled as BRILINTA 90 mg tablets contained 5 ZURAMPIC 200 mg tablets, in addition to the expected 8 BRILINTA tablets.\", \"Reasons for Recall/CGMP Deviations/75566/ deficiencies at the manufacturer  may result in assay or content uniformity failures\", \"Reasons for Recall/CGMP Deviations/86624/ detection of NNitrosodimethylamine (NDMA) impurity above the acceptable intake level (per manufacturer)\", \"Reasons for Recall/cGMP Deviations/62511/ does not meet in process specification requirements\", \"Reasons for Recall/Lack of Assurance of Sterility/86799/ due to concerns with production processes which cannot assure sterility of products intended to be sterile.\", \"Reasons for Recall/CGMP Deviations/85726/ due to the loss of product manufacturing records and retain product samples, there is no assurance that the product will remain within specification through the labeled expiration date.\", \"Reasons for Recall/Failed Impurities/Degradation Specifications/84927/ elevated levels of Benzaldehyde impurity was found in investigative samples (retain samples).\", \"Reasons for Recall/Chemical contamination/64835/ emission of strong odor after package was opened.\", \"Reasons for Recall/Failed Impurities/Degradation Specifications/71656/ failed specification for unknown impurity at the 24 month stability testing.\", \"Reasons for Recall/Presence of Foreign Substance/70849/ fine residue or dust identified as aluminum may be on exterior of the capsule shell\", \"Reasons for Recall/Subpotent Drug/69359/ for the active, HCB, and preservatives, Propylparaben and Butylparaben at the 18 month stability test point\", \"Reasons for Recall/Presence of Particulate Matter/82680/ glass fragment observed in one vial of reconstituted product\", \"Reasons for Recall/Presence of Foreign Substance/67118/ heavy metals (chromium, titanium etc) and inactive components of the product were visually observed during routine stability testing.\", \"Reasons for Recall/Failed Impurities/Degradation Specifications/78415/ high out of specification results for Dexamethasone adduct (related compound).\", \"Reasons for Recall/Failed Dissolution Specifications/82021/ high out of specification results for dissolution when measuring the amount of drug released at certain time points.\", \"Reasons for Recall/Failed Impurities/Degradation Specifications/76982/ high out of specification results for one of the known degradation products, mchlorobenzoic acid.\", \"Reasons for Recall/CGMP Deviations/83151/ impurity for NNitrosoNmethyl4aminobutyric acid (NMBA) detected in the active pharmaceutical ingredient (API) used to manufacture finished products.\", \"Reasons for Recall/Lack of Assurance of Sterility/73537/ incomplete or missing data regarding production.\", \"Reasons for Recall/Labeling/71220/ incorrect or missing lot number and/or expiration date\", \"Reasons for Recall/Lack of assurance of sterility/66104/ ineffective crimp on fliptop vials that may result in leaking at the neck of the vials.\", \"Reasons for Recall/CGMP Deviations/67811/ laboratory testing was not followed in accordance with GMP requirements.\", \"Reasons for Recall/cGMP Deviations/76890/ lack of quality assurance.\", \"Reasons for Recall/CGMP Deviations/79036/ lot made with active pharmaceutical ingredient that did not meet all its intended specifications.\", \"Reasons for Recall/Stability Data Does Not Support Expiry/77503/ lots do not have stability that supports the use of the container system.\", \"Reasons for Recall/Failed dissolution specifications /76539/ low dissolution  results at S3 stage.\", \"Reasons for Recall/Subpotent Drug/80750/ low out of specification assay results for the bacitracin zinc ingredient.\", \"Reasons for Recall/Failed Dissolution Specifications/76513/ low out of specification dissolution results found during stability testing.\", \"Reasons for Recall/CGMP Deviations/86343/ manufactured under the same conditions as those found to be subpotent.\", \"Reasons for Recall/Failed Dissolution Specifications/80791/ manufacturer WestWard Pharm Corp. recalled these repackaged lots due to failed dissolution results.\", \"Reasons for Recall/cGMP deviation/74361/ manufacturer is Not Registered with the Food and Drug Administration\", \"Reasons for Recall/Presence of Particulate matter/84263/ manufacturer recalled fentanyl API due to potential for glass particules\", \"Reasons for Recall/Lack of Assurance of Sterility/87298/ manufacturing areas for the recalled products exceeded acceptance levels for microbial recovery leading to a lack of sterility assurance for these sterile injectable products.\", \"Reasons for Recall/Lack of Assurance of Sterility/77634/ media fill failure at manufacturer\", \"Reasons for Recall/Cross contamination with other products/73434/ metronidazole\", \"Reasons for Recall/Incorrect/Undeclared Excipient/77647/ nonpharmaceutical grade PEG 40 Castor Oil was used due to a mislabeling by the supplier\", \"Reasons for Recall/Lack of Assurance of Sterility/71275/ objectionable conditions observed during a FDA inspection\", \"Reasons for Recall/Failed Tablet/Capsule Specifications/70740/ out of specification for thickness.\", \"Reasons for Recall/Failed Stability Specification/71310/ out of specification result obtained for the Particle Size Distribution test during stability testing.\", \"Reasons for Recall/Failed Impurities/Degradation Specifications/67971/ out of specification results for impurities/degradation testing for NOxide\", \"Reasons for Recall/Defective Delivery System/80997/ out of specification results for shear, an attribute related to the adhesive properties of the transdermal patches.\", \"Reasons for Recall/Failed Dissolution Specifications/77353/ out of specification results observed for low dissolution.\", \"Reasons for Recall/Failed Stability Specifications/75628/ outof specification value for homogeneity / phase separation.\", \"Reasons for Recall/Presence of Particulate Matter/68728/ particulate matter identified as fibers and/or plastics\", \"Reasons for Recall/Presence of Particulate Matter/72072/ particulate matter identified as iron oxide, was found embedded in the neck of glass vials.\", \"Reasons for Recall/GMP Deviations/82863/ possible cross contamination of product due to cleaning procedure failure.\", \"Reasons for Recall/Lack of Assurance of Sterility/86990/ potential for a defective syringe cap, resulting in a nonintegral unit\", \"Reasons for Recall/GMP Deviations/84000/ potential glass contamination\", \"Reasons for Recall/Stability Data Does Not Support Expiry/73925/ potential loss of potency in drugs packaged and stored in syringes.\", \"Reasons for Recall/Penicillin Cross Contamination/71494/ potentially contaminated with penicillin\", \"Reasons for Recall/Marketed without an approved NDA/ANDA/75537/ presence of undeclared sibutramine, desmethylsibutramine (an active metabolite of sibutramine) and phenolphthalein.\", \"Reasons for Recall/Marketed without an approved NDA/ANDA /73973/ presence of undeclared sildenafil.\", \"Reasons for Recall/Cross Contamination With Other Products/79788/ presence of unrelated ingredients (i.e. traces of Lisinopril, Mannitol, Iron, Calcium and Phosphorous).\", \"Reasons for Recall/Subpotency/74319/ product assayed and found OOS for cyproheptadine\", \"Reasons for Recall/Incorrect Product Formulation/78051/ product contains dexamethasone instead of hydrocortisone.\", \"Reasons for Recall/Chemical contamination/85854/ product contains elevated levels of undeclared lead.\", \"Reasons for Recall/Incorrect/Undeclared Excipient/75552/ product description section of testosterone cypionate incorrectly states \\\"in grapeseed oil\\\" instead of \\\"in sesame oil\\\" . The primary panel is correct\", \"Reasons for Recall/cGMP Deviations/73574/ product does not comply with cGMP requirements\", \"Reasons for Recall/Marketed Without an Approved NDA/ANDA/66469/ product found to contain undeclared sibutramine\", \"Reasons for Recall/Lack of Assurance of Sterility/77770/ product has the potential to leak.\", \"Reasons for Recall/Marketed Without An Approved NDA/ANDA/73571/ product is an unapproved drug and additionally 3 lots were found to be subpotent.\", \"Reasons for Recall/Lack of Assurance of Sterility/65253/ product linked to adverse event reports of endophthalimitis eye infections and FDA inspection findings resulted in concerns regarding quality control processes\", \"Reasons for Recall/Lack of Assurance of Sterility/75695/ product produced on a day there was an excursion in environmental monitoring data.\", \"Reasons for Recall/Lack of Assurance of Sterility/83427/ product sterility cannot be guaranteed.\", \"Reasons for Recall/Subpotent Drug/77840/ products are labeled as having SPF 10 protection however, this claim cannot be 100% guaranteed.\", \"Reasons for Recall/CGMP Deviations/81218/ products manufactured by contract manufacturer under conditions that could result in possible microbial contamination.\", \"Reasons for Recall/Lack of Assurance of Sterility/84055/ products manufactured in a manner than cannot guarantee its sterility.\", \"Reasons for Recall/CGMP Deviations/78595/ products manufactured in a manner that may impact product quality that includes but is not limited to failed viscosity.\", \"Reasons for Recall/CGMP Deviations/80750/ products manufactured under conditions that could impact its product quality.\", \"Reasons for Recall/Defective Container/84860/ products potentially could have been packaged in defective bottles, with a notched rim, that could cause inadequate foil sealing resulting in lack of moisture protection.\", \"Reasons for Recall/CGMP Deviations/83190/ products were manufactured with lack of process validation, cleaning validation, stability studies, and other current good manufacturing practice violations.\", \"Reasons for Recall/Presence of Foreign Substance/65642/ raw material recalled due to stainless steel and other contamination.\", \"Reasons for Recall/Lack of Assurance of Sterility and Stability Data does not Support Expiry/70656/ recent inspection observations associated with certain quality control procedures that present a risk to sterility and quality assurance.\", \"Reasons for Recall/CGMP deviations/86533/ repackaged product was recalled by the manufacturer because it was manufactured under the same conditions as products found to be subpotent.\", \"Reasons for Recall/Failed Tablet/Capsule Specification/64358/ tablet breakage while pushing through the blister pack (dispenser) .\", \"Reasons for Recall/Marketed Without An Approved NDA/ANDA/73016/ tainted product marketed as a dietary supplement. Product found to be tainted with sildenafil, an FDA approved drug for the treatment of male erectile dysfunction, making this an unapproved drug.\", \"Reasons for Recall/Defective Delivery System/85848/ the dosing cups are missing graduations applicable to certain age groups.\", \"Reasons for Recall/Lack of Assurance of Sterility /75745/ the firm is recalling select sterile drug products.\", \"Reasons for Recall/CGMP Deviations/77398/ these repackaged and redistributed products are being recalled due to a recall notice from the active pharmaceutical ingredient manufacturer for deviations from current Good Manufacturing Practices that were found during a recent FDA inspection.\", \"Reasons for Recall/Presence of particulate matter /76395/ this recall is due to a recent Hospira recall of vancomyicn hydrochloride 10gm vials due to presence of particulate matter.\", \"Reasons for Recall/Temperature Abuse/68793/ various products were not stored at Controlled Room Temperature as per USP guidelines during shipping\", \"Reasons for Recall/Temperature Abuse/68793/ various products were not stored at Controlled Room Temperature as per USP guidelines during shipping.\", \"Reasons for Recall/Presence of Precipitate/64298/ white substance confirmed as Guaifenesin, an active ingredient was observed in some bottles.  If the product is shaken or warmed the white particles goes into the solution.\", \"Reasons for Recall/Lack of Assurance of Sterility/64957/All sterile products compounded, repackaged, and distributed by this  compounding pharmacy due to lack of sterility assurance and concerns associated with the quality control processes.\", \"Reasons for Recall/Labeling/65707/Label Mixup ASCORBIC ACID Tablet, 500 mg may be potentially mislabeled as    FEBUXOSTAT, Tablet, 40 mg, NDC 64764091830, Pedigree AD23082_16, EXP 11/1/2013.\", \"Reasons for Recall/Labeling/65707/Label Mixup CALCITRIOL, Capsule, 0.5 mcg may be potentially mislabeled as  NIACIN TR, Tablet, 250 mg, NDC 10939043533, Pedigree W003756, EXP 5/31/2014  ISONIAZID, Tablet, 300 mg, NDC 00555007102, Pedigree AD32757_28, EXP 5/13/2014.\", \"Reasons for Recall/Labeling/65707/Label Mixup FLECAINIDE ACETATE Tablet, 50 mg may be potentially mislabeled as    VITAMIN B COMPLEX W/C, Tablet, NDC 00904026013, Pedigree AD46419_7, EXP 5/16/2014.\", \"Reasons for Recall/Labeling/65707/Label Mixup LURASIDONE HCl Tablet, 120 mg may be potentially mislabeled as    DULoxetine HCl DR, Capsule, 20 mg, NDC 00002323560, Pedigree W003486, EXP 6/20/2014.\", \"Reasons for Recall/Labeling/65707/Label Mixup MIRTAZAPINE Tablet, 7.5 mg may be potentially mislabeled as    BROMOCRIPTINE MESYLATE, Tablet, 2.5 mg, NDC 00574010603, Pedigree AD73525_40, EXP 5/30/2014  DULoxetine HCl DR, Capsule, 20 mg, NDC 00002323560, Pedigree W003005, EXP 6/11/2014  carBAMazepine ER, Tablet, 100 mg, NDC 00078051005, Pedigree W003330, EXP 6/18/2014.\", \"Reasons for Recall/Labeling/65707/Label Mixup MULTIVITAMIN/MULTIMINERAL W/FLUORIDE, Chew Tablet, 1 mg (F) may be potentially mislabeled as    ISOMETHEPTENE MUCATE/ DICHLORALPHENAZONE/APAP, Capsule, 65 mg/100 mg/325 mg, NDC 44183044001, Pedigree AD22858_1, EXP 3/31/2014.\", \"Reasons for Recall/Labeling/65707/Label Mixup QUEtiapine FUMARATE, Tablet, 25 mg may be potentially mislabeled as    MULTIVITAMIN/MULTIMINERAL, Chew Tablet, NDC 58914001460, Pedigree AD32325_1, EXP 5/9/2014  ASPIRIN DR EC, Tablet, 81 mg, NDC 00182106105, Pedigree W003094, EXP 6/13/2014.\", \"Reasons for Recall/Labeling/65707/Label Mixup RANOLAZINE ER Tablet, 500 mg may be potentially mislabeled as    MELATONIN, Tablet, 3 mg, NDC 51991001406, Pedigree AD25452_16, EXP 5/3/2014  DULoxetine HCl DR, Capsule, 20 mg, NDC 00002323560, Pedigree AD70585_16, EXP 5/29/2014  OMEGA3 FATTY ACID, Capsule, 1000 mg, NDC 00904404360, Pedigree W002852, EXP 6/7/2014  VALSARTAN, Tablet, 80 mg, NDC 00078035834, Pedigree\", \"Reasons for Recall/Labeling/65707/Label Mixup guaiFENesin ER, Tablet, 600 mg may be potentially mislabeled as    MISOPROSTOL, Tablet, 200 mcg, NDC 59762500801, Pedigree AD21965_13, EXP 5/1/2014  TACROLIMUS, Capsule, 1 mg, NDC 00781210301, Pedigree AD56917_7, EXP 5/21/2014  LACTOBACILLUS GG, Capsule, NDC 49100036374, Pedigree AD73627_17, EXP 5/30/2014  LACTOBACILLUS GG, Capsule, NDC 49100036374, Pedigree W003216\", \"Reasons for Recall/Labeling/65707/Label Mixup tiZANidine HCl Tablet, 2 mg may be potentially mislabeled as    RIBAVIRIN, Capsule, 200 mg, NDC 68382026007, Pedigree AD21790_37, EXP 4/30/2014  CYANOCOBALAMIN, Tablet, 1000 mcg, NDC 00904421713, Pedigree AD46257_59, EXP 5/15/2014  NIACIN, Tablet, 100 mg, NDC 00904227160, Pedigree W002661, EXP 6/5/2014  PANTOPRAZOLE SODIUM DR, Tablet, 20 mg, NDC 00008060601, Pedigree\", \"Reasons for Recall/Subpotent Drug/81775/Out of specification for percentage of active pharmaceutical ingredients.\", \"Reasons for Recall/Failed Impurities/Degradation Specifications/74068/Out of specification result for a known impurity obtained during testing.\", \"Reasons for Recall/Failed Impurities/Degradation Specifications/77915/Out of specification results for individual unknown impurities at 30th month Room Temperature Retained Sample stabilities test .\", \"Reasons for Recall/Failed Impurities/Degradation/65181/SpecificationsUnknown degradant found during stability testing.\", \"Reasons for Recall/Microbial Contamination of Non/86767/Sterile Drug Product. The product was found to be contaminated with the bacteria Burkholderia cepecia.\", \"Reasons for Recall/Microbal Contamination of Non/80343/Sterile Product FDA analysis found  salmonella contamination\", \"Reasons for Recall/Microbial Contamination of Non/74792/Sterile Products  microbial contamination with B. cepacia\", \"Reasons for Recall/Microbial Contamination of Non/67303/Sterile Products Outofspecification results for microbial count were observed at the initial stability interval for Lansoprazole Delayed Release Capsules.\", \"Reasons for Recall/Microbial Contamination of a Non/65951/Sterile Products Product was found to be contaminated with the bacteria, Sarcina Lutea.\", \"Reasons for Recall/Microbial Contamination of Non/80365/Sterile Products The firm is initiating a recall of some of its products due to the potential of high microbial loads.\", \"Reasons for Recall/Non/79114/Sterility Confirmed customer complaints of glass product container vials that may be empty or cracked.\", \"Reasons for Recall/Non/63953/Sterility Green Valley Drugs received positive sterility results from their testing lab on two lots of Methylprednisolone Preservative Free 40 mg/mL injectable suspension and  one lot of Cyanocobalamin 1000 mcg/mL injection, 30 mL MDV.\", \"Reasons for Recall/Non/70148/Sterility Out of specification results for the sterility test for microbial contamination.\", \"Reasons for Recall/Non/85903/Sterility Product is being recalled due to presence of Aspergillus Penicilloides\", \"Reasons for Recall/Non/68345/Sterility contract laboratory identified Staphylococcus warneri in the product\", \"Reasons for Recall/Non/73626/Sterility fungal contamination due to leaking containers.\", \"Reasons for Recall/Non/64018/Sterility one or more components of the kit have been found to be contaminated with yeast.\", \"Reasons for Recall/Presence of Foriegn Substance/65601/The manufacturer, Westward Pharmaceutical, recalled product because of the presence of black spots on tablets. In response, the repackager initiated its own recall.\", \"Reasons for Recall/Lack of Assurance of Sterility/66297/The product lots are being recalled due to laboratory results (from a contract lab) indicating microbial contamination. The FDA was concerned test results obtained from the recalling firm's contract testing lab may not be reliable. Hence the sterility of the products cannot be assured.\", \"Reasons for Recall/Subpotent Drug/78575/The titratable iodine contained in the PovidoneIodine prep pads  is below label claim of 0.85%.\", \"Reasons for Recall/The firm received seven reports of adverse reactions in the form of skin abscesses potentially linked to compounded preservative/65479/free methylprednisolone 80mg/ml 10 ml vials.\", \"Reasons for Recall/Failed Impurities/Degradation Specifications/80767/outofspecification (OOS) results for Azelastine Noxide\", \"Reasons for Recall/Sub/86243/potent Drug OutofSpecification assay results found at 3 month stability testing.\", \"Reasons for Recall/Microbial Contamination of Non/86656/sterile Products contamination with Burkholderia lata.\", \"Reasons for Recall/Microbial contamination of non/84179/sterile product.\", \"Reasons for Recall/Subpotent (Single Ingredient Drug)/61518\", \"Reasons for Recall/Labeling/61683\", \"Reasons for Recall/Tablet Thickness/61871\", \"Reasons for Recall/Miscalibrated and/or Defective Delivery System/61891\", \"Reasons for Recall/Lack of Assurance of Sterility/61918\", \"Reasons for Recall/Impurities/Degradation Products/61947\", \"Reasons for Recall/Labeling/61948\", \"Reasons for Recall/Marketed Without An Approved NDA/ANDA/61957\", \"Reasons for Recall/Labeling/61960\", \"Reasons for Recall/Lack of Assurance of Sterility/62416\", \"Reasons for Recall/Adulterated Presence of Foreign Tablets/Capsules/62439\", \"Reasons for Recall/Lack of Assurance of Sterility/62443\", \"Reasons for Recall/The affected lots of Carboplatin Injection, Cytarabine  Injection, Methotrexate Injection, USP, and Paclitaxel Injection are being recalled due to visible particles embedded in the glass located at the neck of the vial. There may be the potential for product to come into contact with the embedded particles and the particles may become dislodged into the solution./62459\", \"Reasons for Recall/cGMP Deviations/62511\", \"Reasons for Recall/Presence of Particulate Matter/62627\", \"Reasons for Recall/Impurities/Degradation Products/62911\", \"Reasons for Recall/Chemical Contamination/63395\", \"Reasons for Recall/Lack of Assurance of Sterility/63511\", \"Reasons for Recall/Labeling/63821\", \"Reasons for Recall/Subpotent/63846\", \"Reasons for Recall/Presence of Foreign Substance(s)/63891\", \"Reasons for Recall/Superpotent (Multiple Ingredient) Drug/63899\", \"Reasons for Recall/Failed Dissolution Test Requirements/63908\", \"Reasons for Recall/Non/63953\", \"Reasons for Recall/Non/64018\", \"Reasons for Recall/Failed Dissolution Specification/64056\", \"Reasons for Recall/Labeling/64104\", \"Reasons for Recall/Cross Contamination with Other Products/64137\", \"Reasons for Recall/CGMP Deviations/64188\", \"Reasons for Recall/Presence of Precipitate/64298\", \"Reasons for Recall/Failed Tablet/Capsule Specification/64358\", \"Reasons for Recall/Labeling/64372\", \"Reasons for Recall/Failed Impurity/Degradation Specification/64644\", \"Reasons for Recall/Lack of Assurance of Sterility/64661\", \"Reasons for Recall/Defective Delivery System/64710\", \"Reasons for Recall/Lack of Assurance of Sterility/64716\", \"Reasons for Recall/Chemical contamination/64835\", \"Reasons for Recall/Lack of Assurance of Sterility/64879\", \"Reasons for Recall/Lack of Assurance of Sterility/64957\", \"Reasons for Recall/Labeling/65008\", \"Reasons for Recall/Lack of Assurance of Sterility/65019\", \"Reasons for Recall/Subpotent/65047\", \"Reasons for Recall/Marketed without an Approved NDA/ANDA/65095\", \"Reasons for Recall/Lack of Assurance of Sterility/65125\", \"Reasons for Recall/cGMP deviations/65154\", \"Reasons for Recall/Subpotent Drug/65172\", \"Reasons for Recall/Lack of Assurance of Sterility/65180\", \"Reasons for Recall/Failed Impurities/Degradation/65181\", \"Reasons for Recall/Lack of Assurance of Sterility/65253\", \"Reasons for Recall/Lack of Assurance of Sterility/65318\", \"Reasons for Recall/Lack of Assurance of Sterility/65360\", \"Reasons for Recall/Failed Dissolution Specifications/65393\", \"Reasons for Recall/Marketed Without An Approved NDA/ANDA/65441\", \"Reasons for Recall/The firm received seven reports of adverse reactions in the form of skin abscesses potentially linked to compounded preservative/65479\", \"Reasons for Recall/Presence of Foreign Substance/65490\", \"Reasons for Recall/Failed Dissolution Specifications/65515\", \"Reasons for Recall/Presence of Foriegn Substance/65601\", \"Reasons for Recall/Presence of Foreign Substance/65642\", \"Reasons for Recall/Labeling/65690\", \"Reasons for Recall/Labeling/65707\", \"Reasons for Recall/Marketed Without an Approved NDA/ANDA/65774\", \"Reasons for Recall/Defective Container/65780\", \"Reasons for Recall/Defective Container/65784\", \"Reasons for Recall/Labeling/65840\", \"Reasons for Recall/Lack of Assurance of Sterility/65876\", \"Reasons for Recall/Marketed Without An Approved NDA/ANDA/65894\", \"Reasons for Recall/Microbial Contamination of a Non/65951\", \"Reasons for Recall/Subpotent Drug/65979\", \"Reasons for Recall/Lack of Assurance of Sterility/66083\", \"Reasons for Recall/Lack of assurance of sterility/66104\", \"Reasons for Recall/Labeling/66233\", \"Reasons for Recall/Lack of Assurance of Sterility/66297\", \"Reasons for Recall/Failed Tablet/Capsule Specifications/66360\", \"Reasons for Recall/Subpotent/66402\", \"Reasons for Recall/Marketed Without an Approved NDA/ANDA/66469\", \"Reasons for Recall/Lack of Assurance of Sterility/66566\", \"Reasons for Recall/Lack of Assurance of Sterility/66568\", \"Reasons for Recall/Failed Dissolution Specifications/66838\", \"Reasons for Recall/Lack of Sterility Assurance/66856\", \"Reasons for Recall/Presence of Particulate Matter/66913\", \"Reasons for Recall/Subpotent Drug/67053\", \"Reasons for Recall/Presence of Paticulate Matter/67092\", \"Reasons for Recall/Presence of Foreign Substance/67118\", \"Reasons for Recall/Marketed Without an Approved NDA/ANDA/67228\", \"Reasons for Recall/Marketed without an Approved NDA/ANDA/67247\", \"Reasons for Recall/Microbial Contamination of Non/67303\", \"Reasons for Recall/Subpotent Drug/67420\", \"Reasons for Recall/Marketed Without an Approved NDA/ANDA/67471\", \"Reasons for Recall/Failed Tablet/Capsule Specifications/67664\", \"Reasons for Recall/Stability Data Does Not Support Expiry/67688\", \"Reasons for Recall/Presence of Particulate Matter/67690\", \"Reasons for Recall/Defective Delivery System/67718\", \"Reasons for Recall/Penicillin Cross Contamination/67723\", \"Reasons for Recall/Failed Dissolution Specifications/67784\", \"Reasons for Recall/CGMP Deviations/67811\", \"Reasons for Recall/First Aid Only, Inc is recalling Smart Tab First Aid ezRefill System Ibuprofen boxes  and First Aid Cabinets containing these Ibuprofen boxes.  Ibuprofen boxes (FAE 7014) were accidentally used to package  aspirin packs  (10 packs of 2 / 235mg tablets)./67846\", \"Reasons for Recall/Marketed Without an Approved NDA/ANDA/67860\", \"Reasons for Recall/Good Manufacturing Practices Deviations/67881\", \"Reasons for Recall/Lack of Assurance of Sterility/67904\", \"Reasons for Recall/Failed Impurities/Degradation Specifications/67971\", \"Reasons for Recall/Presence of Particulate Matter/68048\", \"Reasons for Recall/Failed Stability Specifications/68098\", \"Reasons for Recall/Marketed Without an Approved NDA/ANDA/68122\", \"Reasons for Recall/Marketed Without An Approved NDA/ANDA/68158\", \"Reasons for Recall/Non/68345\", \"Reasons for Recall/Presence of Foreign Tablets/Capsules/68375\", \"Reasons for Recall/Lack of Assurance of Sterility/68557\", \"Reasons for Recall/Labeling/68572\", \"Reasons for Recall/Presence of Particulate Matter/68579\", \"Reasons for Recall/Marketed without an Approved NDA/ANDA/68626\", \"Reasons for Recall/Failed Dissolution Specifications/68637\", \"Reasons for Recall/Does Not Meet Monograph/68671\", \"Reasons for Recall/Presence of Particulate Matter/68728\", \"Reasons for Recall/Failed Impurities/Degradation Specifications/68787\", \"Reasons for Recall/Temperature Abuse/68793\", \"Reasons for Recall/Subpotent Drug/68812\", \"Reasons for Recall/Failed Stability Specifications/68879\", \"Reasons for Recall/Chemical Contamination/68967\", \"Reasons for Recall/Presence of Particulate Matter/68969\", \"Reasons for Recall/Lack of Assurance of Sterility/69056\", \"Reasons for Recall/Failed Content Uniformity Specifications./69075\", \"Reasons for Recall/Labeling/69135\", \"Reasons for Recall/Lack of Assurance of Sterility/69152\", \"Reasons for Recall/Failed Tablet/Capsule Specifications/69157\", \"Reasons for Recall/Subpotent/69233\", \"Reasons for Recall/Failed Tablet/Capsule Specifications/69237\", \"Reasons for Recall/Subpotent Drug/69248\", \"Reasons for Recall/Temperature Abuse/69346\", \"Reasons for Recall/Subpotent Drug/69359\", \"Reasons for Recall/Labeling/69445\", \"Reasons for Recall/Lack of Assurance of Sterility/69494\", \"Reasons for Recall/Lack of Sterility Assurance/69519\", \"Reasons for Recall/Failed Impurities/Degradation Specifications /69547\", \"Reasons for Recall/Subpotent Drug/69553\", \"Reasons for Recall/Presence of particulate matter/69567\", \"Reasons for Recall/Lack of Assurance of Sterility/69633\", \"Reasons for Recall/Failed Tablet/Capsule Specifications/69724\", \"Reasons for Recall/Failed Impurities/Degradation Specifications/69928\", \"Reasons for Recall/Labeling/69942\", \"Reasons for Recall/Failed Capsule/Tablet Specifications/70001\", \"Reasons for Recall/Failed Impurities/Degradation Specifications/70041\", \"Reasons for Recall/Lack of sterility assurance./70118\", \"Reasons for Recall/Non/70148\", \"Reasons for Recall/Lack of Assurance of Sterility/70174\", \"Reasons for Recall/Marketed without an approved NDA/ANDA  /70317\", \"Reasons for Recall/Marketed Without An Approved NDA/ANDA/70444\", \"Reasons for Recall/Penicillin Cross Contamination/70452\", \"Reasons for Recall/Stability Data Does Not Support Expiry/70452\", \"Reasons for Recall/Subpotent Drug/70555\", \"Reasons for Recall/Lack of Assurance of Sterility and Stability Data does not Support Expiry/70656\", \"Reasons for Recall/Failed Tablet/Capsule Specifications/70740\", \"Reasons for Recall/Failed Dissolution Specifications/70743\", \"Reasons for Recall/Lack of assurance of sterility/70807\", \"Reasons for Recall/Presence of Foreign Substance/70849\", \"Reasons for Recall/Presence of Particulate Matter/70936\", \"Reasons for Recall/Presence of Particulate Matter/71004\", \"Reasons for Recall/Subpotent drug/71046\", \"Reasons for Recall/Penicillin Cross Contamination/71078\", \"Reasons for Recall/CGMP Deviations/71104\", \"Reasons for Recall/Lack of Assurance of Sterility/71205\", \"Reasons for Recall/Failed dissolution specifications/71219\", \"Reasons for Recall/Labeling/71220\", \"Reasons for Recall/Lack of Assurance of Sterility/71275\", \"Reasons for Recall/Failed Stability Specification/71310\", \"Reasons for Recall/Lack of Assurance of Sterility/71371\", \"Reasons for Recall/Subpotent drug/71375\", \"Reasons for Recall/Lack of Assurance of Sterility/71415\", \"Reasons for Recall/Failed Content Uniformity Specifications/71418\", \"Reasons for Recall/Penicillin Cross Contamination/71494\", \"Reasons for Recall/Recalled products were made using an active ingredient that was recalled by a supplier due to penicillin cross contamination./71535\", \"Reasons for Recall/Lack of Assurance of Sterility/71591\", \"Reasons for Recall/Failed Content Uniformity Specifications/71598\", \"Reasons for Recall/Lack of Assurance of Sterility/71618\", \"Reasons for Recall/Failed Impurities/Degradation Specifications/71656\", \"Reasons for Recall/Subpotent drug/71765\", \"Reasons for Recall/Lack of Assurance of Sterility/71806\", \"Reasons for Recall/Presence of Particulate Matter/71844\", \"Reasons for Recall/Presence of Particulate Matter/71846\", \"Reasons for Recall/Lack of Assurance of Sterility/71892\", \"Reasons for Recall/Penicillin Cross Contamination and Presence of Foreign Substance.  Product was contaminated with penicillin and foreign substances during manufacturing process./71920\", \"Reasons for Recall/Presence of Foreign Substance/71921\", \"Reasons for Recall/Superpotent Drug/71973\", \"Reasons for Recall/Marketed Without an Approved NDA/ANDA/71989\", \"Reasons for Recall/Presence of Particulate Matter/72072\", \"Reasons for Recall/Stability data does not support expiry./72177\", \"Reasons for Recall/Lack of Assurance of Sterility/72179\", \"Reasons for Recall/Lack of Assurance of Sterility/72241\", \"Reasons for Recall/Lack of Assurance of Sterility/72361\", \"Reasons for Recall/Lack of Assurance of Sterility/72455\", \"Reasons for Recall/Failed Impurities/Degradation Specifications/72476\", \"Reasons for Recall/Failed Stability Specifications/72493\", \"Reasons for Recall/Lack of Assurance of Sterility/72520\", \"Reasons for Recall/Marketed without an Approved NDA/ANDA/72522\", \"Reasons for Recall/Lack of Assurance of Sterility/72594\", \"Reasons for Recall/Marketed Without an Approved NDA/ANDA/72614\", \"Reasons for Recall/Failed Tablet/Capsule Specifications/72648\", \"Reasons for Recall/Labeling/72699\", \"Reasons for Recall/Failed Impurities/Degradation Specifications/72733\", \"Reasons for Recall/Lack of Assurance of Sterility/72746\", \"Reasons for Recall/Penicillin Cross Contamination/72795\", \"Reasons for Recall/Defective Delivery System/72800\", \"Reasons for Recall/Defective Container/72947\", \"Reasons for Recall/Marketed Without An Approved NDA/ANDA/73016\", \"Reasons for Recall/Marketed Without An Approved NDA/ANDA/73018\", \"Reasons for Recall/Labeling/73032\", \"Reasons for Recall/Lack of Assurance of Sterility/73090\", \"Reasons for Recall/Failed Impurities/Degradation Specifications/73152\", \"Reasons for Recall/Lack of Assurance of Sterility/73304\", \"Reasons for Recall/Lack of Assurance of Sterility/73336\", \"Reasons for Recall/Cross contamination with other products/73434\", \"Reasons for Recall/Lack of Assurance of Sterility/73537\", \"Reasons for Recall/Superpotent Drug/73569\", \"Reasons for Recall/Marketed Without An Approved NDA/ANDA/73571\", \"Reasons for Recall/cGMP Deviations/73574\", \"Reasons for Recall/Non/73626\", \"Reasons for Recall/Presence of Particulate Matter/73653\", \"Reasons for Recall/Labeling/73662\", \"Reasons for Recall/Lack of Processing Controls/73662\", \"Reasons for Recall/Failed Impurities/Degradation Specifications/73679\", \"Reasons for Recall/Failed Impuities/Degradation Specifications/73811\", \"Reasons for Recall/Lack of Sterility Assurance/73899\", \"Reasons for Recall/Lack of Sterility Assurance./73899\", \"Reasons for Recall/Stability Data Does Not Support Expiry/73925\", \"Reasons for Recall/Lack of Assurance of Sterility/73960\", \"Reasons for Recall/Marketed without an approved NDA/ANDA /73973\", \"Reasons for Recall/Marketed Without An Approved NDA/ANDA/74017\", \"Reasons for Recall/Presence of Particulate Matter/74057\", \"Reasons for Recall/Failed Impurities/Degradation Specifications/74068\", \"Reasons for Recall/Lack of Assurance of Sterility/74187\", \"Reasons for Recall/Subpotency/74319\", \"Reasons for Recall/cGMP deviation/74361\", \"Reasons for Recall/Crystallization/74399\", \"Reasons for Recall/Lack of Assurance of Sterility/74466\", \"Reasons for Recall/CGMP Deviations/74497\", \"Reasons for Recall/Lack of Assurance of Sterility/74539\", \"Reasons for Recall/Lack of assurance of sterility/74606\", \"Reasons for Recall/Failed Impurities/Degradation Specifications/74694\", \"Reasons for Recall/Microbial Contamination of Non/74792\", \"Reasons for Recall/Failed Dissolution Specifications/74847\", \"Reasons for Recall/CGMP Deviations/74874\", \"Reasons for Recall/Presence of Foreign Tablets/Capsules/74949\", \"Reasons for Recall/Lack of assurance of sterility/75092\", \"Reasons for Recall/Lack of Assurance of Sterility/75164\", \"Reasons for Recall/Lack of Assurance of Sterility/75230\", \"Reasons for Recall/Superpotent and Subpotent drugs/75247\", \"Reasons for Recall/Lack of Assurance of Sterility/75289\", \"Reasons for Recall/Marketed without an approved NDA/ANDA/75537\", \"Reasons for Recall/Incorrect/Undeclared Excipient/75552\", \"Reasons for Recall/CGMP Deviations/75566\", \"Reasons for Recall/Failed Dissolution Specifications/75581\", \"Reasons for Recall/Failed Stability Specifications/75628\", \"Reasons for Recall/CGMP Deviations/75650\", \"Reasons for Recall/Lack of Assurance of Sterility/75695\", \"Reasons for Recall/Lack of Assurance of Sterility /75745\", \"Reasons for Recall/CGMP Deviations/75757\", \"Reasons for Recall/Lack of Assurance of Sterility/75763\", \"Reasons for Recall/Failed Dissolution Specifications/75764\", \"Reasons for Recall/Presence of Foreign Tablets/Capsules/75880\", \"Reasons for Recall/cGMP Deviations/76103\", \"Reasons for Recall/Presence of particulate matter /76395\", \"Reasons for Recall/Failed Impurities/Degradation Specifications/76443\", \"Reasons for Recall/Lack of Assurance of Sterility/76472\", \"Reasons for Recall/Failed Dissolution Specifications/76513\", \"Reasons for Recall/Failed dissolution specifications /76539\", \"Reasons for Recall/Presence of Foreign Substance/76543\", \"Reasons for Recall/Labeling/76561\", \"Reasons for Recall/Marked Without An Approved NDA/ANDA/76644\", \"Reasons for Recall/Failed Dissolution Specifications/76663\", \"Reasons for Recall/Superpotent Drug/76726\", \"Reasons for Recall/Discoloration./76743\", \"Reasons for Recall/cGMP Deviations/76890\", \"Reasons for Recall/Lack of Assurance of Sterility/76912\", \"Reasons for Recall/Failed Impurities/Degradation Specifications/76982\", \"Reasons for Recall/Lack of Assurance of Sterility/77161\", \"Reasons for Recall/Labeling/77191\", \"Reasons for Recall/Failed Stability Specifications/77311\", \"Reasons for Recall/Lack of assurance of sterility/77314\", \"Reasons for Recall/Labeling/77315\", \"Reasons for Recall/Contraceptive Tablets Out of Sequence/77323\", \"Reasons for Recall/Presence of Foriegn Tablets/Capsules/77336\", \"Reasons for Recall/Failed Dissolution Specifications/77353\", \"Reasons for Recall/CGMP Deviations/77398\", \"Reasons for Recall/Stability Data Does Not Support Expiry/77503\", \"Reasons for Recall/GMP Deviations/77526\", \"Reasons for Recall/Lack of Assurance of Sterility/77595\", \"Reasons for Recall/Lack of Assurance of Sterility/77634\", \"Reasons for Recall/Incorrect/Undeclared Excipient/77647\", \"Reasons for Recall/Lack of Assurance of Sterility/77770\", \"Reasons for Recall/Lack of Sterility Assurance./77780\", \"Reasons for Recall/Crystallization with subpotent out of  specification assay results for chlorhexidine./77822\", \"Reasons for Recall/Subpotent Drug/77840\", \"Reasons for Recall/Marketed Without An Approved NDA/ANDA/77859\", \"Reasons for Recall/Failed Dissolution Specifications/77862\", \"Reasons for Recall/Failed Impurities/Degradation Specifications/77915\", \"Reasons for Recall/Lack of Assurance of Sterility./77959\", \"Reasons for Recall/Cross Contamination With Other Products/77992\", \"Reasons for Recall/Defective Delivery System/78021\", \"Reasons for Recall/Incorrect Product Formulation/78051\", \"Reasons for Recall/Subpotent Drug/78063\", \"Reasons for Recall/Lack of Assurance of Sterility./78227\", \"Reasons for Recall/Labeling/78232\", \"Reasons for Recall/Lack Of Assurance Of Sterility./78320\", \"Reasons for Recall/Failed Impurities/Degradation Specifications./78325\", \"Reasons for Recall/Failed Impurities/Degradation Specifications/78415\", \"Reasons for Recall/Marketed without an approved NDA/ANDA/78461\", \"Reasons for Recall/Labeling/78553\", \"Reasons for Recall/Subpotent Drug/78575\", \"Reasons for Recall/CGMP Deviations/78595\", \"Reasons for Recall/Labeling/78637\", \"Reasons for Recall/CGMP Deviations/78730\", \"Reasons for Recall/CGMP Deviations/78822\", \"Reasons for Recall/Lack of sterility assurance./78828\", \"Reasons for Recall/Marketed Without An Approved NDA/ANDA/78991\", \"Reasons for Recall/CGMP Deviations/79036\", \"Reasons for Recall/Lack of assurance of sterility/79063\", \"Reasons for Recall/Non/79114\", \"Reasons for Recall/Presence of Foreign Tablet/79119\", \"Reasons for Recall/CGMP Deviations/79149\", \"Reasons for Recall/Labeling/79175\", \"Reasons for Recall/Marketed Without An Approved NDA/ANDA/79327\", \"Reasons for Recall/Labeling/79457\", \"Reasons for Recall/cGMP Deviations/79606\", \"Reasons for Recall/Lack of Assurance Sterility/79619\", \"Reasons for Recall/Labeling/79640\", \"Reasons for Recall/Presence of Particulate matter. Recall due to presence of unknown particulate matter./79671\", \"Reasons for Recall/Lack of Processing Controls./79748\", \"Reasons for Recall/Lack of Assurance of Sterility/79772\", \"Reasons for Recall/Cross Contamination With Other Products/79788\", \"Reasons for Recall/CGMP Deviations/80006\", \"Reasons for Recall/Lack of sterility assurance./80118\", \"Reasons for Recall/Lack of Processing Controls/80119\", \"Reasons for Recall/Presence of Particulate Matter/80167\", \"Reasons for Recall/Lack of Assurance of Sterility/80303\", \"Reasons for Recall/Lack of Assurance of Sterility/80307\", \"Reasons for Recall/Microbal Contamination of Non/80343\", \"Reasons for Recall/Failed Impurities/Degradation Specifications/80356\", \"Reasons for Recall/Microbial Contamination of Non/80365\", \"Reasons for Recall/CGMP Deviations/80538\", \"Reasons for Recall/CGMP Deviations/80557\", \"Reasons for Recall/Microbial contamination/80601\", \"Reasons for Recall/Lack of Assurance of Sterility/80633\", \"Reasons for Recall/CGMP deviations/80638\", \"Reasons for Recall/Failed Content Uniformity Specifications/80719\", \"Reasons for Recall/CGMP Deviations/80750\", \"Reasons for Recall/Subpotent Drug/80750\", \"Reasons for Recall/Failed Impurities/Degradation Specifications/80767\", \"Reasons for Recall/CGMP Deviations/80773\", \"Reasons for Recall/Failed Dissolution Specifications/80791\", \"Reasons for Recall/CGMP Deviations/80881\", \"Reasons for Recall/Lack of Assurance of Sterility/80890\", \"Reasons for Recall/Defective Delivery System/80997\", \"Reasons for Recall/Lack of Assurance of Sterility/81002\", \"Reasons for Recall/CGMP Deviations/81218\", \"Reasons for Recall/Labeling/81337\", \"Reasons for Recall/Lack of Assurance of Sterility/81346\", \"Reasons for Recall/Marketed Without an Approved NDA/ANDA/81436\", \"Reasons for Recall/Labeling/81441\", \"Reasons for Recall/CGMP Deviation/81442\", \"Reasons for Recall/Cross Contamination with Other Products/81457\", \"Reasons for Recall/CGMP Deviations/81500\", \"Reasons for Recall/CGMP Deviations/81613\", \"Reasons for Recall/CGMP Deviations/81646\", \"Reasons for Recall/Subpotent Drug/81775\", \"Reasons for Recall/GMP Deviations/81784\", \"Reasons for Recall/Failed Dissolution Specifications./81795\", \"Reasons for Recall/Lack of sterility assurance./81810\", \"Reasons for Recall/Lack of sterility assurance./81883\", \"Reasons for Recall/Failed Dissolution Specifications/82021\", \"Reasons for Recall/Unapproved new drug/82106\", \"Reasons for Recall/Failed Degradation/Impurities Specifications/82127\", \"Reasons for Recall/CGMP Deviation/82147\", \"Reasons for Recall/Lack of Processing Controls/82278\", \"Reasons for Recall/CGMP Deviations/82337\", \"Reasons for Recall/Lack of Assurance of Sterility/82398\", \"Reasons for Recall/Lack of Assurance of Sterility/82421\", \"Reasons for Recall/Presence of Particulate Matter./82463\", \"Reasons for Recall/Lack of sterility assurance./82554\", \"Reasons for Recall/CGMP Deviations/82585\", \"Reasons for Recall/Lack of assurance of sterility for injectables and solutions intended to be sterile./82615\", \"Reasons for Recall/Lack of sterility assurance./82620\", \"Reasons for Recall/Presence of Precipitate/82660\", \"Reasons for Recall/Presence of Particulate Matter/82680\", \"Reasons for Recall/Labeling/82760\", \"Reasons for Recall/CGMP Deviations/82782\", \"Reasons for Recall/GMP Deviations/82863\", \"Reasons for Recall/cGMP Deviations/82889\", \"Reasons for Recall/Failed Impurities/Degradation Specifications/82947\", \"Reasons for Recall/CGMP deviations/83018\", \"Reasons for Recall/Crystallization/83074\", \"Reasons for Recall/Lack of Assurance of Sterility/83074\", \"Reasons for Recall/Lack of Assurance of Sterility/83136\", \"Reasons for Recall/Subpotent Drug/83137\", \"Reasons for Recall/CGMP Deviations/83151\", \"Reasons for Recall/CGMP Deviations/83190\", \"Reasons for Recall/Lack of Assurance of Sterility/83265\", \"Reasons for Recall/CGMP Deviations/83316\", \"Reasons for Recall/CGMP Deviations/83417\", \"Reasons for Recall/Lack of Assurance of Sterility/83427\", \"Reasons for Recall/Failed dissolution specifications/83434\", \"Reasons for Recall/CGMP Deviations/83437\", \"Reasons for Recall/cGMP Deviations/83457\", \"Reasons for Recall/Failed Impurities/Degradation Specifications/83581\", \"Reasons for Recall/Lack of Assurance of Sterility/83669\", \"Reasons for Recall/Failed Stability Specifications./83700\", \"Reasons for Recall/Lack of Assurance of Sterility/83789\", \"Reasons for Recall/Labeling/83798\", \"Reasons for Recall/CGMP Deviations/83840\", \"Reasons for Recall/Lack of Processing Controls/83996\", \"Reasons for Recall/GMP Deviations/84000\", \"Reasons for Recall/Crystallization/84011\", \"Reasons for Recall/Lack of Assurance of Sterility/84055\", \"Reasons for Recall/Labeling/84082\", \"Reasons for Recall/Microbial contamination of non/84179\", \"Reasons for Recall/CGMP Deviations/84218\", \"Reasons for Recall/Unit Dose Mispackaging/84261\", \"Reasons for Recall/Presence of Particulate matter/84263\", \"Reasons for Recall/CGMP Deviations/84353\", \"Reasons for Recall/Presence of Foreign Substance/84396\", \"Reasons for Recall/Lack of sterility assurance./84401\", \"Reasons for Recall/Labeling/84527\", \"Reasons for Recall/Lack of sterility assurance./84546\", \"Reasons for Recall/Failed Impurities/Degradation Specifications/84550\", \"Reasons for Recall/Labeling Product Contains Undeclared API/84620\", \"Reasons for Recall/Presence of Particulate Matter/84622\", \"Reasons for Recall/CGMP Deviations/84637\", \"Reasons for Recall/CGMP Deviation/84696\", \"Reasons for Recall/CGMP deviations/84797\", \"Reasons for Recall/GMP Deviations/84798\", \"Reasons for Recall/CGMP Deviations/84799\", \"Reasons for Recall/Defective Container/84860\", \"Reasons for Recall/Failed Impurities/Degradation Specifications/84927\", \"Reasons for Recall/Lack of Assurance of Sterility/84978\", \"Reasons for Recall/GMP Deviations/84990\", \"Reasons for Recall/CGMP Deviations/85039\", \"Reasons for Recall/Lack Of Processing Controls/85081\", \"Reasons for Recall/Labeling/85136\", \"Reasons for Recall/Subpotent Drug/85207\", \"Reasons for Recall/Firm is recalling 46 lots of various products because of a lack of sterility assurance./85212\", \"Reasons for Recall/Marketed without an Approved NDA/ANDA/85232\", \"Reasons for Recall/CGMP Deviations/85341\", \"Reasons for Recall/Lack of Processing Control/85404\", \"Reasons for Recall/Defective Container/85538\", \"Reasons for Recall/CGMP Deviations/85726\", \"Reasons for Recall/Subpotent drug /85773\", \"Reasons for Recall/Superpotent Drug/85774\", \"Reasons for Recall/Defective Delivery System/85848\", \"Reasons for Recall/Chemical contamination/85854\", \"Reasons for Recall/Non/85903\", \"Reasons for Recall/Lack of Processing Controls (lack of assurance of conformity to specifications)./85992\", \"Reasons for Recall/Chemical Contamination/86037\", \"Reasons for Recall/CGMP Deviations/86123\", \"Reasons for Recall/Sub/86243\", \"Reasons for Recall/Failed Stability Specifications/86264\", \"Reasons for Recall/CGMP Deviations/86343\", \"Reasons for Recall/CGMP Deviations/86498\", \"Reasons for Recall/CGMP deviations/86533\", \"Reasons for Recall/GMP Deviations/86579\", \"Reasons for Recall/Labeling/86584\", \"Reasons for Recall/CGMP Deviations/86624\", \"Reasons for Recall/Microbial Contamination of Non/86656\", \"Reasons for Recall/Failed pH Specifications/86685\", \"Reasons for Recall/CGMP Deviations/86712\", \"Reasons for Recall/Microbial Contamination of Non/86767\", \"Reasons for Recall/Failed Dissolution Specifications/86787\", \"Reasons for Recall/Lack of Assurance of Sterility/86799\", \"Reasons for Recall/Subpotent drug/86858\", \"Reasons for Recall/CGMP Deviations/86955\", \"Reasons for Recall/Lack of Assurance of Sterility/86990\", \"Reasons for Recall/Labeling/86997\", \"Reasons for Recall/Labeling/87233\", \"Reasons for Recall/Labeling/87283\", \"Reasons for Recall/Lack of Assurance of Sterility/87298\", \"Reasons for Recall/Defective Delivery System/87373\", \"Reasons for Recall/Failed Impurities/Degradation Specifications/87566\", \"Reasons for Recall/Adulterated Presence of Foreign Tablets/Capsules\", \"Reasons for Recall/CGMP Deviation\", \"Reasons for Recall/CGMP Deviations\", \"Reasons for Recall/CGMP deviations\", \"Reasons for Recall/Chemical Contamination\", \"Reasons for Recall/Chemical contamination\", \"Reasons for Recall/Contraceptive Tablets Out of Sequence\", \"Reasons for Recall/Cross Contamination With Other Products\", \"Reasons for Recall/Cross Contamination with Other Products\", \"Reasons for Recall/Cross contamination with other products\", \"Reasons for Recall/Crystallization\", \"Reasons for Recall/Crystallization with subpotent out of  specification assay results for chlorhexidine.\", \"Reasons for Recall/Defective Container\", \"Reasons for Recall/Defective Delivery System\", \"Reasons for Recall/Discoloration.\", \"Reasons for Recall/Does Not Meet Monograph\", \"Reasons for Recall/Failed Capsule/Tablet Specifications\", \"Reasons for Recall/Failed Content Uniformity Specifications\", \"Reasons for Recall/Failed Content Uniformity Specifications.\", \"Reasons for Recall/Failed Degradation/Impurities Specifications\", \"Reasons for Recall/Failed Dissolution Specification\", \"Reasons for Recall/Failed Dissolution Specifications\", \"Reasons for Recall/Failed Dissolution Specifications.\", \"Reasons for Recall/Failed Dissolution Test Requirements\", \"Reasons for Recall/Failed Impuities/Degradation Specifications\", \"Reasons for Recall/Failed Impurities/Degradation\", \"Reasons for Recall/Failed Impurities/Degradation Specifications\", \"Reasons for Recall/Failed Impurities/Degradation Specifications \", \"Reasons for Recall/Failed Impurities/Degradation Specifications.\", \"Reasons for Recall/Failed Impurity/Degradation Specification\", \"Reasons for Recall/Failed Stability Specification\", \"Reasons for Recall/Failed Stability Specifications\", \"Reasons for Recall/Failed Stability Specifications.\", \"Reasons for Recall/Failed Tablet/Capsule Specification\", \"Reasons for Recall/Failed Tablet/Capsule Specifications\", \"Reasons for Recall/Failed dissolution specifications\", \"Reasons for Recall/Failed dissolution specifications \", \"Reasons for Recall/Failed pH Specifications\", \"Reasons for Recall/Firm is recalling 46 lots of various products because of a lack of sterility assurance.\", \"Reasons for Recall/First Aid Only, Inc is recalling Smart Tab First Aid ezRefill System Ibuprofen boxes  and First Aid Cabinets containing these Ibuprofen boxes.  Ibuprofen boxes (FAE 7014) were accidentally used to package  aspirin packs  (10 packs of 2 / 235mg tablets).\", \"Reasons for Recall/GMP Deviations\", \"Reasons for Recall/Good Manufacturing Practices Deviations\", \"Reasons for Recall/Impurities/Degradation Products\", \"Reasons for Recall/Incorrect Product Formulation\", \"Reasons for Recall/Incorrect/Undeclared Excipient\", \"Reasons for Recall/Labeling\", \"Reasons for Recall/Labeling Product Contains Undeclared API\", \"Reasons for Recall/Lack Of Assurance Of Sterility.\", \"Reasons for Recall/Lack Of Processing Controls\", \"Reasons for Recall/Lack of Assurance Sterility\", \"Reasons for Recall/Lack of Assurance of Sterility\", \"Reasons for Recall/Lack of Assurance of Sterility \", \"Reasons for Recall/Lack of Assurance of Sterility and Stability Data does not Support Expiry\", \"Reasons for Recall/Lack of Assurance of Sterility.\", \"Reasons for Recall/Lack of Processing Control\", \"Reasons for Recall/Lack of Processing Controls\", \"Reasons for Recall/Lack of Processing Controls (lack of assurance of conformity to specifications).\", \"Reasons for Recall/Lack of Processing Controls.\", \"Reasons for Recall/Lack of Sterility Assurance\", \"Reasons for Recall/Lack of Sterility Assurance.\", \"Reasons for Recall/Lack of assurance of sterility\", \"Reasons for Recall/Lack of assurance of sterility for injectables and solutions intended to be sterile.\", \"Reasons for Recall/Lack of sterility assurance.\", \"Reasons for Recall/Marked Without An Approved NDA/ANDA\", \"Reasons for Recall/Marketed Without An Approved NDA/ANDA\", \"Reasons for Recall/Marketed Without an Approved NDA/ANDA\", \"Reasons for Recall/Marketed without an Approved NDA/ANDA\", \"Reasons for Recall/Marketed without an approved NDA/ANDA\", \"Reasons for Recall/Marketed without an approved NDA/ANDA \", \"Reasons for Recall/Marketed without an approved NDA/ANDA  \", \"Reasons for Recall/Microbal Contamination of Non\", \"Reasons for Recall/Microbial Contamination of Non\", \"Reasons for Recall/Microbial Contamination of a Non\", \"Reasons for Recall/Microbial contamination\", \"Reasons for Recall/Microbial contamination of non\", \"Reasons for Recall/Miscalibrated and/or Defective Delivery System\", \"Reasons for Recall/Non\", \"Reasons for Recall/Penicillin Cross Contamination\", \"Reasons for Recall/Penicillin Cross Contamination and Presence of Foreign Substance.  Product was contaminated with penicillin and foreign substances during manufacturing process.\", \"Reasons for Recall/Presence of Foreign Substance\", \"Reasons for Recall/Presence of Foreign Substance(s)\", \"Reasons for Recall/Presence of Foreign Tablet\", \"Reasons for Recall/Presence of Foreign Tablets/Capsules\", \"Reasons for Recall/Presence of Foriegn Substance\", \"Reasons for Recall/Presence of Foriegn Tablets/Capsules\", \"Reasons for Recall/Presence of Particulate Matter\", \"Reasons for Recall/Presence of Particulate Matter.\", \"Reasons for Recall/Presence of Particulate matter\", \"Reasons for Recall/Presence of Particulate matter. Recall due to presence of unknown particulate matter.\", \"Reasons for Recall/Presence of Paticulate Matter\", \"Reasons for Recall/Presence of Precipitate\", \"Reasons for Recall/Presence of particulate matter\", \"Reasons for Recall/Presence of particulate matter \", \"Reasons for Recall/Recalled products were made using an active ingredient that was recalled by a supplier due to penicillin cross contamination.\", \"Reasons for Recall/Stability Data Does Not Support Expiry\", \"Reasons for Recall/Stability data does not support expiry.\", \"Reasons for Recall/Sub\", \"Reasons for Recall/Subpotency\", \"Reasons for Recall/Subpotent\", \"Reasons for Recall/Subpotent (Single Ingredient Drug)\", \"Reasons for Recall/Subpotent Drug\", \"Reasons for Recall/Subpotent drug\", \"Reasons for Recall/Subpotent drug \", \"Reasons for Recall/Superpotent (Multiple Ingredient) Drug\", \"Reasons for Recall/Superpotent Drug\", \"Reasons for Recall/Superpotent and Subpotent drugs\", \"Reasons for Recall/Tablet Thickness\", \"Reasons for Recall/Temperature Abuse\", \"Reasons for Recall/The affected lots of Carboplatin Injection, Cytarabine  Injection, Methotrexate Injection, USP, and Paclitaxel Injection are being recalled due to visible particles embedded in the glass located at the neck of the vial. There may be the potential for product to come into contact with the embedded particles and the particles may become dislodged into the solution.\", \"Reasons for Recall/The firm received seven reports of adverse reactions in the form of skin abscesses potentially linked to compounded preservative\", \"Reasons for Recall/Unapproved new drug\", \"Reasons for Recall/Unit Dose Mispackaging\", \"Reasons for Recall/cGMP Deviations\", \"Reasons for Recall/cGMP deviation\", \"Reasons for Recall/cGMP deviations\", \"Reasons for Recall\"], \"labels\": [\"\", \"\", \"\", \"\", \"\", \"\", \"\", \"\", \"\", \"\", \"\", \"\", \"\", \"\", \"\", \"\", \"\", \"\", \"\", \"\", \"\", \"\", \"\", \"\", \"\", \"\", \"\", \"\", \"\", \"\", \"\", \"\", \"\", \"\", \"\", \"\", \"\", \"\", \"\", \"\", \"\", \"\", \"\", \"\", \"\", \"\", \"\", \"\", \"\", \"\", \"\", \"\", \"\", \"\", \"\", \"\", \"\", \"\", \"\", \"\", \"\", \"\", \"\", \"\", \"\", \"\", \"\", \"\", \"\", \"\", \"\", \"\", \"\", \"\", \"\", \"\", \"\", \"\", \"\", \"\", \"\", \"\", \"\", \"\", \"\", \"\", \"\", \"\", \"\", \"\", \"\", \"\", \"\", \"\", \"\", \"  A recall of all compounded sterile preparations within expiry is being initiated due to observations associated with poor sterile production practices resulting in a lack of sterility assurance for their finished drugs.\", \"  Aluminum crimps do not fully seal the rubber stopper to the vials.\", \"  Product recalled due to reports of breakage and leakage of Paricalcitol capsules.\", \"  This recall includes of all unexpired lots medications containing Calcium Gluconate, Papaverine, Phentolamine, and /or Prostaglandin) due to unsubstantiated validation of beyond use dating.\", \"  particulate matter identified as an insect in one vial.\", \" 15 month stability (by mfr)\", \" 24 month stability test station\", \" 500 mg capsules were found in bottles labeled to contain 250 mg capsules\", \" 6 month stability time point\", \" 6 month time point\", \" A mold like substance was discovered on the surface of an unopened bag of Sodium Chloride 0.9% while prepping the bag for production.\", \" A recent FDA inspection of Vann Healthcare Services facility revealed deficiencies that raise concerns about the pharmacy's ability to consistently assure sterility of their products.\", \" A returned customer sample was evaluated and found to have human hair attached to a pinched area of the stopper.\", \" API contaminated with glass particulate was used to produce sterile injectable drugs.\", \" Actavis has received several complaint for clumping and breaking of capsules with some bottles showing popped out bottle bottom (round bottom) and creased labels from one distribution center.\", \" Active Ingredient on label is not the active ingredient in the product.\", \" Active Pharmaceutical Ingredient (API) manufacturer is on FDA Import Alert.\", \" Additional testing found Out of Specification impurity test results.\", \" After quality review of stability failures in previous lots, there is insufficient data to determine that other lots are not affected.\", \" All lots of all products repackaged and distributed between 01/05/12 and 02/12/15 are being recalled because they were repackaged in a facility with penicillin products without adequate separation which could introduce the potential for cross contamination with penicillin.\", \" All lots of all products repackaged and distributed between 01/05/12 and 02/12/15 are being recalled because they were repackaged without data to support the printed expiry date.\", \" All lots of sterile products compounded by the pharmacy that are not expired due to concerns associated with quality control procedures that present a potential risk to sterility assurance that were observed during a recent FDA inspection.\", \" All lots of sterile products compounded by the pharmacy that are not expired due to concerns associated with quality control procedures that present a potential risk to sterility assurance that were observed during a recent FDA inspection.\", \" All lots of sterile products compounded by the pharmacy within expiry are subject to this recall. This recall is initiated due to concerns associated with quality control procedures observed during a recent FDA inspection.\", \" All unexpired sterile compounded human and veterinary products are being recalled because they were compounded in the same environment and under the same practices as another product found to be nonsterile and therefore sterility cannot be assured.\", \" An oversized tablet was found in a bottle.\", \" Appearance is Out of Specification for the reconstituted solution during 24month stability time point analysis.\", \" Atypical odor and unpleasant taste was reported\", \" B. Braun Medical Inc. is recalling several injectable products due to visible particulate matter found in reserve sample units.\", \" Baxter is issuing a voluntary recall for these IV solutions due to particulate matter found in the solution identified as polyester and cotton fibers, adhesivelike mixture, polyacetal particles, thermally degraded PVC, black polypropylene and human hair embedded in the plastic bag\", \" Bottles were released prior to final approval.\", \" Broken tablets found in sealed bottles.\", \" Carcinogen impurity detected in API used to manufacture drug product.\", \" Carcinogen impurity detected in API used to manufacture drug product.\", \" Carcinogen impurity detected in API used to manufacture drug product.\", \" Confirmed customer complaint of discolored solution with visible metal particles embedded in the glass vial and visible in the solution.\", \" Confirmed customer complaint of discolored solution with visible metal particles embedded in the glass vial and visible in the solution.\", \" Confirmed customer complaints of leaking bottles.\", \" Customer complaint that a carton labeled as Myorisan 20 mg Capsules, USP erroneously contained one 10count blister card of the 40 mg product in addition to two 10count blister cards of the 20 mg product.\", \" Detection of a trace amount of unexpected impurity N nitrosodiethylamine (NDEA) found in finished products\", \" Dissolution at 8 hour was out of specification at 12 month at 25 degree Celsius.\", \" Due to lack of documentation of proper environmental monitoring during the time in which the medication was produced.\", \" During routine stability testing one tablet was found with tablet weight below specification.\", \" Environmental sampling revealed 1 CFU (Colony Forming Unit) identified as Talaromyces rotundus, a fungi.\", \" FDA analyses detected the presence of phenolphthalein, NdiDesmethylsibutramine, and trace amounts of sibutramine and NDesmethylsibutramine. Sibutramine and phenolphthalein were previously available drug products but were removed from the U.S. market making these products unapproved new drugs.\", \" FDA analysis found the product to contain undeclared sildenafil and tadalafil and undeclared milk. The presence of sildenafil and tadalafil makes AMPT Natural Herbal Coffee an unapproved drug for which safety and efficacy have not been established and, therefore, subject to recall. Additionally, this product has been found to contain undeclared milk, milk is recognized as one of the foods reported to have caused deaths due to anaphylactic shock in persons with underlying hypersensitivities.\", \" FDA analysis found these products to contain sildenafil, an FDA approved drug for the treatment of erectile dysfunction, making these products unapproved drugs for which safety and efficacy have not been establish and therefore, subject to recall.\", \" FDA analysis found this product contained undeclared sibutramine and phenolphthalein, two active ingredients that were once marketed in the U.S. but removed due to safety reasons, making this product an unapproved new drug.\", \" FDA analysis found this product to contain undeclared Tadalafil, an FDA approved drug for the treatment of erectile dysfunction\", \" FDA has determined that the products are unapproved new drugs and misbranded.\", \" FDA inspection findings resulted in concerns regarding quality control processes\", \" FDA inspection findings resulted in concerns regarding quality control processes\", \" FDA inspection findings resulted in concerns regarding quality control processes.\", \" FDA inspection findings resulted in concerns regarding quality control processes.\", \" FDA inspection findings resulted in concerns regarding quality control processes.\", \" FDA inspection found significant manufacturing practices that call into question the safety, identity, strength, quality and purity of unexpired drug products manufactured by the firm.\", \" FDA inspection identified GMP violations potentially impacting product quality and sterility\", \" FDA inspection identified GMP violations potentially impacting product quality and sterility\", \" FDA inspection identified GMP violations potentially impacting product quality and sterility.\", \" FDA inspectional findings resulted in concerns associated with quality control procedures that impacted sterility assurance\", \" FDA inspectional findings resulted in concerns associated with quality control procedures that impacted sterility assurance\", \" FDA lab confirmed presence an impurity, Nnitrosodiethylamine (NDEA) contained in the API used to manufacture the product.\", \" FDA lab confirmed presence of an impurity, NMethylnitrosobutyric acid (NMBA)  in the finished product above the interim acceptable daily intake level.\", \" FDA lab confirmed presence of an impurity, NMethylnitrosobutyric acid (NMBA) in the finished product above the interim acceptable daily intake level at the manufacturer\", \" FDA lab confirmed presence of an impurity, NMethylnitrosobutyric acid (NMBA) in the finished product above the interim acceptable daily intake level of 9.82 parts per million.\", \" FDA laboratory testing confirmed presence of an impurity, Nnitrosodiethylamine (NDEA) in product.\", \" FDA laboratory testing confirmed presence of an impurity, Nnitrosodimethylamine (NDEA) in product.\", \" FDA sampling confirmed the presence of Salicylic acid  in dietary supplements.\", \" Failed Uniformity of Dosage Units specifications.\", \" Firm did not adequately investigate customer complaints.\", \" Firm failed to establish an adequate system for monitoring environmental conditions in aseptic processing areas.\", \" Firm is recalling all unexpired lots of sterile compounded products after FDA inspection found concerns of lack of sterility assurance.\", \" Firm is recalling various drug products due to a nonapproved method of sterilization.\", \" Firm is voluntarily recalling all lots of homeopathic Teething Drops, Nausea Drops, Intestinal Colic Drops, Stomach Calm, Expectorant Cough Syrup, SilverZinc Throat Spray, and Argentum Elixir, within expiry, due to lack of adequate controls during manufacturing.\", \" Firm received a market complaint stating the presence of one foreign tablet (Montelukast Sodium Chewable Tab 4mg) in the product bottle of Pantoprazole.\", \" Firm received fentanyl from a supplier who recalled it  because fliptop vial crimps were loose or missing.\", \" First 4 pills of the packet are brown, instead of the last four pills and the expiry/lot was not printed on the package.\", \" Flawless Beauty, LLC is voluntarily recalling all lots of different products sold individually or as part of multiunit kits in accordance with Consent Decree of Permanent Injunction ordered by the United States District Court due to misbranding and unapproved new drugs pursuant to the FD&C Act.\", \" Franck's Lab Inc. initiated a recall of all Sterile Human Drugs distributed between 11/21/2011 and 05/21/2012 because FDA environmental sampling revealed the presence of microorganisms and fungal growth in the clean room where sterile products were prepared.\", \" Franck's Lab Inc. initiated a recall of all Sterile Human Drugs distributed between 11/21/2011 and 05/21/2012. FDA environmental sampling revealed the presence of microorganisms and fungal growth in the clean room where sterile products were prepared.\", \" High out of specification results for assay at the 6 month time point interval.\", \" High outofspecification results for a related compound obtained during routine stability testing.\", \" Hospira, Inc is voluntarily recalling the products due to possible leaking bags.\", \" IM and SQ injectable products are being recalled because the manufacturing firm is not registered with the FDA as a drug manufacturer\", \" Illegible Label Sandoz Inc. is recalling of one lot of Fluoxetine Capsules due to an illegible logo on the capsule.\", \" Impurity Nnitrosodimethylamine (NDMA) found in API\", \" Impurity Nnitrosodimethylamine (NDMA) found in API.\", \" Inadequate processes and equipment to assure the sterility of products intended to be sterile.\", \" Inadvertent release of a drug product with unapproved active ingredient manufacturer.\", \" Incorrect Instructions RemedyRepack, Inc. a relabeler, is recalling these products due to incorrect storage instructions.\", \" Incorrect Or Missing Lot and/or Exp Date The lot number and/or expiration date may be illegible on the outer plastic bottle packaging.\", \" Incorrect expiration date.  Product dated with 24month expiration date instead of 18months.\", \" Incorrect or Missing Exp Date  An incorrect expiration date has been identified on Prednisone Tablets USP 5 mg\", \" Incorrect or Missing Lot and/or Exp Date\", \" Incorrect or Missing Lot and/or Exp Date Beyond Use Date (BUD) exceed the BUD/EXP of at least one ingredient used to make final product.\", \" Incorrect or Missing Lot and/or Expiration Date vial indicates a 1 year expiration date instead of a 6 month expiration date\", \" Incorrect or Missing Lot and/or Expiration date The Lot and/or Expiration date on the tube may not be legible in this lot..\", \" Incorrect or Missing Package Insert\", \" Incorrect or Missing Package Insert Package insert is missing updates compared with reference drug insert.\", \" Incorrect or Missing Package Insert Product is packaged with the incorrect version of the package insert.\", \" Incorrect or Missing Package Insert authorized generic product was packaged with the incorrect insert for the brand name product Clolar (clofarabine) injection.\", \" Incorrect or Missing lot and/or expiration date The lot number and BUD were printed in the incorrect position on the product label making it illegible.\", \" Incorrect or missing lot and/or expiration date. Products were compounded using expired components.\", \" Incorrect or missing package insert.\", \" Insanitary conditions observed during compounding of sterile drugs during recent FDA Inspection.\", \" Label Error on Declared Strength Unopened bottles of Ropinirole USP 3 mg tablets was found to be incorrectly labeled as Ropinirole USP 4 mg tablets..\", \" Label Error on Declared Strength the label states that the product contains 62% ethyl alcohol, but the ethyl alcohol content is 20%.\", \" Label Error on Declared Strength the preprinted text on the primary infusion bag and the NDC incorrectly identifies the product as Levetiracetam in 0.75% Sodium Chloride (1000 mg/100 mL) however, the external foil pouch correctly identifies the product as Levetiracetam in 0.54% Sodium Chloride Injection (1,500/100 mL).\", \" Label Error on Declared Strength. A single syringe labeled as 150 mg/1.0 mL was found packaged in a blister labeled as 120 mg/mL\", \" Label MixUp  Prepackaged bottles labeled spironolactone 25 mg may contain spironolactone 50 mg tablets.\", \" Label MixUp Brilliant Blue G was labeled with an inaccurate auxiliary label which contained active/inactive ingredient information for incorrect product.\", \" Label MixUp Products labeled Biotin 100 mg found to contain 4aminopyridine\", \" Label Mixup ASPIRIN DR EC, Tablet, 81 mg may have potentially been mislabeled as one of the following drugs  SOTALOL HCL, Tablet, 120 mg, NDC 00093106001, Pedigree AD49448_20, EXP 5/17/2014  FOLIC ACID, Tablet, 1 mg, NDC 65162036110, Pedigree W003097, EXP 6/13/2014.\", \" Label Mixup ATORVASTATIN CALCIUM, Tablet, 10 mg may have potentially been mislabeled as one of the following drugs  PANCRELIPASE DR, Capsule, 12000 /38000 /60000 USP units, NDC 00032121201, Pedigree AD30180_4, EXP 5/8/2014  OMEPRAZOLE/SODIUM BICARBONATE, Capsule, 20 mg/1,110 mg, NDC 11523726503, Pedigree AD49399_4, EXP 5/16/2014  ASPIRIN, CHEW Tablet, 81 mg, NDC 00536329736, Pedi\", \" Label Mixup ATORVASTATIN CALCIUM, Tablet, 40 mg may have potentially been mislabeled as one of the following drugs  ATORVASTATIN CALCIUM, Tablet, 10 mg, NDC 00378201577, Pedigree AD33897_4, EXP 5/9/2014  FINASTERIDE, Tablet, 5 mg, NDC 16714052201, Pedigree W003031, EXP 2/28/2014.\", \" Label Mixup CHOLECALCIFEROL, Tablet, 5000 units may have potentially been mislabeled as one of the following drugs  LACTOBACILLUS ACIDOPHILUS, Capsule, 0 mg, NDC 54629011101, Pedigree AD65311_7, EXP 5/24/2014  QUINAPRIL HCL, Tablet, 20 mg, NDC 68180055809, Pedigree W003556, EXP 6/24/2014  POTASSIUM ACID PHOSPHATE, Tablet, 500 mg, NDC 00486111101, Pedigree AD52778_34, EXP 5/20/2\", \" Label Mixup CILOSTAZOL, Tablet, 100 mg may have potentially been mislabeled as the following drug  TRIAMTERENE/ HYDROCHLOROTHIAZIDE, Tablet, 37.5 mg/25 mg, NDC 00591042401, Pedigree W002900, EXP 6/10/2014.\", \" Label Mixup DESMOPRESSIN ACETATE, Tablet 0.1 mg may have potentially been mislabeled as the following drug   LOXAPINE, Capsule, 5 mg, NDC 00591036901, Pedigree AD46426_7, EXP 5/15/2014.\", \" Label Mixup DIGOXIN, Tablet, 125 mcg may have potentially been mislabeled as the following drug  CHOLECALCIFEROL/ CALCIUM/ PHOSPHORUS, Tablet, 120 units/105 mg/81 mg, NDC 64980015001, Pedigree W002581, EXP 6/3/2014.\", \" Label Mixup DOXAZOSIN MESYLATE, Tablet, 1 mg may have potentially been mislabeled as the following drug  PYRIDOXINE HCL, Tablet, 100 mg, NDC 00536440901, Pedigree W003872, EXP 6/27/2014.\", \" Label Mixup DOXEPIN HCL Capsule, 150 mg may be potentially mislabeled as    VALSARTAN, Tablet, 160 mg, NDC 00078035934, Pedigree AD46312_7, EXP 5/16/2014.\", \" Label Mixup ESTROPIPATE, Tablet, 0.75 mg may have potentially been mislabeled as the following drug   MESALAMINE DR, Capsule, 400 mg, NDC 00430075327, Pedigree AD34934_1, EXP 1/31/2014.\", \" Label Mixup EXEMESTANE, Tablet, 25 mg may be potentially mislabeled as the following drug   OMEGA3 FATTY ACID, Capsule, 1000 mg, NDC 00904404360, Pedigree W003473, EXP 6/20/2014.\", \" Label Mixup FAMOTIDINE Tablet, 20 mg may be potentially mislabeled as    CARVEDILOL PHOSPHATE ER, Capsule, 20 mg, NDC 00007337113, Pedigree W003225, EXP 6/17/2014  DULoxetine HCl DR, Capsule, 20 mg, NDC 00002323560, Pedigree W003506, EXP 6/21/2014  FAMOTIDINE, Tablet, 20 mg, NDC 16714036104, Pedigree W003507, EXP 6/21/2014  MYCOPHENOLATE MOFETIL, Capsule, 250 mg, NDC 0037822500\", \" Label Mixup FLUCONAZOLE, Tablet, 200 mg may have potentially been mislabeled as one of the following drugs  VALSARTAN, Tablet, 80 mg, NDC 00078035834, Pedigree AD65475_10, EXP 5/28/2014  FLUCONAZOLE, Tablet, 100 mg, NDC 68462010230, Pedigree W003064, EXP 6/12/2014.\", \" Label Mixup ITRACONAZOLE, Capsule, 100 mg may be potentially mislabeled as     FAMCICLOVIR, Tablet, 500 mg, NDC 00093811956, Pedigree AD54549_4, EXP 5/20/2014.\", \" Label Mixup LEVOTHYROXINE SODIUM, Tablet, 125 mcg may have potentially been mislabeled as the following drug  MAGNESIUM CHLORIDE DR, Tablet, 64 mg, NDC 00904791152, Pedigree AD70615_1, EXP 2/28/2014.\", \" Label Mixup LEVOTHYROXINE SODIUM, Tablet, 175 mcg may have potentially been mislabeled as the following drug  CINACALCET HCL, Tablet, 60 mg, NDC 55513007430, Pedigree W003742, EXP 6/26/2014.\", \" Label Mixup LEVOTHYROXINE SODIUM, Tablet, 88 mcg may have potentially been mislabeled as the following drug  guanFACINE HCl, Tablet, 1 mg, NDC 00378116001, Pedigree W003007, EXP 6/12/2014.\", \" Label Mixup LISINOPRIL Tablet, 2.5 mg may be potentially mislabeled as    RANOLAZINE ER, Tablet, 500 mg, NDC 61958100301, Pedigree AD23087_1, EXP 5/2/2014  DOCUSATE SODIUM, Capsule, 250 mg, NDC 00536375701, Pedigree W003358, EXP 6/19/2014.\", \" Label Mixup LORATADINE Tablet, 10 mg may be potentially mislabeled as    GLYCOPYRROLATE, Tablet, 2 mg, NDC 00603318121, Pedigree W002650, EXP 6/5/2014  OMEGA3 FATTY ACID, Capsule, 1000 mg, NDC 05445800022, Pedigree AD21858_4, EXP 5/1/2014  OMEGA3 FATTY ACID, Capsule, 1000 mg, NDC 00904404360, Pedigree W003217, EXP 6/14/2014.\", \" Label Mixup LOSARTAN POTASSIUM, Tablet, 25 mg may have potentially been mislabeled as the following drug  PHYTONADIONE, Tablet, 5 mg, NDC 25010040515, Pedigree AD46312_22, EXP 4/30/2014.\", \" Label Mixup LOXAPINE, Capsule, 5 mg may have potentially been mislabeled as the following drug   SERTRALINE HCL, Tablet, 50 mg, NDC 16714061204, Pedigree AD46426_1, EXP 5/15/2014.\", \" Label Mixup MELATONIN, Tablet, 3 mg may be potentially mislabeled as    VITAMIN B COMPLEX, Capsule, NDC 00536478701, Pedigree AD32757_4, EXP 5/13/2014  MULTIVITAMIN/ MULTIMINERAL/ LUTEIN, Capsule, NDC 24208063210, Pedigree W003025, EXP 6/12/2014  LACTASE ENZYME, Tablet, 3000 units, NDC 24385014976, Pedigree W003721, EXP 6/26/2014  GLUCOSAMINE/CHONDROITIN DS, Capsule, 500 mg/400\", \" Label Mixup MESALAMINE DR, Capsule, 400 mg may have potentially been mislabeled as the following drug    CHLOROPHYLLIN COPPER COMPLEX, Tablet, 100 mg, NDC 11868000901, Pedigree AD34928_1, EXP 5/9/2014.\", \" Label Mixup METAXALONE Tablet, 800 mg may be potentially mislabeled as    ESTERIFIED ESTROGENS, Tablet, 0.625 mg, NDC 61570007301, Pedigree W003736, EXP 6/26/2014.\", \" Label Mixup METOPROLOL TARTRATE, Tablet, 50 mg  may have potentially been mislabeled as one of the following drugs  METOPROLOL TARTRATE, Tablet, 25 mg, NDC 57664050652, Pedigree W003843, EXP 6/27/2014  ATORVASTATIN CALCIUM, Tablet, 20 mg, NDC 60505257909, Pedigree W003846, EXP 6/27/2014  OXYBUTYNIN CHLORIDE, Tablet, 5 mg, NDC 00603497521, Pedigree W003898, EXP 6/27/2014.\", \" Label Mixup MINOCYCLINE HCL, Capsule, 100 mg may have potentially been mislabeled as the following drug  PROGESTERONE, Capsule, 100 mg, NDC 00591396401, Pedigree AD73611_4, EXP 5/30/2014.\", \" Label Mixup MONTELUKAST SODIUM, CHEW Tablet, 4 mg may be potentially mislabeled as the following drug  DICYCLOMINE HCL, Tablet, 20 mg, NDC 00591079501, Pedigree AD76639_4, EXP 5/31/2014.\", \" Label Mixup NIACIN TR, Tablet, 750 mg may have potentially been mislabeled as the following drug  NORTRIPTYLINE HCL, Capsule, 50 mg, NDC 00093081201, Pedigree AD46414_47, EXP 5/16/2014.\", \" Label Mixup NIACIN, Tablet, 500 mg may have potentially been mislabeled as one of the following drugs  NAPROXEN, Tablet, 500 mg, NDC 53746019001, Pedigree AD54516_1, EXP 5/20/2014  DOCUSATE SODIUM, Capsule, 250 mg, NDC 00904789159, Pedigree W002920, EXP 6/10/2014.\", \" Label Mixup NICOTINE POLACRILEX Gum, 2 mg may be potentially mislabeled as    SACCHAROMYCES BOULARDII LYO, Capsule, 250 mg, NDC 00414200007, Pedigree AD54586_4, EXP 5/21/2014.\", \" Label Mixup NICOTINE POLACRILEX Lozenge, 2 mg may be potentially mislabeled as    ASPIRIN DR EC, Tablet, 81 mg, NDC 00182106105, Pedigree AD52433_1, EXP 5/17/2014  chlorproMAZINE HCl, Tablet, 100 mg, NDC 00832030300, Pedigree AD70700_1, EXP 5/29/2014  CALCIUM ACETATE, Capsule, 667 mg, NDC 00054008826, Pedigree AD73623_1, EXP 5/30/2014  FOLIC ACID, Tablet, 1 mg, NDC 65162036110,\", \" Label Mixup NIFEdipine ER, Tablet, 60 mg may have potentially been mislabeled as the following drug   NICOTINE POLACRILEX, LOZENGE, 2 mg, NDC 00135051001, Pedigree W003749, EXP 6/26/2014.\", \" Label Mixup OMEPRAZOLE/SODIUM BICARBONATE, Capsule, 20 mg/1,100 mg may be potentially mislabeled as    CYANOCOBALAMIN, Tablet, 1000 mcg, NDC 00536355601, Pedigree W003788, EXP 6/27/2014  OMEGA3 FATTY ACID, Capsule, 1000 mg, NDC 00904404360, Pedigree W003870, EXP 6/27/2014.\", \" Label Mixup OMEPRAZOLE/SODIUM BICARBONATE, Capsule, 20 mg/110 mg may be potentially mislabeled as     BENZOCAINE/MENTHOL, LOZENGE, 15 mg/2.6 mg, NDC 63824073116, Pedigree AD42592_4, EXP 5/14/2014.\", \" Label Mixup PANTOPRAZOLE SODIUM DR, Tablet, 20 mg may be potentially mislabel as    NORTRIPTYLINE HCL, Capsule, 75 mg, NDC 00093081301, Pedigree W003694, EXP 6/26/2014.\", \" Label Mixup PERPHENAZINE, Tablet, 16 mg may have potentially been mislabeled as one of the following drugs  LITHIUM CARBONATE ER, Tablet, 450 mg, NDC 00054002025, Pedigree AD21790_28, EXP 5/1/2014  LITHIUM CARBONATE ER, Tablet, 450 mg, NDC 00054002025, Pedigree W002730, EXP 6/6/2014  RALTEGRAVIR, Tablet, 400 mg, NDC 00006022761, Pedigree W003680, EXP 6/25/2014  VENLAFAXINE HCL\", \" Label Mixup PHOSPHORUS Tablet, 250 mg may be potentially mislabeled as    CITALOPRAM, Tablet, 10 mg, NDC 57664050788, Pedigree AD56921_1, EXP 5/21/2014  VENLAFAXINE HCL, Tablet, 75 mg, NDC 00093738201, Pedigree W002533, EXP 2/28/2014  NITROFURANTOIN MACROCRYSTALS, Capsule, 50 mg, NDC 47781030701, Pedigree AD25452_4, EXP 5/3/2014  traZODone HCl, Tablet, 50 mg, NDC 50111043303, P\", \" Label Mixup PYRIDOXINE HCL, Tablet, 100 mg may have potentially been mislabeled as one of the following drugs  CYANOCOBALAMIN, Tablet, 1000 mcg, NDC 00536355601, Pedigree AD73627_29, EXP 5/30/2014  COENZYME Q10, Capsule, 100 mg, NDC 37205055065, Pedigree W003871, EXP 6/27/2014  VITAMIN B COMPLEX PROLONGED RELEASE, Tablet, 0 mg, NDC 40985022251, Pedigree AD76686_1, EXP 5/31/201\", \" Label Mixup TORSEMIDE Tablet, 10 mg may be potentially mislabeled as    MEXILETINE HCL, Capsule, 200 mg, NDC 00093874001, Pedigree AD25264_7, EXP 5/3/2014.\", \" Label Mixup This recall was initiated after identifying that the label statement on the blister strip regarding the maximum number of capsules/caplets that should be taken within a 24hour period, does not match the statement on the carton.\", \" Label Mixup VENLAFAXINE HCL Tablet, 50 mg may be potentially mislabeled as    sulfaSALAzine, Tablet, 500 mg, NDC 00603580121, Pedigree AD65475_19, EXP 5/28/2014.\", \" Label Mixup VITAMIN B COMPLEX Tablet may be potentially mislabeled as    OMEPRAZOLE/SODIUM BICARBONATE, Capsule, 20 mg/1,100 mg, NDC 11523726503, Pedigree W003789, EXP 6/27/2014  prednisoLONE, Tablet, 5 mg, NDC 16477050501, Pedigree W003627, EXP 6/25/2014.\", \" Label Mixup blister lidding foil and shellpack labeled as 10 mg but package actually contains 5 mg tablets\", \" Label Mixup correctly labeled 2 mL vials were packaged into blister strips labeled for 1 mL vials\", \" Label Mixup guanFACINE HC, Tablet, 1 mg may have potentially been mislabeled as one of the following drugs  glyBURIDE, Tablet, 2.5 mg, NDC 00093834301, Pedigree AD46265_22, EXP 5/15/2014  FOSINOPRIL SODIUM, Tablet, 10 mg, NDC 60505251002, Pedigree AD46414_19, EXP 5/16/2014  chlorproMAZINE HCl, Tablet, 100 mg, NDC 00832030300, Pedigree AD70629_4, EXP 5/29/2014  guanFACINE HCl,\", \" Label Mixup sitaGLIPtin PHOSPHATE, Tablet, 50 mg may be potentially mislabeled as one of the following drugs  LACTOBACILLUS, Tablet, 0 mg, NDC 64980012950, Pedigree AD62992_1, EXP 5/23/2014  CYANOCOBALAMIN, Tablet, 500 mcg, NDC 00536355101, Pedigree W002860, EXP 6/7/2014.\", \" Label lacks warning or Rx legend Certain information was inadvertently excluded from the product carton label.\", \" Labeling Bears Unapproved Claims Dermatend is not FDA approved and therefore has not been shown to be safe and effective for the uses suggested in the labeling.\", \" Laboratory analysis conducted by the FDA has determined the Vicerex product contains undeclared tadalafil and the Black Ant product contains undeclared sildenafil.   Tadalafil and sildenafil are FDAApproved drugs used to treat male erectile dysfunction (ED), making the Vicerex and the Black Ant products unapproved new drugs.\", \" Lack of stability data and controls to support the manufacturers assigned retest or expiration date in firm's container/closure system.\", \" Lack of sterility assurance in compounded aseptically filled injectable products.\", \" Light sensitive drug products repackaged in transparent/partially transparent pouches.\", \" Low out of specification results for both pH and assay obtained during routine stability testing after 36 months.\", \" Martin Avenue Pharmacy, Inc. is conducting a voluntary recall of all compounded sterile preparations within expiry. The recall is being initiated in connection with a recent FDA inspection due to observations associated with certain quality control procedures that present a risk to sterility assurance.\", \" Metformin BP 1000mg was found in bottle of Metformin HCl 1000mg\", \" Multiple complaints for push through tablet breakage.\", \" Multiple finished products potentially contaminated with penicillin.\", \" Nnitrosodimethylamine (NDMA) has been detected in Ranitidine tablets, capsules and syrups.\", \" Not Elsewhere Classified Incorrect volume printed on the product label.\", \" Not Elsewhere Classified Products may contain synthetic latex and/or natural latex.\", \" Not Elsewhere Classified RFID formatting error which reads product in Ultraject syringe as expired and will not allow injection of product by the Optivantage injector.\", \" Not Elsewhere Classified Schedule IV controlled substance indicator of CIV being omitted  from the product carton, primary label is correct.\", \" Not Elsewhere Classified. This recall has been initiated due to mislabeling. The printed carton used in manufacturing both batches contained text for both 2% Xylocaine DENTAL and Articadent DENTAL. Xylocaine DENTAL is a trade name for Lidocaine HCL 2% and Epinephrine 1 100,000 formulation, while Articadent DENTAL is a trade name for Articaine HCI 4% and Epinephrine 1 100,000. The cartridges contained within the  printed carton are labeled appropriately as Articadent DENTAL.\", \" Not elsewhere classified On 12/12/11, DEA published a final rule in the Federal Register making this product a schedule IV (CIV)controlled substance.  This product is being recalled because this controlled product was not relabeled with the required \\\"CIV\\\" imprint on the label for products distributed after the 06/11/12 deadline.\", \" Nova Products, Inc. of Aston, Pennsylvania is voluntarily recalling XZEN PLATINUM because FDA laboratory analysis determined they contain undeclared amounts of sildenafil and tadalafil, active ingredients of FDAapproved drugs used to treat erectile dysfunction.\", \" Nova Products, Inc. of Aston, Pennsylvania is voluntarily recalling Xzen 1200 because FDA laboratory analysis determined they contain undeclared amounts of sildenafil and tadalafil, active ingredients of FDAapproved drugs used to treat erectile dysfunction.\", \" One shipment was inadvertantly stored refrigerated rather than the labeled room temperature recommendation at McKesson MedicalSurgical Inc., one of the distributing wholesalers.\", \" Oral care solutions were manufactured by a third party supplier on equipment shared with nonpharmaceutical products\", \" Out Of Specification (OOS) result for Assay.\", \" Out Of Specification levels of nitrogen dioxide.\", \" Out of Specification (OOS) results for the zstatistic value, which relates to the patients and caregiver ability to remove the release liner from the patch adhesive prior to administration, were obtained.\", \" Out of Specification (OOS) results for the zstatistic value, which relates to the patients and caregiver ability to remove the release liner from the patch adhesive prior to administration, were obtained.\", \" Out of Specification pH Test Results were found in Sodium Chloride Injection USP 0.9% 2 mL vial.\", \" Out of Specification results for either total microbial count or total organic carbon in the purified water utilized in the manufacturing process.\", \" Out of Specification results for mechanical peel force and/or the zstatistic value which relates to the patient's ability to remove the release liner from the patch adhesive prior to administration.\", \" Out of Specification results obtained for preservative Methylparaben content.\", \" Out of Specification results obtained for preservative butylparaben.\", \" Out of Specification results obtained for unknown impurities during stability testing by manufacturer\", \" Out of a specification result occurred during the 3month stability testing. Dissolution result at the 4hour time point was 41% (specification 2040%).\", \" Out of specification assay result in Esterified Estrogen and Methyltestosterone tablets.\", \" Out of specification for dissolution of sulfamethoxazole.\", \" Out of specification for dissolution.\", \" Out of specification for impurities.\", \" Out of specification for impurities.\", \" Out of specification for mechanical peel.\", \" Out of specification related substance results during stability testing.\", \" Out of specification result for preservative sodium benzoate.\", \" Out of specification results for Related Compound during routine stability testing.\", \" Out of specification results for Total Aerobic Microbial count in excipient purified water sample\", \" Out of specification results for viscosity in one lot of Glytone Acne Treatment Facial Cleanser.\", \" OutofSpecification (OOS) results for the Aspirin related compound Salicylic Acid was observed.\", \" Outofspecification result for an unidentified impurity at the 12 month stability test point.\", \" Outofspecification results in retained sample.\", \" Oversized tablets resulting in superpotent assays of both the hydrocodone and acetaminophen components.\", \" Parenteral product is labeled for use as an antidote.\", \" Park Compounding is voluntarily recalling two lots of  Methylcobalamin 5mg/ml and Multitrace5 Concentrate, and one lot of Testosterone Cypionate (sesame oil) for injection due lack of sterility assurance.\", \" Particulates identified as stainless steel and barium sulfate.\", \" Particulates observed in vials release for dispensing.\", \" Pfizer Inc. (Pfizer) is recalling PREMPRO (conjugated estrogens/medroxyprogesterone acetate tablets) because certain lots for this product  may not meet the specification for conjugated estrogens dissolution.\", \" Phenylephrine and pseudoephedrine are below monograph specifications, and label inaccurately contains wording \\\"Rx Only\\\".\", \" Potential for particulate matter on the syringe plunger.\", \" Potential for products to be crosscontaminated with penicillin.\", \" Potential for some tablets not conforming to weight specifications (under and over weight)\", \" Potential glass contamination\", \" Potential leakage of bags.\", \" Potential of punctures through the overwrap and primary container which may result in IV bag leaks.\", \" Potential presence of glass particulate matter in the vials.\", \" Potential product contamination with Burkholderia cepacia (B.cepacia) and Ralstonia pickettii (R. pickettii).\", \" Practices at firm may call into question the sterility of products intended to be sterile.\", \" Presence of NDEA (NNitrosodimethylamine), a carcinogen impurity, detected in the active ingredient.\", \" Presence of NDEA (NNitrosodimethylamine), a carcinogen impurity, detected in the active ingredient.\", \" Presence of NDMA impurity detected in product.\", \" Presence of NDMA impurity detected in product.\", \" Presence of NDMA impurity detected in product.\", \" Presence of Undeclared Additive Medicated lotion soap produced and distributed by the recalling firm contains the unapproved ingredient, Red Dye #15.  This dye is not approved for use in food, drugs or cosmetics.\", \" Presence of Undeclared Color Additive The product is being recalled because several inactive ingredients were not included in the labeling for this product Undeclared D&C Red #33, FD&C Blue #1, Titanium Dioxide Suspension, Purified Water USP.\", \" Presence of a foreign object in a single tablet.\", \" Presence of hair.\", \" Presence of particulate matter identified as API crystallization\", \" Printed expiration date should be Nov 2013 rather than Nov 2014.\", \" Process deficiencies were observed in the sterile ophthalmic and injectable products that could have compromised the sterility of the product.\", \" Product bags leaking at seam.\", \" Product being recalled due to the potential presence of cracked or broken capsules.\", \" Product bottle may be absent of desiccant.\", \" Product bottle may be absent of desiccant.\", \" Product bottle may be absent of desiccant.\", \" Product contains methanol.\", \" Product contains particulate identified to be crystallized active ingredient.\", \" Product contains undeclared indomethacin, diclofenac, and chlorzoxazone.\", \" Product contains undeclared sibutramine.\", \" Product did not contain drug.\", \" Product failed a known impurity specification.\", \" Product failed to meet USP Specifications on assay, content uniformity, and dissolution.\", \" Product is being recalled due to out of specification dissolution results obtained during routine stability testing.\", \" Product is not terminally sterialized and not tested per USP 71.\", \" Product sterility cannot be guaranteed.\", \" Product was found to contain undeclared active pharmaceutical ingredient Phenolphthalein\", \" Product was found to contain undeclared phenolphthalein and fluoxetine, making iNSANE an unapproved drug.\", \" Product was manufactured using an adulterated active pharmaceutical ingredient additionally, lack of process controls and good manufacturing practices resulted in finished product failing content uniformity specifications which can result in a product having a strength that is more or less than is labeled.\", \" Product was mixed with another type of mouth wash.\", \" Product was released while a hood certification discrepancy was being investigated.\", \" Product were manufactured with active pharmaceutical ingredient (API) batches contaminated with residual materials and solvents.\", \" Products are underdosed or have an incorrect dosage regime.\", \" Products contain undeclared active pharmaceutical ingredients desmethyl carbondenafil and dapoxetine.\", \" Products found to contain undeclared sibutramine, NDesmethylsibutramine, and Ndi  Desmethylsibutramine. Sibutramine was removed from the U.S. market for safety reasons, making these products unapproved new drugs.\", \" Products marked as dietary supplements have labeling that bears drug/disease claims, making them unapproved drugs.\", \" Products no longer meet the release liner removal specification and/or zstatistic.\", \" Products were manufactured outside of the controls required by current Good Manufacturing Practices.\", \" Purified water used to manufacture the drug products may have been contaminated with Burkholderia cepacia.\", \" QS Plus wipes were found to be contaminated with different substance (7820, Graffiti Remover).\", \" Recall due to complaints of split or broken tablets.\", \" Recall initiated as a precautionary measure due to a potential risk of product contamination with the bacteria B. cepacia.\", \" Received notice from supplier of potential Nitrosodimethylamine (NDMA) amounts above established levels.\", \" SCA is conducting a voluntary recall of certain lots of sterile admixtures due to a potential for leakage.\", \" Samples tested by FDA were found to contain sulfoaildenafil, an analogue of sildenafil, an FDA approved drug used in the treatment of male erectile dysfunction, making these products unapproved new drugs.\", \" Sandoz Inc is recalling Cefazolin for Injection, USP 1 gm vials, lot DB2208, due to a customer complaint for broken/cracked vials which was confirmed through review of retained samples.\", \" Some bottles may contain a small number of Nexium 20 mg capsules intended for the Japanese market in addtion to Nexium 40 mg capsules.\", \" Some canisters may not contain sufficient propellant to deliver the labeled claim of 200 actuations through the end of shelf life.\", \" Stability results found the product did not meet the drug dissolution specifications.\", \" Stability results found the product did not meet the drug release dissolution specifications.\", \" Stability testing was not conducted on manufactured sunscreen and hand sanitizer OTC products.\", \" Sterility could not be assured for compounded sterile renal nutritional prescriptions.\", \" Sterility of product is not assured\", \" Sterility of product is not assured.\", \" Suboptimal crimping in vial of Pediatric Infuvite Multiple Vitamins\", \" Teva Pharmaceuticals USA, is voluntarily recalling certain lots of Duloxetine DR Capsules USP, 20 mg, 30 mg & 60 mg due to a customer complaint trend regarding capsule breakage.\", \" The API for these products had an out of specification result for an organic impurity.\", \" The active ingredient, avobenzone, is used at 5% which is higher than the allowable 3% in the sunscreen formula per FDA sunscreen regulations.\", \" The active ingredient, fluocinolone acetonide, was found to be subpotent during the firm's routine testing.\", \" The firm is recalling all sterile preparations that are within expiry due to deficient practices which may have an impact on sterility assurance.\", \" The firm is recalling sterile compounded drugs within expiry due to lack of assurance of sterility.\", \" The firm is recalling the product because the product is subpotent and does not meet the labeled 0.25% zinc pyrithione level.\", \" The firm manufactured products using Hospira 0.9% Sodium Chloride, USP injection which were subsequently recalled due to the presence of particulate matter (human hair).\", \" The firm produced products using 0.9% Sodium Chloride Injection, USP or 5% Dextrose Injection, USP which were subsequently recalled by the manufacturer due to the presence of particulate matter.\", \" The firm received a complaint of a sterility failure using a nonvalidated sterility test on a medication cassette.\", \" The firm was notified that there was a dissolution out of specification result on the 6 month stability samples.\", \" The known impurity went out of specification at 12 months stability point.\", \" The product has an active pharmaceutical ingredient from an  unapproved source.\", \" The product has the potential for solution to leak at the administrative port.\", \" The product may not meet the limit for blend uniformity specification.\", \" The products are being recalled because they may contain foreign substances.\", \" The products were below specification for potency at the expiry stability point.\", \" There are also CGMP Deviations.\", \" There is a potential for foreign particulate matter in the API.\", \" There is a potential for frangible components to be broken, resulting in a leak at the port when the closure is removed.\", \" These dietary supplements contain undeclared sildenafil, an analogue of sildenafil, and/or tadalafil.\", \" These products are being recalled due to the presence of synthetic hormone/prohormone (methylated anabolic steroid) ingredient making them unapproved new drugs.\", \" These products have been found to be misbranded as  unapproved new drugs\", \" These products have been found to be misbranded as unapproved new drugs\", \" This action is being taken as a precautionary measure due to the product being repackaged in the U.S. using a filler material that (removes or blocks) less moisture than what is approved in the application.\", \" This product contains undeclared sibutramine. The presence of sibutramine, a previously approved controlled substance that was withdrawn from the U.S. market in October 2010 due to safety concerns, in this tainted product renders it an unapproved drug for which safety and efficacy have not been established and therefore subject to recall.\", \" This product is being recalled due to the discovery of particles in the stability samples and retain samples.\", \" Three lots of product being recalled having failed stability dissolution testing.\", \" Three lots were released where there was a failure to follow proper testing and investigation procedures. Product may be out of specification (OOS) for endotoxin.\", \" Tramodol 50 mg tablet has been found in a bottle of Ciprofloxacin 500 mg\", \" Two lots of Lidocaine 2% with Epinephrine 1100,000 Injectable, distributed under the names Octocaine 100, and 2% Xylocaine Dental, may be subpotent for the epinephrine component.\", \" Undeclared Sibutramine\", \" Various strengths of ibuprofen tablets/caplets are being recalled due to complaints of odor related to CGMP deficiencies.\", \" all compounded products within expiry produced using recalled filters\", \" all sterile human compounded drugs within expiry\", \" all sterile products compounded, repackaged, and distributed by this compounding pharmacy due to lack of sterility assurance and concerns associated with the quality control processes.\", \" an impurity identified as NButylBenzene Sulfonamide (NBBS) was detected during impurity testing\", \" concerns regarding the sufficiency of Quality Assurance controls over critical systems in the manufacturing facility that could impact the product quality of the finished products.\", \" confirmed customer report of a leaking bags and mold found between the outer bag and the overwrap\", \" consumer complaint for foreign matter embedded in the tablet identified as a broken piece of wire rope from the manufacturing equipment.\", \" customer complaint that an 8count professional sample bottle labeled as BRILINTA 90 mg tablets contained 5 ZURAMPIC 200 mg tablets, in addition to the expected 8 BRILINTA tablets.\", \" deficiencies at the manufacturer  may result in assay or content uniformity failures\", \" detection of NNitrosodimethylamine (NDMA) impurity above the acceptable intake level (per manufacturer)\", \" does not meet in process specification requirements\", \" due to concerns with production processes which cannot assure sterility of products intended to be sterile.\", \" due to the loss of product manufacturing records and retain product samples, there is no assurance that the product will remain within specification through the labeled expiration date.\", \" elevated levels of Benzaldehyde impurity was found in investigative samples (retain samples).\", \" emission of strong odor after package was opened.\", \" failed specification for unknown impurity at the 24 month stability testing.\", \" fine residue or dust identified as aluminum may be on exterior of the capsule shell\", \" for the active, HCB, and preservatives, Propylparaben and Butylparaben at the 18 month stability test point\", \" glass fragment observed in one vial of reconstituted product\", \" heavy metals (chromium, titanium etc) and inactive components of the product were visually observed during routine stability testing.\", \" high out of specification results for Dexamethasone adduct (related compound).\", \" high out of specification results for dissolution when measuring the amount of drug released at certain time points.\", \" high out of specification results for one of the known degradation products, mchlorobenzoic acid.\", \" impurity for NNitrosoNmethyl4aminobutyric acid (NMBA) detected in the active pharmaceutical ingredient (API) used to manufacture finished products.\", \" incomplete or missing data regarding production.\", \" incorrect or missing lot number and/or expiration date\", \" ineffective crimp on fliptop vials that may result in leaking at the neck of the vials.\", \" laboratory testing was not followed in accordance with GMP requirements.\", \" lack of quality assurance.\", \" lot made with active pharmaceutical ingredient that did not meet all its intended specifications.\", \" lots do not have stability that supports the use of the container system.\", \" low dissolution  results at S3 stage.\", \" low out of specification assay results for the bacitracin zinc ingredient.\", \" low out of specification dissolution results found during stability testing.\", \" manufactured under the same conditions as those found to be subpotent.\", \" manufacturer WestWard Pharm Corp. recalled these repackaged lots due to failed dissolution results.\", \" manufacturer is Not Registered with the Food and Drug Administration\", \" manufacturer recalled fentanyl API due to potential for glass particules\", \" manufacturing areas for the recalled products exceeded acceptance levels for microbial recovery leading to a lack of sterility assurance for these sterile injectable products.\", \" media fill failure at manufacturer\", \" metronidazole\", \" nonpharmaceutical grade PEG 40 Castor Oil was used due to a mislabeling by the supplier\", \" objectionable conditions observed during a FDA inspection\", \" out of specification for thickness.\", \" out of specification result obtained for the Particle Size Distribution test during stability testing.\", \" out of specification results for impurities/degradation testing for NOxide\", \" out of specification results for shear, an attribute related to the adhesive properties of the transdermal patches.\", \" out of specification results observed for low dissolution.\", \" outof specification value for homogeneity / phase separation.\", \" particulate matter identified as fibers and/or plastics\", \" particulate matter identified as iron oxide, was found embedded in the neck of glass vials.\", \" possible cross contamination of product due to cleaning procedure failure.\", \" potential for a defective syringe cap, resulting in a nonintegral unit\", \" potential glass contamination\", \" potential loss of potency in drugs packaged and stored in syringes.\", \" potentially contaminated with penicillin\", \" presence of undeclared sibutramine, desmethylsibutramine (an active metabolite of sibutramine) and phenolphthalein.\", \" presence of undeclared sildenafil.\", \" presence of unrelated ingredients (i.e. traces of Lisinopril, Mannitol, Iron, Calcium and Phosphorous).\", \" product assayed and found OOS for cyproheptadine\", \" product contains dexamethasone instead of hydrocortisone.\", \" product contains elevated levels of undeclared lead.\", \" product description section of testosterone cypionate incorrectly states \\\"in grapeseed oil\\\" instead of \\\"in sesame oil\\\" . The primary panel is correct\", \" product does not comply with cGMP requirements\", \" product found to contain undeclared sibutramine\", \" product has the potential to leak.\", \" product is an unapproved drug and additionally 3 lots were found to be subpotent.\", \" product linked to adverse event reports of endophthalimitis eye infections and FDA inspection findings resulted in concerns regarding quality control processes\", \" product produced on a day there was an excursion in environmental monitoring data.\", \" product sterility cannot be guaranteed.\", \" products are labeled as having SPF 10 protection however, this claim cannot be 100% guaranteed.\", \" products manufactured by contract manufacturer under conditions that could result in possible microbial contamination.\", \" products manufactured in a manner than cannot guarantee its sterility.\", \" products manufactured in a manner that may impact product quality that includes but is not limited to failed viscosity.\", \" products manufactured under conditions that could impact its product quality.\", \" products potentially could have been packaged in defective bottles, with a notched rim, that could cause inadequate foil sealing resulting in lack of moisture protection.\", \" products were manufactured with lack of process validation, cleaning validation, stability studies, and other current good manufacturing practice violations.\", \" raw material recalled due to stainless steel and other contamination.\", \" recent inspection observations associated with certain quality control procedures that present a risk to sterility and quality assurance.\", \" repackaged product was recalled by the manufacturer because it was manufactured under the same conditions as products found to be subpotent.\", \" tablet breakage while pushing through the blister pack (dispenser) .\", \" tainted product marketed as a dietary supplement. Product found to be tainted with sildenafil, an FDA approved drug for the treatment of male erectile dysfunction, making this an unapproved drug.\", \" the dosing cups are missing graduations applicable to certain age groups.\", \" the firm is recalling select sterile drug products.\", \" these repackaged and redistributed products are being recalled due to a recall notice from the active pharmaceutical ingredient manufacturer for deviations from current Good Manufacturing Practices that were found during a recent FDA inspection.\", \" this recall is due to a recent Hospira recall of vancomyicn hydrochloride 10gm vials due to presence of particulate matter.\", \" various products were not stored at Controlled Room Temperature as per USP guidelines during shipping\", \" various products were not stored at Controlled Room Temperature as per USP guidelines during shipping.\", \" white substance confirmed as Guaifenesin, an active ingredient was observed in some bottles.  If the product is shaken or warmed the white particles goes into the solution.\", \"All sterile products compounded, repackaged, and distributed by this  compounding pharmacy due to lack of sterility assurance and concerns associated with the quality control processes.\", \"Label Mixup ASCORBIC ACID Tablet, 500 mg may be potentially mislabeled as    FEBUXOSTAT, Tablet, 40 mg, NDC 64764091830, Pedigree AD23082_16, EXP 11/1/2013.\", \"Label Mixup CALCITRIOL, Capsule, 0.5 mcg may be potentially mislabeled as  NIACIN TR, Tablet, 250 mg, NDC 10939043533, Pedigree W003756, EXP 5/31/2014  ISONIAZID, Tablet, 300 mg, NDC 00555007102, Pedigree AD32757_28, EXP 5/13/2014.\", \"Label Mixup FLECAINIDE ACETATE Tablet, 50 mg may be potentially mislabeled as    VITAMIN B COMPLEX W/C, Tablet, NDC 00904026013, Pedigree AD46419_7, EXP 5/16/2014.\", \"Label Mixup LURASIDONE HCl Tablet, 120 mg may be potentially mislabeled as    DULoxetine HCl DR, Capsule, 20 mg, NDC 00002323560, Pedigree W003486, EXP 6/20/2014.\", \"Label Mixup MIRTAZAPINE Tablet, 7.5 mg may be potentially mislabeled as    BROMOCRIPTINE MESYLATE, Tablet, 2.5 mg, NDC 00574010603, Pedigree AD73525_40, EXP 5/30/2014  DULoxetine HCl DR, Capsule, 20 mg, NDC 00002323560, Pedigree W003005, EXP 6/11/2014  carBAMazepine ER, Tablet, 100 mg, NDC 00078051005, Pedigree W003330, EXP 6/18/2014.\", \"Label Mixup MULTIVITAMIN/MULTIMINERAL W/FLUORIDE, Chew Tablet, 1 mg (F) may be potentially mislabeled as    ISOMETHEPTENE MUCATE/ DICHLORALPHENAZONE/APAP, Capsule, 65 mg/100 mg/325 mg, NDC 44183044001, Pedigree AD22858_1, EXP 3/31/2014.\", \"Label Mixup QUEtiapine FUMARATE, Tablet, 25 mg may be potentially mislabeled as    MULTIVITAMIN/MULTIMINERAL, Chew Tablet, NDC 58914001460, Pedigree AD32325_1, EXP 5/9/2014  ASPIRIN DR EC, Tablet, 81 mg, NDC 00182106105, Pedigree W003094, EXP 6/13/2014.\", \"Label Mixup RANOLAZINE ER Tablet, 500 mg may be potentially mislabeled as    MELATONIN, Tablet, 3 mg, NDC 51991001406, Pedigree AD25452_16, EXP 5/3/2014  DULoxetine HCl DR, Capsule, 20 mg, NDC 00002323560, Pedigree AD70585_16, EXP 5/29/2014  OMEGA3 FATTY ACID, Capsule, 1000 mg, NDC 00904404360, Pedigree W002852, EXP 6/7/2014  VALSARTAN, Tablet, 80 mg, NDC 00078035834, Pedigree\", \"Label Mixup guaiFENesin ER, Tablet, 600 mg may be potentially mislabeled as    MISOPROSTOL, Tablet, 200 mcg, NDC 59762500801, Pedigree AD21965_13, EXP 5/1/2014  TACROLIMUS, Capsule, 1 mg, NDC 00781210301, Pedigree AD56917_7, EXP 5/21/2014  LACTOBACILLUS GG, Capsule, NDC 49100036374, Pedigree AD73627_17, EXP 5/30/2014  LACTOBACILLUS GG, Capsule, NDC 49100036374, Pedigree W003216\", \"Label Mixup tiZANidine HCl Tablet, 2 mg may be potentially mislabeled as    RIBAVIRIN, Capsule, 200 mg, NDC 68382026007, Pedigree AD21790_37, EXP 4/30/2014  CYANOCOBALAMIN, Tablet, 1000 mcg, NDC 00904421713, Pedigree AD46257_59, EXP 5/15/2014  NIACIN, Tablet, 100 mg, NDC 00904227160, Pedigree W002661, EXP 6/5/2014  PANTOPRAZOLE SODIUM DR, Tablet, 20 mg, NDC 00008060601, Pedigree\", \"Out of specification for percentage of active pharmaceutical ingredients.\", \"Out of specification result for a known impurity obtained during testing.\", \"Out of specification results for individual unknown impurities at 30th month Room Temperature Retained Sample stabilities test .\", \"SpecificationsUnknown degradant found during stability testing.\", \"Sterile Drug Product. The product was found to be contaminated with the bacteria Burkholderia cepecia.\", \"Sterile Product FDA analysis found  salmonella contamination\", \"Sterile Products  microbial contamination with B. cepacia\", \"Sterile Products Outofspecification results for microbial count were observed at the initial stability interval for Lansoprazole Delayed Release Capsules.\", \"Sterile Products Product was found to be contaminated with the bacteria, Sarcina Lutea.\", \"Sterile Products The firm is initiating a recall of some of its products due to the potential of high microbial loads.\", \"Sterility Confirmed customer complaints of glass product container vials that may be empty or cracked.\", \"Sterility Green Valley Drugs received positive sterility results from their testing lab on two lots of Methylprednisolone Preservative Free 40 mg/mL injectable suspension and  one lot of Cyanocobalamin 1000 mcg/mL injection, 30 mL MDV.\", \"Sterility Out of specification results for the sterility test for microbial contamination.\", \"Sterility Product is being recalled due to presence of Aspergillus Penicilloides\", \"Sterility contract laboratory identified Staphylococcus warneri in the product\", \"Sterility fungal contamination due to leaking containers.\", \"Sterility one or more components of the kit have been found to be contaminated with yeast.\", \"The manufacturer, Westward Pharmaceutical, recalled product because of the presence of black spots on tablets. In response, the repackager initiated its own recall.\", \"The product lots are being recalled due to laboratory results (from a contract lab) indicating microbial contamination. The FDA was concerned test results obtained from the recalling firm's contract testing lab may not be reliable. Hence the sterility of the products cannot be assured.\", \"The titratable iodine contained in the PovidoneIodine prep pads  is below label claim of 0.85%.\", \"free methylprednisolone 80mg/ml 10 ml vials.\", \"outofspecification (OOS) results for Azelastine Noxide\", \"potent Drug OutofSpecification assay results found at 3 month stability testing.\", \"sterile Products contamination with Burkholderia lata.\", \"sterile product.\", \"61518\", \"61683\", \"61871\", \"61891\", \"61918\", \"61947\", \"61948\", \"61957\", \"61960\", \"62416\", \"62439\", \"62443\", \"62459\", \"62511\", \"62627\", \"62911\", \"63395\", \"63511\", \"63821\", \"63846\", \"63891\", \"63899\", \"63908\", \"63953\", \"64018\", \"64056\", \"64104\", \"64137\", \"64188\", \"64298\", \"64358\", \"64372\", \"64644\", \"64661\", \"64710\", \"64716\", \"64835\", \"64879\", \"64957\", \"65008\", \"65019\", \"65047\", \"65095\", \"65125\", \"65154\", \"65172\", \"65180\", \"65181\", \"65253\", \"65318\", \"65360\", \"65393\", \"65441\", \"65479\", \"65490\", \"65515\", \"65601\", \"65642\", \"65690\", \"65707\", \"65774\", \"65780\", \"65784\", \"65840\", \"65876\", \"65894\", \"65951\", \"65979\", \"66083\", \"66104\", \"66233\", \"66297\", \"66360\", \"66402\", \"66469\", \"66566\", \"66568\", \"66838\", \"66856\", \"66913\", \"67053\", \"67092\", \"67118\", \"67228\", \"67247\", \"67303\", \"67420\", \"67471\", \"67664\", \"67688\", \"67690\", \"67718\", \"67723\", \"67784\", \"67811\", \"67846\", \"67860\", \"67881\", \"67904\", \"67971\", \"68048\", \"68098\", \"68122\", \"68158\", \"68345\", \"68375\", \"68557\", \"68572\", \"68579\", \"68626\", \"68637\", \"68671\", \"68728\", \"68787\", \"68793\", \"68812\", \"68879\", \"68967\", \"68969\", \"69056\", \"69075\", \"69135\", \"69152\", \"69157\", \"69233\", \"69237\", \"69248\", \"69346\", \"69359\", \"69445\", \"69494\", \"69519\", \"69547\", \"69553\", \"69567\", \"69633\", \"69724\", \"69928\", \"69942\", \"70001\", \"70041\", \"70118\", \"70148\", \"70174\", \"70317\", \"70444\", \"70452\", \"70452\", \"70555\", \"70656\", \"70740\", \"70743\", \"70807\", \"70849\", \"70936\", \"71004\", \"71046\", \"71078\", \"71104\", \"71205\", \"71219\", \"71220\", \"71275\", \"71310\", \"71371\", \"71375\", \"71415\", \"71418\", \"71494\", \"71535\", \"71591\", \"71598\", \"71618\", \"71656\", \"71765\", \"71806\", \"71844\", \"71846\", \"71892\", \"71920\", \"71921\", \"71973\", \"71989\", \"72072\", \"72177\", \"72179\", \"72241\", \"72361\", \"72455\", \"72476\", \"72493\", \"72520\", \"72522\", \"72594\", \"72614\", \"72648\", \"72699\", \"72733\", \"72746\", \"72795\", \"72800\", \"72947\", \"73016\", \"73018\", \"73032\", \"73090\", \"73152\", \"73304\", \"73336\", \"73434\", \"73537\", \"73569\", \"73571\", \"73574\", \"73626\", \"73653\", \"73662\", \"73662\", \"73679\", \"73811\", \"73899\", \"73899\", \"73925\", \"73960\", \"73973\", \"74017\", \"74057\", \"74068\", \"74187\", \"74319\", \"74361\", \"74399\", \"74466\", \"74497\", \"74539\", \"74606\", \"74694\", \"74792\", \"74847\", \"74874\", \"74949\", \"75092\", \"75164\", \"75230\", \"75247\", \"75289\", \"75537\", \"75552\", \"75566\", \"75581\", \"75628\", \"75650\", \"75695\", \"75745\", \"75757\", \"75763\", \"75764\", \"75880\", \"76103\", \"76395\", \"76443\", \"76472\", \"76513\", \"76539\", \"76543\", \"76561\", \"76644\", \"76663\", \"76726\", \"76743\", \"76890\", \"76912\", \"76982\", \"77161\", \"77191\", \"77311\", \"77314\", \"77315\", \"77323\", \"77336\", \"77353\", \"77398\", \"77503\", \"77526\", \"77595\", \"77634\", \"77647\", \"77770\", \"77780\", \"77822\", \"77840\", \"77859\", \"77862\", \"77915\", \"77959\", \"77992\", \"78021\", \"78051\", \"78063\", \"78227\", \"78232\", \"78320\", \"78325\", \"78415\", \"78461\", \"78553\", \"78575\", \"78595\", \"78637\", \"78730\", \"78822\", \"78828\", \"78991\", \"79036\", \"79063\", \"79114\", \"79119\", \"79149\", \"79175\", \"79327\", \"79457\", \"79606\", \"79619\", \"79640\", \"79671\", \"79748\", \"79772\", \"79788\", \"80006\", \"80118\", \"80119\", \"80167\", \"80303\", \"80307\", \"80343\", \"80356\", \"80365\", \"80538\", \"80557\", \"80601\", \"80633\", \"80638\", \"80719\", \"80750\", \"80750\", \"80767\", \"80773\", \"80791\", \"80881\", \"80890\", \"80997\", \"81002\", \"81218\", \"81337\", \"81346\", \"81436\", \"81441\", \"81442\", \"81457\", \"81500\", \"81613\", \"81646\", \"81775\", \"81784\", \"81795\", \"81810\", \"81883\", \"82021\", \"82106\", \"82127\", \"82147\", \"82278\", \"82337\", \"82398\", \"82421\", \"82463\", \"82554\", \"82585\", \"82615\", \"82620\", \"82660\", \"82680\", \"82760\", \"82782\", \"82863\", \"82889\", \"82947\", \"83018\", \"83074\", \"83074\", \"83136\", \"83137\", \"83151\", \"83190\", \"83265\", \"83316\", \"83417\", \"83427\", \"83434\", \"83437\", \"83457\", \"83581\", \"83669\", \"83700\", \"83789\", \"83798\", \"83840\", \"83996\", \"84000\", \"84011\", \"84055\", \"84082\", \"84179\", \"84218\", \"84261\", \"84263\", \"84353\", \"84396\", \"84401\", \"84527\", \"84546\", \"84550\", \"84620\", \"84622\", \"84637\", \"84696\", \"84797\", \"84798\", \"84799\", \"84860\", \"84927\", \"84978\", \"84990\", \"85039\", \"85081\", \"85136\", \"85207\", \"85212\", \"85232\", \"85341\", \"85404\", \"85538\", \"85726\", \"85773\", \"85774\", \"85848\", \"85854\", \"85903\", \"85992\", \"86037\", \"86123\", \"86243\", \"86264\", \"86343\", \"86498\", \"86533\", \"86579\", \"86584\", \"86624\", \"86656\", \"86685\", \"86712\", \"86767\", \"86787\", \"86799\", \"86858\", \"86955\", \"86990\", \"86997\", \"87233\", \"87283\", \"87298\", \"87373\", \"87566\", \"Adulterated Presence of Foreign Tablets/Capsules\", \"CGMP Deviation\", \"CGMP Deviations\", \"CGMP deviations\", \"Chemical Contamination\", \"Chemical contamination\", \"Contraceptive Tablets Out of Sequence\", \"Cross Contamination With Other Products\", \"Cross Contamination with Other Products\", \"Cross contamination with other products\", \"Crystallization\", \"Crystallization with subpotent out of  specification assay results for chlorhexidine.\", \"Defective Container\", \"Defective Delivery System\", \"Discoloration.\", \"Does Not Meet Monograph\", \"Failed Capsule/Tablet Specifications\", \"Failed Content Uniformity Specifications\", \"Failed Content Uniformity Specifications.\", \"Failed Degradation/Impurities Specifications\", \"Failed Dissolution Specification\", \"Failed Dissolution Specifications\", \"Failed Dissolution Specifications.\", \"Failed Dissolution Test Requirements\", \"Failed Impuities/Degradation Specifications\", \"Failed Impurities/Degradation\", \"Failed Impurities/Degradation Specifications\", \"Failed Impurities/Degradation Specifications \", \"Failed Impurities/Degradation Specifications.\", \"Failed Impurity/Degradation Specification\", \"Failed Stability Specification\", \"Failed Stability Specifications\", \"Failed Stability Specifications.\", \"Failed Tablet/Capsule Specification\", \"Failed Tablet/Capsule Specifications\", \"Failed dissolution specifications\", \"Failed dissolution specifications \", \"Failed pH Specifications\", \"Firm is recalling 46 lots of various products because of a lack of sterility assurance.\", \"First Aid Only, Inc is recalling Smart Tab First Aid ezRefill System Ibuprofen boxes  and First Aid Cabinets containing these Ibuprofen boxes.  Ibuprofen boxes (FAE 7014) were accidentally used to package  aspirin packs  (10 packs of 2 / 235mg tablets).\", \"GMP Deviations\", \"Good Manufacturing Practices Deviations\", \"Impurities/Degradation Products\", \"Incorrect Product Formulation\", \"Incorrect/Undeclared Excipient\", \"Labeling\", \"Labeling Product Contains Undeclared API\", \"Lack Of Assurance Of Sterility.\", \"Lack Of Processing Controls\", \"Lack of Assurance Sterility\", \"Lack of Assurance of Sterility\", \"Lack of Assurance of Sterility \", \"Lack of Assurance of Sterility and Stability Data does not Support Expiry\", \"Lack of Assurance of Sterility.\", \"Lack of Processing Control\", \"Lack of Processing Controls\", \"Lack of Processing Controls (lack of assurance of conformity to specifications).\", \"Lack of Processing Controls.\", \"Lack of Sterility Assurance\", \"Lack of Sterility Assurance.\", \"Lack of assurance of sterility\", \"Lack of assurance of sterility for injectables and solutions intended to be sterile.\", \"Lack of sterility assurance.\", \"Marked Without An Approved NDA/ANDA\", \"Marketed Without An Approved NDA/ANDA\", \"Marketed Without an Approved NDA/ANDA\", \"Marketed without an Approved NDA/ANDA\", \"Marketed without an approved NDA/ANDA\", \"Marketed without an approved NDA/ANDA \", \"Marketed without an approved NDA/ANDA  \", \"Microbal Contamination of Non\", \"Microbial Contamination of Non\", \"Microbial Contamination of a Non\", \"Microbial contamination\", \"Microbial contamination of non\", \"Miscalibrated and/or Defective Delivery System\", \"Non\", \"Penicillin Cross Contamination\", \"Penicillin Cross Contamination and Presence of Foreign Substance.  Product was contaminated with penicillin and foreign substances during manufacturing process.\", \"Presence of Foreign Substance\", \"Presence of Foreign Substance(s)\", \"Presence of Foreign Tablet\", \"Presence of Foreign Tablets/Capsules\", \"Presence of Foriegn Substance\", \"Presence of Foriegn Tablets/Capsules\", \"Presence of Particulate Matter\", \"Presence of Particulate Matter.\", \"Presence of Particulate matter\", \"Presence of Particulate matter. Recall due to presence of unknown particulate matter.\", \"Presence of Paticulate Matter\", \"Presence of Precipitate\", \"Presence of particulate matter\", \"Presence of particulate matter \", \"Recalled products were made using an active ingredient that was recalled by a supplier due to penicillin cross contamination.\", \"Stability Data Does Not Support Expiry\", \"Stability data does not support expiry.\", \"Sub\", \"Subpotency\", \"Subpotent\", \"Subpotent (Single Ingredient Drug)\", \"Subpotent Drug\", \"Subpotent drug\", \"Subpotent drug \", \"Superpotent (Multiple Ingredient) Drug\", \"Superpotent Drug\", \"Superpotent and Subpotent drugs\", \"Tablet Thickness\", \"Temperature Abuse\", \"The affected lots of Carboplatin Injection, Cytarabine  Injection, Methotrexate Injection, USP, and Paclitaxel Injection are being recalled due to visible particles embedded in the glass located at the neck of the vial. There may be the potential for product to come into contact with the embedded particles and the particles may become dislodged into the solution.\", \"The firm received seven reports of adverse reactions in the form of skin abscesses potentially linked to compounded preservative\", \"Unapproved new drug\", \"Unit Dose Mispackaging\", \"cGMP Deviations\", \"cGMP deviation\", \"cGMP deviations\", \"Reasons for Recall\"], \"marker\": {\"coloraxis\": \"coloraxis\", \"colors\": [13.0, 13.0, 13.0, 13.0, 52.0, 13.0, 13.0, 13.0, 26.0, 13.0, 13.0, 13.0, 13.0, 13.0, 26.0, 13.0, 13.0, 26.0, 13.0, 13.0, 13.0, 65.0, 91.0, 91.0, 13.0, 13.0, 26.0, 13.0, 39.0, 13.0, 13.0, 39.0, 13.0, 104.0, 78.0, 13.0, 13.0, 13.0, 13.0, 26.0, 78.0, 13.0, 91.0, 13.0, 13.0, 26.0, 13.0, 13.0, 13.0, 52.0, 39.0, 13.0, 13.0, 26.0, 13.0, 13.0, 39.0, 13.0, 52.0, 13.0, 390.0, 13.0, 91.0, 26.0, 13.0, 13.0, 52.0, 13.0, 13.0, 52.0, 13.0, 91.0, 13.0, 39.0, 13.0, 78.0, 78.0, 104.0, 13.0, 13.0, 52.0, 13.0, 13.0, 13.0, 91.0, 52.0, 13.0, 13.0, 26.0, 52.0, 91.0, 13.0, 13.0, 13.0, 13.0, 65.0, 13.0, 26.0, 13.0, 13.0, 13.0, 13.0, 13.0, 13.0, 13.0, 13.0, 13.0, 13.0, 104.0, 13.0, 13.0, 13.0, 13.0, 13.0, 429.0, 13.0, 26.0, 26.0, 13.0, 65.0, 13.0, 13.0, 13.0, 13.0, 13.0, 13.0, 13.0, 13.0, 13.0, 13.0, 13.0, 13.0, 13.0, 13.0, 13.0, 26.0, 52.0, 13.0, 39.0, 13.0, 13.0, 65.0, 13.0, 13.0, 13.0, 65.0, 78.0, 13.0, 52.0, 26.0, 39.0, 390.0, 39.0, 78.0, 26.0, 91.0, 13.0, 13.0, 39.0, 13.0, 13.0, 26.0, 52.0, 13.0, 39.0, 13.0, 26.0, 104.0, 26.0, 13.0, 13.0, 13.0, 13.0, 117.0, 91.0, 13.0, 13.0, 13.0, 26.0, 13.0, 13.0, 13.0, 39.0, 13.0, 13.0, 26.0, 13.0, 13.0, 13.0, 65.0, 13.0, 13.0, 13.0, 13.0, 13.0, 13.0, 13.0, 52.0, 13.0, 39.0, 13.0, 26.0, 13.0, 13.0, 13.0, 13.0, 13.0, 13.0, 13.0, 13.0, 13.0, 13.0, 13.0, 13.0, 13.0, 13.0, 13.0, 13.0, 13.0, 13.0, 13.0, 13.0, 13.0, 13.0, 13.0, 13.0, 13.0, 13.0, 13.0, 13.0, 13.0, 13.0, 13.0, 13.0, 13.0, 13.0, 13.0, 13.0, 13.0, 13.0, 13.0, 13.0, 13.0, 13.0, 13.0, 13.0, 13.0, 13.0, 13.0, 13.0, 13.0, 13.0, 13.0, 13.0, 13.0, 13.0, 104.0, 39.0, 52.0, 13.0, 91.0, 13.0, 13.0, 39.0, 13.0, 26.0, 39.0, 26.0, 13.0, 13.0, 13.0, 13.0, 13.0, 13.0, 104.0, 13.0, 13.0, 13.0, 13.0, 13.0, 13.0, 13.0, 13.0, 13.0, 13.0, 13.0, 13.0, 13.0, 13.0, 13.0, 13.0, 13.0, 13.0, 13.0, 13.0, 13.0, 13.0, 13.0, 13.0, 13.0, 13.0, 13.0, 13.0, 13.0, 13.0, 13.0, 13.0, 13.0, 13.0, 13.0, 13.0, 39.0, 26.0, 13.0, 13.0, 13.0, 13.0, 13.0, 13.0, 13.0, 13.0, 13.0, 13.0, 13.0, 13.0, 13.0, 13.0, 26.0, 13.0, 13.0, 13.0, 13.0, 13.0, 13.0, 13.0, 13.0, 13.0, 13.0, 13.0, 13.0, 13.0, 12.0, 26.0, 13.0, 13.0, 13.0, 13.0, 13.0, 13.0, 52.0, 13.0, 13.0, 13.0, 13.0, 39.0, 13.0, 13.0, 13.0, 13.0, 13.0, 13.0, 13.0, 13.0, 13.0, 13.0, 13.0, 13.0, 26.0, 13.0, 13.0, 13.0, 13.0, 13.0, 13.0, 13.0, 26.0, 78.0, 65.0, 13.0, 13.0, 39.0, 13.0, 13.0, 13.0, 13.0, 13.0, 13.0, 26.0, 26.0, 78.0, 13.0, 13.0, 13.0, 13.0, 39.0, 39.0, 13.0, 13.0, 13.0, 13.0, 13.0, 13.0, 13.0, 13.0, 39.0, 26.0, 52.0, 52.0, 13.0, 13.0, 13.0, 13.0, 13.0, 26.0, 13.0, 13.0, 13.0, 13.0, 13.0, 26.0, 13.0, 13.0, 13.0, 13.0, 13.0, 13.0, 13.0, 13.0, 26.0, 13.0, 13.0, 13.0, 13.0, 26.0, 13.0, 13.0, 13.0, 13.0, 13.0, 26.0, 13.0, 13.0, 39.0, 26.0, 26.0, 13.0, 13.0, 13.0, 13.0, 13.0, 13.0, 13.0, 26.0, 13.0, 13.0, 13.0, 13.0, 52.0, 13.0, 52.0, 13.0, 13.0, 13.0, 13.0, 13.0, 13.0, 26.0, 13.0, 13.0, 13.0, 26.0, 13.0, 13.0, 13.0, 65.0, 52.0, 39.0, 65.0, 13.0, 65.0, 26.0, 13.0, 26.0, 65.0, 13.0, 13.0, 13.0, 13.0, 39.0, 26.0, 13.0, 26.0, 13.0, 13.0, 52.0, 13.0, 13.0, 13.0, 13.0, 13.0, 13.0, 13.0, 13.0, 13.0, 13.0, 13.0, 13.0, 13.0, 13.0, 13.0, 26.0, 13.0, 13.0, 13.0, 13.0, 13.0, 13.0, 91.0, 13.0, 13.0, 13.0, 13.0, 13.0, 13.0, 65.0, 299.0, 13.0, 13.0, 13.0, 13.0, 13.0, 13.0, 13.0, 13.0, 13.0, 13.0, 13.0, 13.0, 13.0, 117.0, 13.0, 91.0, 13.0, 13.0, 13.0, 13.0, 13.0, 13.0, 13.0, 13.0, 13.0, 13.0, 13.0, 13.0, 13.0, 13.0, 13.0, 13.0, 52.0, 13.0, 13.0, 13.0, 13.0, 56.333333333333336, 13.0, 26.0, 26.0, 52.0, 52.0, 13.0, 52.0, 13.0, 13.0, 26.0, 13.0, 26.0, 13.0, 13.0, 13.0, 13.0, 78.0, 13.0, 13.0, 299.0, 26.0, 13.0, 13.0, 26.0, 13.0, 13.0, 13.0, 13.0, 13.0, 26.0, 91.0, 13.0, 13.0, 13.0, 13.0, 13.0, 26.0, 13.0, 13.0, 13.0, 13.0, 65.0, 13.0, 13.0, 26.0, 13.0, 13.0, 13.0, 13.0, 13.0, 13.0, 13.0, 26.0, 13.0, 13.0, 13.0, 13.0, 13.0, 52.0, 13.0, 13.0, 13.0, 13.0, 13.0, 13.0, 13.0, 13.0, 13.0, 13.0, 13.0, 13.0, 13.0, 39.0, 13.0, 13.0, 26.0, 13.0, 13.0, 13.0, 13.0, 21.666666666666668, 13.0, 13.0, 13.0, 13.0, 13.0, 13.0, 13.0, 91.0, 13.0, 13.0, 13.0, 13.0, 13.0, 13.0, 13.0, 26.0, 26.0, 13.0, 13.0, 13.0, 13.0, 13.0, 13.0, 13.0, 13.0, 13.0, 26.0, 91.0, 13.0, 13.0, 13.0, 429.0, 13.0, 13.0, 65.0, 13.0, 13.0, 13.0, 13.0, 13.0, 13.0, 13.0, 39.0, 39.0, 26.0, 13.0, 13.0, 13.0, 13.0, 390.0, 13.0, 13.0, 13.0, 13.0, 26.0, 26.0, 13.0, 52.0, 13.0, 13.0, 52.0, 13.0, 39.0, 13.0, 13.0, 13.0, 13.0, 52.0, 13.0, 13.0, 78.0, 65.0, 39.0, 65.0, 13.0, 13.0, 91.0, 13.0, 91.0, 13.0, 26.0, 13.0, 13.0, 26.0, 13.0, 13.0, 13.0, 13.0, 13.0, 13.0, 26.0, 13.0, 26.0, 13.0, 13.0, 13.0, 13.0, 13.0, 13.0, 13.0, 13.0, 13.0, 39.0, 13.0, 13.0, 39.0, 13.0, 52.0, 104.0, 13.0, 13.0, 104.0, 13.0, 78.0, 13.0, 13.0, 13.0, 78.0, 13.0, 13.0, 13.0, 13.0, 13.0, 13.0, 13.0, 13.0, 13.0, 13.0, 26.0, 26.0, 78.0, 13.0, 13.0, 26.0, 13.0, 13.0, 13.0, 13.0, 39.0, 13.0, 91.0, 13.0, 13.0, 13.0, 13.0, 13.0, 78.0, 13.0, 13.0, 13.0, 39.0, 65.0, 26.0, 13.0, 13.0, 26.0, 65.0, 13.0, 13.0, 26.0, 13.0, 13.0, 13.0, 13.0, 13.0, 26.0, 26.0, 13.0, 39.0, 13.0, 26.0, 13.0, 26.0, 26.0, 13.0, 52.0, 13.0, 13.0, 13.0, 13.0, 104.0, 13.0, 13.0, 52.0, 39.0, 13.0, 13.0, 13.0, 13.0, 13.0, 65.0, 65.0, 13.0, 13.0, 13.0, 39.0, 26.0, 13.0, 13.0, 13.0, 13.0, 13.0, 104.0, 13.0, 13.0, 13.0, 13.0, 104.0, 13.0, 13.0, 39.0, 13.0, 13.0, 13.0, 52.0, 26.0, 13.0, 13.0, 39.0, 26.0, 13.0, 13.0, 13.0, 13.0, 390.0, 13.0, 13.0, 13.0, 65.0, 13.0, 13.0, 13.0, 13.0, 13.0, 39.0, 13.0, 91.0, 39.0, 13.0, 26.0, 13.0, 13.0, 13.0, 13.0, 13.0, 13.0, 26.0, 13.0, 13.0, 13.0, 52.0, 13.0, 13.0, 13.0, 13.0, 13.0, 39.0, 13.0, 52.0, 12.0, 13.0, 91.0, 13.0, 13.0, 39.0, 13.0, 13.0, 13.0, 39.0, 13.0, 13.0, 13.0, 26.0, 13.0, 78.0, 78.0, 13.0, 26.0, 13.0, 104.0, 13.0, 13.0, 65.0, 13.0, 39.0, 13.0, 13.0, 52.0, 13.0, 13.0, 26.0, 13.0, 39.0, 13.0, 13.0, 65.0, 13.0, 13.0, 13.0, 13.0, 39.0, 13.0, 13.0, 13.0, 52.0, 91.0, 13.0, 13.0, 13.0, 13.0, 13.0, 13.0, 13.0, 13.0, 26.0, 13.0, 52.0, 13.0, 13.0, 13.0, 13.0, 13.0, 26.0, 13.0, 39.0, 52.0, 13.0, 13.0, 13.0, 13.0, 13.0, 26.0, 13.0, 91.0, 13.0, 52.0, 13.0, 13.0, 26.0, 13.0, 13.0, 13.0, 13.0, 13.0, 13.0, 13.0, 13.0, 13.0, 13.0, 13.0, 13.0, 13.0, 52.0, 13.0, 13.0, 13.0, 26.0, 13.0, 13.0, 13.0, 13.0, 36.80722891566265, 18.2, 13.0, 26.0, 13.0, 93.88888888888889, 13.0, 13.0, 13.0, 13.0, 17.333333333333332, 13.0, 13.0, 13.0, 13.0, 13.0, 13.0, 13.0, 13.0, 15.88888888888889, 13.0, 13.0, 13.0, 13.0, 13.0, 13.0, 13.0, 13.0, 13.0, 13.0, 13.0, 13.0, 16.25, 13.0, 13.0, 13.0, 26.0, 13.0, 21.666666666666668, 13.0, 13.0, 13.0, 13.0, 18.805825242718445, 13.0, 13.0, 13.0, 104.0, 97.27340031729244, 39.0, 65.0, 32.5, 52.0, 36.63636363636363, 91.0, 39.0, 31.571428571428573, 21.666666666666668, 13.0, 13.0, 62.483870967741936, 65.0, 13.0, 25.0, 17.333333333333332, 13.0, 13.0, 13.0, 26.0, 13.0, 13.0, 390.0, 13.0, 13.0, 55.0, 345.42857142857144, 13.0, 18.77777777777778, 13.0, 13.0, 13.0, 13.0, 13.0, 44.0, 13.0, 39.0, 13.0, 13.0, 13.0, 13.0, 13.0, 26.0, 35.285714285714285, 13.0, 13.0, 13.0, 13.0, 13.0, 35.285714285714285, 13.0, 13.0, 13.0, 13.0, 26.0, 13.0, 19.5, 13.0, 299.0, 13.0, 13.0, 16.25, 13.0, 13.0, 79.66820524655743]}, \"maxdepth\": 2, \"name\": \"\", \"parents\": [\"Reasons for Recall/The affected lots of Carboplatin Injection, Cytarabine  Injection, Methotrexate Injection, USP, and Paclitaxel Injection are being recalled due to visible particles embedded in the glass located at the neck of the vial. There may be the potential for product to come into contact with the embedded particles and the particles may become dislodged into the solution./62459\", \"Reasons for Recall/Lack of Assurance of Sterility/63511\", \"Reasons for Recall/Failed Dissolution Test Requirements/63908\", \"Reasons for Recall/Subpotent/66402\", \"Reasons for Recall/Penicillin Cross Contamination/67723\", \"Reasons for Recall/First Aid Only, Inc is recalling Smart Tab First Aid ezRefill System Ibuprofen boxes  and First Aid Cabinets containing these Ibuprofen boxes.  Ibuprofen boxes (FAE 7014) were accidentally used to package  aspirin packs  (10 packs of 2 / 235mg tablets)./67846\", \"Reasons for Recall/Failed Content Uniformity Specifications./69075\", \"Reasons for Recall/Subpotent Drug/69553\", \"Reasons for Recall/Lack of sterility assurance./70118\", \"Reasons for Recall/Subpotent Drug/70555\", \"Reasons for Recall/Lack of assurance of sterility/70807\", \"Reasons for Recall/Presence of Particulate Matter/70936\", \"Reasons for Recall/Presence of Particulate Matter/71004\", \"Reasons for Recall/Subpotent drug/71046\", \"Reasons for Recall/Lack of Assurance of Sterility/71205\", \"Reasons for Recall/Failed dissolution specifications/71219\", \"Reasons for Recall/Subpotent drug/71375\", \"Reasons for Recall/Recalled products were made using an active ingredient that was recalled by a supplier due to penicillin cross contamination./71535\", \"Reasons for Recall/Subpotent drug/71765\", \"Reasons for Recall/Penicillin Cross Contamination and Presence of Foreign Substance.  Product was contaminated with penicillin and foreign substances during manufacturing process./71920\", \"Reasons for Recall/Stability data does not support expiry./72177\", \"Reasons for Recall/Lack of Assurance of Sterility/72455\", \"Reasons for Recall/Lack of Assurance of Sterility/72520\", \"Reasons for Recall/Lack of Assurance of Sterility/72594\", \"Reasons for Recall/Marketed Without An Approved NDA/ANDA/73018\", \"Reasons for Recall/Failed Impurities/Degradation Specifications/73152\", \"Reasons for Recall/Lack of Assurance of Sterility/73304\", \"Reasons for Recall/Lack of Assurance of Sterility/73336\", \"Reasons for Recall/Lack of Processing Controls/73662\", \"Reasons for Recall/Failed Impurities/Degradation Specifications/73679\", \"Reasons for Recall/Failed Impuities/Degradation Specifications/73811\", \"Reasons for Recall/Lack of Sterility Assurance/73899\", \"Reasons for Recall/Lack of Sterility Assurance./73899\", \"Reasons for Recall/Lack of Assurance of Sterility/73960\", \"Reasons for Recall/Lack of Assurance of Sterility/74466\", \"Reasons for Recall/CGMP Deviations/74497\", \"Reasons for Recall/Failed Impurities/Degradation Specifications/74694\", \"Reasons for Recall/Lack of assurance of sterility/75092\", \"Reasons for Recall/Lack of Assurance of Sterility/75164\", \"Reasons for Recall/Superpotent and Subpotent drugs/75247\", \"Reasons for Recall/Lack of Assurance of Sterility/75289\", \"Reasons for Recall/CGMP Deviations/75757\", \"Reasons for Recall/Lack of Assurance of Sterility/75763\", \"Reasons for Recall/Discoloration./76743\", \"Reasons for Recall/Lack of Assurance of Sterility/77595\", \"Reasons for Recall/Lack of Sterility Assurance./77780\", \"Reasons for Recall/Crystallization with subpotent out of  specification assay results for chlorhexidine./77822\", \"Reasons for Recall/Failed Dissolution Specifications/77862\", \"Reasons for Recall/Lack of Assurance of Sterility./77959\", \"Reasons for Recall/Subpotent Drug/78063\", \"Reasons for Recall/Lack of Assurance of Sterility./78227\", \"Reasons for Recall/Lack Of Assurance Of Sterility./78320\", \"Reasons for Recall/Failed Impurities/Degradation Specifications./78325\", \"Reasons for Recall/Lack of sterility assurance./78828\", \"Reasons for Recall/cGMP Deviations/79606\", \"Reasons for Recall/Presence of Particulate matter. Recall due to presence of unknown particulate matter./79671\", \"Reasons for Recall/Lack of Processing Controls./79748\", \"Reasons for Recall/CGMP Deviations/80006\", \"Reasons for Recall/Lack of sterility assurance./80118\", \"Reasons for Recall/Failed Impurities/Degradation Specifications/80356\", \"Reasons for Recall/Microbial contamination/80601\", \"Reasons for Recall/CGMP Deviations/80881\", \"Reasons for Recall/Lack of Assurance of Sterility/81002\", \"Reasons for Recall/Lack of Assurance of Sterility/81346\", \"Reasons for Recall/Cross Contamination with Other Products/81457\", \"Reasons for Recall/Failed Dissolution Specifications./81795\", \"Reasons for Recall/Lack of sterility assurance./81810\", \"Reasons for Recall/Lack of sterility assurance./81883\", \"Reasons for Recall/Unapproved new drug/82106\", \"Reasons for Recall/Lack of Assurance of Sterility/82398\", \"Reasons for Recall/Presence of Particulate Matter./82463\", \"Reasons for Recall/Lack of sterility assurance./82554\", \"Reasons for Recall/Lack of assurance of sterility for injectables and solutions intended to be sterile./82615\", \"Reasons for Recall/Lack of sterility assurance./82620\", \"Reasons for Recall/Crystallization/83074\", \"Reasons for Recall/Lack of Assurance of Sterility/83074\", \"Reasons for Recall/Lack of Assurance of Sterility/83136\", \"Reasons for Recall/Lack of Assurance of Sterility/83265\", \"Reasons for Recall/Failed dissolution specifications/83434\", \"Reasons for Recall/Failed Impurities/Degradation Specifications/83581\", \"Reasons for Recall/Lack of Assurance of Sterility/83669\", \"Reasons for Recall/Failed Stability Specifications./83700\", \"Reasons for Recall/Lack of Assurance of Sterility/83789\", \"Reasons for Recall/Lack of sterility assurance./84401\", \"Reasons for Recall/Lack of sterility assurance./84546\", \"Reasons for Recall/Lack of Assurance of Sterility/84978\", \"Reasons for Recall/Lack Of Processing Controls/85081\", \"Reasons for Recall/Subpotent Drug/85207\", \"Reasons for Recall/Firm is recalling 46 lots of various products because of a lack of sterility assurance./85212\", \"Reasons for Recall/Lack of Processing Control/85404\", \"Reasons for Recall/Lack of Processing Controls (lack of assurance of conformity to specifications)./85992\", \"Reasons for Recall/GMP Deviations/86579\", \"Reasons for Recall/CGMP Deviations/86712\", \"Reasons for Recall/Subpotent drug/86858\", \"Reasons for Recall/CGMP Deviations/86955\", \"Reasons for Recall/Lack of Assurance of Sterility/72241\", \"Reasons for Recall/Lack of Assurance of Sterility/74539\", \"Reasons for Recall/Failed Tablet/Capsule Specifications/72648\", \"Reasons for Recall/Lack of assurance of sterility/74606\", \"Reasons for Recall/Presence of Particulate Matter/73653\", \"Reasons for Recall/Subpotent/63846\", \"Reasons for Recall/Subpotent/65047\", \"Reasons for Recall/Presence of Foreign Tablets/Capsules/75880\", \"Reasons for Recall/Subpotent/69233\", \"Reasons for Recall/Failed Dissolution Specifications/75764\", \"Reasons for Recall/Lack of Assurance of Sterility/67904\", \"Reasons for Recall/Lack of Assurance of Sterility/69633\", \"Reasons for Recall/Presence of particulate matter/69567\", \"Reasons for Recall/Presence of Particulate Matter/74057\", \"Reasons for Recall/Failed Capsule/Tablet Specifications/70001\", \"Reasons for Recall/Labeling Product Contains Undeclared API/84620\", \"Reasons for Recall/cGMP Deviations/76103\", \"Reasons for Recall/Failed Impurities/Degradation Specifications/84550\", \"Reasons for Recall/cGMP deviations/65154\", \"Reasons for Recall/Penicillin Cross Contamination/70452\", \"Reasons for Recall/Stability Data Does Not Support Expiry/70452\", \"Reasons for Recall/Lack of Sterility Assurance/66856\", \"Reasons for Recall/Lack of Sterility Assurance/69519\", \"Reasons for Recall/Lack of Assurance of Sterility/66568\", \"Reasons for Recall/Lack of Assurance of Sterility/66566\", \"Reasons for Recall/Superpotent Drug/76726\", \"Reasons for Recall/Presence of Precipitate/82660\", \"Reasons for Recall/Failed Impurities/Degradation Specifications/82947\", \"Reasons for Recall/Presence of Particulate Matter/66913\", \"Reasons for Recall/Presence of Paticulate Matter/67092\", \"Reasons for Recall/Marketed without an approved NDA/ANDA/78461\", \"Reasons for Recall/Failed Tablet/Capsule Specifications/69157\", \"Reasons for Recall/CGMP Deviations/80538\", \"Reasons for Recall/CGMP Deviations/80557\", \"Reasons for Recall/CGMP Deviations/80773\", \"Reasons for Recall/Presence of Particulate Matter/68048\", \"Reasons for Recall/Presence of Particulate Matter/68579\", \"Reasons for Recall/Defective Container/72947\", \"Reasons for Recall/Unit Dose Mispackaging/84261\", \"Reasons for Recall/CGMP Deviations/82337\", \"Reasons for Recall/Failed Dissolution Specifications/76663\", \"Reasons for Recall/Lack of Assurance of Sterility/71618\", \"Reasons for Recall/Subpotent Drug/67053\", \"Reasons for Recall/Lack of Processing Controls/83996\", \"Reasons for Recall/Marketed Without An Approved NDA/ANDA/65894\", \"Reasons for Recall/Marketed Without An Approved NDA/ANDA/77859\", \"Reasons for Recall/Marked Without An Approved NDA/ANDA/76644\", \"Reasons for Recall/Marketed Without An Approved NDA/ANDA/65441\", \"Reasons for Recall/Marketed without an Approved NDA/ANDA/85232\", \"Reasons for Recall/Marketed without an Approved NDA/ANDA/67247\", \"Reasons for Recall/Lack of Assurance of Sterility/64661\", \"Reasons for Recall/Lack of Assurance of Sterility/65360\", \"Reasons for Recall/Lack of Assurance of Sterility/64661\", \"Reasons for Recall/Lack of Assurance of Sterility/65019\", \"Reasons for Recall/Lack of Assurance of Sterility/65125\", \"Reasons for Recall/GMP Deviations/77526\", \"Reasons for Recall/Lack of Assurance of Sterility/71371\", \"Reasons for Recall/Lack of Assurance of Sterility/72361\", \"Reasons for Recall/Lack of Assurance of Sterility/74187\", \"Reasons for Recall/Lack of Assurance of Sterility/64716\", \"Reasons for Recall/Lack of Assurance of Sterility/65876\", \"Reasons for Recall/CGMP Deviations/81613\", \"Reasons for Recall/CGMP Deviations/82585\", \"Reasons for Recall/CGMP Deviations/82782\", \"Reasons for Recall/CGMP Deviations/83840\", \"Reasons for Recall/CGMP Deviations/81500\", \"Reasons for Recall/CGMP Deviations/81646\", \"Reasons for Recall/Marketed Without an Approved NDA/ANDA/71989\", \"Reasons for Recall/Failed Content Uniformity Specifications/71598\", \"Reasons for Recall/CGMP Deviations/71104\", \"Reasons for Recall/Lack of Assurance of Sterility/77161\", \"Reasons for Recall/Lack of Assurance of Sterility/73090\", \"Reasons for Recall/Lack of Assurance Sterility/79619\", \"Reasons for Recall/Lack of Processing Controls/80119\", \"Reasons for Recall/Presence of Foreign Tablets/Capsules/74949\", \"Reasons for Recall/Lack of Assurance of Sterility/69056\", \"Reasons for Recall/Contraceptive Tablets Out of Sequence/77323\", \"Reasons for Recall/Marketed Without An Approved NDA/ANDA/78991\", \"Reasons for Recall/Lack of Assurance of Sterility/62416\", \"Reasons for Recall/Lack of Assurance of Sterility/62443\", \"Reasons for Recall/Superpotent Drug/73569\", \"Reasons for Recall/Failed Impurities/Degradation Specifications/68787\", \"Reasons for Recall/Lack of Assurance of Sterility/61918\", \"Reasons for Recall/Marketed without an Approved NDA/ANDA/68626\", \"Reasons for Recall/Labeling/69942\", \"Reasons for Recall/CGMP Deviations/84353\", \"Reasons for Recall/CGMP Deviations/85039\", \"Reasons for Recall/Lack of Assurance of Sterility/80890\", \"Reasons for Recall/CGMP Deviations/78730\", \"Reasons for Recall/Labeling/72699\", \"Reasons for Recall/Labeling/65840\", \"Reasons for Recall/Labeling/86584\", \"Reasons for Recall/Labeling/85136\", \"Reasons for Recall/Labeling/79640\", \"Reasons for Recall/Labeling/78553\", \"Reasons for Recall/Labeling/81337\", \"Reasons for Recall/Labeling/64372\", \"Reasons for Recall/Labeling/69445\", \"Reasons for Recall/Labeling/73032\", \"Reasons for Recall/Labeling/68572\", \"Reasons for Recall/Labeling/78232\", \"Reasons for Recall/Labeling/86997\", \"Reasons for Recall/Labeling/84527\", \"Reasons for Recall/Labeling/84082\", \"Reasons for Recall/Lack of Processing Controls/82278\", \"Reasons for Recall/Labeling/65008\", \"Reasons for Recall/Labeling/66233\", \"Reasons for Recall/Labeling/81441\", \"Reasons for Recall/Labeling/78637\", \"Reasons for Recall/Labeling/87283\", \"Reasons for Recall/Labeling/79457\", \"Reasons for Recall/Labeling/73662\", \"Reasons for Recall/Labeling/65690\", \"Reasons for Recall/Labeling/65690\", \"Reasons for Recall/Labeling/65690\", \"Reasons for Recall/Labeling/65690\", \"Reasons for Recall/Labeling/65690\", \"Reasons for Recall/Labeling/65690\", \"Reasons for Recall/Labeling/65690\", \"Reasons for Recall/Labeling/65690\", \"Reasons for Recall/Labeling/65707\", \"Reasons for Recall/Labeling/65690\", \"Reasons for Recall/Labeling/65690\", \"Reasons for Recall/Labeling/65707\", \"Reasons for Recall/Labeling/65690\", \"Reasons for Recall/Labeling/65707\", \"Reasons for Recall/Labeling/65690\", \"Reasons for Recall/Labeling/65690\", \"Reasons for Recall/Labeling/65690\", \"Reasons for Recall/Labeling/65707\", \"Reasons for Recall/Labeling/65707\", \"Reasons for Recall/Labeling/65690\", \"Reasons for Recall/Labeling/65690\", \"Reasons for Recall/Labeling/65707\", \"Reasons for Recall/Labeling/65690\", \"Reasons for Recall/Labeling/65707\", \"Reasons for Recall/Labeling/65690\", \"Reasons for Recall/Labeling/65690\", \"Reasons for Recall/Labeling/65690\", \"Reasons for Recall/Labeling/65690\", \"Reasons for Recall/Labeling/65690\", \"Reasons for Recall/Labeling/65707\", \"Reasons for Recall/Labeling/65707\", \"Reasons for Recall/Labeling/65690\", \"Reasons for Recall/Labeling/65707\", \"Reasons for Recall/Labeling/65707\", \"Reasons for Recall/Labeling/65707\", \"Reasons for Recall/Labeling/65690\", \"Reasons for Recall/Labeling/65707\", \"Reasons for Recall/Labeling/65690\", \"Reasons for Recall/Labeling/65707\", \"Reasons for Recall/Labeling/61948\", \"Reasons for Recall/Labeling/65707\", \"Reasons for Recall/Labeling/65707\", \"Reasons for Recall/Labeling/77315\", \"Reasons for Recall/Labeling/87233\", \"Reasons for Recall/Labeling/65690\", \"Reasons for Recall/Labeling/65690\", \"Reasons for Recall/Labeling/63821\", \"Reasons for Recall/Labeling/69135\", \"Reasons for Recall/Marketed without an Approved NDA/ANDA/65095\", \"Reasons for Recall/CGMP Deviations/79149\", \"Reasons for Recall/Lack of Assurance of Sterility/68557\", \"Reasons for Recall/CGMP Deviations/86123\", \"Reasons for Recall/Subpotent Drug/68812\", \"Reasons for Recall/Lack of Assurance of Sterility/69152\", \"Reasons for Recall/Presence of Foreign Tablet/79119\", \"Reasons for Recall/Failed Tablet/Capsule Specifications/66360\", \"Reasons for Recall/Penicillin Cross Contamination/71078\", \"Reasons for Recall/CGMP Deviations/84218\", \"Reasons for Recall/Labeling/77191\", \"Reasons for Recall/Labeling/76561\", \"Reasons for Recall/Labeling/83798\", \"Reasons for Recall/Labeling/79175\", \"Reasons for Recall/Labeling/82760\", \"Reasons for Recall/Labeling/64104\", \"Reasons for Recall/Marketed Without an Approved NDA/ANDA/67860\", \"Reasons for Recall/Marketed Without an Approved NDA/ANDA/67860\", \"Reasons for Recall/Temperature Abuse/69346\", \"Reasons for Recall/Cross Contamination With Other Products/77992\", \"Reasons for Recall/Superpotent Drug/71973\", \"Reasons for Recall/Impurities/Degradation Products/61947\", \"Reasons for Recall/Defective Delivery System/64710\", \"Reasons for Recall/Defective Delivery System/67718\", \"Reasons for Recall/Failed pH Specifications/86685\", \"Reasons for Recall/CGMP Deviations/83316\", \"Reasons for Recall/Miscalibrated and/or Defective Delivery System/61891\", \"Reasons for Recall/Failed Stability Specifications/77311\", \"Reasons for Recall/Failed Stability Specifications/72493\", \"Reasons for Recall/Failed Impurities/Degradation Specifications/87566\", \"Reasons for Recall/Failed Dissolution Specification/64056\", \"Reasons for Recall/Subpotent Drug/83137\", \"Reasons for Recall/Failed Dissolution Specifications/70743\", \"Reasons for Recall/Failed Dissolution Specifications/86787\", \"Reasons for Recall/Failed Impurities/Degradation Specifications/72476\", \"Reasons for Recall/Failed Impurities/Degradation Specifications/72733\", \"Reasons for Recall/Defective Delivery System/87373\", \"Reasons for Recall/Failed Degradation/Impurities Specifications/82127\", \"Reasons for Recall/Failed Stability Specifications/68879\", \"Reasons for Recall/Impurities/Degradation Products/62911\", \"Reasons for Recall/GMP Deviations/81784\", \"Reasons for Recall/Failed Stability Specifications/68098\", \"Reasons for Recall/Failed Stability Specifications/86264\", \"Reasons for Recall/Failed Impurities/Degradation Specifications /69547\", \"Reasons for Recall/Failed Dissolution Specifications/74847\", \"Reasons for Recall/Superpotent (Multiple Ingredient) Drug/63899\", \"Reasons for Recall/Marketed Without An Approved NDA/ANDA/68158\", \"Reasons for Recall/Lack of Assurance of Sterility/66083\", \"Reasons for Recall/Presence of Particulate Matter/67690\", \"Reasons for Recall/Presence of Particulate Matter/84622\", \"Reasons for Recall/Failed Dissolution Specifications/65393\", \"Reasons for Recall/Does Not Meet Monograph/68671\", \"Reasons for Recall/Presence of Particulate Matter/80167\", \"Reasons for Recall/Penicillin Cross Contamination/72795\", \"Reasons for Recall/Tablet Thickness/61871\", \"Reasons for Recall/cGMP Deviations/83457\", \"Reasons for Recall/Lack of Assurance of Sterility/80307\", \"Reasons for Recall/Lack of Assurance of Sterility/69494\", \"Reasons for Recall/Presence of Particulate Matter/68969\", \"Reasons for Recall/cGMP Deviations/82889\", \"Reasons for Recall/Lack of Assurance of Sterility/80633\", \"Reasons for Recall/CGMP Deviation/81442\", \"Reasons for Recall/CGMP Deviation/82147\", \"Reasons for Recall/CGMP Deviations/84637\", \"Reasons for Recall/CGMP Deviations/84799\", \"Reasons for Recall/CGMP Deviations/86498\", \"Reasons for Recall/Labeling/61960\", \"Reasons for Recall/Labeling/61683\", \"Reasons for Recall/Presence of Foreign Substance/84396\", \"Reasons for Recall/Presence of Foreign Substance/71921\", \"Reasons for Recall/Crystallization/84011\", \"Reasons for Recall/Stability Data Does Not Support Expiry/67688\", \"Reasons for Recall/Lack of Assurance of Sterility/71591\", \"Reasons for Recall/Lack of assurance of sterility/77314\", \"Reasons for Recall/Failed Tablet/Capsule Specifications/69724\", \"Reasons for Recall/CGMP deviations/84797\", \"Reasons for Recall/GMP Deviations/84798\", \"Reasons for Recall/GMP Deviations/84990\", \"Reasons for Recall/Chemical Contamination/86037\", \"Reasons for Recall/Crystallization/74399\", \"Reasons for Recall/Marketed Without an Approved NDA/ANDA/68122\", \"Reasons for Recall/Marketed Without an Approved NDA/ANDA/72614\", \"Reasons for Recall/Subpotent drug /85773\", \"Reasons for Recall/Failed Impurities/Degradation Specifications/69928\", \"Reasons for Recall/Subpotent Drug/69248\", \"Reasons for Recall/Failed Dissolution Specifications/65515\", \"Reasons for Recall/Lack of Assurance of Sterility/82421\", \"Reasons for Recall/Lack of Assurance of Sterility/72746\", \"Reasons for Recall/Marketed Without an Approved NDA/ANDA/67471\", \"Reasons for Recall/Marketed Without An Approved NDA/ANDA/70444\", \"Reasons for Recall/Failed Content Uniformity Specifications/80719\", \"Reasons for Recall/Cross Contamination with Other Products/64137\", \"Reasons for Recall/CGMP deviations/80638\", \"Reasons for Recall/Chemical Contamination/68967\", \"Reasons for Recall/CGMP Deviations/64188\", \"Reasons for Recall/Marketed without an Approved NDA/ANDA/72522\", \"Reasons for Recall/Marketed Without an Approved NDA/ANDA/65774\", \"Reasons for Recall/Marketed Without An Approved NDA/ANDA/74017\", \"Reasons for Recall/Defective Delivery System/78021\", \"Reasons for Recall/CGMP Deviations/83437\", \"Reasons for Recall/CGMP Deviations/75650\", \"Reasons for Recall/Chemical Contamination/63395\", \"Reasons for Recall/Failed Tablet/Capsule Specifications/69237\", \"Reasons for Recall/CGMP Deviations/74874\", \"Reasons for Recall/CGMP Deviation/84696\", \"Reasons for Recall/Lack of Assurance of Sterility/80303\", \"Reasons for Recall/Marketed Without An Approved NDA/ANDA/61957\", \"Reasons for Recall/Lack of Assurance of Sterility/65318\", \"Reasons for Recall/Adulterated Presence of Foreign Tablets/Capsules/62439\", \"Reasons for Recall/Defective Delivery System/72800\", \"Reasons for Recall/Failed Dissolution Specifications/68637\", \"Reasons for Recall/Failed Dissolution Specifications/67784\", \"Reasons for Recall/CGMP deviations/83018\", \"Reasons for Recall/Lack of Assurance of Sterility/65180\", \"Reasons for Recall/Lack of Assurance of Sterility/71415\", \"Reasons for Recall/Lack of Assurance of Sterility/71415\", \"Reasons for Recall/Defective Container/85538\", \"Reasons for Recall/Failed Tablet/Capsule Specifications/67664\", \"Reasons for Recall/Failed Impurities/Degradation Specifications/76443\", \"Reasons for Recall/Superpotent Drug/85774\", \"Reasons for Recall/Subpotent Drug/67420\", \"Reasons for Recall/Lack of Assurance of Sterility/72179\", \"Reasons for Recall/Lack of Assurance of Sterility/76912\", \"Reasons for Recall/Subpotent (Single Ingredient Drug)/61518\", \"Reasons for Recall/Presence of Particulate Matter/71844\", \"Reasons for Recall/Presence of Particulate Matter/71846\", \"Reasons for Recall/Lack of Assurance of Sterility/71892\", \"Reasons for Recall/Failed Dissolution Specifications/75581\", \"Reasons for Recall/Failed Impurities/Degradation Specifications/70041\", \"Reasons for Recall/Good Manufacturing Practices Deviations/67881\", \"Reasons for Recall/Lack of Assurance of Sterility/70174\", \"Reasons for Recall/Failed Content Uniformity Specifications/71418\", \"Reasons for Recall/Presence of Foreign Substance/65490\", \"Reasons for Recall/Subpotent Drug/65172\", \"Reasons for Recall/Lack of Assurance of Sterility/76472\", \"Reasons for Recall/Presence of Foreign Substance(s)/63891\", \"Reasons for Recall/Defective Container/65784\", \"Reasons for Recall/Marketed Without an Approved NDA/ANDA/67228\", \"Reasons for Recall/Marketed without an approved NDA/ANDA  /70317\", \"Reasons for Recall/CGMP Deviations/85341\", \"Reasons for Recall/CGMP Deviations/85341\", \"Reasons for Recall/Defective Container/65780\", \"Reasons for Recall/Marketed Without An Approved NDA/ANDA/79327\", \"Reasons for Recall/Presence of Particulate Matter/62627\", \"Reasons for Recall/Failed Dissolution Specifications/66838\", \"Reasons for Recall/Lack of assurance of sterility/79063\", \"Reasons for Recall/Presence of Foreign Tablets/Capsules/68375\", \"Reasons for Recall/Subpotent Drug/65979\", \"Reasons for Recall/Marketed Without an Approved NDA/ANDA/81436\", \"Reasons for Recall/CGMP Deviations/78822\", \"Reasons for Recall/Lack of Assurance of Sterility/75230\", \"Reasons for Recall/Lack of Assurance of Sterility/71806\", \"Reasons for Recall/Lack of Assurance of Sterility/64879\", \"Reasons for Recall/Failed Impurity/Degradation Specification/64644\", \"Reasons for Recall/CGMP Deviations/83417\", \"Reasons for Recall/Lack of Assurance of Sterility/79772\", \"Reasons for Recall/Presence of Foreign Substance/76543\", \"Reasons for Recall/Presence of Foriegn Tablets/Capsules/77336\", \"Reasons for Recall/CGMP Deviations/75566\", \"Reasons for Recall/CGMP Deviations/86624\", \"Reasons for Recall/cGMP Deviations/62511\", \"Reasons for Recall/Lack of Assurance of Sterility/86799\", \"Reasons for Recall/CGMP Deviations/85726\", \"Reasons for Recall/Failed Impurities/Degradation Specifications/84927\", \"Reasons for Recall/Chemical contamination/64835\", \"Reasons for Recall/Failed Impurities/Degradation Specifications/71656\", \"Reasons for Recall/Presence of Foreign Substance/70849\", \"Reasons for Recall/Subpotent Drug/69359\", \"Reasons for Recall/Presence of Particulate Matter/82680\", \"Reasons for Recall/Presence of Foreign Substance/67118\", \"Reasons for Recall/Failed Impurities/Degradation Specifications/78415\", \"Reasons for Recall/Failed Dissolution Specifications/82021\", \"Reasons for Recall/Failed Impurities/Degradation Specifications/76982\", \"Reasons for Recall/CGMP Deviations/83151\", \"Reasons for Recall/Lack of Assurance of Sterility/73537\", \"Reasons for Recall/Labeling/71220\", \"Reasons for Recall/Lack of assurance of sterility/66104\", \"Reasons for Recall/CGMP Deviations/67811\", \"Reasons for Recall/cGMP Deviations/76890\", \"Reasons for Recall/CGMP Deviations/79036\", \"Reasons for Recall/Stability Data Does Not Support Expiry/77503\", \"Reasons for Recall/Failed dissolution specifications /76539\", \"Reasons for Recall/Subpotent Drug/80750\", \"Reasons for Recall/Failed Dissolution Specifications/76513\", \"Reasons for Recall/CGMP Deviations/86343\", \"Reasons for Recall/Failed Dissolution Specifications/80791\", \"Reasons for Recall/cGMP deviation/74361\", \"Reasons for Recall/Presence of Particulate matter/84263\", \"Reasons for Recall/Lack of Assurance of Sterility/87298\", \"Reasons for Recall/Lack of Assurance of Sterility/77634\", \"Reasons for Recall/Cross contamination with other products/73434\", \"Reasons for Recall/Incorrect/Undeclared Excipient/77647\", \"Reasons for Recall/Lack of Assurance of Sterility/71275\", \"Reasons for Recall/Failed Tablet/Capsule Specifications/70740\", \"Reasons for Recall/Failed Stability Specification/71310\", \"Reasons for Recall/Failed Impurities/Degradation Specifications/67971\", \"Reasons for Recall/Defective Delivery System/80997\", \"Reasons for Recall/Failed Dissolution Specifications/77353\", \"Reasons for Recall/Failed Stability Specifications/75628\", \"Reasons for Recall/Presence of Particulate Matter/68728\", \"Reasons for Recall/Presence of Particulate Matter/72072\", \"Reasons for Recall/GMP Deviations/82863\", \"Reasons for Recall/Lack of Assurance of Sterility/86990\", \"Reasons for Recall/GMP Deviations/84000\", \"Reasons for Recall/Stability Data Does Not Support Expiry/73925\", \"Reasons for Recall/Penicillin Cross Contamination/71494\", \"Reasons for Recall/Marketed without an approved NDA/ANDA/75537\", \"Reasons for Recall/Marketed without an approved NDA/ANDA /73973\", \"Reasons for Recall/Cross Contamination With Other Products/79788\", \"Reasons for Recall/Subpotency/74319\", \"Reasons for Recall/Incorrect Product Formulation/78051\", \"Reasons for Recall/Chemical contamination/85854\", \"Reasons for Recall/Incorrect/Undeclared Excipient/75552\", \"Reasons for Recall/cGMP Deviations/73574\", \"Reasons for Recall/Marketed Without an Approved NDA/ANDA/66469\", \"Reasons for Recall/Lack of Assurance of Sterility/77770\", \"Reasons for Recall/Marketed Without An Approved NDA/ANDA/73571\", \"Reasons for Recall/Lack of Assurance of Sterility/65253\", \"Reasons for Recall/Lack of Assurance of Sterility/75695\", \"Reasons for Recall/Lack of Assurance of Sterility/83427\", \"Reasons for Recall/Subpotent Drug/77840\", \"Reasons for Recall/CGMP Deviations/81218\", \"Reasons for Recall/Lack of Assurance of Sterility/84055\", \"Reasons for Recall/CGMP Deviations/78595\", \"Reasons for Recall/CGMP Deviations/80750\", \"Reasons for Recall/Defective Container/84860\", \"Reasons for Recall/CGMP Deviations/83190\", \"Reasons for Recall/Presence of Foreign Substance/65642\", \"Reasons for Recall/Lack of Assurance of Sterility and Stability Data does not Support Expiry/70656\", \"Reasons for Recall/CGMP deviations/86533\", \"Reasons for Recall/Failed Tablet/Capsule Specification/64358\", \"Reasons for Recall/Marketed Without An Approved NDA/ANDA/73016\", \"Reasons for Recall/Defective Delivery System/85848\", \"Reasons for Recall/Lack of Assurance of Sterility /75745\", \"Reasons for Recall/CGMP Deviations/77398\", \"Reasons for Recall/Presence of particulate matter /76395\", \"Reasons for Recall/Temperature Abuse/68793\", \"Reasons for Recall/Temperature Abuse/68793\", \"Reasons for Recall/Presence of Precipitate/64298\", \"Reasons for Recall/Lack of Assurance of Sterility/64957\", \"Reasons for Recall/Labeling/65707\", \"Reasons for Recall/Labeling/65707\", \"Reasons for Recall/Labeling/65707\", \"Reasons for Recall/Labeling/65707\", \"Reasons for Recall/Labeling/65707\", \"Reasons for Recall/Labeling/65707\", \"Reasons for Recall/Labeling/65707\", \"Reasons for Recall/Labeling/65707\", \"Reasons for Recall/Labeling/65707\", \"Reasons for Recall/Labeling/65707\", \"Reasons for Recall/Subpotent Drug/81775\", \"Reasons for Recall/Failed Impurities/Degradation Specifications/74068\", \"Reasons for Recall/Failed Impurities/Degradation Specifications/77915\", \"Reasons for Recall/Failed Impurities/Degradation/65181\", \"Reasons for Recall/Microbial Contamination of Non/86767\", \"Reasons for Recall/Microbal Contamination of Non/80343\", \"Reasons for Recall/Microbial Contamination of Non/74792\", \"Reasons for Recall/Microbial Contamination of Non/67303\", \"Reasons for Recall/Microbial Contamination of a Non/65951\", \"Reasons for Recall/Microbial Contamination of Non/80365\", \"Reasons for Recall/Non/79114\", \"Reasons for Recall/Non/63953\", \"Reasons for Recall/Non/70148\", \"Reasons for Recall/Non/85903\", \"Reasons for Recall/Non/68345\", \"Reasons for Recall/Non/73626\", \"Reasons for Recall/Non/64018\", \"Reasons for Recall/Presence of Foriegn Substance/65601\", \"Reasons for Recall/Lack of Assurance of Sterility/66297\", \"Reasons for Recall/Subpotent Drug/78575\", \"Reasons for Recall/The firm received seven reports of adverse reactions in the form of skin abscesses potentially linked to compounded preservative/65479\", \"Reasons for Recall/Failed Impurities/Degradation Specifications/80767\", \"Reasons for Recall/Sub/86243\", \"Reasons for Recall/Microbial Contamination of Non/86656\", \"Reasons for Recall/Microbial contamination of non/84179\", \"Reasons for Recall/Subpotent (Single Ingredient Drug)\", \"Reasons for Recall/Labeling\", \"Reasons for Recall/Tablet Thickness\", \"Reasons for Recall/Miscalibrated and/or Defective Delivery System\", \"Reasons for Recall/Lack of Assurance of Sterility\", \"Reasons for Recall/Impurities/Degradation Products\", \"Reasons for Recall/Labeling\", \"Reasons for Recall/Marketed Without An Approved NDA/ANDA\", \"Reasons for Recall/Labeling\", \"Reasons for Recall/Lack of Assurance of Sterility\", \"Reasons for Recall/Adulterated Presence of Foreign Tablets/Capsules\", \"Reasons for Recall/Lack of Assurance of Sterility\", \"Reasons for Recall/The affected lots of Carboplatin Injection, Cytarabine  Injection, Methotrexate Injection, USP, and Paclitaxel Injection are being recalled due to visible particles embedded in the glass located at the neck of the vial. There may be the potential for product to come into contact with the embedded particles and the particles may become dislodged into the solution.\", \"Reasons for Recall/cGMP Deviations\", \"Reasons for Recall/Presence of Particulate Matter\", \"Reasons for Recall/Impurities/Degradation Products\", \"Reasons for Recall/Chemical Contamination\", \"Reasons for Recall/Lack of Assurance of Sterility\", \"Reasons for Recall/Labeling\", \"Reasons for Recall/Subpotent\", \"Reasons for Recall/Presence of Foreign Substance(s)\", \"Reasons for Recall/Superpotent (Multiple Ingredient) Drug\", \"Reasons for Recall/Failed Dissolution Test Requirements\", \"Reasons for Recall/Non\", \"Reasons for Recall/Non\", \"Reasons for Recall/Failed Dissolution Specification\", \"Reasons for Recall/Labeling\", \"Reasons for Recall/Cross Contamination with Other Products\", \"Reasons for Recall/CGMP Deviations\", \"Reasons for Recall/Presence of Precipitate\", \"Reasons for Recall/Failed Tablet/Capsule Specification\", \"Reasons for Recall/Labeling\", \"Reasons for Recall/Failed Impurity/Degradation Specification\", \"Reasons for Recall/Lack of Assurance of Sterility\", \"Reasons for Recall/Defective Delivery System\", \"Reasons for Recall/Lack of Assurance of Sterility\", \"Reasons for Recall/Chemical contamination\", \"Reasons for Recall/Lack of Assurance of Sterility\", \"Reasons for Recall/Lack of Assurance of Sterility\", \"Reasons for Recall/Labeling\", \"Reasons for Recall/Lack of Assurance of Sterility\", \"Reasons for Recall/Subpotent\", \"Reasons for Recall/Marketed without an Approved NDA/ANDA\", \"Reasons for Recall/Lack of Assurance of Sterility\", \"Reasons for Recall/cGMP deviations\", \"Reasons for Recall/Subpotent Drug\", \"Reasons for Recall/Lack of Assurance of Sterility\", \"Reasons for Recall/Failed Impurities/Degradation\", \"Reasons for Recall/Lack of Assurance of Sterility\", \"Reasons for Recall/Lack of Assurance of Sterility\", \"Reasons for Recall/Lack of Assurance of Sterility\", \"Reasons for Recall/Failed Dissolution Specifications\", \"Reasons for Recall/Marketed Without An Approved NDA/ANDA\", \"Reasons for Recall/The firm received seven reports of adverse reactions in the form of skin abscesses potentially linked to compounded preservative\", \"Reasons for Recall/Presence of Foreign Substance\", \"Reasons for Recall/Failed Dissolution Specifications\", \"Reasons for Recall/Presence of Foriegn Substance\", \"Reasons for Recall/Presence of Foreign Substance\", \"Reasons for Recall/Labeling\", \"Reasons for Recall/Labeling\", \"Reasons for Recall/Marketed Without an Approved NDA/ANDA\", \"Reasons for Recall/Defective Container\", \"Reasons for Recall/Defective Container\", \"Reasons for Recall/Labeling\", \"Reasons for Recall/Lack of Assurance of Sterility\", \"Reasons for Recall/Marketed Without An Approved NDA/ANDA\", \"Reasons for Recall/Microbial Contamination of a Non\", \"Reasons for Recall/Subpotent Drug\", \"Reasons for Recall/Lack of Assurance of Sterility\", \"Reasons for Recall/Lack of assurance of sterility\", \"Reasons for Recall/Labeling\", \"Reasons for Recall/Lack of Assurance of Sterility\", \"Reasons for Recall/Failed Tablet/Capsule Specifications\", \"Reasons for Recall/Subpotent\", \"Reasons for Recall/Marketed Without an Approved NDA/ANDA\", \"Reasons for Recall/Lack of Assurance of Sterility\", \"Reasons for Recall/Lack of Assurance of Sterility\", \"Reasons for Recall/Failed Dissolution Specifications\", \"Reasons for Recall/Lack of Sterility Assurance\", \"Reasons for Recall/Presence of Particulate Matter\", \"Reasons for Recall/Subpotent Drug\", \"Reasons for Recall/Presence of Paticulate Matter\", \"Reasons for Recall/Presence of Foreign Substance\", \"Reasons for Recall/Marketed Without an Approved NDA/ANDA\", \"Reasons for Recall/Marketed without an Approved NDA/ANDA\", \"Reasons for Recall/Microbial Contamination of Non\", \"Reasons for Recall/Subpotent Drug\", \"Reasons for Recall/Marketed Without an Approved NDA/ANDA\", \"Reasons for Recall/Failed Tablet/Capsule Specifications\", \"Reasons for Recall/Stability Data Does Not Support Expiry\", \"Reasons for Recall/Presence of Particulate Matter\", \"Reasons for Recall/Defective Delivery System\", \"Reasons for Recall/Penicillin Cross Contamination\", \"Reasons for Recall/Failed Dissolution Specifications\", \"Reasons for Recall/CGMP Deviations\", \"Reasons for Recall/First Aid Only, Inc is recalling Smart Tab First Aid ezRefill System Ibuprofen boxes  and First Aid Cabinets containing these Ibuprofen boxes.  Ibuprofen boxes (FAE 7014) were accidentally used to package  aspirin packs  (10 packs of 2 / 235mg tablets).\", \"Reasons for Recall/Marketed Without an Approved NDA/ANDA\", \"Reasons for Recall/Good Manufacturing Practices Deviations\", \"Reasons for Recall/Lack of Assurance of Sterility\", \"Reasons for Recall/Failed Impurities/Degradation Specifications\", \"Reasons for Recall/Presence of Particulate Matter\", \"Reasons for Recall/Failed Stability Specifications\", \"Reasons for Recall/Marketed Without an Approved NDA/ANDA\", \"Reasons for Recall/Marketed Without An Approved NDA/ANDA\", \"Reasons for Recall/Non\", \"Reasons for Recall/Presence of Foreign Tablets/Capsules\", \"Reasons for Recall/Lack of Assurance of Sterility\", \"Reasons for Recall/Labeling\", \"Reasons for Recall/Presence of Particulate Matter\", \"Reasons for Recall/Marketed without an Approved NDA/ANDA\", \"Reasons for Recall/Failed Dissolution Specifications\", \"Reasons for Recall/Does Not Meet Monograph\", \"Reasons for Recall/Presence of Particulate Matter\", \"Reasons for Recall/Failed Impurities/Degradation Specifications\", \"Reasons for Recall/Temperature Abuse\", \"Reasons for Recall/Subpotent Drug\", \"Reasons for Recall/Failed Stability Specifications\", \"Reasons for Recall/Chemical Contamination\", \"Reasons for Recall/Presence of Particulate Matter\", \"Reasons for Recall/Lack of Assurance of Sterility\", \"Reasons for Recall/Failed Content Uniformity Specifications.\", \"Reasons for Recall/Labeling\", \"Reasons for Recall/Lack of Assurance of Sterility\", \"Reasons for Recall/Failed Tablet/Capsule Specifications\", \"Reasons for Recall/Subpotent\", \"Reasons for Recall/Failed Tablet/Capsule Specifications\", \"Reasons for Recall/Subpotent Drug\", \"Reasons for Recall/Temperature Abuse\", \"Reasons for Recall/Subpotent Drug\", \"Reasons for Recall/Labeling\", \"Reasons for Recall/Lack of Assurance of Sterility\", \"Reasons for Recall/Lack of Sterility Assurance\", \"Reasons for Recall/Failed Impurities/Degradation Specifications \", \"Reasons for Recall/Subpotent Drug\", \"Reasons for Recall/Presence of particulate matter\", \"Reasons for Recall/Lack of Assurance of Sterility\", \"Reasons for Recall/Failed Tablet/Capsule Specifications\", \"Reasons for Recall/Failed Impurities/Degradation Specifications\", \"Reasons for Recall/Labeling\", \"Reasons for Recall/Failed Capsule/Tablet Specifications\", \"Reasons for Recall/Failed Impurities/Degradation Specifications\", \"Reasons for Recall/Lack of sterility assurance.\", \"Reasons for Recall/Non\", \"Reasons for Recall/Lack of Assurance of Sterility\", \"Reasons for Recall/Marketed without an approved NDA/ANDA  \", \"Reasons for Recall/Marketed Without An Approved NDA/ANDA\", \"Reasons for Recall/Penicillin Cross Contamination\", \"Reasons for Recall/Stability Data Does Not Support Expiry\", \"Reasons for Recall/Subpotent Drug\", \"Reasons for Recall/Lack of Assurance of Sterility and Stability Data does not Support Expiry\", \"Reasons for Recall/Failed Tablet/Capsule Specifications\", \"Reasons for Recall/Failed Dissolution Specifications\", \"Reasons for Recall/Lack of assurance of sterility\", \"Reasons for Recall/Presence of Foreign Substance\", \"Reasons for Recall/Presence of Particulate Matter\", \"Reasons for Recall/Presence of Particulate Matter\", \"Reasons for Recall/Subpotent drug\", \"Reasons for Recall/Penicillin Cross Contamination\", \"Reasons for Recall/CGMP Deviations\", \"Reasons for Recall/Lack of Assurance of Sterility\", \"Reasons for Recall/Failed dissolution specifications\", \"Reasons for Recall/Labeling\", \"Reasons for Recall/Lack of Assurance of Sterility\", \"Reasons for Recall/Failed Stability Specification\", \"Reasons for Recall/Lack of Assurance of Sterility\", \"Reasons for Recall/Subpotent drug\", \"Reasons for Recall/Lack of Assurance of Sterility\", \"Reasons for Recall/Failed Content Uniformity Specifications\", \"Reasons for Recall/Penicillin Cross Contamination\", \"Reasons for Recall/Recalled products were made using an active ingredient that was recalled by a supplier due to penicillin cross contamination.\", \"Reasons for Recall/Lack of Assurance of Sterility\", \"Reasons for Recall/Failed Content Uniformity Specifications\", \"Reasons for Recall/Lack of Assurance of Sterility\", \"Reasons for Recall/Failed Impurities/Degradation Specifications\", \"Reasons for Recall/Subpotent drug\", \"Reasons for Recall/Lack of Assurance of Sterility\", \"Reasons for Recall/Presence of Particulate Matter\", \"Reasons for Recall/Presence of Particulate Matter\", \"Reasons for Recall/Lack of Assurance of Sterility\", \"Reasons for Recall/Penicillin Cross Contamination and Presence of Foreign Substance.  Product was contaminated with penicillin and foreign substances during manufacturing process.\", \"Reasons for Recall/Presence of Foreign Substance\", \"Reasons for Recall/Superpotent Drug\", \"Reasons for Recall/Marketed Without an Approved NDA/ANDA\", \"Reasons for Recall/Presence of Particulate Matter\", \"Reasons for Recall/Stability data does not support expiry.\", \"Reasons for Recall/Lack of Assurance of Sterility\", \"Reasons for Recall/Lack of Assurance of Sterility\", \"Reasons for Recall/Lack of Assurance of Sterility\", \"Reasons for Recall/Lack of Assurance of Sterility\", \"Reasons for Recall/Failed Impurities/Degradation Specifications\", \"Reasons for Recall/Failed Stability Specifications\", \"Reasons for Recall/Lack of Assurance of Sterility\", \"Reasons for Recall/Marketed without an Approved NDA/ANDA\", \"Reasons for Recall/Lack of Assurance of Sterility\", \"Reasons for Recall/Marketed Without an Approved NDA/ANDA\", \"Reasons for Recall/Failed Tablet/Capsule Specifications\", \"Reasons for Recall/Labeling\", \"Reasons for Recall/Failed Impurities/Degradation Specifications\", \"Reasons for Recall/Lack of Assurance of Sterility\", \"Reasons for Recall/Penicillin Cross Contamination\", \"Reasons for Recall/Defective Delivery System\", \"Reasons for Recall/Defective Container\", \"Reasons for Recall/Marketed Without An Approved NDA/ANDA\", \"Reasons for Recall/Marketed Without An Approved NDA/ANDA\", \"Reasons for Recall/Labeling\", \"Reasons for Recall/Lack of Assurance of Sterility\", \"Reasons for Recall/Failed Impurities/Degradation Specifications\", \"Reasons for Recall/Lack of Assurance of Sterility\", \"Reasons for Recall/Lack of Assurance of Sterility\", \"Reasons for Recall/Cross contamination with other products\", \"Reasons for Recall/Lack of Assurance of Sterility\", \"Reasons for Recall/Superpotent Drug\", \"Reasons for Recall/Marketed Without An Approved NDA/ANDA\", \"Reasons for Recall/cGMP Deviations\", \"Reasons for Recall/Non\", \"Reasons for Recall/Presence of Particulate Matter\", \"Reasons for Recall/Labeling\", \"Reasons for Recall/Lack of Processing Controls\", \"Reasons for Recall/Failed Impurities/Degradation Specifications\", \"Reasons for Recall/Failed Impuities/Degradation Specifications\", \"Reasons for Recall/Lack of Sterility Assurance\", \"Reasons for Recall/Lack of Sterility Assurance.\", \"Reasons for Recall/Stability Data Does Not Support Expiry\", \"Reasons for Recall/Lack of Assurance of Sterility\", \"Reasons for Recall/Marketed without an approved NDA/ANDA \", \"Reasons for Recall/Marketed Without An Approved NDA/ANDA\", \"Reasons for Recall/Presence of Particulate Matter\", \"Reasons for Recall/Failed Impurities/Degradation Specifications\", \"Reasons for Recall/Lack of Assurance of Sterility\", \"Reasons for Recall/Subpotency\", \"Reasons for Recall/cGMP deviation\", \"Reasons for Recall/Crystallization\", \"Reasons for Recall/Lack of Assurance of Sterility\", \"Reasons for Recall/CGMP Deviations\", \"Reasons for Recall/Lack of Assurance of Sterility\", \"Reasons for Recall/Lack of assurance of sterility\", \"Reasons for Recall/Failed Impurities/Degradation Specifications\", \"Reasons for Recall/Microbial Contamination of Non\", \"Reasons for Recall/Failed Dissolution Specifications\", \"Reasons for Recall/CGMP Deviations\", \"Reasons for Recall/Presence of Foreign Tablets/Capsules\", \"Reasons for Recall/Lack of assurance of sterility\", \"Reasons for Recall/Lack of Assurance of Sterility\", \"Reasons for Recall/Lack of Assurance of Sterility\", \"Reasons for Recall/Superpotent and Subpotent drugs\", \"Reasons for Recall/Lack of Assurance of Sterility\", \"Reasons for Recall/Marketed without an approved NDA/ANDA\", \"Reasons for Recall/Incorrect/Undeclared Excipient\", \"Reasons for Recall/CGMP Deviations\", \"Reasons for Recall/Failed Dissolution Specifications\", \"Reasons for Recall/Failed Stability Specifications\", \"Reasons for Recall/CGMP Deviations\", \"Reasons for Recall/Lack of Assurance of Sterility\", \"Reasons for Recall/Lack of Assurance of Sterility \", \"Reasons for Recall/CGMP Deviations\", \"Reasons for Recall/Lack of Assurance of Sterility\", \"Reasons for Recall/Failed Dissolution Specifications\", \"Reasons for Recall/Presence of Foreign Tablets/Capsules\", \"Reasons for Recall/cGMP Deviations\", \"Reasons for Recall/Presence of particulate matter \", \"Reasons for Recall/Failed Impurities/Degradation Specifications\", \"Reasons for Recall/Lack of Assurance of Sterility\", \"Reasons for Recall/Failed Dissolution Specifications\", \"Reasons for Recall/Failed dissolution specifications \", \"Reasons for Recall/Presence of Foreign Substance\", \"Reasons for Recall/Labeling\", \"Reasons for Recall/Marked Without An Approved NDA/ANDA\", \"Reasons for Recall/Failed Dissolution Specifications\", \"Reasons for Recall/Superpotent Drug\", \"Reasons for Recall/Discoloration.\", \"Reasons for Recall/cGMP Deviations\", \"Reasons for Recall/Lack of Assurance of Sterility\", \"Reasons for Recall/Failed Impurities/Degradation Specifications\", \"Reasons for Recall/Lack of Assurance of Sterility\", \"Reasons for Recall/Labeling\", \"Reasons for Recall/Failed Stability Specifications\", \"Reasons for Recall/Lack of assurance of sterility\", \"Reasons for Recall/Labeling\", \"Reasons for Recall/Contraceptive Tablets Out of Sequence\", \"Reasons for Recall/Presence of Foriegn Tablets/Capsules\", \"Reasons for Recall/Failed Dissolution Specifications\", \"Reasons for Recall/CGMP Deviations\", \"Reasons for Recall/Stability Data Does Not Support Expiry\", \"Reasons for Recall/GMP Deviations\", \"Reasons for Recall/Lack of Assurance of Sterility\", \"Reasons for Recall/Lack of Assurance of Sterility\", \"Reasons for Recall/Incorrect/Undeclared Excipient\", \"Reasons for Recall/Lack of Assurance of Sterility\", \"Reasons for Recall/Lack of Sterility Assurance.\", \"Reasons for Recall/Crystallization with subpotent out of  specification assay results for chlorhexidine.\", \"Reasons for Recall/Subpotent Drug\", \"Reasons for Recall/Marketed Without An Approved NDA/ANDA\", \"Reasons for Recall/Failed Dissolution Specifications\", \"Reasons for Recall/Failed Impurities/Degradation Specifications\", \"Reasons for Recall/Lack of Assurance of Sterility.\", \"Reasons for Recall/Cross Contamination With Other Products\", \"Reasons for Recall/Defective Delivery System\", \"Reasons for Recall/Incorrect Product Formulation\", \"Reasons for Recall/Subpotent Drug\", \"Reasons for Recall/Lack of Assurance of Sterility.\", \"Reasons for Recall/Labeling\", \"Reasons for Recall/Lack Of Assurance Of Sterility.\", \"Reasons for Recall/Failed Impurities/Degradation Specifications.\", \"Reasons for Recall/Failed Impurities/Degradation Specifications\", \"Reasons for Recall/Marketed without an approved NDA/ANDA\", \"Reasons for Recall/Labeling\", \"Reasons for Recall/Subpotent Drug\", \"Reasons for Recall/CGMP Deviations\", \"Reasons for Recall/Labeling\", \"Reasons for Recall/CGMP Deviations\", \"Reasons for Recall/CGMP Deviations\", \"Reasons for Recall/Lack of sterility assurance.\", \"Reasons for Recall/Marketed Without An Approved NDA/ANDA\", \"Reasons for Recall/CGMP Deviations\", \"Reasons for Recall/Lack of assurance of sterility\", \"Reasons for Recall/Non\", \"Reasons for Recall/Presence of Foreign Tablet\", \"Reasons for Recall/CGMP Deviations\", \"Reasons for Recall/Labeling\", \"Reasons for Recall/Marketed Without An Approved NDA/ANDA\", \"Reasons for Recall/Labeling\", \"Reasons for Recall/cGMP Deviations\", \"Reasons for Recall/Lack of Assurance Sterility\", \"Reasons for Recall/Labeling\", \"Reasons for Recall/Presence of Particulate matter. Recall due to presence of unknown particulate matter.\", \"Reasons for Recall/Lack of Processing Controls.\", \"Reasons for Recall/Lack of Assurance of Sterility\", \"Reasons for Recall/Cross Contamination With Other Products\", \"Reasons for Recall/CGMP Deviations\", \"Reasons for Recall/Lack of sterility assurance.\", \"Reasons for Recall/Lack of Processing Controls\", \"Reasons for Recall/Presence of Particulate Matter\", \"Reasons for Recall/Lack of Assurance of Sterility\", \"Reasons for Recall/Lack of Assurance of Sterility\", \"Reasons for Recall/Microbal Contamination of Non\", \"Reasons for Recall/Failed Impurities/Degradation Specifications\", \"Reasons for Recall/Microbial Contamination of Non\", \"Reasons for Recall/CGMP Deviations\", \"Reasons for Recall/CGMP Deviations\", \"Reasons for Recall/Microbial contamination\", \"Reasons for Recall/Lack of Assurance of Sterility\", \"Reasons for Recall/CGMP deviations\", \"Reasons for Recall/Failed Content Uniformity Specifications\", \"Reasons for Recall/CGMP Deviations\", \"Reasons for Recall/Subpotent Drug\", \"Reasons for Recall/Failed Impurities/Degradation Specifications\", \"Reasons for Recall/CGMP Deviations\", \"Reasons for Recall/Failed Dissolution Specifications\", \"Reasons for Recall/CGMP Deviations\", \"Reasons for Recall/Lack of Assurance of Sterility\", \"Reasons for Recall/Defective Delivery System\", \"Reasons for Recall/Lack of Assurance of Sterility\", \"Reasons for Recall/CGMP Deviations\", \"Reasons for Recall/Labeling\", \"Reasons for Recall/Lack of Assurance of Sterility\", \"Reasons for Recall/Marketed Without an Approved NDA/ANDA\", \"Reasons for Recall/Labeling\", \"Reasons for Recall/CGMP Deviation\", \"Reasons for Recall/Cross Contamination with Other Products\", \"Reasons for Recall/CGMP Deviations\", \"Reasons for Recall/CGMP Deviations\", \"Reasons for Recall/CGMP Deviations\", \"Reasons for Recall/Subpotent Drug\", \"Reasons for Recall/GMP Deviations\", \"Reasons for Recall/Failed Dissolution Specifications.\", \"Reasons for Recall/Lack of sterility assurance.\", \"Reasons for Recall/Lack of sterility assurance.\", \"Reasons for Recall/Failed Dissolution Specifications\", \"Reasons for Recall/Unapproved new drug\", \"Reasons for Recall/Failed Degradation/Impurities Specifications\", \"Reasons for Recall/CGMP Deviation\", \"Reasons for Recall/Lack of Processing Controls\", \"Reasons for Recall/CGMP Deviations\", \"Reasons for Recall/Lack of Assurance of Sterility\", \"Reasons for Recall/Lack of Assurance of Sterility\", \"Reasons for Recall/Presence of Particulate Matter.\", \"Reasons for Recall/Lack of sterility assurance.\", \"Reasons for Recall/CGMP Deviations\", \"Reasons for Recall/Lack of assurance of sterility for injectables and solutions intended to be sterile.\", \"Reasons for Recall/Lack of sterility assurance.\", \"Reasons for Recall/Presence of Precipitate\", \"Reasons for Recall/Presence of Particulate Matter\", \"Reasons for Recall/Labeling\", \"Reasons for Recall/CGMP Deviations\", \"Reasons for Recall/GMP Deviations\", \"Reasons for Recall/cGMP Deviations\", \"Reasons for Recall/Failed Impurities/Degradation Specifications\", \"Reasons for Recall/CGMP deviations\", \"Reasons for Recall/Crystallization\", \"Reasons for Recall/Lack of Assurance of Sterility\", \"Reasons for Recall/Lack of Assurance of Sterility\", \"Reasons for Recall/Subpotent Drug\", \"Reasons for Recall/CGMP Deviations\", \"Reasons for Recall/CGMP Deviations\", \"Reasons for Recall/Lack of Assurance of Sterility\", \"Reasons for Recall/CGMP Deviations\", \"Reasons for Recall/CGMP Deviations\", \"Reasons for Recall/Lack of Assurance of Sterility\", \"Reasons for Recall/Failed dissolution specifications\", \"Reasons for Recall/CGMP Deviations\", \"Reasons for Recall/cGMP Deviations\", \"Reasons for Recall/Failed Impurities/Degradation Specifications\", \"Reasons for Recall/Lack of Assurance of Sterility\", \"Reasons for Recall/Failed Stability Specifications.\", \"Reasons for Recall/Lack of Assurance of Sterility\", \"Reasons for Recall/Labeling\", \"Reasons for Recall/CGMP Deviations\", \"Reasons for Recall/Lack of Processing Controls\", \"Reasons for Recall/GMP Deviations\", \"Reasons for Recall/Crystallization\", \"Reasons for Recall/Lack of Assurance of Sterility\", \"Reasons for Recall/Labeling\", \"Reasons for Recall/Microbial contamination of non\", \"Reasons for Recall/CGMP Deviations\", \"Reasons for Recall/Unit Dose Mispackaging\", \"Reasons for Recall/Presence of Particulate matter\", \"Reasons for Recall/CGMP Deviations\", \"Reasons for Recall/Presence of Foreign Substance\", \"Reasons for Recall/Lack of sterility assurance.\", \"Reasons for Recall/Labeling\", \"Reasons for Recall/Lack of sterility assurance.\", \"Reasons for Recall/Failed Impurities/Degradation Specifications\", \"Reasons for Recall/Labeling Product Contains Undeclared API\", \"Reasons for Recall/Presence of Particulate Matter\", \"Reasons for Recall/CGMP Deviations\", \"Reasons for Recall/CGMP Deviation\", \"Reasons for Recall/CGMP deviations\", \"Reasons for Recall/GMP Deviations\", \"Reasons for Recall/CGMP Deviations\", \"Reasons for Recall/Defective Container\", \"Reasons for Recall/Failed Impurities/Degradation Specifications\", \"Reasons for Recall/Lack of Assurance of Sterility\", \"Reasons for Recall/GMP Deviations\", \"Reasons for Recall/CGMP Deviations\", \"Reasons for Recall/Lack Of Processing Controls\", \"Reasons for Recall/Labeling\", \"Reasons for Recall/Subpotent Drug\", \"Reasons for Recall/Firm is recalling 46 lots of various products because of a lack of sterility assurance.\", \"Reasons for Recall/Marketed without an Approved NDA/ANDA\", \"Reasons for Recall/CGMP Deviations\", \"Reasons for Recall/Lack of Processing Control\", \"Reasons for Recall/Defective Container\", \"Reasons for Recall/CGMP Deviations\", \"Reasons for Recall/Subpotent drug \", \"Reasons for Recall/Superpotent Drug\", \"Reasons for Recall/Defective Delivery System\", \"Reasons for Recall/Chemical contamination\", \"Reasons for Recall/Non\", \"Reasons for Recall/Lack of Processing Controls (lack of assurance of conformity to specifications).\", \"Reasons for Recall/Chemical Contamination\", \"Reasons for Recall/CGMP Deviations\", \"Reasons for Recall/Sub\", \"Reasons for Recall/Failed Stability Specifications\", \"Reasons for Recall/CGMP Deviations\", \"Reasons for Recall/CGMP Deviations\", \"Reasons for Recall/CGMP deviations\", \"Reasons for Recall/GMP Deviations\", \"Reasons for Recall/Labeling\", \"Reasons for Recall/CGMP Deviations\", \"Reasons for Recall/Microbial Contamination of Non\", \"Reasons for Recall/Failed pH Specifications\", \"Reasons for Recall/CGMP Deviations\", \"Reasons for Recall/Microbial Contamination of Non\", \"Reasons for Recall/Failed Dissolution Specifications\", \"Reasons for Recall/Lack of Assurance of Sterility\", \"Reasons for Recall/Subpotent drug\", \"Reasons for Recall/CGMP Deviations\", \"Reasons for Recall/Lack of Assurance of Sterility\", \"Reasons for Recall/Labeling\", \"Reasons for Recall/Labeling\", \"Reasons for Recall/Labeling\", \"Reasons for Recall/Lack of Assurance of Sterility\", \"Reasons for Recall/Defective Delivery System\", \"Reasons for Recall/Failed Impurities/Degradation Specifications\", \"Reasons for Recall\", \"Reasons for Recall\", \"Reasons for Recall\", \"Reasons for Recall\", \"Reasons for Recall\", \"Reasons for Recall\", \"Reasons for Recall\", \"Reasons for Recall\", \"Reasons for Recall\", \"Reasons for Recall\", \"Reasons for Recall\", \"Reasons for Recall\", \"Reasons for Recall\", \"Reasons for Recall\", \"Reasons for Recall\", \"Reasons for Recall\", \"Reasons for Recall\", \"Reasons for Recall\", \"Reasons for Recall\", \"Reasons for Recall\", \"Reasons for Recall\", \"Reasons for Recall\", \"Reasons for Recall\", \"Reasons for Recall\", \"Reasons for Recall\", \"Reasons for Recall\", \"Reasons for Recall\", \"Reasons for Recall\", \"Reasons for Recall\", \"Reasons for Recall\", \"Reasons for Recall\", \"Reasons for Recall\", \"Reasons for Recall\", \"Reasons for Recall\", \"Reasons for Recall\", \"Reasons for Recall\", \"Reasons for Recall\", \"Reasons for Recall\", \"Reasons for Recall\", \"Reasons for Recall\", \"Reasons for Recall\", \"Reasons for Recall\", \"Reasons for Recall\", \"Reasons for Recall\", \"Reasons for Recall\", \"Reasons for Recall\", \"Reasons for Recall\", \"Reasons for Recall\", \"Reasons for Recall\", \"Reasons for Recall\", \"Reasons for Recall\", \"Reasons for Recall\", \"Reasons for Recall\", \"Reasons for Recall\", \"Reasons for Recall\", \"Reasons for Recall\", \"Reasons for Recall\", \"Reasons for Recall\", \"Reasons for Recall\", \"Reasons for Recall\", \"Reasons for Recall\", \"Reasons for Recall\", \"Reasons for Recall\", \"Reasons for Recall\", \"Reasons for Recall\", \"Reasons for Recall\", \"Reasons for Recall\", \"Reasons for Recall\", \"Reasons for Recall\", \"Reasons for Recall\", \"Reasons for Recall\", \"Reasons for Recall\", \"Reasons for Recall\", \"Reasons for Recall\", \"Reasons for Recall\", \"Reasons for Recall\", \"Reasons for Recall\", \"Reasons for Recall\", \"Reasons for Recall\", \"Reasons for Recall\", \"Reasons for Recall\", \"Reasons for Recall\", \"Reasons for Recall\", \"Reasons for Recall\", \"Reasons for Recall\", \"Reasons for Recall\", \"Reasons for Recall\", \"Reasons for Recall\", \"Reasons for Recall\", \"Reasons for Recall\", \"Reasons for Recall\", \"Reasons for Recall\", \"Reasons for Recall\", \"Reasons for Recall\", \"Reasons for Recall\", \"Reasons for Recall\", \"Reasons for Recall\", \"Reasons for Recall\", \"Reasons for Recall\", \"Reasons for Recall\", \"Reasons for Recall\", \"Reasons for Recall\", \"Reasons for Recall\", \"Reasons for Recall\", \"Reasons for Recall\", \"Reasons for Recall\", \"Reasons for Recall\", \"Reasons for Recall\", \"Reasons for Recall\", \"Reasons for Recall\", \"Reasons for Recall\", \"Reasons for Recall\", \"Reasons for Recall\", \"Reasons for Recall\", \"Reasons for Recall\", \"\"], \"type\": \"treemap\", \"values\": [13, 13, 13, 13, 52, 13, 13, 13, 26, 13, 13, 13, 13, 13, 26, 13, 13, 26, 13, 13, 13, 65, 91, 91, 13, 13, 26, 13, 39, 13, 13, 39, 13, 104, 78, 13, 13, 13, 13, 26, 78, 13, 91, 13, 13, 26, 13, 13, 13, 52, 39, 13, 13, 26, 13, 13, 39, 13, 52, 13, 390, 13, 91, 26, 13, 13, 52, 13, 13, 52, 13, 91, 13, 39, 13, 78, 78, 104, 13, 13, 52, 13, 13, 13, 91, 52, 13, 13, 26, 52, 91, 13, 13, 13, 13, 65, 13, 26, 13, 13, 13, 13, 13, 13, 13, 13, 13, 13, 104, 13, 13, 13, 13, 13, 429, 13, 26, 26, 13, 65, 13, 13, 13, 13, 13, 13, 13, 13, 13, 13, 13, 13, 13, 13, 13, 26, 52, 13, 39, 13, 13, 65, 13, 13, 13, 65, 78, 13, 52, 26, 39, 390, 39, 78, 26, 91, 13, 13, 39, 13, 13, 26, 52, 13, 39, 13, 26, 104, 26, 13, 13, 13, 13, 117, 91, 13, 13, 13, 26, 13, 13, 13, 39, 13, 13, 26, 13, 13, 13, 65, 13, 13, 13, 13, 13, 13, 13, 52, 13, 39, 13, 26, 13, 13, 13, 13, 13, 13, 13, 13, 13, 13, 13, 13, 13, 13, 13, 13, 13, 13, 13, 13, 13, 13, 13, 13, 13, 13, 13, 13, 13, 13, 13, 13, 13, 13, 13, 13, 13, 13, 13, 13, 13, 13, 13, 13, 13, 13, 13, 13, 13, 13, 13, 13, 13, 13, 104, 39, 52, 13, 91, 13, 13, 39, 13, 26, 39, 26, 13, 13, 13, 13, 13, 13, 104, 13, 13, 13, 13, 13, 13, 13, 13, 13, 13, 13, 13, 13, 13, 13, 13, 13, 13, 13, 13, 13, 13, 13, 13, 13, 13, 13, 13, 13, 13, 13, 13, 13, 13, 13, 13, 39, 26, 13, 13, 13, 13, 13, 13, 13, 13, 13, 13, 13, 13, 13, 13, 26, 13, 13, 13, 13, 13, 13, 13, 13, 13, 13, 13, 13, 13, 12, 26, 13, 13, 13, 13, 13, 13, 52, 13, 13, 13, 13, 39, 13, 13, 13, 13, 13, 13, 13, 13, 13, 13, 13, 13, 26, 13, 13, 13, 13, 13, 13, 13, 26, 78, 65, 13, 13, 39, 13, 13, 13, 13, 13, 13, 26, 26, 78, 13, 13, 13, 13, 39, 39, 13, 13, 13, 13, 13, 13, 13, 13, 39, 26, 52, 52, 13, 13, 13, 13, 13, 26, 13, 13, 13, 13, 13, 26, 13, 13, 13, 13, 13, 13, 13, 13, 26, 13, 13, 13, 13, 26, 13, 13, 13, 13, 13, 26, 13, 13, 39, 26, 26, 13, 13, 13, 13, 13, 13, 13, 26, 13, 13, 13, 13, 52, 13, 52, 13, 13, 13, 13, 13, 13, 26, 13, 13, 13, 26, 13, 13, 13, 65, 52, 39, 65, 13, 65, 26, 13, 26, 65, 13, 13, 13, 13, 39, 26, 13, 26, 13, 13, 52, 13, 13, 13, 13, 13, 13, 13, 13, 13, 13, 13, 13, 13, 13, 13, 26, 13, 13, 13, 13, 13, 13, 91, 13, 13, 13, 13, 13, 13, 65, 299, 13, 13, 13, 13, 13, 13, 13, 13, 13, 13, 13, 13, 13, 117, 13, 91, 13, 13, 13, 13, 13, 13, 13, 13, 13, 13, 13, 13, 13, 13, 13, 13, 52, 13, 13, 13, 13, 78, 13, 26, 26, 52, 52, 13, 52, 13, 13, 26, 13, 26, 13, 13, 13, 13, 78, 13, 13, 299, 26, 13, 13, 26, 351, 338, 13, 13, 13, 26, 91, 13, 13, 13, 13, 13, 26, 13, 13, 13, 13, 65, 13, 13, 26, 13, 13, 13, 13, 13, 13, 13, 26, 13, 13, 13, 13, 13, 52, 13, 13, 13, 26, 13, 13, 13, 13, 13, 13, 13, 13, 13, 39, 13, 13, 26, 13, 13, 13, 13, 39, 13, 13, 13, 13, 13, 13, 13, 91, 13, 13, 13, 13, 13, 13, 13, 26, 26, 13, 13, 13, 13, 13, 13, 13, 13, 13, 26, 91, 13, 13, 13, 429, 13, 13, 65, 13, 13, 13, 13, 13, 13, 13, 39, 39, 26, 13, 13, 13, 13, 390, 13, 26, 13, 13, 26, 26, 13, 52, 13, 13, 52, 13, 39, 13, 13, 13, 13, 52, 13, 13, 78, 65, 39, 65, 13, 13, 91, 13, 91, 13, 26, 13, 13, 26, 13, 13, 13, 13, 13, 13, 26, 13, 26, 13, 13, 13, 13, 13, 13, 13, 13, 13, 39, 13, 13, 39, 13, 52, 104, 13, 13, 104, 13, 78, 13, 13, 13, 78, 13, 13, 13, 13, 13, 13, 13, 13, 13, 13, 26, 26, 78, 13, 13, 26, 13, 13, 13, 13, 39, 13, 91, 13, 13, 13, 13, 13, 78, 13, 13, 13, 39, 65, 26, 13, 13, 26, 65, 13, 13, 26, 13, 13, 13, 13, 13, 26, 26, 13, 39, 13, 26, 13, 26, 26, 13, 52, 13, 13, 13, 13, 104, 13, 13, 52, 39, 13, 13, 13, 13, 13, 65, 65, 13, 13, 13, 39, 26, 13, 13, 13, 13, 13, 104, 13, 13, 13, 13, 104, 13, 13, 39, 13, 13, 13, 52, 26, 13, 13, 39, 26, 13, 13, 13, 13, 390, 13, 13, 13, 65, 13, 13, 13, 13, 13, 39, 13, 91, 39, 13, 26, 13, 13, 13, 13, 13, 13, 26, 13, 13, 13, 52, 13, 13, 13, 13, 13, 39, 13, 52, 12, 13, 91, 13, 13, 39, 13, 13, 13, 39, 13, 13, 13, 26, 13, 78, 78, 13, 26, 13, 104, 13, 13, 65, 13, 39, 13, 13, 52, 13, 13, 26, 13, 39, 13, 13, 65, 13, 13, 13, 13, 39, 13, 13, 13, 52, 91, 13, 13, 13, 13, 13, 13, 13, 13, 26, 13, 52, 13, 13, 13, 13, 13, 26, 13, 78, 52, 13, 13, 13, 13, 13, 26, 13, 91, 13, 52, 13, 13, 26, 13, 13, 13, 13, 13, 13, 13, 13, 13, 13, 13, 13, 13, 52, 13, 13, 13, 26, 13, 13, 13, 39, 1079, 65, 39, 52, 13, 117, 26, 13, 39, 13, 78, 91, 13, 13, 13, 39, 13, 13, 13, 234, 13, 13, 13, 13, 286, 13, 13, 13, 13, 78, 13, 13, 104, 26, 13, 13, 26, 13, 117, 13, 26, 13, 26, 1339, 13, 13, 13, 104, 3782, 39, 65, 52, 52, 143, 91, 39, 91, 39, 78, 13, 403, 65, 156, 169, 78, 26, 13, 13, 26, 65, 13, 390, 13, 13, 169, 546, 13, 117, 13, 13, 39, 13, 13, 338, 13, 39, 13, 13, 26, 13, 13, 26, 91, 13, 13, 13, 52, 13, 364, 52, 13, 13, 52, 26, 13, 52, 13, 299, 13, 13, 104, 13, 13, 12999]}],                        {\"coloraxis\": {\"colorbar\": {\"title\": {\"text\": \"Count\"}}, \"colorscale\": [[0.0, \"rgb(247,251,255)\"], [0.125, \"rgb(222,235,247)\"], [0.25, \"rgb(198,219,239)\"], [0.375, \"rgb(158,202,225)\"], [0.5, \"rgb(107,174,214)\"], [0.625, \"rgb(66,146,198)\"], [0.75, \"rgb(33,113,181)\"], [0.875, \"rgb(8,81,156)\"], [1.0, \"rgb(8,48,107)\"]]}, \"legend\": {\"tracegroupgap\": 0}, \"margin\": {\"t\": 60}, \"template\": {\"data\": {\"bar\": [{\"error_x\": {\"color\": \"#2a3f5f\"}, \"error_y\": {\"color\": \"#2a3f5f\"}, \"marker\": {\"line\": {\"color\": \"#E5ECF6\", \"width\": 0.5}}, \"type\": \"bar\"}], \"barpolar\": [{\"marker\": {\"line\": {\"color\": \"#E5ECF6\", \"width\": 0.5}}, \"type\": \"barpolar\"}], \"carpet\": [{\"aaxis\": {\"endlinecolor\": \"#2a3f5f\", \"gridcolor\": \"white\", \"linecolor\": \"white\", \"minorgridcolor\": \"white\", \"startlinecolor\": \"#2a3f5f\"}, \"baxis\": {\"endlinecolor\": \"#2a3f5f\", \"gridcolor\": \"white\", \"linecolor\": \"white\", \"minorgridcolor\": \"white\", \"startlinecolor\": \"#2a3f5f\"}, \"type\": \"carpet\"}], \"choropleth\": [{\"colorbar\": {\"outlinewidth\": 0, \"ticks\": \"\"}, \"type\": \"choropleth\"}], \"contour\": [{\"colorbar\": {\"outlinewidth\": 0, \"ticks\": \"\"}, \"colorscale\": [[0.0, \"#0d0887\"], [0.1111111111111111, \"#46039f\"], [0.2222222222222222, \"#7201a8\"], [0.3333333333333333, \"#9c179e\"], [0.4444444444444444, \"#bd3786\"], [0.5555555555555556, \"#d8576b\"], [0.6666666666666666, \"#ed7953\"], [0.7777777777777778, \"#fb9f3a\"], [0.8888888888888888, \"#fdca26\"], [1.0, \"#f0f921\"]], \"type\": \"contour\"}], \"contourcarpet\": [{\"colorbar\": {\"outlinewidth\": 0, \"ticks\": \"\"}, \"type\": \"contourcarpet\"}], \"heatmap\": [{\"colorbar\": {\"outlinewidth\": 0, \"ticks\": \"\"}, \"colorscale\": [[0.0, \"#0d0887\"], [0.1111111111111111, \"#46039f\"], [0.2222222222222222, \"#7201a8\"], [0.3333333333333333, \"#9c179e\"], [0.4444444444444444, \"#bd3786\"], [0.5555555555555556, \"#d8576b\"], [0.6666666666666666, \"#ed7953\"], [0.7777777777777778, \"#fb9f3a\"], [0.8888888888888888, \"#fdca26\"], [1.0, \"#f0f921\"]], \"type\": \"heatmap\"}], \"heatmapgl\": [{\"colorbar\": {\"outlinewidth\": 0, \"ticks\": \"\"}, \"colorscale\": [[0.0, \"#0d0887\"], [0.1111111111111111, \"#46039f\"], [0.2222222222222222, \"#7201a8\"], [0.3333333333333333, \"#9c179e\"], [0.4444444444444444, \"#bd3786\"], [0.5555555555555556, \"#d8576b\"], [0.6666666666666666, \"#ed7953\"], [0.7777777777777778, \"#fb9f3a\"], [0.8888888888888888, \"#fdca26\"], [1.0, \"#f0f921\"]], \"type\": \"heatmapgl\"}], \"histogram\": [{\"marker\": {\"colorbar\": {\"outlinewidth\": 0, \"ticks\": \"\"}}, \"type\": \"histogram\"}], \"histogram2d\": [{\"colorbar\": {\"outlinewidth\": 0, \"ticks\": \"\"}, \"colorscale\": [[0.0, \"#0d0887\"], [0.1111111111111111, \"#46039f\"], [0.2222222222222222, \"#7201a8\"], [0.3333333333333333, \"#9c179e\"], [0.4444444444444444, \"#bd3786\"], [0.5555555555555556, \"#d8576b\"], [0.6666666666666666, \"#ed7953\"], [0.7777777777777778, \"#fb9f3a\"], [0.8888888888888888, \"#fdca26\"], [1.0, \"#f0f921\"]], \"type\": \"histogram2d\"}], \"histogram2dcontour\": [{\"colorbar\": {\"outlinewidth\": 0, \"ticks\": \"\"}, \"colorscale\": [[0.0, \"#0d0887\"], [0.1111111111111111, \"#46039f\"], [0.2222222222222222, \"#7201a8\"], [0.3333333333333333, \"#9c179e\"], [0.4444444444444444, \"#bd3786\"], [0.5555555555555556, \"#d8576b\"], [0.6666666666666666, \"#ed7953\"], [0.7777777777777778, \"#fb9f3a\"], [0.8888888888888888, \"#fdca26\"], [1.0, \"#f0f921\"]], \"type\": \"histogram2dcontour\"}], \"mesh3d\": [{\"colorbar\": {\"outlinewidth\": 0, \"ticks\": \"\"}, \"type\": \"mesh3d\"}], \"parcoords\": [{\"line\": {\"colorbar\": {\"outlinewidth\": 0, \"ticks\": \"\"}}, \"type\": \"parcoords\"}], \"pie\": [{\"automargin\": true, \"type\": \"pie\"}], \"scatter\": [{\"marker\": {\"colorbar\": {\"outlinewidth\": 0, \"ticks\": \"\"}}, \"type\": \"scatter\"}], \"scatter3d\": [{\"line\": {\"colorbar\": {\"outlinewidth\": 0, \"ticks\": \"\"}}, \"marker\": {\"colorbar\": {\"outlinewidth\": 0, \"ticks\": \"\"}}, \"type\": \"scatter3d\"}], \"scattercarpet\": [{\"marker\": {\"colorbar\": {\"outlinewidth\": 0, \"ticks\": \"\"}}, \"type\": \"scattercarpet\"}], \"scattergeo\": [{\"marker\": {\"colorbar\": {\"outlinewidth\": 0, \"ticks\": \"\"}}, \"type\": \"scattergeo\"}], \"scattergl\": [{\"marker\": {\"colorbar\": {\"outlinewidth\": 0, \"ticks\": \"\"}}, \"type\": \"scattergl\"}], \"scattermapbox\": [{\"marker\": {\"colorbar\": {\"outlinewidth\": 0, \"ticks\": \"\"}}, \"type\": \"scattermapbox\"}], \"scatterpolar\": [{\"marker\": {\"colorbar\": {\"outlinewidth\": 0, \"ticks\": \"\"}}, \"type\": \"scatterpolar\"}], \"scatterpolargl\": [{\"marker\": {\"colorbar\": {\"outlinewidth\": 0, \"ticks\": \"\"}}, \"type\": \"scatterpolargl\"}], \"scatterternary\": [{\"marker\": {\"colorbar\": {\"outlinewidth\": 0, \"ticks\": \"\"}}, \"type\": \"scatterternary\"}], \"surface\": [{\"colorbar\": {\"outlinewidth\": 0, \"ticks\": \"\"}, \"colorscale\": [[0.0, \"#0d0887\"], [0.1111111111111111, \"#46039f\"], [0.2222222222222222, \"#7201a8\"], [0.3333333333333333, \"#9c179e\"], [0.4444444444444444, \"#bd3786\"], [0.5555555555555556, \"#d8576b\"], [0.6666666666666666, \"#ed7953\"], [0.7777777777777778, \"#fb9f3a\"], [0.8888888888888888, \"#fdca26\"], [1.0, \"#f0f921\"]], \"type\": \"surface\"}], \"table\": [{\"cells\": {\"fill\": {\"color\": \"#EBF0F8\"}, \"line\": {\"color\": \"white\"}}, \"header\": {\"fill\": {\"color\": \"#C8D4E3\"}, \"line\": {\"color\": \"white\"}}, \"type\": \"table\"}]}, \"layout\": {\"annotationdefaults\": {\"arrowcolor\": \"#2a3f5f\", \"arrowhead\": 0, \"arrowwidth\": 1}, \"autotypenumbers\": \"strict\", \"coloraxis\": {\"colorbar\": {\"outlinewidth\": 0, \"ticks\": \"\"}}, \"colorscale\": {\"diverging\": [[0, \"#8e0152\"], [0.1, \"#c51b7d\"], [0.2, \"#de77ae\"], [0.3, \"#f1b6da\"], [0.4, \"#fde0ef\"], [0.5, \"#f7f7f7\"], [0.6, \"#e6f5d0\"], [0.7, \"#b8e186\"], [0.8, \"#7fbc41\"], [0.9, \"#4d9221\"], [1, \"#276419\"]], \"sequential\": [[0.0, \"#0d0887\"], [0.1111111111111111, \"#46039f\"], [0.2222222222222222, \"#7201a8\"], [0.3333333333333333, \"#9c179e\"], [0.4444444444444444, \"#bd3786\"], [0.5555555555555556, \"#d8576b\"], [0.6666666666666666, \"#ed7953\"], [0.7777777777777778, \"#fb9f3a\"], [0.8888888888888888, \"#fdca26\"], [1.0, \"#f0f921\"]], \"sequentialminus\": [[0.0, \"#0d0887\"], [0.1111111111111111, \"#46039f\"], [0.2222222222222222, \"#7201a8\"], [0.3333333333333333, \"#9c179e\"], [0.4444444444444444, \"#bd3786\"], [0.5555555555555556, \"#d8576b\"], [0.6666666666666666, \"#ed7953\"], [0.7777777777777778, \"#fb9f3a\"], [0.8888888888888888, \"#fdca26\"], [1.0, \"#f0f921\"]]}, \"colorway\": [\"#636efa\", \"#EF553B\", \"#00cc96\", \"#ab63fa\", \"#FFA15A\", \"#19d3f3\", \"#FF6692\", \"#B6E880\", \"#FF97FF\", \"#FECB52\"], \"font\": {\"color\": \"#2a3f5f\"}, \"geo\": {\"bgcolor\": \"white\", \"lakecolor\": \"white\", \"landcolor\": \"#E5ECF6\", \"showlakes\": true, \"showland\": true, \"subunitcolor\": \"white\"}, \"hoverlabel\": {\"align\": \"left\"}, \"hovermode\": \"closest\", \"mapbox\": {\"style\": \"light\"}, \"paper_bgcolor\": \"white\", \"plot_bgcolor\": \"#E5ECF6\", \"polar\": {\"angularaxis\": {\"gridcolor\": \"white\", \"linecolor\": \"white\", \"ticks\": \"\"}, \"bgcolor\": \"#E5ECF6\", \"radialaxis\": {\"gridcolor\": \"white\", \"linecolor\": \"white\", \"ticks\": \"\"}}, \"scene\": {\"xaxis\": {\"backgroundcolor\": \"#E5ECF6\", \"gridcolor\": \"white\", \"gridwidth\": 2, \"linecolor\": \"white\", \"showbackground\": true, \"ticks\": \"\", \"zerolinecolor\": \"white\"}, \"yaxis\": {\"backgroundcolor\": \"#E5ECF6\", \"gridcolor\": \"white\", \"gridwidth\": 2, \"linecolor\": \"white\", \"showbackground\": true, \"ticks\": \"\", \"zerolinecolor\": \"white\"}, \"zaxis\": {\"backgroundcolor\": \"#E5ECF6\", \"gridcolor\": \"white\", \"gridwidth\": 2, \"linecolor\": \"white\", \"showbackground\": true, \"ticks\": \"\", \"zerolinecolor\": \"white\"}}, \"shapedefaults\": {\"line\": {\"color\": \"#2a3f5f\"}}, \"ternary\": {\"aaxis\": {\"gridcolor\": \"white\", \"linecolor\": \"white\", \"ticks\": \"\"}, \"baxis\": {\"gridcolor\": \"white\", \"linecolor\": \"white\", \"ticks\": \"\"}, \"bgcolor\": \"#E5ECF6\", \"caxis\": {\"gridcolor\": \"white\", \"linecolor\": \"white\", \"ticks\": \"\"}}, \"title\": {\"x\": 0.05}, \"xaxis\": {\"automargin\": true, \"gridcolor\": \"white\", \"linecolor\": \"white\", \"ticks\": \"\", \"title\": {\"standoff\": 15}, \"zerolinecolor\": \"white\", \"zerolinewidth\": 2}, \"yaxis\": {\"automargin\": true, \"gridcolor\": \"white\", \"linecolor\": \"white\", \"ticks\": \"\", \"title\": {\"standoff\": 15}, \"zerolinecolor\": \"white\", \"zerolinewidth\": 2}}}},                        {\"responsive\": true}                    ).then(function(){\n",
       "                            \n",
       "var gd = document.getElementById('bbcea74a-3b29-4fc3-b042-6f4a93df1753');\n",
       "var x = new MutationObserver(function (mutations, observer) {{\n",
       "        var display = window.getComputedStyle(gd).display;\n",
       "        if (!display || display === 'none') {{\n",
       "            console.log([gd, 'removed!']);\n",
       "            Plotly.purge(gd);\n",
       "            observer.disconnect();\n",
       "        }}\n",
       "}});\n",
       "\n",
       "// Listen for the removal of the full notebook cells\n",
       "var notebookContainer = gd.closest('#notebook-container');\n",
       "if (notebookContainer) {{\n",
       "    x.observe(notebookContainer, {childList: true});\n",
       "}}\n",
       "\n",
       "// Listen for the clearing of the current output cell\n",
       "var outputEl = gd.closest('.output');\n",
       "if (outputEl) {{\n",
       "    x.observe(outputEl, {childList: true});\n",
       "}}\n",
       "\n",
       "                        })                };                });            </script>        </div>"
      ]
     },
     "metadata": {},
     "output_type": "display_data"
    }
   ],
   "source": [
    "fig = px.treemap(grouped_df,\n",
    "                 path=['reason','reason_main','event_id', 'reason_description'],\n",
    "                 values='Count',\n",
    "                 color='Count',\n",
    "                 maxdepth=2,\n",
    "                 color_continuous_scale = 'blues'\n",
    "                )\n",
    "fig.show()\n"
   ]
  },
  {
   "cell_type": "markdown",
   "metadata": {},
   "source": [
    "### Drugs Recalled wrt to States and Classification"
   ]
  },
  {
   "cell_type": "code",
   "execution_count": 317,
   "metadata": {
    "ExecuteTime": {
     "end_time": "2021-04-18T11:52:51.810442Z",
     "start_time": "2021-04-18T11:52:51.795665Z"
    }
   },
   "outputs": [],
   "source": [
    "new_df = drugs_recalled_df[['country', 'classification','state', 'report_date']]"
   ]
  },
  {
   "cell_type": "code",
   "execution_count": 368,
   "metadata": {
    "ExecuteTime": {
     "end_time": "2021-04-18T12:51:48.859596Z",
     "start_time": "2021-04-18T12:51:44.338810Z"
    },
    "scrolled": false
   },
   "outputs": [],
   "source": [
    "new_df['year'] = new_df['report_date'].dt.year\n",
    "new_df['report_date'] = pd.to_datetime(new_df['report_date'].dt.strftime('%Y-%m'))\n",
    "\n",
    "figure_dict = {}\n",
    "new_df = new_df[new_df['country']=='United States']\n",
    "\n",
    "\n",
    "for year in sorted(new_df['year'].unique()):\n",
    "    figure = go.FigureWidget(layout = dict(width=400, height=400, title=str(year)))\n",
    "    for classification in new_df['classification'].unique():\n",
    "        temp_df = new_df[(new_df['classification']==classification)& (new_df['year']==year)]\n",
    "        values = temp_df['report_date'].value_counts().reset_index().sort_values(by='index')\n",
    "        trace = go.Scatter(mode = 'lines', x = values['index'].astype('str'), y = values['report_date'], name=classification)\n",
    "        figure.add_trace(trace)\n",
    "    figure.update_layout(xaxis={'title':'report_date'}, yaxis={'title':'Number of Dugs Recalled'})\n",
    "    temp_df_2 = new_df[new_df['year']==year][['state', 'classification']].value_counts()\n",
    "    temp_df_2 = temp_df_2.reset_index()\n",
    "    temp_df_2.rename(columns = {0:'Drugs_Recalled'}, inplace=True)\n",
    "    fig = px.bar(temp_df_2, x = 'classification', y='Drugs_Recalled', color ='state', barmode='group', width=400, height=400)\n",
    "    figure_2 = go.FigureWidget(fig)\n",
    "    figure_dict[year] = [figure, figure_2]\n",
    "    \n"
   ]
  },
  {
   "cell_type": "code",
   "execution_count": 369,
   "metadata": {
    "ExecuteTime": {
     "end_time": "2021-04-18T12:51:50.139867Z",
     "start_time": "2021-04-18T12:51:49.926809Z"
    },
    "scrolled": true
   },
   "outputs": [
    {
     "data": {
      "application/vnd.jupyter.widget-view+json": {
       "model_id": "93a2b255b2fc40059ec1287c1292af54",
       "version_major": 2,
       "version_minor": 0
      },
      "text/plain": [
       "HBox(children=(FigureWidget({\n",
       "    'data': [{'mode': 'lines',\n",
       "              'name': 'Class II',\n",
       "              '…"
      ]
     },
     "metadata": {},
     "output_type": "display_data"
    },
    {
     "data": {
      "application/vnd.jupyter.widget-view+json": {
       "model_id": "da3bc32c2c254eb487c7702497679138",
       "version_major": 2,
       "version_minor": 0
      },
      "text/plain": [
       "HBox(children=(FigureWidget({\n",
       "    'data': [{'mode': 'lines',\n",
       "              'name': 'Class II',\n",
       "              '…"
      ]
     },
     "metadata": {},
     "output_type": "display_data"
    },
    {
     "data": {
      "application/vnd.jupyter.widget-view+json": {
       "model_id": "e6ade2df032e414690af86dca5d71b65",
       "version_major": 2,
       "version_minor": 0
      },
      "text/plain": [
       "HBox(children=(FigureWidget({\n",
       "    'data': [{'mode': 'lines',\n",
       "              'name': 'Class II',\n",
       "              '…"
      ]
     },
     "metadata": {},
     "output_type": "display_data"
    },
    {
     "data": {
      "application/vnd.jupyter.widget-view+json": {
       "model_id": "acdd5ae82d394ae492394114b088d016",
       "version_major": 2,
       "version_minor": 0
      },
      "text/plain": [
       "HBox(children=(FigureWidget({\n",
       "    'data': [{'mode': 'lines',\n",
       "              'name': 'Class II',\n",
       "              '…"
      ]
     },
     "metadata": {},
     "output_type": "display_data"
    },
    {
     "data": {
      "application/vnd.jupyter.widget-view+json": {
       "model_id": "a9a041d7ff584654864e875ecd94eb2d",
       "version_major": 2,
       "version_minor": 0
      },
      "text/plain": [
       "HBox(children=(FigureWidget({\n",
       "    'data': [{'mode': 'lines',\n",
       "              'name': 'Class II',\n",
       "              '…"
      ]
     },
     "metadata": {},
     "output_type": "display_data"
    },
    {
     "data": {
      "application/vnd.jupyter.widget-view+json": {
       "model_id": "c4a94b2bbe374aa68e0a7cdd04239c8a",
       "version_major": 2,
       "version_minor": 0
      },
      "text/plain": [
       "HBox(children=(FigureWidget({\n",
       "    'data': [{'mode': 'lines',\n",
       "              'name': 'Class II',\n",
       "              '…"
      ]
     },
     "metadata": {},
     "output_type": "display_data"
    },
    {
     "data": {
      "application/vnd.jupyter.widget-view+json": {
       "model_id": "69fbbfb4904641ff9d2c2b33fd7a6c1c",
       "version_major": 2,
       "version_minor": 0
      },
      "text/plain": [
       "HBox(children=(FigureWidget({\n",
       "    'data': [{'mode': 'lines',\n",
       "              'name': 'Class II',\n",
       "              '…"
      ]
     },
     "metadata": {},
     "output_type": "display_data"
    },
    {
     "data": {
      "application/vnd.jupyter.widget-view+json": {
       "model_id": "8b2caaa33f5e4023b56dd85328abd347",
       "version_major": 2,
       "version_minor": 0
      },
      "text/plain": [
       "HBox(children=(FigureWidget({\n",
       "    'data': [{'mode': 'lines',\n",
       "              'name': 'Class II',\n",
       "              '…"
      ]
     },
     "metadata": {},
     "output_type": "display_data"
    },
    {
     "data": {
      "application/vnd.jupyter.widget-view+json": {
       "model_id": "53a90d2a10d04958975cb6cb822422b9",
       "version_major": 2,
       "version_minor": 0
      },
      "text/plain": [
       "HBox(children=(FigureWidget({\n",
       "    'data': [{'mode': 'lines',\n",
       "              'name': 'Class II',\n",
       "              '…"
      ]
     },
     "metadata": {},
     "output_type": "display_data"
    },
    {
     "data": {
      "application/vnd.jupyter.widget-view+json": {
       "model_id": "a08a3d7355fd4db8b5cdbaa62fe3921a",
       "version_major": 2,
       "version_minor": 0
      },
      "text/plain": [
       "HBox(children=(FigureWidget({\n",
       "    'data': [{'mode': 'lines',\n",
       "              'name': 'Class II',\n",
       "              '…"
      ]
     },
     "metadata": {},
     "output_type": "display_data"
    }
   ],
   "source": [
    "for year, figure_list in figure_dict.items():\n",
    "    display(widgets.HBox(figure_list))"
   ]
  },
  {
   "cell_type": "code",
   "execution_count": 371,
   "metadata": {
    "ExecuteTime": {
     "end_time": "2021-04-18T13:56:14.839493Z",
     "start_time": "2021-04-18T13:56:14.820489Z"
    },
    "scrolled": true
   },
   "outputs": [
    {
     "data": {
      "text/plain": [
       "Index(['country', 'city', 'address_1', 'reason_for_recall', 'address_2',\n",
       "       'product_quantity', 'code_info', 'center_classification_date',\n",
       "       'distribution_pattern', 'state', 'product_description', 'report_date',\n",
       "       'classification', 'recalling_firm', 'recall_number',\n",
       "       'initial_firm_notification', 'event_id', 'termination_date',\n",
       "       'recall_initiation_date', 'postal_code', 'voluntary_mandated', 'status',\n",
       "       'application_number', 'brand_name', 'generic_name', 'manufacturer_name',\n",
       "       'product_ndc', 'route', 'substance_name', 'rxcui', 'spl_id',\n",
       "       'spl_set_id', 'package_ndc', 'is_original_packager', 'unii',\n",
       "       'reason_main', 'reason_description'],\n",
       "      dtype='object')"
      ]
     },
     "execution_count": 371,
     "metadata": {},
     "output_type": "execute_result"
    }
   ],
   "source": [
    "drugs_recalled_df.columns"
   ]
  },
  {
   "cell_type": "code",
   "execution_count": 373,
   "metadata": {
    "ExecuteTime": {
     "end_time": "2021-04-18T13:59:16.145772Z",
     "start_time": "2021-04-18T13:59:16.097773Z"
    }
   },
   "outputs": [],
   "source": [
    "drugs_recalled_df[~drugs_recalled_df['brand_name'].isnull()][['brand_name','report_date', 'event_id', 'status']].to_csv('recalled_drugs.csv', index=False)"
   ]
  }
 ],
 "metadata": {
  "kernelspec": {
   "display_name": "Python 3",
   "language": "python",
   "name": "python3"
  },
  "language_info": {
   "codemirror_mode": {
    "name": "ipython",
    "version": 3
   },
   "file_extension": ".py",
   "mimetype": "text/x-python",
   "name": "python",
   "nbconvert_exporter": "python",
   "pygments_lexer": "ipython3",
   "version": "3.8.5"
  },
  "toc": {
   "base_numbering": 1,
   "nav_menu": {},
   "number_sections": true,
   "sideBar": true,
   "skip_h1_title": false,
   "title_cell": "Table of Contents",
   "title_sidebar": "Contents",
   "toc_cell": false,
   "toc_position": {
    "height": "735.667px",
    "left": "22px",
    "top": "110.233px",
    "width": "240px"
   },
   "toc_section_display": true,
   "toc_window_display": true
  }
 },
 "nbformat": 4,
 "nbformat_minor": 4
}
