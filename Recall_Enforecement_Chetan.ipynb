{
 "cells": [
  {
   "cell_type": "markdown",
   "metadata": {},
   "source": [
    "### Imports"
   ]
  },
  {
   "cell_type": "code",
   "execution_count": 2,
   "metadata": {
    "ExecuteTime": {
     "end_time": "2021-04-26T18:06:52.226339Z",
     "start_time": "2021-04-26T18:06:51.760784Z"
    }
   },
   "outputs": [],
   "source": [
    "# from pymongo import MongoClient\n",
    "# from pymongo.errors import ConnectionFailure, CollectionInvalid\n",
    "import pandas as pd\n",
    "from pandas import json_normalize\n",
    "import numpy as np\n",
    "import requests\n",
    "# from sqlalchemy import create_engine\n",
    "import ipywidgets as widgets\n",
    "import plotly.graph_objects as go\n",
    "from IPython.core.display import display\n",
    "from re import search\n",
    "from plotly.subplots import make_subplots\n",
    "import plotly.express as px\n",
    "from functools import partial\n",
    "from geopy.geocoders import Nominatim\n",
    "import logging\n",
    "# from sqlalchemy.engine.url import URL\n",
    "# from sqlalchemy_utils import database_exists, create_database\n",
    "from utils.mongo_conn import MongoConnect\n",
    "from utils.postgre_conn import PostgresConnect"
   ]
  },
  {
   "cell_type": "code",
   "execution_count": 3,
   "metadata": {
    "ExecuteTime": {
     "end_time": "2021-04-26T18:07:14.648109Z",
     "start_time": "2021-04-26T18:07:14.644199Z"
    }
   },
   "outputs": [],
   "source": [
    "logging.basicConfig(filename='./logs/drugs_errors.log', level=logging.INFO)"
   ]
  },
  {
   "cell_type": "markdown",
   "metadata": {},
   "source": [
    "### Creating a MongoDB colleciton"
   ]
  },
  {
   "cell_type": "code",
   "execution_count": 5,
   "metadata": {
    "ExecuteTime": {
     "end_time": "2021-04-26T18:08:45.177389Z",
     "start_time": "2021-04-26T18:08:45.164686Z"
    }
   },
   "outputs": [],
   "source": [
    "mongo_conn = MongoConnect('team_G_db_mongo', 'drugs_recalled')\n",
    "collection = mongo_conn.connect()"
   ]
  },
  {
   "cell_type": "markdown",
   "metadata": {},
   "source": [
    "### Requesting Data through API"
   ]
  },
  {
   "cell_type": "code",
   "execution_count": 6,
   "metadata": {
    "ExecuteTime": {
     "end_time": "2021-04-26T18:09:25.377053Z",
     "start_time": "2021-04-26T18:09:03.653077Z"
    }
   },
   "outputs": [],
   "source": [
    "try:\n",
    "    success=True\n",
    "    for skip_records in range(0,13000, 1000):\n",
    "        url = 'https://api.fda.gov/drug/enforcement.json?api_key=jzBDRKRffIUITo0uKg9EEWqasttW2cDni2b7ncUB&limit=1000&skip={0}'.format(skip_records)\n",
    "        response = requests.get(url)\n",
    "        if response.status_code == 200:\n",
    "            json_to_dump = response.json()['results']\n",
    "            collection.insert_many(json_to_dump)\n",
    "        else:\n",
    "            success=False\n",
    "            break\n",
    "    if success:\n",
    "        print('Data Dump to MongoDB Successful.')\n",
    "    else:\n",
    "        print('Bad Request: ', response.status_code)\n",
    "except ConnectionError:\n",
    "    print('Unable to connect to source!. Try again after some time.')\n",
    "except CollectionInvalid:\n",
    "    print('Unable to connect to Mongo! Check logs for info!')\n",
    "    logging.error(\"Exception occurred at mongo_connection\", exc_info=True)\n",
    "except:\n",
    "    print('Oh No, something went wrong! Check logs for info!')\n",
    "    logging.error(\"Exception occurred at mongo_connection\", exc_info=True)"
   ]
  },
  {
   "cell_type": "code",
   "execution_count": 11,
   "metadata": {
    "ExecuteTime": {
     "end_time": "2021-04-26T18:20:13.428143Z",
     "start_time": "2021-04-26T18:20:12.551670Z"
    }
   },
   "outputs": [],
   "source": [
    "drugs_recalled_df = json_normalize(collection.find())"
   ]
  },
  {
   "cell_type": "markdown",
   "metadata": {},
   "source": [
    "### Data Cleaning"
   ]
  },
  {
   "cell_type": "markdown",
   "metadata": {},
   "source": [
    "#### Drop columns if null percentage greater than given percentage"
   ]
  },
  {
   "cell_type": "code",
   "execution_count": 16,
   "metadata": {
    "ExecuteTime": {
     "end_time": "2021-04-26T18:21:42.088260Z",
     "start_time": "2021-04-26T18:21:42.040381Z"
    }
   },
   "outputs": [
    {
     "data": {
      "text/plain": [
       "_id                                 0\n",
       "country                             1\n",
       "city                                1\n",
       "address_1                           1\n",
       "reason_for_recall                   0\n",
       "address_2                       11205\n",
       "product_quantity                 1484\n",
       "code_info                           0\n",
       "center_classification_date          3\n",
       "distribution_pattern                0\n",
       "state                             764\n",
       "product_description                 0\n",
       "report_date                         0\n",
       "classification                      0\n",
       "recalling_firm                      0\n",
       "recall_number                       3\n",
       "initial_firm_notification          94\n",
       "product_type                        0\n",
       "event_id                            0\n",
       "termination_date                 3441\n",
       "recall_initiation_date              0\n",
       "postal_code                       765\n",
       "voluntary_mandated                 12\n",
       "status                              0\n",
       "openfda.application_number      10386\n",
       "openfda.brand_name              10311\n",
       "openfda.generic_name            10311\n",
       "openfda.manufacturer_name       10311\n",
       "openfda.product_ndc             10311\n",
       "openfda.product_type            10311\n",
       "openfda.route                   10355\n",
       "openfda.substance_name          10368\n",
       "openfda.rxcui                   10432\n",
       "openfda.spl_id                  10311\n",
       "openfda.spl_set_id              10311\n",
       "openfda.package_ndc             10311\n",
       "openfda.is_original_packager    10435\n",
       "openfda.unii                    10365\n",
       "dtype: int64"
      ]
     },
     "execution_count": 16,
     "metadata": {},
     "output_type": "execute_result"
    }
   ],
   "source": [
    "drugs_recalled_df.isnull().sum()"
   ]
  },
  {
   "cell_type": "code",
   "execution_count": 15,
   "metadata": {
    "ExecuteTime": {
     "end_time": "2021-04-26T18:21:29.965196Z",
     "start_time": "2021-04-26T18:21:29.928065Z"
    }
   },
   "outputs": [],
   "source": [
    "drugs_recalled_df = drugs_recalled_df.replace(\"\", np.nan)"
   ]
  },
  {
   "cell_type": "code",
   "execution_count": 12,
   "metadata": {
    "ExecuteTime": {
     "end_time": "2021-04-26T18:20:36.323317Z",
     "start_time": "2021-04-26T18:20:36.152768Z"
    }
   },
   "outputs": [
    {
     "name": "stdout",
     "output_type": "stream",
     "text": [
      "Columns Dropped Successfully\n"
     ]
    }
   ],
   "source": [
    "def drop_cols(df, null_percentage):\n",
    "    '''The function drops the columns which have null percentage greater than given null percentage by the user,\n",
    "    INPUTS:\n",
    "        df = The dataframe from which columns need to be dropped\n",
    "        null_percentage = A numerical figure provided by user which acts as a threshold for null_percenatge \n",
    "    OUTPUT\n",
    "        The function returns True if all columns are dropped successfully else it returns False\n",
    "    '''\n",
    "    try:\n",
    "        total_rows = len(df)\n",
    "        for column in df.columns:\n",
    "            if (df[column].isnull().sum() / total_rows)*100> null_percentage and column!='brand_name':\n",
    "                df.drop(columns=column, inplace=True)\n",
    "        return True\n",
    "    except Exception as e:\n",
    "        logging.error(\"Exception occurred at drop_cols\", exc_info=True)\n",
    "        return False\n",
    "if drop_cols(drugs_recalled_df, 85):\n",
    "    print('Columns Dropped Successfully')\n",
    "else:\n",
    "    print('Unable to drop columns check logs for more info')"
   ]
  },
  {
   "cell_type": "code",
   "execution_count": 17,
   "metadata": {
    "ExecuteTime": {
     "end_time": "2021-04-26T18:24:26.499921Z",
     "start_time": "2021-04-26T18:24:26.496989Z"
    }
   },
   "outputs": [
    {
     "data": {
      "text/plain": [
       "(12503, 38)"
      ]
     },
     "execution_count": 17,
     "metadata": {},
     "output_type": "execute_result"
    }
   ],
   "source": [
    "drugs_recalled_df.shape"
   ]
  },
  {
   "cell_type": "markdown",
   "metadata": {},
   "source": [
    "#### Retrieveing values from lists inside columns"
   ]
  },
  {
   "cell_type": "code",
   "execution_count": 19,
   "metadata": {
    "ExecuteTime": {
     "end_time": "2021-04-26T18:25:32.299785Z",
     "start_time": "2021-04-26T18:25:31.776361Z"
    },
    "scrolled": true
   },
   "outputs": [],
   "source": [
    " \n",
    "col_list = [col for col in drugs_recalled_df.columns if 'openfda' in col]\n",
    "\n",
    "for column in col_list:\n",
    "    col = column.split('.')[1]\n",
    "    drugs_recalled_df[col] = drugs_recalled_df[column].astype('str').apply(lambda x: x.replace(\"'\", \"\").replace('[','').replace(']','') if x!='nan' else None)\n",
    "    drugs_recalled_df.drop(columns = column, inplace=True)\n",
    "\n"
   ]
  },
  {
   "cell_type": "code",
   "execution_count": null,
   "metadata": {
    "ExecuteTime": {
     "end_time": "2021-04-26T18:33:47.270284Z",
     "start_time": "2021-04-26T18:33:47.251718Z"
    }
   },
   "outputs": [],
   "source": [
    "drugs_recalled_df.drop(columns = [ '_id', 'product_type'], inplace=True)#Dropping redundant columns"
   ]
  },
  {
   "cell_type": "code",
   "execution_count": 18,
   "metadata": {
    "ExecuteTime": {
     "end_time": "2021-04-26T18:24:38.320064Z",
     "start_time": "2021-04-26T18:24:38.276093Z"
    },
    "scrolled": true
   },
   "outputs": [
    {
     "data": {
      "text/html": [
       "<div>\n",
       "<style scoped>\n",
       "    .dataframe tbody tr th:only-of-type {\n",
       "        vertical-align: middle;\n",
       "    }\n",
       "\n",
       "    .dataframe tbody tr th {\n",
       "        vertical-align: top;\n",
       "    }\n",
       "\n",
       "    .dataframe thead th {\n",
       "        text-align: right;\n",
       "    }\n",
       "</style>\n",
       "<table border=\"1\" class=\"dataframe\">\n",
       "  <thead>\n",
       "    <tr style=\"text-align: right;\">\n",
       "      <th></th>\n",
       "      <th>_id</th>\n",
       "      <th>country</th>\n",
       "      <th>city</th>\n",
       "      <th>address_1</th>\n",
       "      <th>reason_for_recall</th>\n",
       "      <th>address_2</th>\n",
       "      <th>product_quantity</th>\n",
       "      <th>code_info</th>\n",
       "      <th>center_classification_date</th>\n",
       "      <th>distribution_pattern</th>\n",
       "      <th>...</th>\n",
       "      <th>openfda.product_ndc</th>\n",
       "      <th>openfda.product_type</th>\n",
       "      <th>openfda.route</th>\n",
       "      <th>openfda.substance_name</th>\n",
       "      <th>openfda.rxcui</th>\n",
       "      <th>openfda.spl_id</th>\n",
       "      <th>openfda.spl_set_id</th>\n",
       "      <th>openfda.package_ndc</th>\n",
       "      <th>openfda.is_original_packager</th>\n",
       "      <th>openfda.unii</th>\n",
       "    </tr>\n",
       "  </thead>\n",
       "  <tbody>\n",
       "    <tr>\n",
       "      <th>9939</th>\n",
       "      <td>608701cdef9db1b3b93b2a90</td>\n",
       "      <td>NaN</td>\n",
       "      <td>NaN</td>\n",
       "      <td>NaN</td>\n",
       "      <td>Presence of Foriegn Tablets/Capsules: A single...</td>\n",
       "      <td>NaN</td>\n",
       "      <td>23,064 bottles</td>\n",
       "      <td>H48496, H48497; Exp 05/15</td>\n",
       "      <td>20140422</td>\n",
       "      <td>US Nationwide including Puerto Rico and US Vir...</td>\n",
       "      <td>...</td>\n",
       "      <td>NaN</td>\n",
       "      <td>NaN</td>\n",
       "      <td>NaN</td>\n",
       "      <td>NaN</td>\n",
       "      <td>NaN</td>\n",
       "      <td>NaN</td>\n",
       "      <td>NaN</td>\n",
       "      <td>NaN</td>\n",
       "      <td>NaN</td>\n",
       "      <td>NaN</td>\n",
       "    </tr>\n",
       "  </tbody>\n",
       "</table>\n",
       "<p>1 rows × 38 columns</p>\n",
       "</div>"
      ],
      "text/plain": [
       "                           _id country city address_1  \\\n",
       "9939  608701cdef9db1b3b93b2a90     NaN  NaN       NaN   \n",
       "\n",
       "                                      reason_for_recall address_2  \\\n",
       "9939  Presence of Foriegn Tablets/Capsules: A single...       NaN   \n",
       "\n",
       "     product_quantity                  code_info center_classification_date  \\\n",
       "9939   23,064 bottles  H48496, H48497; Exp 05/15                   20140422   \n",
       "\n",
       "                                   distribution_pattern  ...  \\\n",
       "9939  US Nationwide including Puerto Rico and US Vir...  ...   \n",
       "\n",
       "     openfda.product_ndc openfda.product_type openfda.route  \\\n",
       "9939                 NaN                  NaN           NaN   \n",
       "\n",
       "     openfda.substance_name openfda.rxcui openfda.spl_id openfda.spl_set_id  \\\n",
       "9939                    NaN           NaN            NaN                NaN   \n",
       "\n",
       "     openfda.package_ndc openfda.is_original_packager openfda.unii  \n",
       "9939                 NaN                          NaN          NaN  \n",
       "\n",
       "[1 rows x 38 columns]"
      ]
     },
     "execution_count": 18,
     "metadata": {},
     "output_type": "execute_result"
    }
   ],
   "source": [
    "drugs_recalled_df[drugs_recalled_df['country'].isnull()]"
   ]
  },
  {
   "cell_type": "code",
   "execution_count": 25,
   "metadata": {
    "ExecuteTime": {
     "end_time": "2021-04-26T18:33:31.170577Z",
     "start_time": "2021-04-26T18:33:31.134424Z"
    }
   },
   "outputs": [],
   "source": [
    "drugs_recalled_df['country'].fillna(list(drugs_recalled_df[drugs_recalled_df['recalling_firm']=='Pfizer Inc.']['country'])[0], inplace=True)\n",
    "drugs_recalled_df['city'].fillna(list(drugs_recalled_df[drugs_recalled_df['recalling_firm']=='Pfizer Inc.']['city'])[0], inplace=True)\n",
    "drugs_recalled_df['address_1'].fillna(list(drugs_recalled_df[drugs_recalled_df['recalling_firm']=='Pfizer Inc.']['address_1'])[0], inplace=True)"
   ]
  },
  {
   "cell_type": "markdown",
   "metadata": {},
   "source": [
    "#### Converting Date columns"
   ]
  },
  {
   "cell_type": "code",
   "execution_count": 21,
   "metadata": {
    "ExecuteTime": {
     "end_time": "2021-04-26T18:26:27.919321Z",
     "start_time": "2021-04-26T18:26:27.916390Z"
    }
   },
   "outputs": [],
   "source": [
    "date_cols = [col for col in drugs_recalled_df.columns if 'date' in col][:-1]"
   ]
  },
  {
   "cell_type": "code",
   "execution_count": 22,
   "metadata": {
    "ExecuteTime": {
     "end_time": "2021-04-26T18:26:28.943691Z",
     "start_time": "2021-04-26T18:26:28.880177Z"
    }
   },
   "outputs": [],
   "source": [
    "for column in date_cols:\n",
    "    drugs_recalled_df[column] = pd.to_datetime(drugs_recalled_df[column], format = '%Y%m%d')"
   ]
  },
  {
   "cell_type": "markdown",
   "metadata": {},
   "source": [
    "#### Getting Labels out of the reason_for_recall column"
   ]
  },
  {
   "cell_type": "code",
   "execution_count": 23,
   "metadata": {
    "ExecuteTime": {
     "end_time": "2021-04-26T18:26:43.214269Z",
     "start_time": "2021-04-26T18:26:43.176161Z"
    }
   },
   "outputs": [],
   "source": [
    "drugs_recalled_df['reason_main'] = pd.Series(drugs_recalled_df['reason_for_recall'].str.split('[:;.]').str.get(0)).str.upper()"
   ]
  },
  {
   "cell_type": "code",
   "execution_count": 24,
   "metadata": {
    "ExecuteTime": {
     "end_time": "2021-04-26T18:26:44.132571Z",
     "start_time": "2021-04-26T18:26:44.100325Z"
    }
   },
   "outputs": [],
   "source": [
    "drugs_recalled_df['reason_description'] = drugs_recalled_df['reason_for_recall'].str.split('[:;.]').apply(lambda x: \"\".join(x[1:]))"
   ]
  },
  {
   "cell_type": "markdown",
   "metadata": {},
   "source": [
    "#### Filling Blank State Records with Actual States"
   ]
  },
  {
   "cell_type": "code",
   "execution_count": 28,
   "metadata": {
    "ExecuteTime": {
     "end_time": "2021-04-26T18:35:07.773503Z",
     "start_time": "2021-04-26T18:34:32.695788Z"
    }
   },
   "outputs": [],
   "source": [
    "geolocator = Nominatim(user_agent=\"Google\")\n",
    "def get_state(x):\n",
    "    geocode = partial(geolocator.geocode, language=\"es\")\n",
    "    loc = geocode(x)\n",
    "    if loc is None:\n",
    "        return loc\n",
    "    else:\n",
    "        state = loc[0].split(',')[-2].strip()\n",
    "        if state.isnumeric():\n",
    "            state = loc[0].split(',')[-3].strip()\n",
    "        return state\n",
    "city_list = drugs_recalled_df[drugs_recalled_df['state'].isnull()]['city'].unique()\n",
    "state_dict={}\n",
    "for city in city_list:\n",
    "    state_dict[city] = get_state(city)\n",
    "for city, state in state_dict.items():\n",
    "    drugs_recalled_df.loc[(drugs_recalled_df['city']==city) & (drugs_recalled_df['state'].isnull()), 'state']= state"
   ]
  },
  {
   "cell_type": "code",
   "execution_count": null,
   "metadata": {
    "ExecuteTime": {
     "end_time": "2021-04-24T21:40:10.225243Z",
     "start_time": "2021-04-24T21:40:10.218403Z"
    }
   },
   "outputs": [],
   "source": [
    "drugs_recalled_df['state'].isnull().sum()"
   ]
  },
  {
   "cell_type": "code",
   "execution_count": null,
   "metadata": {
    "ExecuteTime": {
     "end_time": "2021-04-24T21:34:14.013642Z",
     "start_time": "2021-04-24T21:34:13.996064Z"
    }
   },
   "outputs": [],
   "source": [
    "drugs_recalled_df.drop(columns = ['reason_for_recall'], inplace=True)"
   ]
  },
  {
   "cell_type": "markdown",
   "metadata": {},
   "source": [
    "#### Creating TimeDelta Column"
   ]
  },
  {
   "cell_type": "code",
   "execution_count": null,
   "metadata": {
    "ExecuteTime": {
     "end_time": "2021-04-26T15:54:09.190982Z",
     "start_time": "2021-04-26T15:54:09.161671Z"
    },
    "scrolled": true
   },
   "outputs": [],
   "source": [
    "drugs_recalled_df['time_diff'] = drugs_recalled_df['termination_date']-drugs_recalled_df['recall_initiation_date']"
   ]
  },
  {
   "cell_type": "code",
   "execution_count": null,
   "metadata": {
    "ExecuteTime": {
     "end_time": "2021-04-26T16:11:10.234633Z",
     "start_time": "2021-04-26T16:11:10.219002Z"
    }
   },
   "outputs": [],
   "source": [
    "drugs_recalled_df['voluntary_mandated'] = drugs_recalled_df['voluntary_mandated'].str.upper()"
   ]
  },
  {
   "cell_type": "markdown",
   "metadata": {},
   "source": [
    "### Connection to Postgres"
   ]
  },
  {
   "cell_type": "code",
   "execution_count": null,
   "metadata": {
    "ExecuteTime": {
     "end_time": "2021-04-24T15:12:15.673793Z",
     "start_time": "2021-04-24T15:12:15.666972Z"
    }
   },
   "outputs": [],
   "source": [
    "def createDB_table(connection_dict, table_name):\n",
    "    '''The fucntion creates databse and table and inserts data in table.\n",
    "    INPUTS:\n",
    "    connection_dict: Containing following key values\n",
    "        user: Name of the user\n",
    "        password: User's password to connect user to the service\n",
    "        host: IP address of the host\n",
    "        port: port number of postgres service\n",
    "        db_name: Name of the database to be created, if it does not exits.\n",
    "    '''\n",
    "    try:\n",
    "        engine = create_engine(URL(**dbConnectionParamDict))\n",
    "        if not database_exists(engine.url):\n",
    "            print('Database does not exists! Creating Database.')\n",
    "            create_database(engine.url)\n",
    "            print('Database created successfully!')\n",
    "        else:\n",
    "            # Connect the database if exists.\n",
    "            print('Database Exists! Connecting...')\n",
    "            engine.connect()\n",
    "            print('Connection Successfull!')\n",
    "        print('Creating Table...')\n",
    "        drugs_recalled_df.to_sql(table_name, con=engine, index=False, if_exists='replace')#Insert Data in table\n",
    "        print('Table Created Successfully')\n",
    "    except OperationError:\n",
    "        print('Operation Error! check logs for info!')\n",
    "        logging.error(\"Exception occurred at createDB_table\", exc_info=True)\n",
    "    except Exception as e:\n",
    "        print('Something went wrong! check logs for more info!')\n",
    "        logging.error(\"Exception occurred at createDB_table\", exc_info=True)\n",
    "    finally:\n",
    "        if engine:\n",
    "            engine.dispose()\n",
    "    "
   ]
  },
  {
   "cell_type": "code",
   "execution_count": null,
   "metadata": {
    "ExecuteTime": {
     "end_time": "2021-04-24T21:40:24.733329Z",
     "start_time": "2021-04-24T21:40:17.016333Z"
    },
    "scrolled": true
   },
   "outputs": [],
   "source": [
    "db_connection_dict = {    'drivername' : 'postgres',\n",
    "    'host'      : '192.168.56.30',\n",
    "    'port'      : '5432',\n",
    "    'database'  : 'team_G_db',\n",
    "    'username'  : 'dap',\n",
    "    'password'  : 'dap'\n",
    "}\n",
    "createDB_table(db_connection_dict, 'drugs_recalled')"
   ]
  },
  {
   "cell_type": "markdown",
   "metadata": {},
   "source": [
    "### Get Data From PostGreSQL"
   ]
  },
  {
   "cell_type": "code",
   "execution_count": null,
   "metadata": {
    "ExecuteTime": {
     "end_time": "2021-04-24T21:55:48.035384Z",
     "start_time": "2021-04-24T21:55:48.030499Z"
    }
   },
   "outputs": [],
   "source": [
    "def get_data(connection_dict, query):\n",
    "    '''The fucntion creates databse and table and inserts data in table.\n",
    "    INPUTS:\n",
    "    connection_dict: Containing following key values\n",
    "        user: Name of the user\n",
    "        password: User's password to connect user to the service\n",
    "        host: IP address of the host\n",
    "        port: port number of postgres service\n",
    "        db_name: Name of the database to be created, if it does not exits.\n",
    "    '''\n",
    "    try:\n",
    "        engine = create_engine(URL(**dbConnectionParamDict))\n",
    "        if not database_exists(engine.url):\n",
    "            print('Database does not exists!, check connection string!')\n",
    "            return None\n",
    "        else:\n",
    "            # Connect the database if exists.\n",
    "            print('Database Exists! Connecting...')\n",
    "            engine.connect()\n",
    "            print('Connection Successfull!')\n",
    "        print('Creating Table...')\n",
    "        df = pd.read_sql_query(query, engine)\n",
    "        if engine:\n",
    "            engine.dispose()\n",
    "        print('Query executed Successfully')\n",
    "        return df\n",
    "    except UndefinedColumn:\n",
    "        print('Column mentioned in query does not exists! check logs for info!')\n",
    "        logging.error(\"Exception occurred at createDB_table\", exc_info=True)\n",
    "    except Exception as e:\n",
    "        print('Something went wrong! check logs for more info!')\n",
    "        logging.error(\"Exception occurred at createDB_table\", exc_info=True)\n",
    "\n",
    "        \n",
    "    "
   ]
  },
  {
   "cell_type": "markdown",
   "metadata": {},
   "source": [
    "### Drugs Recalled wrt to States and Classification"
   ]
  },
  {
   "cell_type": "code",
   "execution_count": null,
   "metadata": {},
   "outputs": [],
   "source": [
    "query = 'SELECT country, classification, state, recall_initiation_date FROM drugs_recalled;'\n",
    "bar_line_df = get_data(db_connection_dict, query)"
   ]
  },
  {
   "cell_type": "code",
   "execution_count": null,
   "metadata": {
    "ExecuteTime": {
     "end_time": "2021-04-24T16:13:01.818439Z",
     "start_time": "2021-04-24T16:13:01.741206Z"
    },
    "scrolled": false
   },
   "outputs": [],
   "source": [
    "if bar_line_df is not None:\n",
    "    figure = go.FigureWidget(layout = dict(title='Overall Recall Trend across the years'))\n",
    "    for classification in bar_line_df['classification'].unique():\n",
    "        temp_df = bar_line_df[(bar_line_df['classification']==classification)]\n",
    "        values = temp_df['report_date'].value_counts().reset_index().sort_values(by='index')\n",
    "        trace = go.Scatter(mode = 'lines', x = values['index'].astype('str'), y = values['report_date'], name=classification)\n",
    "        figure.add_trace(trace)\n",
    "    figure.update_layout(xaxis={'title':'report_date'}, yaxis={'title':'Number of Dugs Recalled'})\n",
    "    figure.show()\n",
    "                                       "
   ]
  },
  {
   "cell_type": "markdown",
   "metadata": {},
   "source": [
    "Insights:\n",
    "Annually an average of 1171.5 of recalls are enforced by FDA out if which 925.5 of them belong to Class II hazardous classification that is the drugs may have adversible health consequences.\n",
    "\n",
    "In March,2019 533 recalls were enforced by FDA out of which 471, nearly 89%(can be seen as a spike in red), were classified as Class I drugs i.e. the drug recalled had a high probability of causing adverse health consequences or even cause death."
   ]
  },
  {
   "cell_type": "code",
   "execution_count": null,
   "metadata": {
    "ExecuteTime": {
     "end_time": "2021-04-24T15:35:48.330956Z",
     "start_time": "2021-04-24T15:35:45.779624Z"
    },
    "scrolled": false
   },
   "outputs": [],
   "source": [
    "if bar_line_df is not None:\n",
    "    bar_line_df['year'] = bar_line_df['report_date'].dt.year\n",
    "    bar_line_df['report_date'] = pd.to_datetime(bar_line_df['report_date'].dt.strftime('%Y-%m'))\n",
    "    bar_line_df = bar_line_df[bar_line_df['country']=='United States']\n",
    "    figure_dict = {}\n",
    "\n",
    "\n",
    "\n",
    "    for year in sorted(bar_line_df['year'].unique()):\n",
    "        figure = go.FigureWidget(layout = dict(width=400, height=400, title=str(year)))\n",
    "        for classification in bar_line_df['classification'].unique():\n",
    "            temp_df = bar_line_df[(bar_line_df['classification']==classification)& (bar_line_df['year']==year)]\n",
    "            values = temp_df['report_date'].value_counts().reset_index().sort_values(by='index')\n",
    "            trace = go.Scatter(mode = 'lines', x = values['index'].astype('str'), y = values['report_date'], name=classification)\n",
    "            figure.add_trace(trace)\n",
    "        figure.update_layout(xaxis={'title':'report_date'}, yaxis={'title':'Number of Dugs Recalled'})\n",
    "        temp_df_2 = bar_line_df[bar_line_df['year']==year][['state', 'classification']].value_counts()\n",
    "        temp_df_2 = temp_df_2.reset_index()\n",
    "        temp_df_2.rename(columns = {0:'Drugs_Recalled'}, inplace=True)\n",
    "        fig = px.bar(temp_df_2, x = 'classification', y='Drugs_Recalled',\n",
    "                     color ='state', barmode='group',\n",
    "                     width=400, height=400\n",
    "                    )\n",
    "        figure_2 = go.FigureWidget(fig)\n",
    "        figure_dict[year] = [figure, figure_2]\n",
    "\n",
    "    for year, figure_list in figure_dict.items():\n",
    "        display(widgets.HBox(figure_list))"
   ]
  },
  {
   "cell_type": "markdown",
   "metadata": {},
   "source": [
    "Insights:\n",
    "\n",
    "1. In January 2014, 622 Class II drugs enforcement recalls were issued by FDA, which were nearly twice the enforcement issued in previous month.\n",
    "2. In March 2019, it was North Carolina where FDA enforced 461 recalls of Class I hazardous drug.\n",
    "3. There has been a decline of nearly 55%(2019-2020) in the enforcements issued by FDA."
   ]
  },
  {
   "cell_type": "markdown",
   "metadata": {},
   "source": [
    "### Creating TreeMap Graph to understand reason of Recall by each State"
   ]
  },
  {
   "cell_type": "code",
   "execution_count": null,
   "metadata": {
    "ExecuteTime": {
     "end_time": "2021-04-24T19:47:41.378973Z",
     "start_time": "2021-04-24T19:47:41.271487Z"
    }
   },
   "outputs": [],
   "source": [
    "query = 'SELECT country, state, reason_main, reason_description FROM drugs_recalled;'\n",
    "drugs_df = get_data(db_connection_dict, query)"
   ]
  },
  {
   "cell_type": "code",
   "execution_count": null,
   "metadata": {
    "ExecuteTime": {
     "end_time": "2021-04-24T19:52:32.748169Z",
     "start_time": "2021-04-24T19:52:31.325166Z"
    }
   },
   "outputs": [],
   "source": [
    "if drugs_df is not None:\n",
    "    grouped_df = drugs_df.groupby(by=['country','state','reason_main', 'reason_description']).agg({'reason_main':'count'})\n",
    "    grouped_df.rename(columns= {'reason_main':\"Count\"}, inplace=True)\n",
    "    grouped_df.reset_index(inplace=True)\n",
    "    grouped_df['reason'] = ['Reasons for Recall']*len(grouped_df)\n",
    "    fig = px.treemap(grouped_df,\n",
    "                     path=['reason','country','state','reason_main', 'reason_description'],\n",
    "                     values='Count',\n",
    "                     color='Count',\n",
    "                     maxdepth=3,\n",
    "                     color_continuous_scale = 'blues'\n",
    "                    )\n",
    "    fig.show()\n"
   ]
  },
  {
   "cell_type": "markdown",
   "metadata": {},
   "source": [
    "Insights:\n",
    "1. For North Carolina, the reason for recall enforced by FDA in March 2019, was presence of MICROBIAL CONTAMINATION in drugs.\n",
    "\n",
    "2. FDA has issued 466 enforcements of recall in Ontario, Canada because of the presence of Penicillin Cross Contamination in drugs.\n",
    "\n",
    "3. Top 5 states where recalls were enforced:\n",
    "\n",
    "    1. Florida, USA\n",
    "    \n",
    "    2. New Jersey, USA\n",
    "    \n",
    "    3. Illinois, USA\n",
    "    \n",
    "    4. Tennesse, USA\n",
    "    \n",
    "    5. California, USA\n",
    "\n",
    "4. Top 5 reasons for recall were:\n",
    "\n",
    "    1. Lack of Assurance of Sterility\n",
    "    2. CGMP Deviations\n",
    "    3. Labelling\n",
    "    4. Penicillin Cross Contamination\n",
    "    5. Microbial Contamination\n",
    "\n"
   ]
  },
  {
   "cell_type": "markdown",
   "metadata": {
    "ExecuteTime": {
     "end_time": "2021-04-24T19:47:46.544043Z",
     "start_time": "2021-04-24T19:47:46.523524Z"
    }
   },
   "source": [
    "### Insight on Time taken by FDA to terminate report"
   ]
  },
  {
   "cell_type": "code",
   "execution_count": null,
   "metadata": {
    "ExecuteTime": {
     "end_time": "2021-04-26T15:59:11.103145Z",
     "start_time": "2021-04-26T15:59:10.989550Z"
    },
    "scrolled": false
   },
   "outputs": [],
   "source": [
    "query = 'SELECT classification, time_diff FROM drugs_recalled;'\n",
    "time_diff_df = get_data(db_connection_dict, query)"
   ]
  },
  {
   "cell_type": "code",
   "execution_count": null,
   "metadata": {
    "ExecuteTime": {
     "end_time": "2021-04-26T16:01:37.405027Z",
     "start_time": "2021-04-26T16:01:37.398187Z"
    }
   },
   "outputs": [],
   "source": [
    "time_diff_df['time_diff'] = ((pd.to_timedelta(time_diff_df['time_diff']))/np.timedelta64(1, 'M')).round()\n",
    "time_diff_df = time_diff_df[~(time_diff_df['classification']=='Not Yet Classified')]"
   ]
  },
  {
   "cell_type": "code",
   "execution_count": null,
   "metadata": {
    "ExecuteTime": {
     "end_time": "2021-04-26T16:01:40.830421Z",
     "start_time": "2021-04-26T16:01:40.818694Z"
    }
   },
   "outputs": [],
   "source": [
    "print(time_diff_df.groupby('classification')['time_diff'].max())\n",
    "print(time_diff_df.groupby('classification')['time_diff'].min())"
   ]
  },
  {
   "cell_type": "markdown",
   "metadata": {},
   "source": [
    "Insights:\n",
    "1. Since the initiation of recall, it took a maximum of 90 months by FDA to ensure all the reasonable efforts have been made to remove the product or correct it in accordance with recall strategy.\n",
    "2. Class II, III recalls can be terminated in span of a month as well."
   ]
  },
  {
   "cell_type": "markdown",
   "metadata": {},
   "source": [
    "### Notification Means vs Current Status"
   ]
  },
  {
   "cell_type": "code",
   "execution_count": null,
   "metadata": {
    "ExecuteTime": {
     "end_time": "2021-04-26T16:23:27.530914Z",
     "start_time": "2021-04-26T16:23:27.452105Z"
    }
   },
   "outputs": [],
   "source": [
    "query = 'Select initial_firm_notification, status from drugs_recalled'\n",
    "termination_status_df = get_data(db_connection_dict, query)"
   ]
  },
  {
   "cell_type": "code",
   "execution_count": null,
   "metadata": {
    "ExecuteTime": {
     "end_time": "2021-04-26T17:10:38.892321Z",
     "start_time": "2021-04-26T17:10:38.887447Z"
    }
   },
   "outputs": [],
   "source": [
    "termination_status_df = pd.DataFrame(termination_status_df.value_counts()).reset_index()\n",
    "termination_status_df.rename(columns={0:'Count'}, inplace=True)\n",
    "termination_status_df['initial_firm_notification'] = termination_status_df['initial_firm_notification'].str.replace('Two or more of the following: Email, Fax, Letter, Press Release, Telephone, Visit','More than Two Means')"
   ]
  },
  {
   "cell_type": "code",
   "execution_count": null,
   "metadata": {
    "ExecuteTime": {
     "end_time": "2021-04-26T17:10:40.589154Z",
     "start_time": "2021-04-26T17:10:40.572534Z"
    },
    "scrolled": false
   },
   "outputs": [],
   "source": [
    "figure = go.Figure()\n",
    "for status in termination_status_df['status'].unique():\n",
    "    temp_df = termination_status_df[(termination_status_df['status']==status)]\n",
    "    trace = go.Bar(x = temp_df['initial_firm_notification'], y = temp_df['Count'], name=status)\n",
    "    figure.add_trace(trace)\n",
    "figure.update_layout(title='Notification vs Status Count', xaxis=dict(title='Notification Method'), yaxis=dict(title='Recalls Reported'))\n"
   ]
  },
  {
   "cell_type": "markdown",
   "metadata": {},
   "source": [
    "Insights:\n",
    "1. Out of 9004 Terminated recalls, 42.6% of recalls were reported via Letters."
   ]
  }
 ],
 "metadata": {
  "kernelspec": {
   "display_name": "Python 3",
   "language": "python",
   "name": "python3"
  },
  "language_info": {
   "codemirror_mode": {
    "name": "ipython",
    "version": 3
   },
   "file_extension": ".py",
   "mimetype": "text/x-python",
   "name": "python",
   "nbconvert_exporter": "python",
   "pygments_lexer": "ipython3",
   "version": "3.8.5"
  },
  "toc": {
   "base_numbering": 1,
   "nav_menu": {},
   "number_sections": true,
   "sideBar": true,
   "skip_h1_title": false,
   "title_cell": "Table of Contents",
   "title_sidebar": "Contents",
   "toc_cell": false,
   "toc_position": {
    "height": "735.667px",
    "left": "22px",
    "top": "110.233px",
    "width": "236.667px"
   },
   "toc_section_display": true,
   "toc_window_display": true
  }
 },
 "nbformat": 4,
 "nbformat_minor": 4
}
