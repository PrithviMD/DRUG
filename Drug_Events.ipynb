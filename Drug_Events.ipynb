{
 "cells": [
  {
   "cell_type": "code",
   "execution_count": 1,
   "metadata": {},
   "outputs": [],
   "source": [
    "import json\n",
    "import pandas as pd\n",
    "import numpy as np\n",
    "from urllib.request import urlopen\n",
    "import collections\n",
    "import requests\n",
    "import pymongo\n",
    "from pymongo import MongoClient"
   ]
  },
  {
   "cell_type": "code",
   "execution_count": 2,
   "metadata": {},
   "outputs": [],
   "source": [
    "url=\"https://api.fda.gov/drug/event.json?api_key=ERMRbxTchMkRnHapeAM1Q0qVlXnNUXTIbFUE7948&limit=1\""
   ]
  },
  {
   "cell_type": "code",
   "execution_count": 9,
   "metadata": {},
   "outputs": [
    {
     "name": "stdout",
     "output_type": "stream",
     "text": [
      "[{'receiptdateformat': '102', 'receiver': None, 'seriousnessdeath': '1', 'companynumb': 'JACAN16471', 'receivedateformat': '102', 'primarysource': {'reportercountry': 'CANADA', 'qualification': '3'}, 'transmissiondateformat': '102', 'fulfillexpeditecriteria': '1', 'safetyreportid': '5801206-7', 'sender': {'senderorganization': 'FDA-Public Use'}, 'receivedate': '20080707', 'patient': {'patientonsetage': '26', 'patientonsetageunit': '801', 'patientsex': '1', 'patientdeath': {'patientdeathdateformat': None, 'patientdeathdate': None}, 'reaction': [{'reactionmeddrapt': 'DRUG ADMINISTRATION ERROR'}, {'reactionmeddrapt': 'OVERDOSE'}], 'drug': [{'drugcharacterization': '1', 'medicinalproduct': 'DURAGESIC-100', 'drugauthorizationnumb': '019813', 'drugadministrationroute': '041', 'drugindication': 'DRUG ABUSE'}]}, 'transmissiondate': '20090109', 'serious': '1', 'receiptdate': '20080625'}]\n"
     ]
    }
   ],
   "source": [
    "json_data=requests.get(url).json()\n",
    "# df=pd.DataFrame(json_data)\n",
    "print(json_data[\"results\"])"
   ]
  },
  {
   "cell_type": "code",
   "execution_count": 3,
   "metadata": {},
   "outputs": [],
   "source": [
    "mymongo=pymongo.MongoClient('mongodb://127.0.0.1:27017/')"
   ]
  },
  {
   "cell_type": "code",
   "execution_count": 6,
   "metadata": {},
   "outputs": [],
   "source": [
    "DrugEvents=mymongo[\"mydatabase\"]"
   ]
  },
  {
   "cell_type": "code",
   "execution_count": 8,
   "metadata": {},
   "outputs": [],
   "source": [
    "Drugs_Events_Cluster=DrugEvents[\"DrugsEvent\"]"
   ]
  },
  {
   "cell_type": "code",
   "execution_count": 10,
   "metadata": {},
   "outputs": [
    {
     "ename": "NameError",
     "evalue": "name 'line' is not defined",
     "output_type": "error",
     "traceback": [
      "\u001b[1;31m---------------------------------------------------------------------------\u001b[0m",
      "\u001b[1;31mNameError\u001b[0m                                 Traceback (most recent call last)",
      "\u001b[1;32m<ipython-input-10-3b8f4c52a7a8>\u001b[0m in \u001b[0;36m<module>\u001b[1;34m\u001b[0m\n\u001b[0;32m      4\u001b[0m \u001b[1;33m\u001b[0m\u001b[0m\n\u001b[0;32m      5\u001b[0m \u001b[1;33m\u001b[0m\u001b[0m\n\u001b[1;32m----> 6\u001b[1;33m         \u001b[0mdoc\u001b[0m\u001b[1;33m[\u001b[0m\u001b[1;34m'receiptdateformat'\u001b[0m\u001b[1;33m]\u001b[0m \u001b[1;33m=\u001b[0m \u001b[0mjson\u001b[0m\u001b[1;33m.\u001b[0m\u001b[0mloads\u001b[0m\u001b[1;33m(\u001b[0m\u001b[0mline\u001b[0m\u001b[1;33m)\u001b[0m\u001b[1;33m[\u001b[0m\u001b[1;34m'receiptdateformat'\u001b[0m\u001b[1;33m]\u001b[0m\u001b[1;33m\u001b[0m\u001b[1;33m\u001b[0m\u001b[0m\n\u001b[0m\u001b[0;32m      7\u001b[0m         \u001b[0mdoc\u001b[0m\u001b[1;33m[\u001b[0m\u001b[1;34m'receiver'\u001b[0m\u001b[1;33m]\u001b[0m\u001b[1;33m=\u001b[0m\u001b[0mjson\u001b[0m\u001b[1;33m.\u001b[0m\u001b[0mloads\u001b[0m\u001b[1;33m(\u001b[0m\u001b[0mline\u001b[0m\u001b[1;33m)\u001b[0m\u001b[1;33m[\u001b[0m\u001b[1;34m'receiver'\u001b[0m\u001b[1;33m]\u001b[0m\u001b[1;33m\u001b[0m\u001b[1;33m\u001b[0m\u001b[0m\n\u001b[0;32m      8\u001b[0m         \u001b[0mdoc\u001b[0m\u001b[1;33m[\u001b[0m\u001b[1;34m'seriousnessdeath'\u001b[0m\u001b[1;33m]\u001b[0m\u001b[1;33m=\u001b[0m\u001b[0mjson\u001b[0m\u001b[1;33m.\u001b[0m\u001b[0mloads\u001b[0m\u001b[1;33m(\u001b[0m\u001b[0mline\u001b[0m\u001b[1;33m)\u001b[0m\u001b[1;33m[\u001b[0m\u001b[1;34m'seriousnessdeath'\u001b[0m\u001b[1;33m]\u001b[0m\u001b[1;33m\u001b[0m\u001b[1;33m\u001b[0m\u001b[0m\n",
      "\u001b[1;31mNameError\u001b[0m: name 'line' is not defined"
     ]
    }
   ],
   "source": [
    "for i, line1 in enumerate(json_data):\n",
    "        doc = collections.OrderedDict()\n",
    "        \n",
    "        \n",
    "        \n",
    "        doc['receiptdateformat'] = json.loads(line)['receiptdateformat']\n",
    "        doc['receiver']=json.loads(line)['receiver']\n",
    "        doc['seriousnessdeath']=json.loads(line)['seriousnessdeath']\n",
    "        doc['companynumber']=json.loads(line)['companynumb']\n",
    "        doc['receivedateformat']=json.loads(line)['receivedateformat']\n",
    "        doc['reportercountry']=json.loads(line)['reportercountry']\n",
    "        doc['qualification']=json.loads(line)['qualification']\n",
    "        doc['transmissiondateformat']=json.loads(line)['transmissiondateformat']\n",
    "        doc['fulfillexpeditecriteria']=json.loads(line)['fulfillexpeditecriteria']\n",
    "        doc['safetyreportid']=json.loads(line)['safetyreportid']\n",
    "        doc['senderorganization']=json.loads(line)['senderorganization']\n",
    "        doc['receivedate']=json.loads(line)['receivedate']\n",
    "        doc['patientonsetage']=json.loads(line)['patientonsetage']\n",
    "        doc['patientonsetageunit']=json.loads(line)['patientonsetageunit']\n",
    "        doc['patientsex']=json.loads(line)['patientsex']\n",
    "        doc['patientdeath']=json.loads(line)['patientdeath']\n",
    "        doc['patientdeathdateformat']=json.loads(line)['patientdeathdateformat']\n",
    "        doc['patientdeathdate']=json.loads(line)['patientdeathdate']\n",
    "        doc['reactionmeddrapt']=json.loads(line)['reactionmeddrapt']\n",
    "        doc['drugcharacterization']=json.loads(line)['drugcharacterization']\n",
    "        doc['medicinalproduct']=json.loads(line)['medicinalproduct']\n",
    "        doc['drugauthorizationnumb']=json.loads(line)['drugauthorizationnumb']\n",
    "        doc['drugadministrationroute']=json.loads(line)['drugadministrationroute']\n",
    "        doc['drugindication']=json.loads(line)['drugindication']\n",
    "        doc['transmissiondate']=json.loads(line)['transmissiondate']\n",
    "        \n",
    "        \n",
    "        odbcArray.append(doc)\n",
    "        if i+1 >= 5000 :\n",
    "            break\n",
    "x=Yelp_User_Cluster.insert_many(odbcArray)"
   ]
  },
  {
   "cell_type": "code",
   "execution_count": null,
   "metadata": {},
   "outputs": [],
   "source": []
  }
 ],
 "metadata": {
  "kernelspec": {
   "display_name": "Python 3",
   "language": "python",
   "name": "python3"
  },
  "language_info": {
   "codemirror_mode": {
    "name": "ipython",
    "version": 3
   },
   "file_extension": ".py",
   "mimetype": "text/x-python",
   "name": "python",
   "nbconvert_exporter": "python",
   "pygments_lexer": "ipython3",
   "version": "3.8.5"
  }
 },
 "nbformat": 4,
 "nbformat_minor": 4
}
