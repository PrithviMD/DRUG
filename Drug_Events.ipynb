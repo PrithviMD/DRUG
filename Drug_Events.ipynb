{
 "cells": [
  {
   "cell_type": "code",
   "execution_count": 2,
   "metadata": {},
   "outputs": [],
   "source": [
    "import json\n",
    "import pandas as pd\n",
    "import numpy as np\n",
    "from urllib.request import urlopen\n",
    "import collections\n",
    "import requests\n",
    "import pymongo\n",
    "from pymongo import MongoClient"
   ]
  },
  {
   "cell_type": "code",
   "execution_count": 3,
   "metadata": {},
   "outputs": [],
   "source": [
    "url=\"https://api.fda.gov/drug/event.json?api_key=ERMRbxTchMkRnHapeAM1Q0qVlXnNUXTIbFUE7948&limit=1\""
   ]
  },
  {
   "cell_type": "code",
   "execution_count": 4,
   "metadata": {},
   "outputs": [
    {
     "name": "stdout",
     "output_type": "stream",
     "text": [
      "[{'receiptdateformat': '102', 'receiver': None, 'seriousnessdeath': '1', 'companynumb': 'JACAN16471', 'receivedateformat': '102', 'primarysource': {'reportercountry': 'CANADA', 'qualification': '3'}, 'transmissiondateformat': '102', 'fulfillexpeditecriteria': '1', 'safetyreportid': '5801206-7', 'sender': {'senderorganization': 'FDA-Public Use'}, 'receivedate': '20080707', 'patient': {'patientonsetage': '26', 'patientonsetageunit': '801', 'patientsex': '1', 'patientdeath': {'patientdeathdateformat': None, 'patientdeathdate': None}, 'reaction': [{'reactionmeddrapt': 'DRUG ADMINISTRATION ERROR'}, {'reactionmeddrapt': 'OVERDOSE'}], 'drug': [{'drugcharacterization': '1', 'medicinalproduct': 'DURAGESIC-100', 'drugauthorizationnumb': '019813', 'drugadministrationroute': '041', 'drugindication': 'DRUG ABUSE'}]}, 'transmissiondate': '20090109', 'serious': '1', 'receiptdate': '20080625'}]\n"
     ]
    }
   ],
   "source": [
    "json_data=requests.get(url).json()\n",
    "# df=pd.DataFrame(json_data)\n",
    "print(json_data[\"results\"])"
   ]
  },
  {
   "cell_type": "code",
   "execution_count": 5,
   "metadata": {},
   "outputs": [],
   "source": [
    "mymongo=pymongo.MongoClient('mongodb://127.0.0.1:27017/')"
   ]
  },
  {
   "cell_type": "code",
   "execution_count": 6,
   "metadata": {},
   "outputs": [],
   "source": [
    "DrugEvents=mymongo[\"mydatabase\"]"
   ]
  },
  {
   "cell_type": "code",
   "execution_count": 7,
   "metadata": {},
   "outputs": [],
   "source": [
    "Drugs_Events_Cluster=DrugEvents[\"DrugsEvent\"]"
   ]
  },
  {
   "cell_type": "code",
   "execution_count": 19,
   "metadata": {},
   "outputs": [
    {
     "name": "stdout",
     "output_type": "stream",
     "text": [
      "{'receiptdateformat': '102', 'receiver': None, 'seriousnessdeath': '1', 'companynumb': 'JACAN16471', 'receivedateformat': '102', 'primarysource': {'reportercountry': 'CANADA', 'qualification': '3'}, 'transmissiondateformat': '102', 'fulfillexpeditecriteria': '1', 'safetyreportid': '5801206-7', 'sender': {'senderorganization': 'FDA-Public Use'}, 'receivedate': '20080707', 'patient': {'patientonsetage': '26', 'patientonsetageunit': '801', 'patientsex': '1', 'patientdeath': {'patientdeathdateformat': None, 'patientdeathdate': None}, 'reaction': [{'reactionmeddrapt': 'DRUG ADMINISTRATION ERROR'}, {'reactionmeddrapt': 'OVERDOSE'}], 'drug': [{'drugcharacterization': '1', 'medicinalproduct': 'DURAGESIC-100', 'drugauthorizationnumb': '019813', 'drugadministrationroute': '041', 'drugindication': 'DRUG ABUSE'}]}, 'transmissiondate': '20090109', 'serious': '1', 'receiptdate': '20080625'}\n"
     ]
    },
    {
     "ename": "TypeError",
     "evalue": "the JSON object must be str, bytes or bytearray, not dict",
     "output_type": "error",
     "traceback": [
      "\u001b[1;31m---------------------------------------------------------------------------\u001b[0m",
      "\u001b[1;31mTypeError\u001b[0m                                 Traceback (most recent call last)",
      "\u001b[1;32m<ipython-input-19-b5632bdd1b5b>\u001b[0m in \u001b[0;36m<module>\u001b[1;34m\u001b[0m\n\u001b[0;32m      5\u001b[0m \u001b[1;31m#         print(line[\"primarysource\"][\"reportercountry\"])\u001b[0m\u001b[1;33m\u001b[0m\u001b[1;33m\u001b[0m\u001b[1;33m\u001b[0m\u001b[0m\n\u001b[0;32m      6\u001b[0m \u001b[1;31m#         doc['receiptdateformat'] = json.loads(line)['receiptdateformat']\u001b[0m\u001b[1;33m\u001b[0m\u001b[1;33m\u001b[0m\u001b[1;33m\u001b[0m\u001b[0m\n\u001b[1;32m----> 7\u001b[1;33m         \u001b[0mdoc\u001b[0m\u001b[1;33m[\u001b[0m\u001b[1;34m'receiver'\u001b[0m\u001b[1;33m]\u001b[0m\u001b[1;33m=\u001b[0m\u001b[0mjson\u001b[0m\u001b[1;33m.\u001b[0m\u001b[0mloads\u001b[0m\u001b[1;33m(\u001b[0m\u001b[0mline\u001b[0m\u001b[1;33m)\u001b[0m\u001b[1;33m[\u001b[0m\u001b[1;34m'receiver'\u001b[0m\u001b[1;33m]\u001b[0m\u001b[1;33m\u001b[0m\u001b[1;33m\u001b[0m\u001b[0m\n\u001b[0m\u001b[0;32m      8\u001b[0m         \u001b[0mdoc\u001b[0m\u001b[1;33m[\u001b[0m\u001b[1;34m'seriousnessdeath'\u001b[0m\u001b[1;33m]\u001b[0m\u001b[1;33m=\u001b[0m\u001b[0mjson\u001b[0m\u001b[1;33m.\u001b[0m\u001b[0mloads\u001b[0m\u001b[1;33m(\u001b[0m\u001b[0mline\u001b[0m\u001b[1;33m)\u001b[0m\u001b[1;33m[\u001b[0m\u001b[1;34m'seriousnessdeath'\u001b[0m\u001b[1;33m]\u001b[0m\u001b[1;33m\u001b[0m\u001b[1;33m\u001b[0m\u001b[0m\n\u001b[0;32m      9\u001b[0m         \u001b[0mdoc\u001b[0m\u001b[1;33m[\u001b[0m\u001b[1;34m'companynum'\u001b[0m\u001b[1;33m]\u001b[0m\u001b[1;33m=\u001b[0m\u001b[0mjson\u001b[0m\u001b[1;33m.\u001b[0m\u001b[0mloads\u001b[0m\u001b[1;33m(\u001b[0m\u001b[0mline\u001b[0m\u001b[1;33m)\u001b[0m\u001b[1;33m[\u001b[0m\u001b[1;34m'companynumb'\u001b[0m\u001b[1;33m]\u001b[0m\u001b[1;33m\u001b[0m\u001b[1;33m\u001b[0m\u001b[0m\n",
      "\u001b[1;32m~\\anaconda3\\lib\\json\\__init__.py\u001b[0m in \u001b[0;36mloads\u001b[1;34m(s, cls, object_hook, parse_float, parse_int, parse_constant, object_pairs_hook, **kw)\u001b[0m\n\u001b[0;32m    339\u001b[0m     \u001b[1;32melse\u001b[0m\u001b[1;33m:\u001b[0m\u001b[1;33m\u001b[0m\u001b[1;33m\u001b[0m\u001b[0m\n\u001b[0;32m    340\u001b[0m         \u001b[1;32mif\u001b[0m \u001b[1;32mnot\u001b[0m \u001b[0misinstance\u001b[0m\u001b[1;33m(\u001b[0m\u001b[0ms\u001b[0m\u001b[1;33m,\u001b[0m \u001b[1;33m(\u001b[0m\u001b[0mbytes\u001b[0m\u001b[1;33m,\u001b[0m \u001b[0mbytearray\u001b[0m\u001b[1;33m)\u001b[0m\u001b[1;33m)\u001b[0m\u001b[1;33m:\u001b[0m\u001b[1;33m\u001b[0m\u001b[1;33m\u001b[0m\u001b[0m\n\u001b[1;32m--> 341\u001b[1;33m             raise TypeError(f'the JSON object must be str, bytes or bytearray, '\n\u001b[0m\u001b[0;32m    342\u001b[0m                             f'not {s.__class__.__name__}')\n\u001b[0;32m    343\u001b[0m         \u001b[0ms\u001b[0m \u001b[1;33m=\u001b[0m \u001b[0ms\u001b[0m\u001b[1;33m.\u001b[0m\u001b[0mdecode\u001b[0m\u001b[1;33m(\u001b[0m\u001b[0mdetect_encoding\u001b[0m\u001b[1;33m(\u001b[0m\u001b[0ms\u001b[0m\u001b[1;33m)\u001b[0m\u001b[1;33m,\u001b[0m \u001b[1;34m'surrogatepass'\u001b[0m\u001b[1;33m)\u001b[0m\u001b[1;33m\u001b[0m\u001b[1;33m\u001b[0m\u001b[0m\n",
      "\u001b[1;31mTypeError\u001b[0m: the JSON object must be str, bytes or bytearray, not dict"
     ]
    }
   ],
   "source": [
    "for line in (json_data[\"results\"]):\n",
    "        doc = collections.OrderedDict()\n",
    "        \n",
    "        print(line)\n",
    "#         print(line[\"primarysource\"][\"reportercountry\"])\n",
    "#         doc['receiptdateformat'] = json.loads(line)['receiptdateformat']\n",
    "        doc['receiver']=json.loads(line)['receiver']\n",
    "        doc['seriousnessdeath']=json.loads(line)['seriousnessdeath']\n",
    "        doc['companynum']=json.loads(line)['companynumb']\n",
    "        doc['receivedateformat']=json.loads(line)['receivedateformat']\n",
    "        doc['reportercountry']=json.loads(line)['primarysource']['reportercountry']\n",
    "        doc['qualification']=json.loads(line)['primarysource']['qualification']\n",
    "        doc['transmissiondateformat']=json.loads(line)['transmissiondateformat']\n",
    "        doc['fulfillexpeditecriteria']=json.loads(line)['fulfillexpeditecriteria']\n",
    "        doc['safetyreportid']=json.loads(line)['safetyreportid']\n",
    "        doc['senderorganization']=json.loads(line)['sender']['senderorganization']\n",
    "        doc['receivedate']=json.loads(line)['receivedate']\n",
    "        doc['patientonsetage']=json.loads(line)['patient']['patientonsetage']\n",
    "        doc['patientonsetageunit']=json.loads(line)['patient']['patientonsetageunit']\n",
    "        doc['patientsex']=json.loads(line)['patient']['patientsex']\n",
    "        doc['patientdeath']=json.loads(line)['patient']['patientdeath']\n",
    "        doc['patientdeathdateformat']=json.loads(line)['patient']['patientdeathdateformat']\n",
    "        doc['patientdeathdate']=json.loads(line)['patient']['patientdeathdate']\n",
    "        doc['reactionmeddrapt']=json.loads(line)['reaction']['reactionmeddrapt']\n",
    "        doc['reactionmeddrapt']=json.loads(line)['reaction']['reactionmeddrapt']\n",
    "        doc['drugcharacterization']=json.loads(line)['drug']['characterization']\n",
    "        doc['medicinalproduct']=json.loads(line)['drug']['medicinalproduct']\n",
    "        doc['drugauthorizationnumb']=json.loads(line)['drug']['drugauthorizationnumb']\n",
    "        doc['drugadministrationroute']=json.loads(line)['drug']['drugadministrationroute']\n",
    "        doc['drugindication']=json.loads(line)['drug']['drugindication']\n",
    "        doc['transmissiondate']=json.loads(line)['transmissiondate']\n",
    "        doc['serious']=json.loads(line)['serious']\n",
    "        doc['receiptdate']=json.loads(line)['receiptdate']\n",
    "        \n",
    "        \n",
    "        odbcArray.append(doc)\n",
    "        \n",
    "x=Drugs_Events_Cluster.insert_many(odbcArray)"
   ]
  },
  {
   "cell_type": "code",
   "execution_count": null,
   "metadata": {},
   "outputs": [],
   "source": []
  }
 ],
 "metadata": {
  "kernelspec": {
   "display_name": "Python 3",
   "language": "python",
   "name": "python3"
  },
  "language_info": {
   "codemirror_mode": {
    "name": "ipython",
    "version": 3
   },
   "file_extension": ".py",
   "mimetype": "text/x-python",
   "name": "python",
   "nbconvert_exporter": "python",
   "pygments_lexer": "ipython3",
   "version": "3.8.5"
  }
 },
 "nbformat": 4,
 "nbformat_minor": 4
}
